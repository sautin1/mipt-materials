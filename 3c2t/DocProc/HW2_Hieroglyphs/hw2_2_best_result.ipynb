{
 "cells": [
  {
   "cell_type": "markdown",
   "metadata": {},
   "source": [
    "### Creating .csv files"
   ]
  },
  {
   "cell_type": "code",
   "execution_count": 14,
   "metadata": {
    "collapsed": true
   },
   "outputs": [],
   "source": [
    "import os\n",
    "import cv2\n",
    "import pandas as pd\n",
    "import numpy as np\n",
    "import matplotlib.pyplot as plt\n",
    "import sklearn as sk\n",
    "%matplotlib inline"
   ]
  },
  {
   "cell_type": "code",
   "execution_count": 61,
   "metadata": {
    "collapsed": false
   },
   "outputs": [],
   "source": [
    "# converts matrix (n, m), representing an image, into a vector (n*m, )\n",
    "def img_to_row(img, index):\n",
    "    data = img.flatten().astype(float)\n",
    "    return data\n",
    "\n",
    "# returns a matrix representing a directory of images (row = image, column = pixel number)\n",
    "def img_dir_to_matrix(root_path, extension = '', need_names = False):\n",
    "    index = 0\n",
    "    data = None\n",
    "    filenames = []\n",
    "    for (path, dirs, files) in os.walk(root_path):\n",
    "        for filename in files:\n",
    "            if (filename.endswith(extension)):\n",
    "                fullpath = os.path.join(path, filename)\n",
    "                img = cv2.imread(fullpath, 0)\n",
    "                row = img_to_row(img, index)\n",
    "                if index == 0:\n",
    "                    data = row.reshape(1, -1)\n",
    "                else:\n",
    "                    data = np.vstack([data, row])\n",
    "                if need_names:\n",
    "                    filenames.append(filename)\n",
    "#                 if index == 5:\n",
    "#                     return (data, filenames) if need_names else data\n",
    "                index += 1\n",
    "                if index % 5000 == 0:\n",
    "                    print index\n",
    "    return (data, filenames) if need_names else data\n",
    "\n",
    "def export_to_csv(path, array, head = None):\n",
    "    frame = pd.DataFrame(array, columns=head)\n",
    "    frame.to_csv(path, sep = ',', header = (head != None), index = None)"
   ]
  },
  {
   "cell_type": "code",
   "execution_count": 62,
   "metadata": {
    "collapsed": false
   },
   "outputs": [],
   "source": [
    "def generate_train_class(root_path, extension, class_value):\n",
    "    train = img_dir_to_matrix(root_path, extension)\n",
    "    train_y = np.array([class_value] * train.shape[0])\n",
    "    return (train, train_y)\n",
    "    \n",
    "def generate_train_sample(root_path, extension, class_true_dir, class_false_dir):\n",
    "    if not root_path.endswith('/'):\n",
    "        root_path += '/'\n",
    "    print 'Generating training sample for True class'\n",
    "    train_true, train_true_y = generate_train_class(root_path + class_true_dir, extension, 1)\n",
    "    print 'Generating training sample for False class'\n",
    "    train_false, train_false_y = generate_train_class(root_path + class_false_dir, extension, 0)\n",
    "    \n",
    "    print 'Merging samples'\n",
    "    trainX = np.concatenate((train_true, train_false), 0)\n",
    "    trainY = np.concatenate((train_true_y, train_false_y), 0)\n",
    "    return (trainX, trainY)\n",
    "\n",
    "def generate_test_sample(root_path, extension):\n",
    "    print 'Generating test sample'\n",
    "    if not root_path.endswith('/'):\n",
    "        root_path += '/'\n",
    "    (data, filenames) = img_dir_to_matrix(root_path, extension, need_names=True)\n",
    "    test_ids = np.array([int(filename.split('.')[0]) for filename in filenames])\n",
    "    frame = pd.DataFrame(data)\n",
    "    frame['id'] = test_ids\n",
    "    return frame"
   ]
  },
  {
   "cell_type": "code",
   "execution_count": 64,
   "metadata": {
    "collapsed": false
   },
   "outputs": [
    {
     "name": "stdout",
     "output_type": "stream",
     "text": [
      "Generating training sample for True class\n",
      "5000\n",
      "10000\n",
      "15000\n",
      "20000\n",
      "25000\n",
      "30000\n",
      "35000\n",
      "40000\n",
      "Generating training sample for False class\n",
      "5000\n",
      "10000\n",
      "15000\n",
      "20000\n",
      "25000\n",
      "30000\n",
      "35000\n",
      "40000\n",
      "Merging samples\n",
      "CPU times: user 10min 54s, sys: 4min 16s, total: 15min 11s\n",
      "Wall time: 15min 13s\n",
      "5000\n",
      "10000\n",
      "15000\n",
      "20000\n",
      "25000\n",
      "30000\n",
      "CPU times: user 3min 54s, sys: 1min 35s, total: 5min 29s\n",
      "Wall time: 5min 30s\n"
     ]
    }
   ],
   "source": [
    "%time trainX, trainY = generate_train_sample('data/train/', '.tif', 'Hieroglyph', 'Other')\n",
    "%time test_frame = generate_test_sample('data/test/', '.tif')\n",
    "\n",
    "export_to_csv('data/train/trainX.csv', trainX)\n",
    "export_to_csv('data/train/trainY.csv', trainY)\n",
    "test_frame.to_csv('data/test/testX.csv', index=False)"
   ]
  },
  {
   "cell_type": "markdown",
   "metadata": {},
   "source": [
    "### Reading input data"
   ]
  },
  {
   "cell_type": "code",
   "execution_count": 5,
   "metadata": {
    "collapsed": false
   },
   "outputs": [
    {
     "name": "stdout",
     "output_type": "stream",
     "text": [
      "CPU times: user 2.76 s, sys: 27.9 ms, total: 2.79 s\n",
      "Wall time: 2.79 s\n",
      "CPU times: user 4.87 ms, sys: 0 ns, total: 4.87 ms\n",
      "Wall time: 4.67 ms\n",
      "CPU times: user 1.19 s, sys: 15.5 ms, total: 1.21 s\n",
      "Wall time: 1.21 s\n"
     ]
    }
   ],
   "source": [
    "%time trainX = pd.read_csv('data/train/trainX.csv', header=None, dtype=np.float32).values.reshape((-1, 1, 20, 20))\n",
    "%time trainY = pd.read_csv('data/train/trainY.csv', header=None, dtype=np.int32).values.reshape((-1))\n",
    "%time test_info = pd.read_csv('data/test/testX.csv')\n",
    "testIds = test_info['id'].values.astype(int)\n",
    "testX = test_info.drop('id', 1).values.astype(np.float32).reshape((-1, 1, 20, 20))"
   ]
  },
  {
   "cell_type": "markdown",
   "metadata": {},
   "source": [
    "### Building convolutional neural net\n",
    "Architecture taken from:  \n",
    "https://github.com/Lasagne/Lasagne/blob/master/examples/mnist.py  \n",
    "build_cnn function"
   ]
  },
  {
   "cell_type": "code",
   "execution_count": 9,
   "metadata": {
    "collapsed": false
   },
   "outputs": [],
   "source": [
    "import lasagne\n",
    "import lasagne.layers as layers\n",
    "from lasagne.nonlinearities import softmax, rectify\n",
    "from lasagne.updates import adam\n",
    "from lasagne.updates import nesterov_momentum\n",
    "\n",
    "from nolearn.lasagne import NeuralNet, TrainSplit"
   ]
  },
  {
   "cell_type": "code",
   "execution_count": 7,
   "metadata": {
    "collapsed": false
   },
   "outputs": [],
   "source": [
    "layers0 = [\n",
    "    (layers.InputLayer, {'shape': (None, 1, 20, 20)}),\n",
    "\n",
    "    (layers.Conv2DLayer, {'num_filters': 32, 'filter_size': 5, 'nonlinearity': rectify}),\n",
    "    (layers.MaxPool2DLayer, {'pool_size': 2}),\n",
    "\n",
    "    (layers.Conv2DLayer, {'num_filters': 32, 'filter_size': 5, 'nonlinearity': rectify}),\n",
    "    (layers.MaxPool2DLayer, {'pool_size': 2}),\n",
    "\n",
    "    (layers.DenseLayer, {'num_units': 256, 'nonlinearity': rectify}),\n",
    "    (layers.DropoutLayer, {}),\n",
    "    (layers.DenseLayer, {'num_units': 10, 'nonlinearity': rectify}),\n",
    "\n",
    "    (layers.DenseLayer, {'num_units': 2, 'nonlinearity': softmax}),\n",
    "]"
   ]
  },
  {
   "cell_type": "code",
   "execution_count": 10,
   "metadata": {
    "collapsed": false
   },
   "outputs": [],
   "source": [
    "net0 = NeuralNet(\n",
    "    layers = layers0,\n",
    "    max_epochs = 200,\n",
    "    update = adam,\n",
    "    update_learning_rate = 0.0002,\n",
    "    objective_l2 = 0.0025,\n",
    "    train_split = TrainSplit(eval_size=0.16),\n",
    "    verbose = 2\n",
    ")"
   ]
  },
  {
   "cell_type": "code",
   "execution_count": 11,
   "metadata": {
    "collapsed": false
   },
   "outputs": [
    {
     "name": "stdout",
     "output_type": "stream",
     "text": [
      "# Neural Network with 62080 learnable parameters\n",
      "\n",
      "## Layer information\n",
      "\n",
      "name        size        total    cap.Y    cap.X    cov.Y    cov.X\n",
      "----------  --------  -------  -------  -------  -------  -------\n",
      "input0      1x20x20       400   100.00   100.00   100.00   100.00\n",
      "conv2d1     32x16x16     8192   100.00   100.00    25.00    25.00\n",
      "maxpool2d2  32x8x8       2048   100.00   100.00    25.00    25.00\n",
      "conv2d3     32x4x4        512    76.92    76.92    65.00    65.00\n",
      "maxpool2d4  32x2x2        128    76.92    76.92    65.00    65.00\n",
      "dense5      256           256   100.00   100.00   100.00   100.00\n",
      "dropout6    256           256   100.00   100.00   100.00   100.00\n",
      "dense7      10             10   100.00   100.00   100.00   100.00\n",
      "dense8      2               2   100.00   100.00   100.00   100.00\n",
      "\n",
      "Explanation\n",
      "    X, Y:    image dimensions\n",
      "    cap.:    learning capacity\n",
      "    cov.:    coverage of image\n",
      "    \u001b[35mmagenta\u001b[0m: capacity too low (<1/6)\n",
      "    \u001b[36mcyan\u001b[0m:    image coverage too high (>100%)\n",
      "    \u001b[31mred\u001b[0m:     capacity too low and coverage too high\n",
      "\n",
      "\n",
      "  epoch    train loss    valid loss    train/val    valid acc  dur\n",
      "-------  ------------  ------------  -----------  -----------  -------\n",
      "      1       \u001b[36m1.16787\u001b[0m       \u001b[32m0.69172\u001b[0m      1.68834      0.93534  176.83s\n",
      "      2       \u001b[36m0.64540\u001b[0m       \u001b[32m0.58329\u001b[0m      1.10648      0.95419  175.08s\n",
      "      3       \u001b[36m0.54366\u001b[0m       \u001b[32m0.49979\u001b[0m      1.08777      0.97006  175.92s\n",
      "      4       \u001b[36m0.47008\u001b[0m       \u001b[32m0.43729\u001b[0m      1.07498      0.97364  174.43s\n",
      "      5       \u001b[36m0.40866\u001b[0m       \u001b[32m0.37969\u001b[0m      1.07629      0.97825  176.04s\n",
      "      6       \u001b[36m0.35078\u001b[0m       \u001b[32m0.32991\u001b[0m      1.06327      0.97959  176.67s\n",
      "      7       \u001b[36m0.30118\u001b[0m       \u001b[32m0.28814\u001b[0m      1.04526      0.98026  176.06s\n",
      "      8       \u001b[36m0.25528\u001b[0m       \u001b[32m0.24598\u001b[0m      1.03781      0.98212  176.04s\n",
      "      9       \u001b[36m0.21350\u001b[0m       \u001b[32m0.20786\u001b[0m      1.02714      0.98413  175.02s\n",
      "     10       \u001b[36m0.17856\u001b[0m       \u001b[32m0.17480\u001b[0m      1.02147      0.98614  174.04s\n",
      "     11       \u001b[36m0.14958\u001b[0m       \u001b[32m0.14980\u001b[0m      0.99852      0.98562  176.22s\n",
      "     12       \u001b[36m0.12488\u001b[0m       \u001b[32m0.13157\u001b[0m      0.94916      0.98591  172.89s\n",
      "     13       \u001b[36m0.10557\u001b[0m       \u001b[32m0.11501\u001b[0m      0.91796      0.98509  171.90s\n",
      "     14       \u001b[36m0.09164\u001b[0m       \u001b[32m0.10684\u001b[0m      0.85773      0.98509  176.01s\n",
      "     15       \u001b[36m0.08044\u001b[0m       \u001b[32m0.10433\u001b[0m      0.77096      0.98383  175.14s\n",
      "     16       \u001b[36m0.07294\u001b[0m       \u001b[32m0.09000\u001b[0m      0.81046      0.98718  178.94s\n",
      "     17       \u001b[36m0.06538\u001b[0m       \u001b[32m0.08527\u001b[0m      0.76678      0.98785  178.07s\n",
      "     18       \u001b[36m0.06146\u001b[0m       \u001b[32m0.08325\u001b[0m      0.73826      0.98703  174.63s\n",
      "     19       \u001b[36m0.05927\u001b[0m       \u001b[32m0.07780\u001b[0m      0.76184      0.98829  175.75s\n",
      "     20       \u001b[36m0.05793\u001b[0m       0.08619      0.67207      0.98628  174.41s\n",
      "     21       \u001b[36m0.05367\u001b[0m       0.07819      0.68636      0.98800  176.82s\n",
      "     22       \u001b[36m0.05053\u001b[0m       0.08251      0.61235      0.98740  174.31s\n",
      "     23       \u001b[36m0.04743\u001b[0m       \u001b[32m0.06780\u001b[0m      0.69952      0.98986  172.46s\n",
      "     24       \u001b[36m0.04723\u001b[0m       0.09052      0.52178      0.98472  173.65s\n",
      "     25       \u001b[36m0.04477\u001b[0m       0.09110      0.49143      0.98450  175.06s\n",
      "     26       \u001b[36m0.04351\u001b[0m       0.08508      0.51146      0.98517  176.35s\n",
      "     27       \u001b[36m0.04274\u001b[0m       0.07023      0.60861      0.98904  173.26s\n",
      "     28       \u001b[36m0.04194\u001b[0m       0.08183      0.51261      0.98710  172.96s\n",
      "     29       \u001b[36m0.03987\u001b[0m       0.08434      0.47272      0.98576  177.08s\n",
      "     30       \u001b[36m0.03869\u001b[0m       0.09663      0.40038      0.98405  172.26s\n",
      "     31       0.03900       0.08951      0.43570      0.98509  176.71s\n",
      "     32       0.04093       0.09111      0.44929      0.98331  174.18s\n",
      "     33       \u001b[36m0.03723\u001b[0m       \u001b[32m0.06762\u001b[0m      0.55047      0.98859  175.52s\n",
      "     34       \u001b[36m0.03633\u001b[0m       \u001b[32m0.06312\u001b[0m      0.57555      0.98904  173.99s\n",
      "     35       \u001b[36m0.03617\u001b[0m       \u001b[32m0.06092\u001b[0m      0.59365      0.98986  173.54s\n",
      "     36       0.03703       0.06462      0.57297      0.98891  176.02s\n",
      "     37       0.03665       \u001b[32m0.05734\u001b[0m      0.63920      0.99000  175.23s\n",
      "     38       \u001b[36m0.03580\u001b[0m       0.06273      0.57067      0.98919  179.45s\n",
      "     39       \u001b[36m0.03461\u001b[0m       0.06201      0.55811      0.98963  176.72s\n",
      "     40       \u001b[36m0.03324\u001b[0m       0.06691      0.49680      0.98688  175.33s\n",
      "     41       \u001b[36m0.03268\u001b[0m       \u001b[32m0.05582\u001b[0m      0.58543      0.98971  175.22s\n",
      "     42       0.03351       \u001b[32m0.05572\u001b[0m      0.60135      0.98963  181.30s\n",
      "     43       \u001b[36m0.03188\u001b[0m       0.08240      0.38689      0.98356  176.93s\n",
      "     44       0.03293       0.06598      0.49902      0.98539  177.62s\n",
      "     45       0.03238       0.05982      0.54121      0.98973  178.45s\n",
      "     46       \u001b[36m0.03133\u001b[0m       \u001b[32m0.05485\u001b[0m      0.57114      0.99030  180.67s\n",
      "     47       \u001b[36m0.03000\u001b[0m       0.06056      0.49529      0.98881  194.22s\n",
      "     48       0.03134       0.05650      0.55471      0.98966  203.27s\n",
      "     49       0.03071       0.05619      0.54660      0.98948  225.70s\n",
      "     50       0.03033       0.05674      0.53454      0.98934  252.97s\n",
      "     51       0.03022       0.05835      0.51788      0.98956  262.74s\n",
      "     52       \u001b[36m0.02968\u001b[0m       \u001b[32m0.05459\u001b[0m      0.54369      0.99055  255.36s\n",
      "     53       0.03106       0.05463      0.56852      0.99000  237.58s\n",
      "     54       \u001b[36m0.02896\u001b[0m       \u001b[32m0.05192\u001b[0m      0.55771      0.99127  233.44s\n",
      "     55       \u001b[36m0.02866\u001b[0m       0.05597      0.51204      0.98956  238.75s\n",
      "     56       0.03025       0.05455      0.55459      0.99025  228.96s\n",
      "     57       \u001b[36m0.02859\u001b[0m       0.05470      0.52266      0.98948  180.96s\n",
      "     58       \u001b[36m0.02845\u001b[0m       0.05523      0.51521      0.99018  178.00s\n",
      "     59       0.02871       0.05199      0.55233      0.99015  180.36s\n",
      "     60       0.02944       0.05218      0.56427      0.99075  177.12s\n",
      "     61       0.02883       0.05533      0.52104      0.99038  175.89s\n",
      "     62       0.02861       0.05488      0.52127      0.98934  176.06s\n",
      "     63       \u001b[36m0.02757\u001b[0m       0.05616      0.49100      0.98956  175.43s\n",
      "     64       0.02791       0.05559      0.50214      0.99048  177.56s\n",
      "     65       \u001b[36m0.02701\u001b[0m       \u001b[32m0.04998\u001b[0m      0.54047      0.99082  179.76s\n",
      "     66       0.02735       0.05177      0.52834      0.99100  179.99s\n",
      "     67       0.03016       0.05859      0.51472      0.98829  180.18s\n",
      "     68       \u001b[36m0.02613\u001b[0m       0.05334      0.48986      0.99003  176.47s\n",
      "     69       0.02637       0.05018      0.52553      0.99055  176.86s\n",
      "     70       0.02726       0.05199      0.52426      0.99070  176.02s\n",
      "     71       0.02672       0.05179      0.51586      0.98911  179.36s\n",
      "     72       0.02631       0.05740      0.45837      0.98817  176.22s\n",
      "     73       0.02759       0.05371      0.51367      0.99030  179.97s\n",
      "     74       0.02752       0.05198      0.52947      0.98986  188.43s\n",
      "     75       0.02753       0.05348      0.51484      0.98963  197.50s\n",
      "     76       \u001b[36m0.02583\u001b[0m       0.05415      0.47696      0.98993  201.29s\n",
      "     77       \u001b[36m0.02535\u001b[0m       0.05895      0.43006      0.98867  211.82s\n",
      "     78       \u001b[36m0.02535\u001b[0m       0.05691      0.44550      0.98822  222.68s\n",
      "     79       0.02582       0.05048      0.51152      0.99038  232.07s\n",
      "     80       0.02690       \u001b[32m0.04966\u001b[0m      0.54181      0.99077  235.74s\n",
      "     81       0.02544       0.05022      0.50662      0.99137  232.18s\n",
      "     82       0.02702       0.06163      0.43847      0.98807  224.90s\n",
      "     83       0.02676       \u001b[32m0.04769\u001b[0m      0.56108      0.99023  217.90s\n",
      "     84       0.02544       0.04953      0.51364      0.99053  209.98s\n",
      "     85       \u001b[36m0.02479\u001b[0m       0.05052      0.49081      0.99008  215.17s\n",
      "     86       0.02599       0.05499      0.47271      0.98852  228.25s\n",
      "     87       0.02742       0.06034      0.45453      0.98748  254.07s\n",
      "     88       \u001b[36m0.02467\u001b[0m       0.05069      0.48666      0.98958  248.10s\n",
      "     89       0.02771       0.05124      0.54079      0.99048  261.51s\n",
      "     90       0.02641       0.05757      0.45867      0.98919  248.35s\n",
      "     91       0.02510       0.05065      0.49552      0.98988  253.04s\n",
      "     92       0.02480       0.05226      0.47453      0.99085  251.86s\n",
      "     93       0.02496       0.05191      0.48085      0.99018  245.98s\n",
      "     94       0.02480       0.05498      0.45110      0.98966  241.43s\n",
      "     95       0.02604       0.05247      0.49622      0.98978  240.52s\n",
      "     96       0.02516       0.05534      0.45462      0.99000  241.10s\n",
      "     97       0.02468       0.06049      0.40804      0.98777  240.57s\n",
      "     98       0.02672       0.06065      0.44063      0.98785  214.54s\n",
      "     99       0.02611       0.05225      0.49973      0.98951  218.46s\n",
      "    100       0.02724       0.04860      0.56056      0.99107  213.45s\n",
      "    101       0.02577       0.04964      0.51915      0.99077  209.40s\n",
      "    102       \u001b[36m0.02419\u001b[0m       0.04832      0.50065      0.99159  188.36s\n",
      "    103       \u001b[36m0.02375\u001b[0m       0.05017      0.47340      0.99100  186.18s\n",
      "    104       0.02561       0.05149      0.49746      0.98981  186.99s\n",
      "    105       0.02525       0.05673      0.44513      0.98867  185.74s\n",
      "    106       0.02492       0.05061      0.49239      0.99055  186.92s\n",
      "    107       0.02501       0.05222      0.47892      0.99070  186.19s\n",
      "    108       0.02477       0.05210      0.47554      0.99100  195.87s\n",
      "    109       0.02525       0.05287      0.47753      0.98996  192.12s\n",
      "    110       0.02499       0.04923      0.50763      0.99062  200.05s\n",
      "    111       0.02427       0.04913      0.49399      0.99025  198.45s\n",
      "    112       0.02677       0.05377      0.49791      0.98941  199.99s\n",
      "    113       0.02550       0.04916      0.51878      0.99137  200.05s\n",
      "    114       0.02441       0.05185      0.47073      0.99033  204.16s\n",
      "    115       \u001b[36m0.02319\u001b[0m       0.06931      0.33453      0.98542  203.53s\n",
      "    116       0.02583       0.04858      0.53178      0.99092  207.52s\n",
      "    117       0.02385       \u001b[32m0.04699\u001b[0m      0.50759      0.99159  209.44s\n",
      "    118       0.02352       0.04858      0.48421      0.99055  218.99s\n",
      "    119       0.02389       0.04830      0.49453      0.99077  204.38s\n",
      "    120       0.02431       0.04808      0.50569      0.99122  193.31s\n",
      "    121       0.02423       0.04948      0.48973      0.99055  190.99s\n",
      "    122       0.02445       0.04728      0.51716      0.99167  190.66s\n",
      "    123       0.02419       0.05068      0.47725      0.99033  193.15s\n",
      "    124       0.02417       0.04910      0.49232      0.99055  199.43s\n",
      "    125       0.02500       0.05608      0.44569      0.98973  201.75s\n",
      "    126       0.02445       0.04989      0.49002      0.99062  206.67s\n",
      "    127       \u001b[36m0.02281\u001b[0m       \u001b[32m0.04595\u001b[0m      0.49636      0.99025  203.66s\n",
      "    128       0.02309       0.05017      0.46014      0.99048  207.01s\n",
      "    129       0.02483       0.04957      0.50085      0.99025  209.58s\n",
      "    130       0.02458       \u001b[32m0.04551\u001b[0m      0.54003      0.99174  209.02s\n",
      "    131       0.02302       0.05136      0.44812      0.99033  211.75s\n",
      "    132       0.02317       0.04801      0.48267      0.99122  211.06s\n",
      "    133       \u001b[36m0.02255\u001b[0m       0.04708      0.47889      0.99092  213.14s\n",
      "    134       0.02659       0.04696      0.56607      0.99010  210.97s\n",
      "    135       0.02627       0.04701      0.55888      0.99152  207.25s\n",
      "    136       0.02403       0.05499      0.43697      0.98929  213.47s\n",
      "    137       0.02257       0.05080      0.44433      0.99100  203.81s\n",
      "    138       0.02258       0.05369      0.42050      0.98966  202.52s\n",
      "    139       0.02394       0.04966      0.48195      0.99070  203.12s\n",
      "    140       0.02429       0.05075      0.47864      0.98921  205.66s\n",
      "    141       0.02442       0.04677      0.52208      0.99107  193.95s\n",
      "    142       0.02476       0.04776      0.51828      0.99033  191.32s\n",
      "    143       0.02333       0.05352      0.43599      0.99055  189.24s\n",
      "    144       0.02579       0.05143      0.50140      0.98996  190.11s\n",
      "    145       0.02285       0.05051      0.45247      0.99152  190.27s\n",
      "    146       \u001b[36m0.02196\u001b[0m       0.04857      0.45222      0.99055  192.05s\n",
      "    147       0.02390       0.04709      0.50750      0.99129  190.56s\n",
      "    148       0.02351       0.05180      0.45385      0.99033  191.90s\n",
      "    149       0.02647       0.05491      0.48216      0.98867  195.05s\n",
      "    150       0.02423       0.04647      0.52143      0.99122  198.75s\n",
      "    151       0.02401       0.04692      0.51178      0.99189  208.15s\n",
      "    152       0.02220       0.07236      0.30679      0.98594  204.18s\n",
      "    153       0.02591       0.04840      0.53543      0.99115  201.79s\n",
      "    154       0.02214       0.04635      0.47767      0.99152  206.07s\n",
      "    155       0.02200       0.05138      0.42808      0.98988  199.00s\n",
      "    156       0.02428       0.04890      0.49643      0.99137  195.92s\n",
      "    157       0.02404       0.05052      0.47593      0.98899  196.67s\n",
      "    158       0.02244       0.04695      0.47789      0.99100  201.13s\n",
      "    159       \u001b[36m0.02196\u001b[0m       0.04702      0.46705      0.99100  195.57s\n",
      "    160       0.02259       0.04633      0.48771      0.99167  193.89s\n",
      "    161       0.02489       0.05045      0.49334      0.98958  191.76s\n",
      "    162       0.02402       0.05148      0.46656      0.99040  191.85s\n",
      "    163       0.02260       0.04758      0.47507      0.99070  191.34s\n",
      "    164       0.02243       0.05416      0.41408      0.98988  193.91s\n",
      "    165       0.02460       0.04709      0.52252      0.99085  191.81s\n",
      "    166       0.02275       0.04882      0.46603      0.99085  196.64s\n",
      "    167       0.02358       0.06252      0.37717      0.98757  200.25s\n",
      "    168       0.02318       0.04638      0.49975      0.99107  200.78s\n",
      "    169       0.02266       \u001b[32m0.04483\u001b[0m      0.50539      0.99219  204.15s\n",
      "    170       \u001b[36m0.02191\u001b[0m       \u001b[32m0.04406\u001b[0m      0.49721      0.99204  207.15s\n",
      "    171       \u001b[36m0.02173\u001b[0m       0.04776      0.45499      0.99070  206.36s\n",
      "    172       0.02492       0.04669      0.53375      0.99092  205.79s\n",
      "    173       0.02278       0.05333      0.42715      0.98973  210.30s\n",
      "    174       0.02419       0.04435      0.54542      0.99092  208.88s\n",
      "    175       0.02421       0.04518      0.53584      0.99144  201.42s\n",
      "    176       0.02334       0.04864      0.47987      0.99174  201.90s\n",
      "    177       0.02393       0.04824      0.49604      0.99100  199.45s\n",
      "    178       0.02334       0.04495      0.51932      0.99189  197.20s\n",
      "    179       \u001b[36m0.02162\u001b[0m       0.04944      0.43735      0.99033  193.03s\n",
      "    180       0.02258       0.06056      0.37296      0.98733  194.03s\n",
      "    181       0.02368       0.04711      0.50273      0.99085  193.36s\n",
      "    182       0.02306       0.04500      0.51241      0.99129  191.15s\n",
      "    183       0.02263       0.04935      0.45851      0.99070  191.38s\n",
      "    184       0.02195       0.08600      0.25526      0.98204  194.77s\n",
      "    185       0.02235       0.04640      0.48176      0.99129  194.61s\n",
      "    186       0.02302       0.04847      0.47482      0.99033  190.79s\n",
      "    187       0.02272       0.04633      0.49030      0.99107  192.08s\n",
      "    188       0.02206       0.04659      0.47354      0.99085  190.08s\n",
      "    189       0.02268       0.04664      0.48640      0.99182  193.90s\n",
      "    190       \u001b[36m0.02160\u001b[0m       0.04420      0.48856      0.99226  202.40s\n",
      "    191       0.02175       0.04683      0.46446      0.99122  201.08s\n",
      "    192       0.02545       0.04632      0.54936      0.99174  205.43s\n",
      "    193       0.02228       0.05537      0.40241      0.98936  207.86s\n",
      "    194       0.02213       0.04635      0.47742      0.99107  212.64s\n",
      "    195       0.02396       \u001b[32m0.04381\u001b[0m      0.54688      0.99174  214.45s\n",
      "    196       0.02214       0.04830      0.45842      0.98966  211.88s\n",
      "    197       0.02307       0.05114      0.45124      0.99085  207.69s\n",
      "    198       0.02294       0.04938      0.46458      0.99033  211.22s\n",
      "    199       0.02231       \u001b[32m0.04192\u001b[0m      0.53223      0.99219  209.27s\n",
      "    200       \u001b[36m0.02104\u001b[0m       0.04475      0.47014      0.99189  204.32s\n"
     ]
    },
    {
     "data": {
      "text/plain": [
       "NeuralNet(X_tensor_type=None,\n",
       "     batch_iterator_test=<nolearn.lasagne.base.BatchIterator object at 0x7f83e0cd1d10>,\n",
       "     batch_iterator_train=<nolearn.lasagne.base.BatchIterator object at 0x7f83e0cd1c10>,\n",
       "     check_input=True, custom_scores=None,\n",
       "     layers=[(<class 'lasagne.layers.input.InputLayer'>, {'shape': (None, 1, 20, 20)}), (<class 'lasagne.layers.conv.Conv2DLayer'>, {'filter_size': 5, 'nonlinearity': <function rectify at 0x7f83e21590c8>, 'num_filters': 32}), (<class 'lasagne.layers.pool.MaxPool2DLayer'>, {'pool_size': 2}), (<class 'lasa....layers.dense.DenseLayer'>, {'num_units': 2, 'nonlinearity': <function softmax at 0x7f83e2156c80>})],\n",
       "     loss=None, max_epochs=200, more_params={},\n",
       "     objective=<function objective at 0x7f83e0cd0230>, objective_l2=0.0025,\n",
       "     objective_loss_function=<function categorical_crossentropy at 0x7f83e1f64140>,\n",
       "     on_batch_finished=[],\n",
       "     on_epoch_finished=[<nolearn.lasagne.handlers.PrintLog instance at 0x7f83e0cf5758>],\n",
       "     on_training_finished=[],\n",
       "     on_training_started=[<nolearn.lasagne.handlers.PrintLayerInfo instance at 0x7f83e0cf57a0>],\n",
       "     regression=False,\n",
       "     train_split=<nolearn.lasagne.base.TrainSplit object at 0x7f83e0b69e10>,\n",
       "     update=<function adam at 0x7f83e1f64c08>, update_learning_rate=0.0002,\n",
       "     use_label_encoder=False, verbose=2,\n",
       "     y_tensor_type=TensorType(int32, vector))"
      ]
     },
     "execution_count": 11,
     "metadata": {},
     "output_type": "execute_result"
    }
   ],
   "source": [
    "random_indices = np.arange(np.size(trainY))\n",
    "np.random.shuffle(random_indices)\n",
    "# print trainY[random_indices]\n",
    "net0.fit(trainX[random_indices], trainY[random_indices])"
   ]
  },
  {
   "cell_type": "code",
   "execution_count": 15,
   "metadata": {
    "collapsed": false
   },
   "outputs": [
    {
     "name": "stdout",
     "output_type": "stream",
     "text": [
      "CPU times: user 1min 26s, sys: 5min 41s, total: 7min 8s\n",
      "Wall time: 1min 12s\n",
      "0.997325334333\n"
     ]
    }
   ],
   "source": [
    "%time trainY_predicted = net0.predict(trainX)\n",
    "print sk.metrics.accuracy_score(trainY_predicted, trainY)"
   ]
  },
  {
   "cell_type": "code",
   "execution_count": 17,
   "metadata": {
    "collapsed": false
   },
   "outputs": [
    {
     "name": "stdout",
     "output_type": "stream",
     "text": [
      "CPU times: user 35.5 s, sys: 2min 21s, total: 2min 56s\n",
      "Wall time: 31.4 s\n"
     ]
    }
   ],
   "source": [
    "%time testY = net0.predict(testX)"
   ]
  },
  {
   "cell_type": "markdown",
   "metadata": {},
   "source": [
    "### Output"
   ]
  },
  {
   "cell_type": "code",
   "execution_count": 23,
   "metadata": {
    "collapsed": false
   },
   "outputs": [],
   "source": [
    "testY_frame = pd.DataFrame()\n",
    "testY_frame['Id'] = testIds\n",
    "testY_frame['Prediction'] = testY\n",
    "testY_frame.sort_values(by='Id', inplace=True)\n",
    "testY_frame.to_csv('results/res2.csv', index=None)"
   ]
  }
 ],
 "metadata": {
  "kernelspec": {
   "display_name": "Python 2",
   "language": "python",
   "name": "python2"
  },
  "language_info": {
   "codemirror_mode": {
    "name": "ipython",
    "version": 2
   },
   "file_extension": ".py",
   "mimetype": "text/x-python",
   "name": "python",
   "nbconvert_exporter": "python",
   "pygments_lexer": "ipython2",
   "version": "2.7.11"
  }
 },
 "nbformat": 4,
 "nbformat_minor": 0
}
