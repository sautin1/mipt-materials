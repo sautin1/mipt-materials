{
 "cells": [
  {
   "cell_type": "markdown",
   "metadata": {},
   "source": [
    "# Автоматическая обработка текстов\n",
    "## Домашнее задание 1 [10 баллов] до 23:59 15.03.2018\n",
    "**Студент: Андрей Саутин**  \n",
    "**Группа: 396**\n",
    "\n",
    "В этом домашнем задании требуется написать генератор описания прогноза погоды на следующую неделю в каком-нибудь городе. Домашнее задание состоит из трех частей:\n",
    "1. Скачивание данных о состоянии погоды в городе \n",
    "2. Генерация описания прогноза\n",
    "3. Творческая часть\n"
   ]
  },
  {
   "cell_type": "markdown",
   "metadata": {},
   "source": [
    "### 1. Сбор данных [3 балла]\n",
    "\n",
    "Воспользуемся бесплатным API сервиса [Apixu](https://www.apixu.com/), который также предоставляет библиотеку [apixu-python](https://github.com/apixu/apixu-python) для работы с ним. Подгрузим прогноз погоды на 7 дней для города `LOCATION`."
   ]
  },
  {
   "cell_type": "code",
   "execution_count": 1,
   "metadata": {
    "collapsed": true
   },
   "outputs": [],
   "source": [
    "from apixu.client import ApixuClient\n",
    "from os import environ\n",
    "import locale\n",
    "\n",
    "API_KEY = environ['APIXU_KEY']\n",
    "LOCATION = 'Рига'\n",
    "DATE_FORMAT = '%d.%m (%a)'\n",
    "DAY_COUNT = 7\n",
    "\n",
    "locale.setlocale(locale.LC_TIME, 'ru_RU.UTF-8')\n",
    "client = ApixuClient(API_KEY)\n",
    "forecast = client.getForecastWeather(q=LOCATION, days=DAY_COUNT)['forecast']['forecastday']"
   ]
  },
  {
   "cell_type": "markdown",
   "metadata": {},
   "source": [
    "Создадим обертку `DateWrapper` над встроенным классом `datetime` для более удобной работы с ним в рамках текущего задания."
   ]
  },
  {
   "cell_type": "code",
   "execution_count": 2,
   "metadata": {
    "collapsed": true
   },
   "outputs": [],
   "source": [
    "class DateTimeWrapper:\n",
    "    def __init__(self, date, repr_format=None, str_format=None):\n",
    "        self._date = date\n",
    "        self._repr_format = repr_format\n",
    "        self._str_format = str_format \n",
    "\n",
    "    def __repr__(self):\n",
    "        return self._date.__repr__() if self._repr_format is None else self._date.strftime(self._repr_format)\n",
    "\n",
    "    def __str__(self):\n",
    "        return self._date.__str__() if self._str_format is None else self._date.strftime(self._str_format)\n",
    "    \n",
    "    def get_date(self):\n",
    "        return self._date\n",
    "    \n",
    "    def get_weekday(self):\n",
    "        return self._date.strftime('%A').lower()"
   ]
  },
  {
   "cell_type": "markdown",
   "metadata": {},
   "source": [
    "Оформим весь загруженный прогноз в виде таблицы. В этом мне поможет класс pandas.DataFrame, созданный для удобной работы с данными. В таблице каждый столбец соответствует некоторой погодной характеристике, а каждая строка — дате."
   ]
  },
  {
   "cell_type": "code",
   "execution_count": 3,
   "metadata": {},
   "outputs": [
    {
     "name": "stdout",
     "output_type": "stream",
     "text": [
      "            минимальная температура  максимальная температура  скорость ветра  \\\n",
      "15.03 (Чт)                       -6                        -3              23   \n",
      "16.03 (Пт)                       -6                        -3              24   \n",
      "17.03 (Сб)                       -4                        -2              22   \n",
      "18.03 (Вс)                       -2                         1              13   \n",
      "19.03 (Пн)                       -1                         2              15   \n",
      "20.03 (Вт)                       -4                         0              26   \n",
      "21.03 (Ср)                       -3                        -3              27   \n",
      "\n",
      "            уровень осадков  \n",
      "15.03 (Чт)              0.0  \n",
      "16.03 (Пт)              0.4  \n",
      "17.03 (Сб)              0.0  \n",
      "18.03 (Вс)              0.0  \n",
      "19.03 (Пн)              0.0  \n",
      "20.03 (Вт)              4.7  \n",
      "21.03 (Ср)              0.5  \n"
     ]
    }
   ],
   "source": [
    "import pandas as pd\n",
    "from datetime import datetime\n",
    "\n",
    "\n",
    "aspects = ['минимальная температура', 'максимальная температура',\n",
    "           'скорость ветра', 'уровень осадков']\n",
    "attrs = ['mintemp_c', 'maxtemp_c', 'maxwind_kph', 'totalprecip_mm']\n",
    "\n",
    "dates = [DateTimeWrapper(datetime.strptime(day['date'], '%Y-%m-%d'),\n",
    "                         repr_format=DATE_FORMAT,\n",
    "                         str_format=DATE_FORMAT)\n",
    "         for day in forecast]\n",
    "d = {aspect_name: [int(round(weather['day'][aspect_attr])) for weather in forecast]\n",
    "     for aspect_name, aspect_attr in zip(aspects[:-1], attrs[:-1])}\n",
    "d[aspects[-1]] = [weather['day'][attrs[-1]] for weather in forecast]\n",
    "dataframe = pd.DataFrame(d, index=dates, columns=aspects)\n",
    "print(dataframe)"
   ]
  },
  {
   "cell_type": "markdown",
   "metadata": {},
   "source": [
    "### 2. Генератор описания прогноза погоды [4 балла]"
   ]
  },
  {
   "cell_type": "markdown",
   "metadata": {},
   "source": [
    "Прогноз погоды должен состоять из нескольких предложений, генерируемых по шаблонам.\n",
    "\n",
    "Шаблоны, используемые в этом задании:  \n",
    "\n",
    "1) Изменение температуры:  \n",
    "**<span style=\"color:indigo\">В {город} [к|ко] {день недели} {глагольная конструкция} в среднем на {количество градусов} [градус|градуса|градусов] относительно {день недели}.</span>**  \n",
    "Здесь **{глагольная конструкция} = [потеплеет|температура повысится|температура увеличится|температура поднимется|температура возрастет|похолодает|температура понизится|температура уменьшится|температура опустится|температура упадет]**.  \n",
    "\n",
    "Если температура изменилась незначительно или не изменилась вовсе, то используется немного видоизмененный шаблон:  \n",
    "**<span style=\"color:indigo\">В {город} [к|ко] {день недели} температура в среднем [не изменится|не поменяется|изменится незначительно|останется прежней].</span>**  \n",
    "\n",
    "2) Скорость ветра:  \n",
    "**<span style=\"color:indigo\">Скорость ветра {глагольная конструкция} и составит {скорость} [километр|километра|километров] в час.</span>**  \n",
    "Здесь **{глагольная конструкция} = [повысится|увеличится|поднимется|возрастет|понизится|уменьшится|опустится|упадет|не изменится|не поменяется|изменится незначительно|останется прежней]**.  \n",
    "\n",
    "3) Осадки:  \n",
    "**<span style=\"color:indigo\">За [ближайший|ближайшие] {количество дней} [день|дня|дней] выпадет {количество осадков} миллиметра осадков, а [в|во] {день недели} [— {количество осадков} миллиметра|осадков не ожидается].</span>**\n",
    "\n",
    "Здесь после количества осадков используется форма \"миллиметра\", т.к. существительным в такой ситуации управляет дробь (см. [gramota, вопрос № 268857](http://new.gramota.ru/spravka/buro/search-answer?s=%D0%B4%D1%80%D0%BE%D0%B1%D1%8C)).\n",
    "\n",
    "Для генерации описания прогноза создам класс `WeatherReporter` с публичными методами `compare_temperature`, `compare_wind` и `calc_precipitation` для генерации предложений по шаблонам 1, 2 и 3 соответственно. Также заведу метод `make_report`, который сгенерирует по предложению на каждый шаблон и вернет мне текст описания прогноза.\n",
    "\n",
    "Ввиду ограничений библиотеки pymorphy2 (или моего с ней недостаточного знакомства), некоторые (нежесткие) части предложений придется сгенерировать вручную, например, согласовать предлоги \"к/ко\" и \"в/во\" с днями недели. Для внесения некоторого разнообразия в описание прогноза в процессе его формирования используется генератор случайных чисел для выбора случайного слова из набора синонимичных глаголов."
   ]
  },
  {
   "cell_type": "code",
   "execution_count": 4,
   "metadata": {
    "collapsed": true
   },
   "outputs": [],
   "source": [
    "import random\n",
    "import pymorphy2\n",
    "\n",
    "\n",
    "morph = pymorphy2.MorphAnalyzer()\n",
    "\n",
    "\n",
    "class WeatherReporter:\n",
    "    def __init__(self, dataframe, location):\n",
    "        self._dataframe = dataframe\n",
    "        self._location = location\n",
    "        self._verbs_go_up = ['повысится', 'увеличится', 'поднимется', 'возрастет']\n",
    "        self._verbs_go_down = ['понизится', 'уменьшится', 'опустится', 'упадет']\n",
    "        self._verbs_no_changes = ['не изменится', 'не поменяется', 'изменится незначительно', 'останется прежней']\n",
    "    \n",
    "    @staticmethod\n",
    "    def _inflect_form(word, grammemes):\n",
    "        return morph.parse(word)[0].inflect(grammemes).word\n",
    "    \n",
    "    @staticmethod\n",
    "    def _make_agree_with_number(word, number):\n",
    "        return morph.parse(word)[0].make_agree_with_number(number).word\n",
    "    \n",
    "    @staticmethod\n",
    "    def _join_sentence(parts):\n",
    "        return ' '.join(parts) + '.'\n",
    "    \n",
    "    def _make_temperature_sentence(self, date_x, date_y, temp_x, temp_y):\n",
    "        verbs_warm = ['потеплеет', *map(lambda verb: 'температура ' + verb, self._verbs_go_up)]\n",
    "        verbs_cool = ['похолодает', *map(lambda verb: 'температура ' + verb, self._verbs_go_down)]\n",
    "        parts = ['В',\n",
    "                 self._inflect_form(self._location, {'sing', 'loct'}).title(),\n",
    "                 'к' if date_y.get_date().isoweekday() != 2 else 'ко',\n",
    "                 self._inflect_form(date_y.get_weekday(), {'sing', 'datv'})]\n",
    "        temp_diff = temp_y - temp_x\n",
    "        temp_diff = int(round(abs(temp_diff)) * (-1 if temp_diff < 0 else 1))\n",
    "        if temp_diff == 0:\n",
    "            parts.extend(['температура в среднем',\n",
    "                          random.choice(self._verbs_no_changes)])\n",
    "        else:\n",
    "            parts.append(random.choice(verbs_cool if temp_diff < 0 else verbs_warm))\n",
    "            parts.extend(['в среднем на',\n",
    "                          str(abs(temp_diff)),\n",
    "                          self._make_agree_with_number('градус', abs(temp_diff)),\n",
    "                          'относительно',\n",
    "                          self._inflect_form(date_x.get_weekday(), {'sing', 'gent'})])\n",
    "        return self._join_sentence(parts)\n",
    "\n",
    "    def _make_wind_sentence(self, speed_x, speed_y):\n",
    "        parts = ['Скорость ветра']\n",
    "        speed_diff = speed_y - speed_x\n",
    "        if speed_diff == 0:\n",
    "            parts.append(random.choice(self._verbs_no_changes))\n",
    "        else:\n",
    "            parts.append(random.choice(self._verbs_go_down if speed_diff < 0 else self._verbs_go_up))\n",
    "        parts.extend(['и составит',\n",
    "                      str(speed_y),\n",
    "                      self._make_agree_with_number('километр', speed_y),\n",
    "                      'в час'])\n",
    "        return self._join_sentence(parts)\n",
    "    \n",
    "    def _make_precipitation_sentence(self, day, precipitation, precipitation_total):\n",
    "        date = self._dataframe.index.values[day]\n",
    "        parts = ['За',\n",
    "                 self._inflect_form('ближайший', {'masc', 'sing', 'nomn'} if day <= 1 else {'plur', 'nomn'}),\n",
    "                 str(day),\n",
    "                 self._make_agree_with_number('день', day),\n",
    "                 'выпадет',\n",
    "                 str('{0:.2f}'.format(precipitation_total)),\n",
    "                 'миллиметра',\n",
    "                 'осадков, а',\n",
    "                 'в' if date.get_date().isoweekday() != 2 else 'во',\n",
    "                 self._inflect_form(date.get_weekday(), {'sing', 'accs'})]\n",
    "        if precipitation == 0:\n",
    "            parts.append('осадков не ожидается')\n",
    "        else:\n",
    "            parts.extend(['—',\n",
    "                          str('{0:.2f}'.format(precipitation)),\n",
    "                          'миллиметра'])\n",
    "        return self._join_sentence(parts)\n",
    "\n",
    "    def compare_temperature(self, day_x, day_y):\n",
    "        dates = self._dataframe.index.values\n",
    "        temp_x_average = self._dataframe.iloc[day_x, [0, 1]].mean()\n",
    "        temp_y_average = self._dataframe.iloc[day_y, [0, 1]].mean()\n",
    "        return self._make_temperature_sentence(dates[day_x], dates[day_y], temp_x_average, temp_y_average)\n",
    "\n",
    "    def compare_wind(self, day_x, day_y):\n",
    "        dates = self._dataframe.index.values\n",
    "        wind_x, wind_y = self._dataframe.iloc[day_x, 2], self._dataframe.iloc[day_y, 2]\n",
    "        return self._make_wind_sentence(wind_x, wind_y)\n",
    "    \n",
    "    def calc_precipitation(self, day):\n",
    "        precipitation_total = self._dataframe.iloc[:day + 1, 3].sum()\n",
    "        precipitation = self._dataframe.iloc[day, 3]\n",
    "        return self._make_precipitation_sentence(day, precipitation, precipitation_total)\n",
    "    \n",
    "    def make_report(self, day_x, day_y):\n",
    "        return ' '.join([\n",
    "            self.compare_temperature(day_x, day_y),\n",
    "            self.compare_wind(day_x, day_y),\n",
    "            self.calc_precipitation(day_y)\n",
    "        ])"
   ]
  },
  {
   "cell_type": "markdown",
   "metadata": {},
   "source": [
    "Генерирую два дня, соблюдая условие, что первый день должен идти раньше второго, а затем прошу класс `WeatherReporter` построить описание прогноза. При повторном запуске получаю прогноз для другой пары дней, написанный также немного другими словами."
   ]
  },
  {
   "cell_type": "code",
   "execution_count": 5,
   "metadata": {},
   "outputs": [
    {
     "name": "stdout",
     "output_type": "stream",
     "text": [
      "В Риге к среде температура упадет в среднем на 4 градуса относительно понедельника. Скорость ветра возрастет и составит 27 километров в час. За ближайшие 6 дней выпадет 5.60 миллиметра осадков, а в среду — 0.50 миллиметра.\n"
     ]
    }
   ],
   "source": [
    "reporter = WeatherReporter(dataframe, LOCATION)\n",
    "day_x = random.randint(0, DAY_COUNT - 2)\n",
    "day_y = random.randint(day_x + 1, DAY_COUNT - 1)\n",
    "print(reporter.make_report(day_x, day_y))"
   ]
  },
  {
   "cell_type": "markdown",
   "metadata": {},
   "source": [
    "### 3. Ответьте на вопросы [3 балла]\n",
    "* В каких других задачах (помимо описания прогноза погоды) может понадобиться генерировать текст по шаблонам? В каких задачах может понадобиться генерировать текст об изменении числовых показателей по шаблонам?\n",
    "\n",
    "* Шаблоны, которые вы использовали в этом задании, имеют фиксированную структуру. Фактически, ваша задача заключалась в том, чтобы подставить в шаблон число и согласовать единицы измерения с этим числом или подставить в шаблон название города и согласовать его с предлогом. Как можно разнообразить эти шаблоны? Как знание синтаксической структуры предложения может помочь в этой задаче? "
   ]
  },
  {
   "cell_type": "markdown",
   "metadata": {},
   "source": [
    "## Сдача домашнего задания\n",
    "\n",
    "Дедлайн сдачи домашнего задания:  23:59 15.03.2018. Каждый день просрочки дедлайна штрафуется -1 баллом.\n",
    "\n",
    "Результаты домашнего задания должны быть оформлены в виде отчета в jupyter notebook.\n",
    "Нормальный отчёт должен включать в себя:\n",
    "* Краткую постановку задачи и формулировку задания\n",
    "* Описание минимума необходимой теории и/или описание используемых инструментов \n",
    "* Подробный пошаговый рассказ о проделанной работе\n",
    "* **Аккуратно** оформленные результаты\n",
    "* Подробные и внятные ответы на все заданные вопросы \n",
    "* Внятные выводы – не стоит относится к домашнему заданию как к последовательности сугубо технических шагов, а стоит относится скорее как к небольшому практическому исследованию, у которого есть своя цель и свое назначение.\n",
    "\n",
    "Задание выполняется в группе до трех человек. Не забудьте перечислить фамилии всех, кто работал над домашнем задании, в jupyter notebook.  \n",
    "\n",
    "В случае использования какого-либо строннего источника информации обязательно дайте на него ссылку. Плагиат наказывается нулём баллов за задание.\n",
    "\n",
    "При возникновении проблем с выполнением задания обращайтесь с вопросами к преподавателю по семинарским занятиям – Антону Емельянову. \n",
    "\n",
    "Небрежное оформление отчета существенно отразится на итоговой оценке. Весь код из отчёта должен быть воспроизводимым, если для этого нужны какие-то дополнительные действия, установленные модули и т.п. — всё это должно быть прописано в отчете в явном виде.\n",
    "\n",
    "Сдача отчетов осуществляется через систему AnyTask.\n"
   ]
  }
 ],
 "metadata": {
  "kernelspec": {
   "display_name": "Python 3",
   "language": "python",
   "name": "python3"
  },
  "language_info": {
   "codemirror_mode": {
    "name": "ipython",
    "version": 3
   },
   "file_extension": ".py",
   "mimetype": "text/x-python",
   "name": "python",
   "nbconvert_exporter": "python",
   "pygments_lexer": "ipython3",
   "version": "3.6.3"
  }
 },
 "nbformat": 4,
 "nbformat_minor": 2
}
