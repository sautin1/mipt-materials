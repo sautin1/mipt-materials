{
 "cells": [
  {
   "cell_type": "markdown",
   "metadata": {},
   "source": [
    "# Домашнее задание 3 [10 баллов] \n",
    "# До 16.05.18 23:59\n",
    "\n",
    "Задание выполняется в группе (1-4 человека). В случае использования какого-либо строннего источника информации обязательно дайте на него ссылку (поскольку другие тоже могут на него наткнуться). Плагиат наказывается нулём баллов за задание и предвзятым отношением в будущем.\n",
    "\n",
    "Не все части обязательны для выполнения, однако вы можете быть дополнительно оштрафованы за небрежное за выполнение одной или двух частей вместо четырех.\n",
    "\n",
    "При возниконовении проблем с выполнением задания обращайтесь с вопросами к преподавателю. Поэтому настоятельно рекомендуется выполнять задание заранее, оставив запас времени на всевозможные технические проблемы. Если вы начали читать условие в последний вечер и не успели из-за проблем с установкой какой-либо библиотеки — это ваши проблемы.\n",
    "\n",
    "\n",
    "Результат выполнения задания — это отчёт в формате html на основе Jupyter Notebook. Нормальный отчёт должен включать в себя:\n",
    "* Краткую постановку задачи и формулировку задания\n",
    "* Описание **минимума** необходимой теории и/или описание используемых инструментов - не стоит переписывать лекции или Википедию\n",
    "* Подробный пошаговый рассказ о проделанной работе\n",
    "* Аккуратно оформленные результаты\n",
    "* **Внятные выводы** – не стоит относится к домашнему заданию как к последовательности сугубо технических шагов, а стоит относится скорее как к небольшому практическому исследованию, у которого есть своя цель и свое назначение.\n",
    "\n",
    "Небрежное его оформление отчета существенно отразится на итоговой оценке. Весь код из отчёта должен быть воспроизводимым, если для этого нужны какие-то дополнительные действия, установленные модули и т.п. — всё это должно быть прописано в тексте в явном виде.\n",
    "\n",
    "Сдача отчетов осуществляется через систему AnyTask.\n",
    "\n"
   ]
  },
  {
   "cell_type": "markdown",
   "metadata": {},
   "source": [
    "# Классификация текстов с активным обучением\n",
    "\n",
    "\n",
    "Зададимся простой задачей классификации текстов: например, классификацией отзывов на банки по тональности. Эта задача решается с достаточно высокими показателями качества с использованием стандартных алгоритмов классификации, например, сверточных нейронных сетей: корпус состоит из достаточного количества документов, чтобы сверточная сеть хорошо обучилась. Однако возникает естественный вопрос: действительно ли все документы нужны для того, чтобы достичь таких высоких показателей качества (или сопоставимых с ними). Парадигма активного обучения поможет вам ответить на этот вопрос."
   ]
  },
  {
   "cell_type": "markdown",
   "metadata": {},
   "source": [
    "## Часть 1. Предобработка данных [2 балла]\n",
    "\n",
    "Коллекция отзывов хранится в файле banki_responses (https://www.dropbox.com/s/ol3ux3ibr6rd5ke/banki_responses.json.bz2?dl=0). Одна строчка в этом файле соответствует одному json-словарю. Из этого словаря вам понадобятся два значения по ключам text и rating -- текст отзыва и его оценка по шкале от 1 до 5.   \n",
    "\n",
    "Считайте файл."
   ]
  },
  {
   "cell_type": "code",
   "execution_count": 1,
   "metadata": {
    "collapsed": true
   },
   "outputs": [],
   "source": [
    "import json\n",
    "import re\n",
    "\n",
    "\n",
    "def split_into_words(sentence):\n",
    "    regexp = \"[^а-яА-ЯёЁa-zA-Z]\"\n",
    "    sentence = re.sub(regexp, \" \", sentence)\n",
    "    return sentence.lower().split()\n",
    "\n",
    "\n",
    "def read_data(path='./data/banki_responses.json'):\n",
    "    reviews = []\n",
    "    with open(path, 'r') as fin:\n",
    "        for line in fin:\n",
    "            reviews.append(json.loads(line.strip()))\n",
    "    return [{'text': review['text'],\n",
    "             'words': split_into_words(review['text']),\n",
    "             'rating': review['rating_grade']}\n",
    "            for review in reviews\n",
    "            if review['rating_grade'] is not None]"
   ]
  },
  {
   "cell_type": "code",
   "execution_count": 2,
   "metadata": {},
   "outputs": [
    {
     "name": "stdout",
     "output_type": "stream",
     "text": [
      "Количество отзывов: 136189.\n",
      "Wall time: 52.7 s\n"
     ]
    }
   ],
   "source": [
    "%%time\n",
    "\n",
    "reviews = read_data()\n",
    "print(f'Количество отзывов: {len(reviews)}.')"
   ]
  },
  {
   "cell_type": "markdown",
   "metadata": {},
   "source": [
    "Посчитайте, каких отзывов больше: положительных (с оценкой 5) или отрицательных (с оценкой 1)?"
   ]
  },
  {
   "cell_type": "code",
   "execution_count": 3,
   "metadata": {
    "scrolled": true
   },
   "outputs": [
    {
     "name": "stdout",
     "output_type": "stream",
     "text": [
      "Количество положительных отзывов: 26715.\n",
      "Количество отрицательных отзывов: 72307.\n",
      "Отрицательных отзывов больше.\n"
     ]
    }
   ],
   "source": [
    "reviews_positive_count = sum(1 for review in reviews if review['rating'] == 5)\n",
    "reviews_negative_count = sum(1 for review in reviews if review['rating'] == 1)\n",
    "print(f'Количество положительных отзывов: {reviews_positive_count}.')\n",
    "print(f'Количество отрицательных отзывов: {reviews_negative_count}.')\n",
    "print(('Положительных' if reviews_negative_count < reviews_positive_count else 'Отрицательных')\n",
    "      + ' отзывов больше.')"
   ]
  },
  {
   "cell_type": "markdown",
   "metadata": {},
   "source": [
    "Проведите предварительную обработку данных: удалите слишком короткие и слишком длинные тексты (пороги на длину определите самостоятельно)."
   ]
  },
  {
   "cell_type": "code",
   "execution_count": 4,
   "metadata": {},
   "outputs": [
    {
     "data": {
      "image/png": "[encoded data removed]",
      "text/plain": [
       "<matplotlib.figure.Figure at 0x29b7de9ef60>"
      ]
     },
     "metadata": {},
     "output_type": "display_data"
    }
   ],
   "source": [
    "# Оценим распределение количества слов в отзывах, построив гистограмму.\n",
    "from matplotlib import pyplot as plt\n",
    "\n",
    "\n",
    "plt.hist([len(review['words']) for review in reviews], 2000, facecolor='green', alpha=0.7)\n",
    "plt.xlabel('Review length (in words)')\n",
    "plt.ylabel('Frequency')\n",
    "plt.show()"
   ]
  },
  {
   "cell_type": "code",
   "execution_count": 5,
   "metadata": {},
   "outputs": [
    {
     "name": "stdout",
     "output_type": "stream",
     "text": [
      "1: Банк закрыт, на дверях замок.\n",
      "5: Банк хороший, обслуживаением доволен!\n",
      "5: Брал кредит все супер!\n",
      "5: Очень хороший банк! Вежливые сотрудники!\n",
      "1: Делают карту VISA почти 3 недели...\n",
      "3: Охранники у банка слишком злые.\n"
     ]
    }
   ],
   "source": [
    "# Оценим адекватность самых коротких отзывов,\n",
    "# чтобы выявить нижнюю границу на количество слов в отзыве выборки.\n",
    "\n",
    "for review in reviews:\n",
    "    if len(review['words']) <= 5:\n",
    "        print(f'{review[\"rating\"]}: {review[\"text\"]}')"
   ]
  },
  {
   "cell_type": "code",
   "execution_count": 6,
   "metadata": {},
   "outputs": [
    {
     "name": "stdout",
     "output_type": "stream",
     "text": [
      "Количество отзывов после фильтрации по количеству слов: 134911.\n"
     ]
    }
   ],
   "source": [
    "# Из гистограммы видно, что отзывов с количеством слов >= 1000, очень мало.\n",
    "# Поставим соответствующее ограничение сверху на количество слов в отзыве.\n",
    "\n",
    "# Из предыдущего примера можно видеть, что самые короткие отзывы состоят из 4-5 слов,\n",
    "# но при этом являются вполне адекватными, поэтому на текущем этапе причин для их удаления из выборки я не вижу.\n",
    "\n",
    "# Однако, заглядывая вперед, можно увидеть, что сверточной сети придется работать с изображениями большого разрешения:\n",
    "# (review_len, embedding_len),\n",
    "# где review_len -- количество слов в отзыве,\n",
    "# а embedding_len -- размер выходного вектора эмбеддинга.\n",
    "# Посему хорошо бы уменьшить разрешение на входе сетки, а также заметить,\n",
    "# что в ней будут использоваться pooling-слои, также понижающие размерность изображения.\n",
    "# По этой причине исходная длина отзыва (в словах) должна быть не меньше чем downsample factor сети.\n",
    "\n",
    "reviews = [review for review in reviews if 16 <= len(review['words']) < 1000]\n",
    "print(f'Количество отзывов после фильтрации по количеству слов: {len(reviews)}.')"
   ]
  },
  {
   "cell_type": "markdown",
   "metadata": {},
   "source": [
    "Разбейте данные на обучающее ($train$) и тестовое ($test$) множество случайным образом в отношеннии 3:1 (или любом другом отношении, которое покажется вам разумным).\n",
    "Задача классификации сформулирована так: по каждому отзыву определить его оценку (т.е. классификация на 5 классов). Признаками для классификации выступают слова."
   ]
  },
  {
   "cell_type": "code",
   "execution_count": 7,
   "metadata": {},
   "outputs": [
    {
     "name": "stdout",
     "output_type": "stream",
     "text": [
      "В обучающей выборке 101183 отзывов.\n",
      "В тестовой выборке 33728 отзывов.\n"
     ]
    }
   ],
   "source": [
    "import random\n",
    "\n",
    "TRAIN_PERCENT = 0.75\n",
    "\n",
    "reviews_indices_train = random.sample(list(range(len(reviews))),\n",
    "                                      int(TRAIN_PERCENT * len(reviews)))\n",
    "reviews_indices_test = list(set(range(len(reviews))) - set(reviews_indices_train))\n",
    "\n",
    "reviews_train = [reviews[idx] for idx in reviews_indices_train]\n",
    "reviews_test = [reviews[idx] for idx in reviews_indices_test]\n",
    "\n",
    "print(f'В обучающей выборке {len(reviews_train)} отзывов.')\n",
    "print(f'В тестовой выборке {len(reviews_test)} отзывов.')"
   ]
  },
  {
   "cell_type": "code",
   "execution_count": 8,
   "metadata": {},
   "outputs": [
    {
     "name": "stderr",
     "output_type": "stream",
     "text": [
      "C:\\Users\\ASautin\\AppData\\Local\\Continuum\\Anaconda2\\envs\\con3.6\\lib\\site-packages\\gensim\\utils.py:1197: UserWarning: detected Windows; aliasing chunkize to chunkize_serial\n",
      "  warnings.warn(\"detected Windows; aliasing chunkize to chunkize_serial\")\n"
     ]
    },
    {
     "name": "stdout",
     "output_type": "stream",
     "text": [
      "Wall time: 4min 5s\n"
     ]
    }
   ],
   "source": [
    "%%time\n",
    "# Загружаем fasttext модель, ограничиваясь первыми limit словами.\n",
    "\n",
    "from gensim.models import KeyedVectors\n",
    "\n",
    "\n",
    "fasttext_model = KeyedVectors.load_word2vec_format('../hw2_senna/wiki.ru.vec', limit=999999)"
   ]
  },
  {
   "cell_type": "code",
   "execution_count": 9,
   "metadata": {
    "collapsed": true
   },
   "outputs": [],
   "source": [
    "import numpy as np\n",
    "\n",
    "\n",
    "def make_tensor_from_review(review, fasttext_model):\n",
    "    words = review['words']\n",
    "    tensor = np.zeros((len(words),))\n",
    "    for idx, word in enumerate(words):\n",
    "        word_in_vocab = fasttext_model.vocab.get(word, None)\n",
    "        if word_in_vocab is not None:\n",
    "            tensor[idx] = word_in_vocab.index\n",
    "    return tensor"
   ]
  },
  {
   "cell_type": "code",
   "execution_count": 10,
   "metadata": {},
   "outputs": [
    {
     "name": "stderr",
     "output_type": "stream",
     "text": [
      "Using TensorFlow backend.\n"
     ]
    }
   ],
   "source": [
    "from keras.utils import to_categorical\n",
    "\n",
    "\n",
    "CLASS_COUNT = 5\n",
    "\n",
    "tensors_train = [make_tensor_from_review(review, fasttext_model) for review in reviews_train]\n",
    "tensors_test = [make_tensor_from_review(review, fasttext_model) for review in reviews_test]\n",
    "\n",
    "indices_train = sorted(list(range(len(tensors_train))), key=lambda idx: tensors_train[idx].shape[0])\n",
    "indices_test = sorted(list(range(len(tensors_test))), key=lambda idx: tensors_test[idx].shape[0])\n",
    "\n",
    "tensors_train_sorted = [tensors_train[idx] for idx in indices_train]\n",
    "tensors_test_sorted = [tensors_test[idx] for idx in indices_test]\n",
    "ratings_train_sorted = [to_categorical(reviews_train[idx]['rating'] - 1, CLASS_COUNT)\n",
    "                        for idx in indices_train]\n",
    "ratings_test_sorted = [to_categorical(reviews_test[idx]['rating'] - 1, CLASS_COUNT)\n",
    "                       for idx in indices_test]"
   ]
  },
  {
   "cell_type": "code",
   "execution_count": 11,
   "metadata": {},
   "outputs": [
    {
     "name": "stdout",
     "output_type": "stream",
     "text": [
      "Количество батчей в обучающей выборке: 6324.\n",
      "Количество батчей в тестовой выборке: 2108.\n"
     ]
    }
   ],
   "source": [
    "from keras.preprocessing.sequence import pad_sequences\n",
    "\n",
    "\n",
    "BATCH_SIZE = 16\n",
    "\n",
    "batches_train_x = [tensors_train_sorted[idx:idx + BATCH_SIZE] for idx in range(0, len(tensors_train_sorted), BATCH_SIZE)]\n",
    "batches_train_y = [np.array(ratings_train_sorted[idx:idx + BATCH_SIZE]) for idx in range(0, len(ratings_train_sorted), BATCH_SIZE)]\n",
    "batches_test_x = [tensors_test_sorted[idx:idx + BATCH_SIZE] for idx in range(0, len(tensors_test_sorted), BATCH_SIZE)]\n",
    "batches_test_y = [np.array(ratings_test_sorted[idx:idx + BATCH_SIZE]) for idx in range(0, len(ratings_test_sorted), BATCH_SIZE)]\n",
    "\n",
    "batches_train_x = [pad_sequences(batch, padding='post') for batch in batches_train_x]\n",
    "batches_test_x = [pad_sequences(batch, padding='post') for batch in batches_test_x]\n",
    "\n",
    "print(f'Количество батчей в обучающей выборке: {len(batches_train_x)}.')\n",
    "print(f'Количество батчей в тестовой выборке: {len(batches_test_x)}.')"
   ]
  },
  {
   "cell_type": "code",
   "execution_count": 12,
   "metadata": {
    "collapsed": true
   },
   "outputs": [],
   "source": [
    "def iterate_over_batches(batches_x, batches_y, randomize=False):\n",
    "    indices = list(range(len(batches_x)))\n",
    "    while True:\n",
    "        if randomize:\n",
    "            random.shuffle(indices)\n",
    "        for idx in indices:\n",
    "            yield batches_x[idx], batches_y[idx]\n",
    "\n",
    "\n",
    "gen_train = iterate_over_batches(batches_train_x, batches_train_y, randomize=True)\n",
    "gen_test = iterate_over_batches(batches_test_x, batches_test_y, randomize=False)"
   ]
  },
  {
   "cell_type": "code",
   "execution_count": 13,
   "metadata": {
    "collapsed": true
   },
   "outputs": [],
   "source": [
    "# idx = 0\n",
    "# print(reviews_train[indices_train[idx]])\n",
    "# print(tensors_train_sorted[idx])\n",
    "# print(ratings_train_sorted[idx])"
   ]
  },
  {
   "cell_type": "markdown",
   "metadata": {},
   "source": [
    "## Часть 2. Baseline [4 балла]\n",
    "\n",
    "Получите baseline классификации: в идеале, используйте сверточную нейронную сеть (слой эмбеддингов + свертка + субдескритизация). Число и размерность фильтров определите самостоятельно, так же как и использование регуляризаторов (dropout / batch norm) и их параметров. Так же самостоятельно (но обосновано) решите, использовать ли вам предобученные эмбеддинги или нет и проводить ли вам лемматизацию или нет. \n",
    "\n",
    "Обучите сеть на обучающем множестве и протестируйте на тестовом. Зафиксируйте baseline.\n",
    "\n",
    "Если совсем трудно или вычисления занимают слишком много времени, используйте любой другой известный и симпатичный вам алгоритм классификации. "
   ]
  },
  {
   "cell_type": "code",
   "execution_count": 14,
   "metadata": {
    "scrolled": true
   },
   "outputs": [
    {
     "name": "stdout",
     "output_type": "stream",
     "text": [
      "Downsample factor: 16\n",
      "_________________________________________________________________\n",
      "Layer (type)                 Output Shape              Param #   \n",
      "=================================================================\n",
      "input_1 (InputLayer)         (None, None)              0         \n",
      "_________________________________________________________________\n",
      "embedding_1 (Embedding)      (None, None, 300)         299999700 \n",
      "_________________________________________________________________\n",
      "reshape_1 (Reshape)          (None, 1, None, 300)      0         \n",
      "_________________________________________________________________\n",
      "conv2d_1 (Conv2D)            (None, 10, None, 150)     100       \n",
      "_________________________________________________________________\n",
      "conv2d_2 (Conv2D)            (None, 20, None, 75)      1820      \n",
      "_________________________________________________________________\n",
      "conv2d_3 (Conv2D)            (None, 32, None, 75)      5792      \n",
      "_________________________________________________________________\n",
      "leaky_re_lu_1 (LeakyReLU)    (None, 32, None, 75)      0         \n",
      "_________________________________________________________________\n",
      "conv2d_4 (Conv2D)            (None, 16, None, 75)      528       \n",
      "_________________________________________________________________\n",
      "leaky_re_lu_2 (LeakyReLU)    (None, 16, None, 75)      0         \n",
      "_________________________________________________________________\n",
      "conv2d_5 (Conv2D)            (None, 32, None, 75)      4640      \n",
      "_________________________________________________________________\n",
      "leaky_re_lu_3 (LeakyReLU)    (None, 32, None, 75)      0         \n",
      "_________________________________________________________________\n",
      "conv2d_6 (Conv2D)            (None, 16, None, 75)      528       \n",
      "_________________________________________________________________\n",
      "leaky_re_lu_4 (LeakyReLU)    (None, 16, None, 75)      0         \n",
      "_________________________________________________________________\n",
      "max_pooling2d_1 (MaxPooling2 (None, 16, None, 38)      0         \n",
      "_________________________________________________________________\n",
      "batch_normalization_1 (Batch (None, 16, None, 38)      64        \n",
      "_________________________________________________________________\n",
      "dropout_1 (Dropout)          (None, 16, None, 38)      0         \n",
      "_________________________________________________________________\n",
      "conv2d_7 (Conv2D)            (None, 64, None, 38)      9280      \n",
      "_________________________________________________________________\n",
      "leaky_re_lu_5 (LeakyReLU)    (None, 64, None, 38)      0         \n",
      "_________________________________________________________________\n",
      "conv2d_8 (Conv2D)            (None, 32, None, 38)      2080      \n",
      "_________________________________________________________________\n",
      "leaky_re_lu_6 (LeakyReLU)    (None, 32, None, 38)      0         \n",
      "_________________________________________________________________\n",
      "conv2d_9 (Conv2D)            (None, 64, None, 38)      18496     \n",
      "_________________________________________________________________\n",
      "leaky_re_lu_7 (LeakyReLU)    (None, 64, None, 38)      0         \n",
      "_________________________________________________________________\n",
      "conv2d_10 (Conv2D)           (None, 32, None, 38)      2080      \n",
      "_________________________________________________________________\n",
      "leaky_re_lu_8 (LeakyReLU)    (None, 32, None, 38)      0         \n",
      "_________________________________________________________________\n",
      "max_pooling2d_2 (MaxPooling2 (None, 32, None, 19)      0         \n",
      "_________________________________________________________________\n",
      "batch_normalization_2 (Batch (None, 32, None, 19)      128       \n",
      "_________________________________________________________________\n",
      "dropout_2 (Dropout)          (None, 32, None, 19)      0         \n",
      "_________________________________________________________________\n",
      "conv2d_11 (Conv2D)           (None, 128, None, 19)     36992     \n",
      "_________________________________________________________________\n",
      "leaky_re_lu_9 (LeakyReLU)    (None, 128, None, 19)     0         \n",
      "_________________________________________________________________\n",
      "conv2d_12 (Conv2D)           (None, 64, None, 19)      8256      \n",
      "_________________________________________________________________\n",
      "leaky_re_lu_10 (LeakyReLU)   (None, 64, None, 19)      0         \n",
      "_________________________________________________________________\n",
      "conv2d_13 (Conv2D)           (None, 128, None, 19)     73856     \n",
      "_________________________________________________________________\n",
      "leaky_re_lu_11 (LeakyReLU)   (None, 128, None, 19)     0         \n",
      "_________________________________________________________________\n",
      "conv2d_14 (Conv2D)           (None, 64, None, 19)      8256      \n",
      "_________________________________________________________________\n",
      "leaky_re_lu_12 (LeakyReLU)   (None, 64, None, 19)      0         \n",
      "_________________________________________________________________\n",
      "conv2d_15 (Conv2D)           (None, 5, None, 19)       325       \n",
      "_________________________________________________________________\n",
      "global_average_pooling2d_1 ( (None, 5)                 0         \n",
      "_________________________________________________________________\n",
      "activation_1 (Activation)    (None, 5)                 0         \n",
      "=================================================================\n",
      "Total params: 300,172,921\n",
      "Trainable params: 173,125\n",
      "Non-trainable params: 299,999,796\n",
      "_________________________________________________________________\n"
     ]
    }
   ],
   "source": [
    "from keras.models import Model\n",
    "from keras.layers import Input, Conv2D, GlobalAveragePooling2D, MaxPool2D, Dropout\n",
    "from keras.layers import Reshape, BatchNormalization, LeakyReLU, Activation\n",
    "from keras.regularizers import l2\n",
    "\n",
    "\n",
    "class DarknetBlock:\n",
    "    def __init__(self, filters1, filters3, strides=(1, 1)):\n",
    "        self._filters1 = filters1\n",
    "        self._filters3 = filters3\n",
    "        self._strides = strides\n",
    "\n",
    "    def __call__(self, input_tensor, *args, **kwargs):\n",
    "        x = input_tensor\n",
    "        for filters, size, strides in [(self._filters3, (3, 3), self._strides),\n",
    "                                       (self._filters1, (1, 1), (1, 1))]:\n",
    "            x = Conv2D(filters, size, strides=strides, padding='same',\n",
    "                       kernel_initializer='he_normal', kernel_regularizer=l2(1e-10))(x)\n",
    "            x = LeakyReLU(alpha=0.05)(x)\n",
    "        return x\n",
    "\n",
    "    \n",
    "def create_classifier_model(input_shape, class_count, fasttext_model, filter_counts=None):\n",
    "    filter_counts = filter_counts or [16, 32, 64]\n",
    "    downsample_factor = 1\n",
    "\n",
    "    # Пользуемся функционалом gensim.KeyedVectors для создания слоя Embedding.\n",
    "    # и инициализации его весами.\n",
    "    embedding_layer = fasttext_model.get_keras_embedding()\n",
    "    # Также отмечаем, что эти веса не надо менять при обучении сети.\n",
    "    embedding_layer.trainable = False\n",
    "\n",
    "    input_layer = Input(input_shape)\n",
    "    embedding = embedding_layer(input_layer)\n",
    "    reshaped = Reshape((1, -1, fasttext_model.vector_size))(embedding)\n",
    "    x = reshaped\n",
    "    x = Conv2D(10, (3, 3), strides=(2, 2), padding='same',\n",
    "               kernel_initializer='he_normal', kernel_regularizer=l2(1e-10))(x)\n",
    "    downsample_factor *= 2\n",
    "    x = Conv2D(20, (3, 3), strides=(2, 2), padding='same',\n",
    "               kernel_initializer='he_normal', kernel_regularizer=l2(1e-10))(x)\n",
    "    downsample_factor *= 2\n",
    "    for idx, filter_count in enumerate(filter_counts):\n",
    "        x = DarknetBlock(filter_count, filter_count * 2)(x)\n",
    "        x = DarknetBlock(filter_count, filter_count * 2)(x)\n",
    "        if idx != len(filter_counts) - 1:\n",
    "            x = MaxPool2D(pool_size=(2, 2), padding='same')(x)\n",
    "            downsample_factor *= 2\n",
    "            x = BatchNormalization(axis=1)(x)\n",
    "            x = Dropout(0.1)(x)\n",
    "    x = Conv2D(class_count, (1, 1), padding='same')(x)\n",
    "    x = GlobalAveragePooling2D()(x)\n",
    "    output = Activation('softmax')(x)\n",
    "    return Model(inputs=[input_layer], outputs=[output]), downsample_factor\n",
    "\n",
    "\n",
    "classifier, downsample_factor = create_classifier_model((None,), CLASS_COUNT, fasttext_model)\n",
    "print(f'Downsample factor: {downsample_factor}')\n",
    "classifier.compile(loss='categorical_crossentropy', optimizer='adam', metrics=['accuracy'])\n",
    "classifier.summary()"
   ]
  },
  {
   "cell_type": "code",
   "execution_count": 15,
   "metadata": {
    "scrolled": true
   },
   "outputs": [
    {
     "name": "stdout",
     "output_type": "stream",
     "text": [
      "Epoch 1/50\n",
      "1054/1054 [==============================] - 135s 129ms/step - loss: 1.1140 - acc: 0.6105 - val_loss: 1.0412 - val_acc: 0.6368\n",
      "Epoch 2/50\n",
      "1054/1054 [==============================] - 105s 99ms/step - loss: 0.9970 - acc: 0.6570 - val_loss: 1.3660 - val_acc: 0.6002\n",
      "Epoch 3/50\n",
      "1054/1054 [==============================] - 105s 100ms/step - loss: 0.9771 - acc: 0.6586 - val_loss: 1.0299 - val_acc: 0.6422\n",
      "Epoch 4/50\n",
      "1054/1054 [==============================] - 104s 99ms/step - loss: 0.9678 - acc: 0.6610 - val_loss: 1.0874 - val_acc: 0.6490\n",
      "Epoch 5/50\n",
      "1054/1054 [==============================] - 113s 107ms/step - loss: 0.9383 - acc: 0.6750 - val_loss: 0.9952 - val_acc: 0.6540\n",
      "Epoch 6/50\n",
      "1054/1054 [==============================] - 103s 97ms/step - loss: 0.9332 - acc: 0.6747 - val_loss: 0.9194 - val_acc: 0.6788\n",
      "Epoch 7/50\n",
      "1054/1054 [==============================] - 108s 103ms/step - loss: 0.9297 - acc: 0.6699 - val_loss: 0.9456 - val_acc: 0.6678\n",
      "Epoch 8/50\n",
      "1054/1054 [==============================] - 103s 98ms/step - loss: 0.9173 - acc: 0.6775 - val_loss: 0.9637 - val_acc: 0.6770\n",
      "Epoch 9/50\n",
      "1054/1054 [==============================] - 99s 94ms/step - loss: 0.9262 - acc: 0.6727 - val_loss: 3.3367 - val_acc: 0.2447\n",
      "Epoch 10/50\n",
      "1054/1054 [==============================] - 101s 96ms/step - loss: 0.9166 - acc: 0.6748 - val_loss: 1.1367 - val_acc: 0.6300\n",
      "Epoch 11/50\n",
      "1054/1054 [==============================] - 102s 97ms/step - loss: 0.9145 - acc: 0.6775 - val_loss: 0.9418 - val_acc: 0.6687\n",
      "Epoch 12/50\n",
      "1053/1054 [============================>.] - ETA: 0s - loss: 0.9088 - acc: 0.6803\n",
      "Epoch 00012: reducing learning rate to 0.0005000000237487257.\n",
      "1054/1054 [==============================] - 101s 96ms/step - loss: 0.9086 - acc: 0.6803 - val_loss: 2.0037 - val_acc: 0.3838\n",
      "Epoch 13/50\n",
      "1054/1054 [==============================] - 103s 97ms/step - loss: 0.8897 - acc: 0.6849 - val_loss: 0.9152 - val_acc: 0.6772\n",
      "Epoch 14/50\n",
      "1054/1054 [==============================] - 100s 95ms/step - loss: 0.8816 - acc: 0.6849 - val_loss: 0.9765 - val_acc: 0.6625\n",
      "Epoch 15/50\n",
      "1054/1054 [==============================] - 113s 107ms/step - loss: 0.8836 - acc: 0.6809 - val_loss: 0.9530 - val_acc: 0.6727\n",
      "Epoch 16/50\n",
      "1054/1054 [==============================] - 101s 95ms/step - loss: 0.8820 - acc: 0.6862 - val_loss: 0.9122 - val_acc: 0.6753\n",
      "Epoch 17/50\n",
      "1054/1054 [==============================] - 101s 96ms/step - loss: 0.8882 - acc: 0.6860 - val_loss: 0.9090 - val_acc: 0.6769\n",
      "Epoch 18/50\n",
      "1054/1054 [==============================] - 100s 95ms/step - loss: 0.8764 - acc: 0.6875 - val_loss: 0.9423 - val_acc: 0.6734\n",
      "Epoch 19/50\n",
      "1054/1054 [==============================] - 105s 100ms/step - loss: 0.8693 - acc: 0.6879 - val_loss: 0.9224 - val_acc: 0.6753\n",
      "Epoch 20/50\n",
      "1054/1054 [==============================] - 108s 103ms/step - loss: 0.8727 - acc: 0.6858 - val_loss: 0.9102 - val_acc: 0.6788\n",
      "Epoch 21/50\n",
      "1054/1054 [==============================] - 99s 94ms/step - loss: 0.8687 - acc: 0.6885 - val_loss: 0.9285 - val_acc: 0.6728\n",
      "Epoch 22/50\n",
      "1054/1054 [==============================] - 101s 96ms/step - loss: 0.8680 - acc: 0.6891 - val_loss: 0.9159 - val_acc: 0.6801\n",
      "Epoch 23/50\n",
      "1053/1054 [============================>.] - ETA: 0s - loss: 0.8731 - acc: 0.6869\n",
      "Epoch 00023: reducing learning rate to 0.0002500000118743628.\n",
      "1054/1054 [==============================] - 103s 98ms/step - loss: 0.8735 - acc: 0.6868 - val_loss: 0.9344 - val_acc: 0.6728\n",
      "Epoch 24/50\n",
      "1054/1054 [==============================] - 101s 96ms/step - loss: 0.8725 - acc: 0.6890 - val_loss: 0.8997 - val_acc: 0.6819\n",
      "Epoch 25/50\n",
      "1054/1054 [==============================] - 99s 94ms/step - loss: 0.8560 - acc: 0.6880 - val_loss: 0.9481 - val_acc: 0.6738\n",
      "Epoch 26/50\n",
      "1054/1054 [==============================] - 102s 97ms/step - loss: 0.8524 - acc: 0.6914 - val_loss: 0.9303 - val_acc: 0.6708\n",
      "Epoch 27/50\n",
      "1054/1054 [==============================] - 102s 96ms/step - loss: 0.8555 - acc: 0.6946 - val_loss: 0.9115 - val_acc: 0.6807\n",
      "Epoch 28/50\n",
      "1054/1054 [==============================] - 103s 98ms/step - loss: 0.8588 - acc: 0.6903 - val_loss: 0.8911 - val_acc: 0.6836\n",
      "Epoch 29/50\n",
      "1054/1054 [==============================] - 103s 98ms/step - loss: 0.8531 - acc: 0.6898 - val_loss: 0.8941 - val_acc: 0.6834\n",
      "Epoch 30/50\n",
      "1054/1054 [==============================] - 100s 95ms/step - loss: 0.8381 - acc: 0.6944 - val_loss: 0.9198 - val_acc: 0.6779\n",
      "Epoch 31/50\n",
      "1054/1054 [==============================] - 102s 97ms/step - loss: 0.8350 - acc: 0.6971 - val_loss: 0.9316 - val_acc: 0.6739\n",
      "Epoch 32/50\n",
      "1054/1054 [==============================] - 102s 97ms/step - loss: 0.8518 - acc: 0.6938 - val_loss: 0.9236 - val_acc: 0.6769\n",
      "Epoch 33/50\n",
      "1054/1054 [==============================] - 102s 97ms/step - loss: 0.8436 - acc: 0.6941 - val_loss: 0.8911 - val_acc: 0.6842\n",
      "Epoch 34/50\n",
      "1053/1054 [============================>.] - ETA: 0s - loss: 0.8506 - acc: 0.6915\n",
      "Epoch 00034: reducing learning rate to 0.0001250000059371814.\n",
      "1054/1054 [==============================] - 101s 96ms/step - loss: 0.8508 - acc: 0.6913 - val_loss: 0.9036 - val_acc: 0.6794\n",
      "Epoch 35/50\n",
      "1054/1054 [==============================] - 109s 104ms/step - loss: 0.8452 - acc: 0.6914 - val_loss: 0.8993 - val_acc: 0.6805\n",
      "Epoch 36/50\n",
      "1054/1054 [==============================] - 102s 96ms/step - loss: 0.8322 - acc: 0.6952 - val_loss: 0.8956 - val_acc: 0.6836\n",
      "Epoch 37/50\n",
      "1054/1054 [==============================] - 103s 98ms/step - loss: 0.8417 - acc: 0.6938 - val_loss: 0.9317 - val_acc: 0.6761\n",
      "Epoch 38/50\n",
      "1054/1054 [==============================] - 100s 95ms/step - loss: 0.8269 - acc: 0.6973 - val_loss: 0.8899 - val_acc: 0.6858\n",
      "Epoch 39/50\n",
      "1054/1054 [==============================] - 102s 96ms/step - loss: 0.8267 - acc: 0.6960 - val_loss: 0.8915 - val_acc: 0.6860\n",
      "Epoch 40/50\n",
      "1054/1054 [==============================] - 108s 103ms/step - loss: 0.8244 - acc: 0.7012 - val_loss: 0.8990 - val_acc: 0.6814\n",
      "Epoch 41/50\n",
      "1054/1054 [==============================] - 104s 99ms/step - loss: 0.8381 - acc: 0.6923 - val_loss: 0.9011 - val_acc: 0.6830\n",
      "Epoch 42/50\n",
      "1054/1054 [==============================] - 101s 96ms/step - loss: 0.8347 - acc: 0.6965 - val_loss: 0.8817 - val_acc: 0.6888\n",
      "Epoch 43/50\n",
      "1054/1054 [==============================] - 100s 95ms/step - loss: 0.8345 - acc: 0.6929 - val_loss: 0.8936 - val_acc: 0.6864\n",
      "Epoch 44/50\n",
      "1054/1054 [==============================] - 103s 98ms/step - loss: 0.8279 - acc: 0.6957 - val_loss: 0.9020 - val_acc: 0.6789\n",
      "Epoch 45/50\n",
      "1054/1054 [==============================] - 102s 97ms/step - loss: 0.8332 - acc: 0.6950 - val_loss: 0.9198 - val_acc: 0.6791\n",
      "Epoch 46/50\n",
      "1054/1054 [==============================] - 102s 97ms/step - loss: 0.8103 - acc: 0.7063 - val_loss: 0.9490 - val_acc: 0.6726\n",
      "Epoch 47/50\n",
      "1054/1054 [==============================] - 101s 96ms/step - loss: 0.8317 - acc: 0.6954 - val_loss: 0.8826 - val_acc: 0.6879\n",
      "Epoch 48/50\n",
      "1052/1054 [============================>.] - ETA: 0s - loss: 0.8226 - acc: 0.6988\n",
      "Epoch 00048: reducing learning rate to 6.25000029685907e-05.\n",
      "1054/1054 [==============================] - 101s 96ms/step - loss: 0.8229 - acc: 0.6986 - val_loss: 0.8920 - val_acc: 0.6831\n",
      "Epoch 49/50\n",
      "1054/1054 [==============================] - 102s 97ms/step - loss: 0.8166 - acc: 0.7032 - val_loss: 0.8866 - val_acc: 0.6868\n",
      "Epoch 50/50\n",
      "1054/1054 [==============================] - 110s 104ms/step - loss: 0.8148 - acc: 0.7003 - val_loss: 0.8891 - val_acc: 0.6857\n",
      "{'acc': 0.7003083491461101, 'val_acc': 0.6856617647058824}\n"
     ]
    }
   ],
   "source": [
    "# Обучаем классификатор.\n",
    "# Сохраняем лог обучения и веса модели.\n",
    "\n",
    "import json\n",
    "from keras.callbacks import EarlyStopping, ReduceLROnPlateau, ModelCheckpoint\n",
    "\n",
    "\n",
    "callbacks = [\n",
    "    ReduceLROnPlateau(monitor='val_loss', factor=0.5, patience=5, verbose=1),\n",
    "    EarlyStopping(monitor='val_loss', patience=25, verbose=1),\n",
    "    ModelCheckpoint('weights/baseline_best', monitor='val_loss', period=5, save_best_only=True),\n",
    "]\n",
    "\n",
    "\n",
    "def process_training_results(model, history, name='main'):\n",
    "    with open(f'logs/{name}.json', 'w') as fout:\n",
    "        json.dump(history.history, fout, sort_keys=True, indent=4)\n",
    "    model.save_weights(f'weights/{name}')\n",
    "    return {'acc': history.history['acc'][-1], 'val_acc': history.history['val_acc'][-1]}\n",
    "\n",
    "\n",
    "history = classifier.fit_generator(gen_train, steps_per_epoch=len(batches_train_x) // 6,\n",
    "                                   epochs=50, callbacks=callbacks,\n",
    "                                   validation_data=gen_test, validation_steps=len(batches_test_x))\n",
    "metrics_baseline = process_training_results(classifier, history, name='baseline')\n",
    "print(metrics_baseline)"
   ]
  },
  {
   "cell_type": "markdown",
   "metadata": {},
   "source": [
    "## Часть 3. Baseline [4 балла] Активное обучение\n",
    "\n",
    "Подход активного обучения основан на следующей идее: вместо всего обучающего множества мы используем его маленькие фрагменты, в которых модель неуверена для обучения. Таким образом, модель обучается исключительно по **трудным** объектам, число которых существенно меньше, чем общее число объектов.\n",
    "\n",
    "Обучение модели начинается с обучения по $N$ случайно выбранным примерам, где $N$ – небольшое число (100, 200 и т.д.). Затем модель тестируется на $|train| - N$ объектах, после чего из  $|train| - N$ объектов выбираются снова $N$  объектов, в которых модель не уверена. Эти объекты используются для дообучения модели. Процесс выбора $N$ трудных объектов и дообучения на них повторяется некоторое количество раз (100, 200 и т.д. раз). На каждом шаге активного обучения модель можно протестировать на тестовом множестве, чтобы сравнить ее качества с baseline.\n",
    "\n",
    "Как выбирать трудные объекты:\n",
    "1. Выход нейронной сети - оценки 5 вероятностей принадлежности объекта одному из классов. Предсказанный класс – это тот класс, вероятность которого максимальна. Отсортируем объекты по убыванию вероятности предсказанного класса ($\\min \\max p_i$) и выберем $N$ первых объектов;\n",
    "2. Используем энтропию: чем больше энтропия предсказания, тем ближе распределение вероятностей предсказания к равномерному распределению, тем труднее объект. "
   ]
  },
  {
   "cell_type": "code",
   "execution_count": null,
   "metadata": {
    "collapsed": true
   },
   "outputs": [],
   "source": []
  }
 ],
 "metadata": {
  "kernelspec": {
   "display_name": "Python 3",
   "language": "python",
   "name": "python3"
  },
  "language_info": {
   "codemirror_mode": {
    "name": "ipython",
    "version": 3
   },
   "file_extension": ".py",
   "mimetype": "text/x-python",
   "name": "python",
   "nbconvert_exporter": "python",
   "pygments_lexer": "ipython3",
   "version": "3.6.2"
  }
 },
 "nbformat": 4,
 "nbformat_minor": 2
}
