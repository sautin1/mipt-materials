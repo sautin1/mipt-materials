{
 "cells": [
  {
   "cell_type": "markdown",
   "metadata": {},
   "source": [
    "# Домашнее задание 3 [10 баллов] \n",
    "# До 30.04.18 23:59\n",
    "\n",
    "Задание выполняется в группе (1-4 человека). В случае использования какого-либо строннего источника информации обязательно дайте на него ссылку (поскольку другие тоже могут на него наткнуться). Плагиат наказывается нулём баллов за задание и предвзятым отношением в будущем.\n",
    "\n",
    "Не все части обязательны для выполнения, однако вы можете быть дополнительно оштрафованы за небрежное за выполнение одной или двух частей вместо четырех.\n",
    "\n",
    "При возниконовении проблем с выполнением задания обращайтесь с вопросами к преподавателю. Поэтому настоятельно рекомендуется выполнять задание заранее, оставив запас времени на всевозможные технические проблемы. Если вы начали читать условие в последний вечер и не успели из-за проблем с установкой какой-либо библиотеки — это ваши проблемы.\n",
    "\n",
    "\n",
    "Результат выполнения задания — это отчёт в формате html на основе Jupyter Notebook. Нормальный отчёт должен включать в себя:\n",
    "* Краткую постановку задачи и формулировку задания\n",
    "* Описание **минимума** необходимой теории и/или описание используемых инструментов - не стоит переписывать лекции или Википедию\n",
    "* Подробный пошаговый рассказ о проделанной работе\n",
    "* Аккуратно оформленные результаты\n",
    "* **Внятные выводы** – не стоит относится к домашнему заданию как к последовательности сугубо технических шагов, а стоит относится скорее как к небольшому практическому исследованию, у которого есть своя цель и свое назначение.\n",
    "\n",
    "Небрежное его оформление отчета существенно отразится на итоговой оценке. Весь код из отчёта должен быть воспроизводимым, если для этого нужны какие-то дополнительные действия, установленные модули и т.п. — всё это должно быть прописано в тексте в явном виде.\n",
    "\n",
    "Сдача отчетов осуществляется через систему AnyTask.\n"
   ]
  },
  {
   "cell_type": "markdown",
   "metadata": {},
   "source": [
    "\n",
    "## Использование архитектуры SENNA для определения части речи\n",
    "\n",
    "Домашнее задание написано по мотивам работы R. Collobert:\n",
    "\n",
    "**Collobert, Ronan, Jason Weston, Léon Bottou, Michael Karlen, Koray Kavukcuoglu, and Pavel Kuksa. \"Natural language processing (almost) from scratch.\" Journal of Machine Learning Research 12, no. Aug (2011): 2493-2537.**\n",
    "\n",
    "В этом домашнем задании вам предстоит самостоятельно разработать архитектуру SENNA для определения части речи. \n",
    "SENNA – это простая архитектура нейронной сети, позволяющая достигнуть state-of-the-art результатов в нескольких задачах обработки текстов.  \n",
    "\n",
    "Использование SENNA для определения части речи предполагает, что задача определения части речи для данного слова формулируется как задача классификации: пусть в размеченном корпусе всего $|T|$ (= tagset) различных тегов частей речи, тогда каждое слово $w$ относится к одному из $T$ классов. Для каждого слова из обучающих данных формируется собственный вектор признаков. Нейронная сеть обучается по всем векторам признаков для слов из обучающего множества. \n",
    "\n",
    "Подход к решению задачи классификации представлен в оригинальной статье на рис. 1 (Figure 1: Window approach network). Он состоит из следующих шагов (раздел 3.3.1):\n",
    "1. Каждое слово представляется эмбеддингом: $w_i \\rightarrow LT_{w^i}$, размерность эмбеддинга - $d$;\n",
    "2. Для каждого слова формируется окно длины $k$ из $(k-1)/2$ соседних слов слева от данного слова  и $(k-1)/2$ соседних слов справа от данного слова, $k$ – нечетное. \n",
    "3. Для каждого слова формируется вектор признаков, состоящий из конкатенированных эмбеддингов слов из левого окна, данного слова и слов из правого окна. Итоговая размерность вектора признаков – $d \\times k$. Именно этот вектор подается на вход нейронной сети;\n",
    "4. Обучается нейронная сеть, имеющая один скрытый слой с $n_h$ нейроннами и нелинейной функцией активации $\\theta$;\n",
    "5. На выходном слое нейронной сети решается задача классификации на |T| классов, то есть, определяется часть речи для каждого слова. \n",
    "\n",
    "Если для слова невозможно найти $(k-1)/2$ соседних слов слева от данного слова  и $(k-1)/2$ соседних слов справа от данного слова – используется padding.\n"
   ]
  },
  {
   "cell_type": "markdown",
   "metadata": {},
   "source": [
    "### Данные\n",
    "1. Открытый корпус: https://github.com/dialogue-evaluation/morphoRuEval-2017/blob/master/OpenCorpora_Texts.rar\n",
    "2. Предобученные эмбеддинги Facebook: https://s3-us-west-1.amazonaws.com/fasttext-vectors/wiki.ru.vec"
   ]
  },
  {
   "cell_type": "markdown",
   "metadata": {},
   "source": [
    "### Часть 1 [2 балла] Подготовка данных\n",
    "1. Прочитайте размеченные данные Открытого корпуса, используя nltk.corpus.reader.conll.ConllCorpusReader\n",
    "2. Посчитайте количество предложений и число тегов частей речи;\n",
    "3. Сформируйте тестовое и обучающее множество: первые 3/4 данных – обучающее множество;\n",
    "\n",
    "Для каждого слова:\n",
    "1. Определите его окно (слова слева и справа) размера $k$;\n",
    "2. Сформируйте его вектор признаков."
   ]
  },
  {
   "cell_type": "code",
   "execution_count": 1,
   "metadata": {},
   "outputs": [
    {
     "name": "stdout",
     "output_type": "stream",
     "text": [
      "Количество предложений: 38508\n",
      "Количество различных POS-тегов: 14\n"
     ]
    }
   ],
   "source": [
    "# Читаем корпус, считаем простейшие статистики.\n",
    "\n",
    "from nltk.corpus.reader.conll import ConllCorpusReader\n",
    "\n",
    "\n",
    "data_reader = ConllCorpusReader('./data', fileids='unamb_sent_14_6.conllu',\n",
    "                                columntypes=['ignore', 'words', 'ignore', 'pos', 'chunk'])\n",
    "sentences = list(data_reader.iob_sents())\n",
    "pos_tags = [pos for sentence in sentences for word, pos, chunk in sentence]\n",
    "pos_tag_set = set(pos_tags)\n",
    "pos_tag_to_num = {tag: num for num, tag in enumerate(pos_tag_set)}\n",
    "\n",
    "print(f'Количество предложений: {len(sentences)}')\n",
    "print(f'Количество различных POS-тегов: {len(pos_tag_to_num)}')"
   ]
  },
  {
   "cell_type": "code",
   "execution_count": 2,
   "metadata": {},
   "outputs": [
    {
     "name": "stdout",
     "output_type": "stream",
     "text": [
      "Количество предложений в обучающей выборке: 28881\n",
      "Количество предложений в тестовой выборке: 9627\n"
     ]
    }
   ],
   "source": [
    "# Делим предложения из корпуса на две группы: для обучающей и тестовой выборки.\n",
    "\n",
    "import random\n",
    "\n",
    "\n",
    "TRAIN_PERCENT = 0.75\n",
    "\n",
    "random.shuffle(sentences)\n",
    "sentences_train_size = int(TRAIN_PERCENT * len(sentences))\n",
    "sentences_train, sentences_test = sentences[:sentences_train_size], sentences[sentences_train_size:]\n",
    "print(f'Количество предложений в обучающей выборке: {len(sentences_train)}')\n",
    "print(f'Количество предложений в тестовой выборке: {len(sentences_test)}')"
   ]
  },
  {
   "cell_type": "code",
   "execution_count": 3,
   "metadata": {
    "scrolled": true
   },
   "outputs": [
    {
     "name": "stderr",
     "output_type": "stream",
     "text": [
      "C:\\Users\\ASautin\\AppData\\Local\\Continuum\\Anaconda2\\envs\\con3.6\\lib\\site-packages\\gensim\\utils.py:1197: UserWarning: detected Windows; aliasing chunkize to chunkize_serial\n",
      "  warnings.warn(\"detected Windows; aliasing chunkize to chunkize_serial\")\n"
     ]
    },
    {
     "name": "stdout",
     "output_type": "stream",
     "text": [
      "Wall time: 4min\n"
     ]
    }
   ],
   "source": [
    "%%time\n",
    "# Загружаем fasttext модель, ограничиваясь первыми limit словами.\n",
    "\n",
    "from gensim.models import KeyedVectors\n",
    "\n",
    "\n",
    "fasttext_model = KeyedVectors.load_word2vec_format('wiki.ru.vec', limit=999999)"
   ]
  },
  {
   "cell_type": "code",
   "execution_count": 4,
   "metadata": {
    "collapsed": true
   },
   "outputs": [],
   "source": [
    "# Создаем функцию, формирующую вектор признаков для слова\n",
    "# на основе его индекса в языковой модели и индексов его соседей.\n",
    "\n",
    "import numpy as np\n",
    "\n",
    "\n",
    "def make_feature_vector(sentence, window_size, word_idx, fasttext_model):\n",
    "    window_half_size = (window_size - 1) // 2\n",
    "    features = np.zeros((window_size,))\n",
    "    idx_start = word_idx - window_half_size\n",
    "    for idx in range(max(idx_start, 0), min(word_idx + window_half_size + 1, len(sentence))):\n",
    "        word = sentence[idx][0].lower()\n",
    "        word_in_vocab = fasttext_model.vocab.get(word, None)\n",
    "        if word_in_vocab is not None:\n",
    "            features[idx - idx_start] = word_in_vocab.index\n",
    "    return features"
   ]
  },
  {
   "cell_type": "code",
   "execution_count": 5,
   "metadata": {
    "collapsed": true
   },
   "outputs": [],
   "source": [
    "# Создаем класс для набора параметров эксперимента, задаем параметры первого эксперимента.\n",
    "\n",
    "from collections import namedtuple\n",
    "\n",
    "\n",
    "ExperimentParams = namedtuple('ExperimentParams', ('window_size',\n",
    "                                                   'hidden_layer_units',\n",
    "                                                   'hidden_layer_activation'))\n",
    "Metrics = namedtuple('Metrics', ('acc', 'val_acc'))"
   ]
  },
  {
   "cell_type": "markdown",
   "metadata": {},
   "source": [
    "---\n",
    "_Начиная отсюда и до части 4, код будет зависеть от конкретных параметров эксперимента._"
   ]
  },
  {
   "cell_type": "code",
   "execution_count": 6,
   "metadata": {},
   "outputs": [
    {
     "name": "stderr",
     "output_type": "stream",
     "text": [
      "Using TensorFlow backend.\n"
     ]
    }
   ],
   "source": [
    "# Формируем обучающую и тестовую выборки.\n",
    "# Т.к. при обучении модели будет использоваться categorical_crossentropy loss,\n",
    "# кодируем все метки классов с помощью one-hot-encoding.\n",
    "\n",
    "from keras.utils import to_categorical\n",
    "\n",
    "\n",
    "def prepare_data(sentences, window_size, fasttext_model, pos_tag_to_num):\n",
    "    features = [make_feature_vector(sentence, window_size, idx, fasttext_model)\n",
    "                for sentence in sentences for idx in range(len(sentence))]\n",
    "    tags = [to_categorical(pos_tag_to_num[tag], len(pos_tag_to_num))\n",
    "            for sentence in sentences for _, tag, _ in sentence]\n",
    "    return np.array(features), np.array(tags)\n",
    "\n",
    "\n",
    "PARAMS_INIT = ExperimentParams(window_size=5, hidden_layer_units=256, hidden_layer_activation='tanh')\n",
    "words_train, tags_train = prepare_data(sentences_train, PARAMS_INIT.window_size, fasttext_model, pos_tag_to_num)\n",
    "words_test, tags_test = prepare_data(sentences_test, PARAMS_INIT.window_size, fasttext_model, pos_tag_to_num)"
   ]
  },
  {
   "cell_type": "markdown",
   "metadata": {},
   "source": [
    "### Часть 2 [4 баллов] Архитектура нейронной сети\n",
    "\n",
    "Архитектура нейронной сети состоит из следующих слов:\n",
    "1. Входной слой: нейронная сеть получает на вход вектор признаков, состоящий из $k$ конкатенированных эмбеддингов;/\n",
    "2. Скрытый слой: $n_h$ нейронов и нелинейная функция активации $\\theta$;\n",
    "3. Выходной слой:  $|T|$ нейронов для итоговой классификации.\n",
    "\n",
    "Обучите нейронную сеть на обучающих данных."
   ]
  },
  {
   "cell_type": "code",
   "execution_count": 7,
   "metadata": {},
   "outputs": [
    {
     "name": "stdout",
     "output_type": "stream",
     "text": [
      "_________________________________________________________________\n",
      "Layer (type)                 Output Shape              Param #   \n",
      "=================================================================\n",
      "input_1 (InputLayer)         (None, 5)                 0         \n",
      "_________________________________________________________________\n",
      "embedding_1 (Embedding)      (None, 5, 300)            299999700 \n",
      "_________________________________________________________________\n",
      "flatten_1 (Flatten)          (None, 1500)              0         \n",
      "_________________________________________________________________\n",
      "dense_1 (Dense)              (None, 256)               384256    \n",
      "_________________________________________________________________\n",
      "dense_2 (Dense)              (None, 14)                3598      \n",
      "=================================================================\n",
      "Total params: 300,387,554\n",
      "Trainable params: 387,854\n",
      "Non-trainable params: 299,999,700\n",
      "_________________________________________________________________\n"
     ]
    }
   ],
   "source": [
    "# Создаем модель классификатора, компилируем ее и выводим краткое описание.\n",
    "\n",
    "from keras.layers import Input, Dense, Flatten\n",
    "from keras.models import Model\n",
    "\n",
    "\n",
    "def create_classifier_model(input_shape, hidden_layer_units, hidden_layer_activation,\n",
    "                            class_count, fasttext_model):\n",
    "    # Пользуемся функционалом gensim.KeyedVectors для создания слоя Embedding.\n",
    "    # и инициализации его весами\n",
    "    embedding_layer = fasttext_model.get_keras_embedding()\n",
    "    # Также отмечаем, что эти веса не надо менять при обучении сети.\n",
    "    embedding_layer.trainable = False\n",
    "\n",
    "    input_layer = Input(input_shape)\n",
    "    embedding = embedding_layer(input_layer)\n",
    "    flattened = Flatten()(embedding)\n",
    "    hidden = Dense(hidden_layer_units, activation=hidden_layer_activation)(flattened)\n",
    "    output = Dense(class_count, activation='softmax')(hidden)\n",
    "    return Model(inputs=[input_layer], outputs=[output])\n",
    "\n",
    "\n",
    "classifier = create_classifier_model((PARAMS_INIT.window_size,),\n",
    "                                     PARAMS_INIT.hidden_layer_units,\n",
    "                                     PARAMS_INIT.hidden_layer_activation,\n",
    "                                     len(pos_tag_to_num),\n",
    "                                     fasttext_model)\n",
    "classifier.compile(loss='categorical_crossentropy', optimizer='adam', metrics=['accuracy'])\n",
    "classifier.summary()"
   ]
  },
  {
   "cell_type": "code",
   "execution_count": 8,
   "metadata": {
    "scrolled": false
   },
   "outputs": [
    {
     "name": "stdout",
     "output_type": "stream",
     "text": [
      "Train on 343662 samples, validate on 113921 samples\n",
      "Epoch 1/10\n",
      "343662/343662 [==============================] - 39s 113us/step - loss: 0.2453 - acc: 0.9224 - val_loss: 0.1863 - val_acc: 0.9383\n",
      "Epoch 2/10\n",
      "343662/343662 [==============================] - 38s 112us/step - loss: 0.1535 - acc: 0.9498 - val_loss: 0.1663 - val_acc: 0.9466\n",
      "Epoch 3/10\n",
      "343662/343662 [==============================] - 39s 112us/step - loss: 0.1177 - acc: 0.9611 - val_loss: 0.1663 - val_acc: 0.9483\n",
      "Epoch 4/10\n",
      "343662/343662 [==============================] - 38s 112us/step - loss: 0.0928 - acc: 0.9689 - val_loss: 0.1681 - val_acc: 0.9484\n",
      "Epoch 5/10\n",
      "343662/343662 [==============================] - 38s 112us/step - loss: 0.0745 - acc: 0.9750 - val_loss: 0.1696 - val_acc: 0.9508\n",
      "Epoch 6/10\n",
      "343662/343662 [==============================] - 38s 112us/step - loss: 0.0603 - acc: 0.9797 - val_loss: 0.1784 - val_acc: 0.9495\n",
      "Epoch 7/10\n",
      "343662/343662 [==============================] - 39s 113us/step - loss: 0.0502 - acc: 0.9831 - val_loss: 0.1938 - val_acc: 0.9491\n",
      "Epoch 8/10\n",
      "343662/343662 [==============================] - 38s 112us/step - loss: 0.0433 - acc: 0.9853 - val_loss: 0.2042 - val_acc: 0.9485\n",
      "Epoch 9/10\n",
      "343662/343662 [==============================] - 38s 112us/step - loss: 0.0378 - acc: 0.9873 - val_loss: 0.2072 - val_acc: 0.9504\n",
      "Epoch 10/10\n",
      "343662/343662 [==============================] - 38s 112us/step - loss: 0.0342 - acc: 0.9886 - val_loss: 0.2206 - val_acc: 0.9488\n"
     ]
    }
   ],
   "source": [
    "# Обучаем классификатор.\n",
    "# Сохраняем лог обучения и веса модели.\n",
    "\n",
    "import json\n",
    "\n",
    "\n",
    "def make_experiment_name(params):\n",
    "    return ','.join([f'window_{params.window_size}',\n",
    "                     f'units_{params.hidden_layer_units}',\n",
    "                     f'act_{params.hidden_layer_activation}'])\n",
    "\n",
    "\n",
    "def train_model(model, data_train, data_validation, epochs, name='main', verbose=1):\n",
    "    history = classifier.fit(data_train[0], data_train[1], epochs=epochs, validation_data=data_validation, verbose=verbose)\n",
    "    with open(f'logs/{name}.json', 'w') as fout:\n",
    "        json.dump(history.history, fout, sort_keys=True, indent=4)\n",
    "    classifier.save_weights(f'weights/{name}')\n",
    "    return Metrics(acc=history.history['acc'][-1], val_acc=history.history['val_acc'][-1])\n",
    "\n",
    "\n",
    "metrics = train_model(classifier, (words_train, tags_train), (words_test, tags_test),\n",
    "                      epochs=10, name=make_experiment_name(PARAMS_INIT))\n",
    "RESULTS = {PARAMS_INIT: metrics}"
   ]
  },
  {
   "cell_type": "markdown",
   "metadata": {},
   "source": [
    "### Часть 3 [1 балл] Оценка качества\n",
    "\n",
    "Протестируйте нейронную сеть на тестовых данных. Используйте accuracy для оценки качества модели."
   ]
  },
  {
   "cell_type": "code",
   "execution_count": 9,
   "metadata": {},
   "outputs": [
    {
     "name": "stdout",
     "output_type": "stream",
     "text": [
      "113921/113921 [==============================] - ETA:  - 5s 46us/step\n",
      "loss: 0.22058031487945634\n",
      "acc: 0.948771517103958\n"
     ]
    }
   ],
   "source": [
    "# В еще одном прогоне тестовых данных через модель нет необходимости,\n",
    "# т.к. accuracy на нем уже был посчитан в конце последней эпохи.\n",
    "# Тем не менее, продемонстрирую, что я умею это делать. :)\n",
    "\n",
    "metrics_values = classifier.evaluate(words_test, tags_test)\n",
    "for metric_name, metric_value in zip(classifier.metrics_names, metrics_values):\n",
    "    print(f'{metric_name}: {metric_value}')"
   ]
  },
  {
   "cell_type": "code",
   "execution_count": 10,
   "metadata": {
    "collapsed": true
   },
   "outputs": [],
   "source": [
    "import keras.backend as K\n",
    "\n",
    "\n",
    "K.clear_session()"
   ]
  },
  {
   "cell_type": "markdown",
   "metadata": {},
   "source": [
    "### Часть 4 [1 балл] Оптимизация гиперпарметров\n",
    "\n",
    "В эксперименте участвуют следующие гиперпараметры:\n",
    "* $k$ – размер окна;\n",
    "* $n_h$ – число нейронов на скрытом слое;\n",
    "* $\\theta$ – вид функции активации.\n",
    "\n",
    "Оцените их влияние на качество модели. Как увеличение окна или числа нейронов влияет на итоговый показатель качества? Зависит ли итоговый показатель качества от функции активации на скрытом слое? "
   ]
  },
  {
   "cell_type": "code",
   "execution_count": 11,
   "metadata": {},
   "outputs": [
    {
     "name": "stdout",
     "output_type": "stream",
     "text": [
      "ExperimentParams(window_size=1, hidden_layer_units=64, hidden_layer_activation='relu')\n",
      "Metrics(acc=0.93457234142849666, val_acc=0.92651925457115014)\n",
      "\n",
      "ExperimentParams(window_size=1, hidden_layer_units=64, hidden_layer_activation='tanh')\n",
      "Metrics(acc=0.93447631684793797, val_acc=0.93046058233337137)\n",
      "\n",
      "ExperimentParams(window_size=1, hidden_layer_units=128, hidden_layer_activation='relu')\n",
      "Metrics(acc=0.93812234114028803, val_acc=0.93176850624555618)\n",
      "\n",
      "ExperimentParams(window_size=1, hidden_layer_units=128, hidden_layer_activation='tanh')\n",
      "Metrics(acc=0.93745307889867613, val_acc=0.93005679374303241)\n",
      "\n",
      "ExperimentParams(window_size=1, hidden_layer_units=256, hidden_layer_activation='relu')\n",
      "Metrics(acc=0.93987988197844641, val_acc=0.9327340876572362)\n",
      "\n",
      "ExperimentParams(window_size=1, hidden_layer_units=256, hidden_layer_activation='tanh')\n",
      "Metrics(acc=0.93770623461563063, val_acc=0.9315578339375532)\n",
      "\n",
      "ExperimentParams(window_size=1, hidden_layer_units=512, hidden_layer_activation='relu')\n",
      "Metrics(acc=0.94015631638201735, val_acc=0.93200551259205944)\n",
      "\n",
      "ExperimentParams(window_size=1, hidden_layer_units=512, hidden_layer_activation='tanh')\n",
      "Metrics(acc=0.93651611176270888, val_acc=0.93137349566805072)\n",
      "\n",
      "ExperimentParams(window_size=3, hidden_layer_units=64, hidden_layer_activation='relu')\n",
      "Metrics(acc=0.97066885486320864, val_acc=0.9477971576794445)\n",
      "\n",
      "ExperimentParams(window_size=3, hidden_layer_units=64, hidden_layer_activation='tanh')\n",
      "Metrics(acc=0.97224598588147659, val_acc=0.9481307221671158)\n",
      "\n",
      "ExperimentParams(window_size=3, hidden_layer_units=128, hidden_layer_activation='relu')\n",
      "Metrics(acc=0.97821405916278203, val_acc=0.95172092941599884)\n",
      "\n",
      "ExperimentParams(window_size=3, hidden_layer_units=128, hidden_layer_activation='tanh')\n",
      "Metrics(acc=0.97916266564240451, val_acc=0.95007066300330933)\n",
      "\n",
      "ExperimentParams(window_size=3, hidden_layer_units=256, hidden_layer_activation='relu')\n",
      "Metrics(acc=0.98143524742611543, val_acc=0.95237050236567444)\n",
      "\n",
      "ExperimentParams(window_size=3, hidden_layer_units=256, hidden_layer_activation='tanh')\n",
      "Metrics(acc=0.98217434572341433, val_acc=0.95034278140114636)\n",
      "\n",
      "ExperimentParams(window_size=3, hidden_layer_units=512, hidden_layer_activation='relu')\n",
      "Metrics(acc=0.98262537027660901, val_acc=0.95374865038052681)\n",
      "\n",
      "ExperimentParams(window_size=3, hidden_layer_units=512, hidden_layer_activation='tanh')\n",
      "Metrics(acc=0.98045172291379323, val_acc=0.95139614294116093)\n",
      "\n",
      "ExperimentParams(window_size=5, hidden_layer_units=64, hidden_layer_activation='relu')\n",
      "Metrics(acc=0.97628774784665406, val_acc=0.94292536055687715)\n",
      "\n",
      "ExperimentParams(window_size=5, hidden_layer_units=64, hidden_layer_activation='tanh')\n",
      "Metrics(acc=0.97974463280781698, val_acc=0.94389094196855716)\n",
      "\n",
      "ExperimentParams(window_size=5, hidden_layer_units=128, hidden_layer_activation='relu')\n",
      "Metrics(acc=0.98423450948897462, val_acc=0.94887685325795945)\n",
      "\n",
      "ExperimentParams(window_size=5, hidden_layer_units=128, hidden_layer_activation='tanh')\n",
      "Metrics(acc=0.98708032892922937, val_acc=0.94768304351260957)\n",
      "\n",
      "ExperimentParams(window_size=5, hidden_layer_units=256, hidden_layer_activation='relu')\n",
      "Metrics(acc=0.98756045183930719, val_acc=0.94811316614144892)\n",
      "\n",
      "ExperimentParams(window_size=5, hidden_layer_units=512, hidden_layer_activation='relu')\n",
      "Metrics(acc=0.98849159930396724, val_acc=0.94841161857778633)\n",
      "\n",
      "ExperimentParams(window_size=5, hidden_layer_units=512, hidden_layer_activation='tanh')\n",
      "Metrics(acc=0.98673987813746311, val_acc=0.94755137332010775)\n",
      "\n",
      "ExperimentParams(window_size=7, hidden_layer_units=64, hidden_layer_activation='relu')\n",
      "Metrics(acc=0.97708504286326925, val_acc=0.94000228228333671)\n",
      "\n",
      "ExperimentParams(window_size=7, hidden_layer_units=64, hidden_layer_activation='tanh')\n",
      "Metrics(acc=0.98211323917243354, val_acc=0.94147698843935712)\n",
      "\n",
      "ExperimentParams(window_size=7, hidden_layer_units=128, hidden_layer_activation='relu')\n",
      "Metrics(acc=0.98624520604547494, val_acc=0.94320625696754767)\n",
      "\n",
      "ExperimentParams(window_size=7, hidden_layer_units=128, hidden_layer_activation='tanh')\n",
      "Metrics(acc=0.98756045184069474, val_acc=0.94365393562205391)\n",
      "\n",
      "ExperimentParams(window_size=7, hidden_layer_units=256, hidden_layer_activation='relu')\n",
      "Metrics(acc=0.98867782879689925, val_acc=0.9458221047919172)\n",
      "\n",
      "ExperimentParams(window_size=7, hidden_layer_units=256, hidden_layer_activation='tanh')\n",
      "Metrics(acc=0.98769430428735205, val_acc=0.9435047094038852)\n",
      "\n",
      "ExperimentParams(window_size=7, hidden_layer_units=512, hidden_layer_activation='relu')\n",
      "Metrics(acc=0.98918123039498107, val_acc=0.94758648537144163)\n",
      "\n",
      "ExperimentParams(window_size=7, hidden_layer_units=512, hidden_layer_activation='tanh')\n",
      "Metrics(acc=0.98573889461156605, val_acc=0.94589232889458486)\n",
      "\n"
     ]
    }
   ],
   "source": [
    "# Перебираем параметры по сетке.\n",
    "# Для каждого набора параметров (при изменении размера окна)\n",
    "# заново генерируем обучающую и тестовую выборки,\n",
    "# обучаем сеть и сохраняем accuracy с последней эпохи в словарь RESULTS.\n",
    "import itertools\n",
    "\n",
    "window_sizes = [1, 3, 5, 7]\n",
    "hidden_layer_units_counts = [64, 128, 256, 512]\n",
    "hidden_layer_activations = ['relu', 'tanh']\n",
    "\n",
    "for window_size in window_sizes:\n",
    "    words_train, tags_train = prepare_data(sentences_train, window_size, fasttext_model, pos_tag_to_num)\n",
    "    words_test, tags_test = prepare_data(sentences_test, window_size, fasttext_model, pos_tag_to_num)\n",
    "\n",
    "    for hidden_layer_units, hidden_layer_activation in itertools.product(hidden_layer_units_counts,\n",
    "                                                                         hidden_layer_activations):\n",
    "        params = ExperimentParams(window_size, hidden_layer_units, hidden_layer_activation)\n",
    "        if params == PARAMS_INIT:\n",
    "            continue\n",
    "        classifier = create_classifier_model((window_size,),\n",
    "                                             hidden_layer_units,\n",
    "                                             hidden_layer_activation,\n",
    "                                             len(pos_tag_to_num),\n",
    "                                             fasttext_model)\n",
    "        classifier.compile(loss='categorical_crossentropy', optimizer='adam', metrics=['accuracy'])\n",
    "        metrics = train_model(classifier, (words_train, tags_train), (words_test, tags_test),\n",
    "                              epochs=10, name=make_experiment_name(params), verbose=0)\n",
    "        RESULTS[params] = metrics\n",
    "        print(params)\n",
    "        print(metrics)\n",
    "        print()\n",
    "        K.clear_session()"
   ]
  },
  {
   "cell_type": "code",
   "execution_count": null,
   "metadata": {
    "collapsed": true
   },
   "outputs": [],
   "source": []
  },
  {
   "cell_type": "markdown",
   "metadata": {},
   "source": [
    "### Часть 5 [2 балла] Анализ ошибок\n",
    "1. Привидите примеры из тестового множества, на которых нейронная сеть ошибается. Объясните, почему возникают ошибки.\n",
    "2. Протестируйте нейронную сеть на произвольном предложении (не из тестовых данных). Возникают ли ошибки? Почему?"
   ]
  }
 ],
 "metadata": {
  "kernelspec": {
   "display_name": "Python 3",
   "language": "python",
   "name": "python3"
  },
  "language_info": {
   "codemirror_mode": {
    "name": "ipython",
    "version": 3
   },
   "file_extension": ".py",
   "mimetype": "text/x-python",
   "name": "python",
   "nbconvert_exporter": "python",
   "pygments_lexer": "ipython3",
   "version": "3.6.2"
  }
 },
 "nbformat": 4,
 "nbformat_minor": 2
}
