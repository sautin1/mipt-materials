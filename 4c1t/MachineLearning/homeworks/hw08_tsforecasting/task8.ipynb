{
 "cells": [
  {
   "cell_type": "markdown",
   "metadata": {},
   "source": [
    "МФТИ ФИВТ: Курс Машинное Обучение (осень, 2016), Алексей Романенко, alexromsput@gmail.com"
   ]
  },
  {
   "cell_type": "markdown",
   "metadata": {},
   "source": [
    "<h1 align=\"center\">Organization Info</h1> "
   ]
  },
  {
   "cell_type": "markdown",
   "metadata": {},
   "source": [
    "**Дополнительный материал для выполнения дз**:\n",
    "- Лукишн Ю.П. Адаптивные методы краткосрочного прогнозирования временных рядов. Финансы и статистика. 2003, главы 1,4,5,7.\n",
    "- Магнус Я.Р., Катышев П.К., Пересецкий А.А. Эконометрика. Начальный курс., глава 11\n",
    "\n",
    "**Оформление дз**: \n",
    "- Присылайте выполненное задание на почту ``ml.course.mipt@gmail.com``\n",
    "- Укажите тему письма в следующем формате ``ML2016_fall <номер_группы> <фамилия>``, к примеру -- ``ML2016_fall 401 ivanov``\n",
    "- Выполненное дз сохраните в файл ``<фамилия>_<группа>_task<номер>.ipnb``, к примеру -- ``ivanov_401_task1.ipnb``\n",
    "\n",
    "**Вопросы**:\n",
    "- Присылайте вопросы на почту ``ml.course.mipt@gmail.com``\n",
    "- Укажите тему письма в следующем формате ``ML2016_fall Question <Содержание вопроса>``\n",
    "\n",
    "--------\n",
    "- **PS1**: Мы используем автоматические фильтры, и просто не найдем ваше дз, если вы не аккуратно его подпишите.\n",
    "- **PS2**: Напоминаем, что дедлайны жесткие, письма пришедшие после автоматически удаляются =( чтобы соблазна не было "
   ]
  },
  {
   "cell_type": "markdown",
   "metadata": {},
   "source": [
    "<h1 align=\"center\">Check Questions</h1> "
   ]
  },
  {
   "cell_type": "markdown",
   "metadata": {},
   "source": [
    "Ответе на вопросы своими словами (загугленный материал надо пересказать), ответ обоснуйте (напишите и ОБЪЯСНИТЕ формулки если потребуется), если не выходит, то вернитесь к лекции дополнительным материалам:\n",
    "\n",
    "**Вопрос 1**: Опишите, как изменяется адаптивная способность алгоритма ЭСС при изменении параметра $\\alpha$ от 0 до 1.\n",
    "\n",
    "При применении экспоненциального сглаживания к временному ряду $x_t$ строится такой временной ряд:\n",
    "$s_0 = x_0$, $s_t = \\alpha x_t + (1 - \\alpha) s_{t-1}$.\n",
    "\n",
    "Если $\\alpha$ близко к 0, то ряд $x_t$ сглаживается сильно, в новом ряду $s_t$ слабо учитываются последние изменения в данных.  \n",
    "При увеличении $\\alpha$ к 1, ряд $x_t$ сглаживается слабее, в новом ряду $s_t$ все сильней и сильней учитываются последние (самые недавние по времени) изменения в данных.\n",
    "\n",
    "**Вопрос 2**: Каким следует выбрать параметр сглаживания тренда $\\alpha_2$ в модели Хольта (линейный тренд) в случае, когда вы предсказываете временной ряд 1) с плавно меняющимя трендом; 2) стохастически меняющися трендом?\n",
    "\n",
    "$s_{t+d} = a_t + d\\cdot b_t$, где $a_t$ --- экспоненциальное сглаживание, а $b_t$ --- параметр тренда:    \n",
    "$a_t = \\alpha_1 y_t + (1-\\alpha_1)(a_{t-1} - b_{t-1})$,  \n",
    "$b_t = \\alpha_2 (a_t - a_{t-1}) + (1-\\alpha_2)b_{t-1}$.\n",
    "\n",
    "Из формул видно, что при стремлении $\\alpha_2$ к 0 происходит сильное сглаживание тренда, а при стремлении $\\alpha_2$ к 1 --- слабое. Следовательно в случае с плавно меняющимся трендом стоит выбирать малые значения $\\alpha_2$, а в случае стохастически меняющегося тренда --- большие значения.\n",
    "\n",
    "**Вопрос 3**: Выпишите формулу временного ряда, соответствующих следующим ARIMA моделям\n",
    "  \n",
    "  1) ARIMA $(p=0,q=1,d=s)$\n",
    "  \n",
    "  2) ARIMA $(p=0,q=s+1,d=1)(P=1, Q=0, D=1)$\n",
    "\n",
    "<Ответ>\n",
    "\n",
    "**Вопрос 4**:  Приведите пример такой модели типа ЭС (экспоненциальное сглаживание), которой нет эквивалента среди семейства ARIMA. \n",
    "\n",
    "**Вопрос 5**:  В чем принципиальное отличие между адаптивной композицей и адаптивной селективной моделью прогнозирования?\n",
    "В какие случаях предполчительнее использовать адаптивную селекцию нежели адаптивную композцию?\n",
    "\n",
    "<Ответ>\n",
    "\n",
    "**Вопрос 6**: Что такое hold-out период и out-of-sample период?\n",
    "\n",
    "Это аналог валидационной (hold-out / validation period) и тестовой (out-of-sample / test period) выборок в машинном обучении в приложении к временным рядам. Валидационная выборка используется для подбора наилучшей модели прогнозирования, а тестовая --- для оценки точности ее предсказания.\n",
    "Ряды накладывают на привычное разбиение исходной выборки ограничение: hold-out период должен идти позже по времени, чем estimation период (на котором происходит обучение), а out-of-sample --- позже, чем hold-out.  \n",
    "\n",
    "** Вопрос 7**: Опишите, что такое автокорреляционная функция и частная автокорреляционная функция.\n",
    "Зачем они нужны?\n",
    "\n",
    "-----------\n",
    "PS: Если проверяющий не понял ответ на большинство вопросов, то будет пичалька. Пишите так, чтобы можно было разобраться. "
   ]
  },
  {
   "cell_type": "markdown",
   "metadata": {
    "collapsed": true
   },
   "source": [
    "<h1 align=\"center\">Оценка точности моделей прогнозирования</h1> "
   ]
  },
  {
   "cell_type": "markdown",
   "metadata": {},
   "source": [
    "Задача 1\n",
    "\n",
    "    Приведите пример временного ряда и модели прогнозирования, когда оценка точности прогнозирования на hold-out (validation set) периоде будет завышена по сравнению с точностью на периоде out-of-sample (test Set).\n",
    "**<Решение>**"
   ]
  },
  {
   "cell_type": "markdown",
   "metadata": {},
   "source": [
    "<h1 align=\"center\">Реализация модели Уинтерса</h1>\n",
    "Нужно реализовать модель Уинтерса c аддитивныой сезонностью, применить её для прогнозирования временных рядов\n"
   ]
  },
  {
   "cell_type": "markdown",
   "metadata": {},
   "source": [
    "<h2 align=\"left\">Анализ временных рядов</h2>\n",
    "\n",
    "* Отобразите интегральные продажи в departure 36 и убедитесь, что нет чёткой выраженной сезонности.\n",
    "* Чему равен минимальный период сезонности во временных рядах departre 42?\n",
    "* Чётко ли видна сезонность в интегральных продажах для departure 6?"
   ]
  },
  {
   "cell_type": "markdown",
   "metadata": {},
   "source": [
    "#### Данные\n",
    "    * TS_dep36.csv - временные ряды продаж в departure 36 (только ряды с сезонной компонентой)\n",
    "    * TS_dep42.csv - врeменные ряды продаж в departure 42 (только ряды без сезонности)\n",
    "    * TS_dep6.csv - как сезонные, так и НЕсезонные временные ряды продаж в departure 6"
   ]
  },
  {
   "cell_type": "code",
   "execution_count": null,
   "metadata": {
    "collapsed": true
   },
   "outputs": [],
   "source": [
    "import pandas as pd\n",
    "import numpy as np\n",
    "from utils import qualityRMSE, qualityMedianAE\n",
    "from utils import ExponentialSmoothing\n",
    "\n",
    "%matplotlib inline\n",
    "\n",
    "\n",
    "ts = pd.read_csv('./data/TS_dep36.csv', sep=???, decimal=???, index_col=???, parse_dates=True, dayfirst=True)\n",
    "\n",
    "# Постройте несколько картинок для каждого из departure, чтобы ответить на вопросы\n",
    "ts.sum(???).plot(figsize=(15,3))"
   ]
  },
  {
   "cell_type": "code",
   "execution_count": null,
   "metadata": {
    "collapsed": true
   },
   "outputs": [],
   "source": [
    "# Winters Exponential Smoothing\n",
    "# x <array Tx1>- time series, \n",
    "# h <scalar> - forecasting delay\n",
    "# Params <dict> - dictionary with \n",
    "#    alpha <scalar in [0,1]> - smoothing parameter\n",
    "#    delts <scalar in [0,1]> - seasonality smoothing parameter\n",
    "\n",
    "def WintersExponentialSmoothing(x, h, Params):\n",
    "    T = len(x)\n",
    "    alpha = Params['alpha']\n",
    "    delta = Params['delta']\n",
    "    s = Params['seasonality_period']\n",
    "    \n",
    "    FORECAST = ## здесь храните прогнозы\n",
    "    \n",
    "    a= # инициализируйте значение\n",
    "    b= # инициализируйте значение (это должен быть векотор длины s)\n",
    "    y = # инициализируйте значение\n",
    "    \n",
    "    for cntr in range(T):\n",
    "        if not math.isnan(x[cntr]):\n",
    "            if math.isnan(y):\n",
    "                y= # инициализируйте значение\n",
    "            \n",
    "            a = # реализуйте формулу рекуррентного пересчёта\n",
    "            b[cntr % s] = # реализуйте формулу рекуррентного пересчёта\n",
    "            \n",
    "            #else do not nothing\n",
    "        FORECAST[cntr+h] = a + b[cntr+h % s]\n",
    "    return FORECAST"
   ]
  },
  {
   "cell_type": "markdown",
   "metadata": {},
   "source": [
    "<h2 align=\"left\">Проверка на адеквантность</h2>\n",
    "\n",
    "* Проверку лучше всего проводить на данных для departure 6\n",
    "* Постройте картинку по соответствию суммы прогнозов сумме значений всех временных рядо\n",
    "* Оцените интегральную точность предсказаний на всех временных рядах по всей истории по qualityMedianAE: ошибка не должна быть сильно больше, чем среднеe значение одного временного ряда "
   ]
  },
  {
   "cell_type": "code",
   "execution_count": null,
   "metadata": {
    "collapsed": true
   },
   "outputs": [],
   "source": [
    "# Прогноз на 1 шаг вперёд\n",
    "h = 1\n",
    "rng = pd.date_range(ts.index[-1]+timedelta(1), ts.index[-1]+timedelta(h))\n",
    "\n",
    "w_frc_ts = pd.DataFrame(index = ts.index.append(rng), columns = ts.columns)\n",
    "#     Quality = [np.NaN]*len(ts)\n",
    "for cntr in ts.columns:\n",
    "    w_frc_ts[cntr] = WintersExponentialSmoothing(ts[cntr], h, {'alpha':0.1, 'delta': 0.3})\n",
    "    "
   ]
  },
  {
   "cell_type": "code",
   "execution_count": null,
   "metadata": {
    "collapsed": false
   },
   "outputs": [],
   "source": [
    "# Визуальная проверка прогноза на адекватность\n",
    "ts_num = 0\n",
    "ts.sum(axis=???).ix['2005-05-12':'2006-06-10'].plot(style='b', linewidth=1.0, marker='o')\n",
    "frc_tssum(axis=???).ix['2005-05-12':'2006-06-10'].plot(style='r-^', figsize=(15,5), linewidth=1.0)\n",
    "plt.xlabel(\"Time ticks\")\n",
    "plt.ylabel(\"TS values\")\n",
    "# plt.legend()"
   ]
  },
  {
   "cell_type": "code",
   "execution_count": null,
   "metadata": {
    "collapsed": true
   },
   "outputs": [],
   "source": [
    "# анализ точности предсказаний\n",
    "QualityStr = pd.DataFrame(index = ts.columns, columns = ['WinterES'])\n",
    "\n",
    "# Quality through 1500 steps\n",
    "ix = range(len(ts.index))\n",
    "QualityStr= qualityMedianAE(ts.ix[ix], w_frc_ts.ix[ix])\n",
    "\n",
    "QualityStr[sorted(QualityStr.columns)].plot(figsize = (15,7), linewidth=3.0)"
   ]
  },
  {
   "cell_type": "code",
   "execution_count": null,
   "metadata": {
    "collapsed": false
   },
   "outputs": [],
   "source": [
    "# Сравните точность предсказаний по каждому временному ряду с его средним значением\n"
   ]
  },
  {
   "cell_type": "code",
   "execution_count": 2,
   "metadata": {
    "collapsed": true
   },
   "outputs": [],
   "source": [
    "# Оцените точность предсказаний на первых 100 отсчётах каждого временного ряда\n"
   ]
  },
  {
   "cell_type": "code",
   "execution_count": null,
   "metadata": {
    "collapsed": true
   },
   "outputs": [],
   "source": [
    "# подберите оптимальное значение параметров \\alpha и \\delta на данных по departure 36\n"
   ]
  },
  {
   "cell_type": "markdown",
   "metadata": {
    "collapsed": true
   },
   "source": [
    "<h2 align=\"left\">Сравнение с простым экспоненциальным сглаживанием</h2> "
   ]
  },
  {
   "cell_type": "markdown",
   "metadata": {
    "collapsed": false
   },
   "source": [
    "* Сравните точность предсказаний по реализованной модели Уинтерса с точностью предсказаний простого экспоненциального сглажвания с alpha=0.1, AdaptationPeriod = 10\n",
    "       - на данных по departure 42\n",
    "       - на данных по departre 6\n",
    "\n",
    "  Замечание1: оптимальные параметры для модели Уинтерса подобраны на предыдущем шаге\n",
    "  Замечания2: quality function для оценки точности выберите сами\n",
    "  \n",
    "* Сравнивая точность прогнозов простого ЭС и прогнозов модели Уинтерса, определите для каждого ряда departre 6 обладает ли он сезонной компонентой или нет. Выпише номер сезонных временных рядов"
   ]
  },
  {
   "cell_type": "code",
   "execution_count": null,
   "metadata": {
    "collapsed": true
   },
   "outputs": [],
   "source": []
  },
  {
   "cell_type": "markdown",
   "metadata": {},
   "source": [
    "<h1 align=\"center\">Прогнозирование рядов электроэнергии</h1>"
   ]
  },
  {
   "cell_type": "markdown",
   "metadata": {},
   "source": [
    "<h2 align=\"left\">Данные</h2>\n",
    "* Временные ряды потребления электроэнергии energy_consumption.csv:\n",
    "    - целевая переменная - объемы электроэнергии, производимые на электростанции\n",
    "    - каждый временной ряд соответствует отдельному региону (Hub)\n",
    "    - временной шаг - день\n",
    "    - вспомогательные переменные (Temp1, Temp2 - температуры, Sunday, Saturday - разметка праздников, и др)"
   ]
  },
  {
   "cell_type": "markdown",
   "metadata": {},
   "source": [
    "** Задание**\n",
    "* Подберите наиболее оптимальные для прогнозирования объёмов электроэнергии параметры модели ARIMAX согласно следующему фреймворку:\n",
    "     - по временному ряду потребления электроэнергии в регионе 'Center' (брать данные до 01.01.2015) определите наборы возможных значений параметров p, d, q (около 3-5 вариантов для каждого параметра)\n",
    "         \n",
    "     - путем перебора значений параметров из предыдущего шага и добавляя или не добавляя все экзогенные переменные (\"Temp1\", \"Temp2\", \"Saturday\", \"Sunday\") определите оптимальную концигурацию параметров. В качестве hold-out пеприода использовать период с 01.01.2015 по 30.04.2015."
   ]
  },
  {
   "cell_type": "code",
   "execution_count": 4,
   "metadata": {
    "collapsed": true
   },
   "outputs": [],
   "source": [
    "import statsmodels.api as sm\n",
    "from scipy import stats"
   ]
  },
  {
   "cell_type": "code",
   "execution_count": null,
   "metadata": {
    "collapsed": true
   },
   "outputs": [],
   "source": [
    "# считайте данные energy_consumption в структуру pandas\n",
    "energy_ts = pd.read_csv('./data/energy_consump.csv', sep=',', decimal='.', parse_dates=True, dayfirst=True, index_col='Date')\n",
    "energy_ts.index.names=['Timestamp']"
   ]
  },
  {
   "cell_type": "code",
   "execution_count": null,
   "metadata": {
    "collapsed": true
   },
   "outputs": [],
   "source": [
    "#  выделите периоды для настройки параметров, для выбора лучшей модели, для оценки точности\n",
    "train_ts = energy_ts[energy_ts.index<'2015-01-01']\n",
    "valid_ts = energy_ts[energy_ts.index<'2015-05-01']\n",
    "extra_ts = energy_ts[energy_ts.index>='2015-05-01']\n",
    "\n",
    "\n",
    "# для train и validation нужно исключить NaN\n",
    "train_ts[['EnergyConsump','Temp1', 'Temp2', 'Saturday','Sunday']].dropna(inplace = True)\n",
    "valid_ts[['EnergyConsump','Temp1', 'Temp2', 'Saturday','Sunday']].dropna(inplace = True)\n",
    "\n",
    "# для extra_ts NaN в экзогенных переменных нужно заменить на последнее не NaN значение\n",
    "extra_ts[['EnergyConsump','Temp1', 'Temp2', 'Saturday','Sunday']].dropna(???)\n"
   ]
  },
  {
   "cell_type": "markdown",
   "metadata": {},
   "source": [
    "<h2 align=\"left\">Выбор значений параметров p, q, d</h2>"
   ]
  },
  {
   "cell_type": "code",
   "execution_count": null,
   "metadata": {
    "collapsed": true
   },
   "outputs": [],
   "source": [
    "# Данные для региона Center\n",
    "dta = train_ts[(energy_ts['ZSP']=='FZSZOE27') & (energy_ts['Hub']=='Center')]"
   ]
  },
  {
   "cell_type": "code",
   "execution_count": null,
   "metadata": {
    "collapsed": false
   },
   "outputs": [],
   "source": [
    "# Проанализируйте:  автокорреляционной функции (ACF) и частной коррелационной функции (PACF) для исходного временного ряда\n",
    "# Стационарен ли он?\n",
    "# Если нет, тогда постройте ARIMA модель с d>0, глядя на ACF и PACF регрессионных остатков модели ARIMA, примите решение, стоит ли увеличивать d\n",
    "\n",
    "# Use energy data\n",
    "fig = plt.figure(figsize=(12,8))\n",
    "ax1 = fig.add_subplot(211)\n",
    "fig = sm.graphics.tsa.plot_acf(???, lags=40, ax=ax1)\n",
    "ax2 = fig.add_subplot(212)\n",
    "fig = sm.graphics.tsa.plot_pacf(???, lags=40, ax=ax2)"
   ]
  },
  {
   "cell_type": "markdown",
   "metadata": {},
   "source": [
    "<h2 align=\"left\">Настройка модели ARIMAX</h2>"
   ]
  },
  {
   "cell_type": "code",
   "execution_count": null,
   "metadata": {
    "collapsed": true
   },
   "outputs": [],
   "source": [
    "# Для выбора лучше модели используйте validation период\n",
    "Region = valid_ts.groupby('Hub') \n",
    "\n",
    "Quality = pd.DataFrame(index = - модели, columns = временные ряды ) - сюда положите ошибку предсказаний RMSE каждой модели по каждому временному ряду \n",
    "\n",
    "for p in ???:\n",
    "    for q in???:\n",
    "        for d in ???\n",
    "            for reg in Region:\n",
    "                for ...:\n",
    "                    \n",
    "                    ts = ???\n",
    "                    arimax_mod = sm.tsa.ARIMA(ts, (p=?,d=?q=?), exog=?).fit()\n",
    "                    frc_ts = arimax_mod.predict(start='2015-01-01', end='2015-04-30', ax=ax)\n",
    "                    Quality[???][???] = qualityRMSE(ts.ix[???], frc_ts.ix[???])\n"
   ]
  },
  {
   "cell_type": "code",
   "execution_count": null,
   "metadata": {
    "collapsed": true
   },
   "outputs": [],
   "source": [
    "# здесь выведите лучший набор параметров\n",
    "Quality.mean().sort_values()"
   ]
  },
  {
   "cell_type": "markdown",
   "metadata": {
    "collapsed": true
   },
   "source": [
    "<h1 align=\"center\">Bonus part</h1> "
   ]
  },
  {
   "cell_type": "markdown",
   "metadata": {},
   "source": [
    "Это удвоит баллы за дз.\n",
    "\n",
    "- Реализуйте алгоритм адаптивной селекции или адаптивной композиции  \n",
    "- Подберите параметры реализованной композиции так, чтобы для данных из departure 6 прогноз композии был точнее, чем прогноз отдельного базового алгоритма на всех временных рядах "
   ]
  },
  {
   "cell_type": "code",
   "execution_count": null,
   "metadata": {
    "collapsed": true
   },
   "outputs": [],
   "source": []
  }
 ],
 "metadata": {
  "anaconda-cloud": {},
  "kernelspec": {
   "display_name": "Python [default]",
   "language": "python",
   "name": "python2"
  },
  "language_info": {
   "codemirror_mode": {
    "name": "ipython",
    "version": 2
   },
   "file_extension": ".py",
   "mimetype": "text/x-python",
   "name": "python",
   "nbconvert_exporter": "python",
   "pygments_lexer": "ipython2",
   "version": "2.7.12"
  }
 },
 "nbformat": 4,
 "nbformat_minor": 0
}
