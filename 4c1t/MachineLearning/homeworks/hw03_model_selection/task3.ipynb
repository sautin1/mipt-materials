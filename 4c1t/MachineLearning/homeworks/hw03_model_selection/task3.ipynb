{
 "cells": [
  {
   "cell_type": "markdown",
   "metadata": {},
   "source": [
    "<h1 align=\"center\">Оценка качества моделей и отбор признаков</h1>"
   ]
  },
  {
   "cell_type": "markdown",
   "metadata": {},
   "source": [
    "МФТИ ФИВТ: Курс Машинное Обучение (осень, 2016), Зухба Анастасия, a__l@mail.ru"
   ]
  },
  {
   "cell_type": "markdown",
   "metadata": {},
   "source": [
    "<h1 align=\"center\">Organization Info</h1> "
   ]
  },
  {
   "cell_type": "markdown",
   "metadata": {},
   "source": [
    "**Дополнительный материал для выполнения дз**:\n",
    "\n",
    "\n",
    "\n",
    "**Оформление дз**: \n",
    "- Присылайте выполненное задание на почту ``ml.course.mipt@gmail.com``\n",
    "- Укажите тему письма в следующем формате ``ML2016_fall <номер_группы> <фамилия>``, к примеру -- ``ML2016_fall 401 ivanov``\n",
    "- Выполненное дз сохраните в файл ``<фамилия>_<группа>_task<номер>.ipnb``, к примеру -- ``ivanov_401_task1.ipnb``\n",
    "\n",
    "**Вопросы**:\n",
    "- Присылайте вопросы на почту ``ml.course.mipt@gmail.com``\n",
    "- Укажите тему письма в следующем формате ``ML2016_fall Question <Содержание вопроса>``\n",
    "\n",
    "--------\n",
    "- **PS1**: Мы используем автоматические фильтры, и просто не найдем ваше дз, если вы не аккуратно его подпишите.\n",
    "- **PS2**: Напоминаем, что дедлайны жесткие, письма пришедшие после автоматически удаляются =( чтобы соблазна не было "
   ]
  },
  {
   "cell_type": "markdown",
   "metadata": {},
   "source": [
    "<h1 align=\"center\">Check Questions</h1> "
   ]
  },
  {
   "cell_type": "markdown",
   "metadata": {},
   "source": [
    "Ответе на вопросы своими словами (загугленный материал надо пересказать), ответ обоснуйте (напишите и ОБЪЯСНИТЕ формулки если потребуется), если не выходит, то вернитесь к лекции дополнительным материалам:\n",
    "\n",
    "**Вопрос 1**: В каких ситуациях полезно использовать AUC-ROC?\n",
    "\n",
    "__Ответ__. AUC-ROC используется в задачах бинарной классификации и бывает полезна в случаях сбалансированных выборок (когда количество объектов положительного класса близко к количеству объектов отрицательного класса).\n",
    "\n",
    "**Вопрос 2**: Когда использование precision/recall предпочтительнее, чем AUC-ROC?\n",
    "\n",
    "__Ответ__. Использование AUC-PRC предпочтительнее, когда классы в выборке несбалансированны.\n",
    "\n",
    "**Вопрос 3**: Для чего используются внутренние критерии, а для чего внешние?\n",
    "\n",
    "__Ответ__. Внутренние критерии характеризуют качество на данных, которые участвовали в обучении алгоритма, внешние --- качество на новых данных.  \n",
    "Внутренние критерии используют для подбора параметров выбранной модели алгоритмов (например, веса при признаках в линейной модели).  \n",
    "Внешние критерии используют, чтобы находить оптимальную сложность модели, в частности, выбирать гиперпараметры (например, оптимальную максимальную глубину решающего дерева, оптимальное количество базовых алгоритмов в композиции и т.п.), и оценивать, насколько хорошо построенный алгоритм работает на реальных новых данных.\n",
    "\n",
    "**Вопрос 4**: Чем эмпирические критерии отличаются от аналитических?\n",
    "\n",
    "__Ответ__. Как я понимаю, в вычислении эмпирических критериев всегда участвует выборка, в то время как аналитические критерии не зависят от конкретной выборки. На конкретном примере: любая оценка по кросс-валидации делается на основе выборки и некоего ее разбиения, поэтому кросс-валидация относится к эмпирическим внешним критериям. В свою очередь, контроль сложности алгоритма с помощью регуляризации осуществляется без участия выборки (штраф за сложность алгоритма не зависит от выборки), поэтому относится к аналитическим внешним критериям.\n",
    "\n",
    "**Вопрос 5**: Что такое критерий регуляризации?\n",
    "\n",
    "__Ответ__. Это модификация внутреннего критерия путем добавления к нему регуляризатора (\"штрафа\") за сложность модели, домноженного на некоторый коэффициент $\\lambda$ --- коэффициент регуляризации. Такие критерии позволяют бороться с переобучением, т.к. препятствуют построению слишком сложной модели. При работе с линейными моделями наиболее популярными регуляризаторами являются:  \n",
    "* $L_1$-регуляризатор (лассо, lasso) --- сумма абсолютных значений весов $w_i$ перед признаками:\n",
    "$\\tilde{Q}(w, X) = Q(w, X) + \\lambda \\sum\\limits_{i=1}^d |w_i|$.\n",
    "\n",
    "* $L_2$-регуляризатор (гребневый, ridge) --- сумма квадратов значений весов $w_i$ перед признаками:\n",
    "$\\tilde{Q}(w, X) = Q(w, X) + \\lambda \\sum\\limits_{i=1}^d w_i^2$."
   ]
  },
  {
   "cell_type": "markdown",
   "metadata": {
    "collapsed": true
   },
   "source": [
    "# Определение спама по тексту электронного письма"
   ]
  },
  {
   "cell_type": "markdown",
   "metadata": {
    "collapsed": true
   },
   "source": [
    "Попробуем при помощи моделей машинного обучения построить алгоритм, отделяющий спам от нормальной почты. Для экспериментов воспользуемся небольшим набором данных с UCI. Объекты в датасете соответствуют письмам, которые описаны признаками на основе текста письма, спам — положительный пример для классификации, хорошее письмо — отрицательный пример."
   ]
  },
  {
   "cell_type": "code",
   "execution_count": 1,
   "metadata": {
    "collapsed": false
   },
   "outputs": [
    {
     "name": "stdout",
     "output_type": "stream",
     "text": [
      "Populating the interactive namespace from numpy and matplotlib\n"
     ]
    }
   ],
   "source": [
    "%pylab inline"
   ]
  },
  {
   "cell_type": "markdown",
   "metadata": {
    "collapsed": true
   },
   "source": [
    "Загрузка датасета Spambase"
   ]
  },
  {
   "cell_type": "code",
   "execution_count": 2,
   "metadata": {
    "collapsed": false
   },
   "outputs": [
    {
     "data": {
      "text/html": [
       "<div>\n",
       "<table border=\"1\" class=\"dataframe\">\n",
       "  <thead>\n",
       "    <tr style=\"text-align: right;\">\n",
       "      <th></th>\n",
       "      <th>word_freq_make</th>\n",
       "      <th>word_freq_address</th>\n",
       "      <th>word_freq_all</th>\n",
       "      <th>word_freq_3d</th>\n",
       "      <th>word_freq_our</th>\n",
       "      <th>word_freq_over</th>\n",
       "      <th>word_freq_remove</th>\n",
       "      <th>word_freq_internet</th>\n",
       "      <th>word_freq_order</th>\n",
       "      <th>word_freq_mail</th>\n",
       "      <th>...</th>\n",
       "      <th>char_freq_;</th>\n",
       "      <th>char_freq_(</th>\n",
       "      <th>char_freq_[</th>\n",
       "      <th>char_freq_!</th>\n",
       "      <th>char_freq_$</th>\n",
       "      <th>char_freq_#</th>\n",
       "      <th>capital_run_length_average</th>\n",
       "      <th>capital_run_length_longest</th>\n",
       "      <th>capital_run_length_total</th>\n",
       "      <th>spam</th>\n",
       "    </tr>\n",
       "  </thead>\n",
       "  <tbody>\n",
       "    <tr>\n",
       "      <th>0</th>\n",
       "      <td>0.00</td>\n",
       "      <td>0.64</td>\n",
       "      <td>0.64</td>\n",
       "      <td>0.0</td>\n",
       "      <td>0.32</td>\n",
       "      <td>0.00</td>\n",
       "      <td>0.00</td>\n",
       "      <td>0.00</td>\n",
       "      <td>0.00</td>\n",
       "      <td>0.00</td>\n",
       "      <td>...</td>\n",
       "      <td>0.00</td>\n",
       "      <td>0.000</td>\n",
       "      <td>0.0</td>\n",
       "      <td>0.778</td>\n",
       "      <td>0.000</td>\n",
       "      <td>0.000</td>\n",
       "      <td>3.756</td>\n",
       "      <td>61</td>\n",
       "      <td>278</td>\n",
       "      <td>1</td>\n",
       "    </tr>\n",
       "    <tr>\n",
       "      <th>1</th>\n",
       "      <td>0.21</td>\n",
       "      <td>0.28</td>\n",
       "      <td>0.50</td>\n",
       "      <td>0.0</td>\n",
       "      <td>0.14</td>\n",
       "      <td>0.28</td>\n",
       "      <td>0.21</td>\n",
       "      <td>0.07</td>\n",
       "      <td>0.00</td>\n",
       "      <td>0.94</td>\n",
       "      <td>...</td>\n",
       "      <td>0.00</td>\n",
       "      <td>0.132</td>\n",
       "      <td>0.0</td>\n",
       "      <td>0.372</td>\n",
       "      <td>0.180</td>\n",
       "      <td>0.048</td>\n",
       "      <td>5.114</td>\n",
       "      <td>101</td>\n",
       "      <td>1028</td>\n",
       "      <td>1</td>\n",
       "    </tr>\n",
       "    <tr>\n",
       "      <th>2</th>\n",
       "      <td>0.06</td>\n",
       "      <td>0.00</td>\n",
       "      <td>0.71</td>\n",
       "      <td>0.0</td>\n",
       "      <td>1.23</td>\n",
       "      <td>0.19</td>\n",
       "      <td>0.19</td>\n",
       "      <td>0.12</td>\n",
       "      <td>0.64</td>\n",
       "      <td>0.25</td>\n",
       "      <td>...</td>\n",
       "      <td>0.01</td>\n",
       "      <td>0.143</td>\n",
       "      <td>0.0</td>\n",
       "      <td>0.276</td>\n",
       "      <td>0.184</td>\n",
       "      <td>0.010</td>\n",
       "      <td>9.821</td>\n",
       "      <td>485</td>\n",
       "      <td>2259</td>\n",
       "      <td>1</td>\n",
       "    </tr>\n",
       "    <tr>\n",
       "      <th>3</th>\n",
       "      <td>0.00</td>\n",
       "      <td>0.00</td>\n",
       "      <td>0.00</td>\n",
       "      <td>0.0</td>\n",
       "      <td>0.63</td>\n",
       "      <td>0.00</td>\n",
       "      <td>0.31</td>\n",
       "      <td>0.63</td>\n",
       "      <td>0.31</td>\n",
       "      <td>0.63</td>\n",
       "      <td>...</td>\n",
       "      <td>0.00</td>\n",
       "      <td>0.137</td>\n",
       "      <td>0.0</td>\n",
       "      <td>0.137</td>\n",
       "      <td>0.000</td>\n",
       "      <td>0.000</td>\n",
       "      <td>3.537</td>\n",
       "      <td>40</td>\n",
       "      <td>191</td>\n",
       "      <td>1</td>\n",
       "    </tr>\n",
       "    <tr>\n",
       "      <th>4</th>\n",
       "      <td>0.00</td>\n",
       "      <td>0.00</td>\n",
       "      <td>0.00</td>\n",
       "      <td>0.0</td>\n",
       "      <td>0.63</td>\n",
       "      <td>0.00</td>\n",
       "      <td>0.31</td>\n",
       "      <td>0.63</td>\n",
       "      <td>0.31</td>\n",
       "      <td>0.63</td>\n",
       "      <td>...</td>\n",
       "      <td>0.00</td>\n",
       "      <td>0.135</td>\n",
       "      <td>0.0</td>\n",
       "      <td>0.135</td>\n",
       "      <td>0.000</td>\n",
       "      <td>0.000</td>\n",
       "      <td>3.537</td>\n",
       "      <td>40</td>\n",
       "      <td>191</td>\n",
       "      <td>1</td>\n",
       "    </tr>\n",
       "  </tbody>\n",
       "</table>\n",
       "<p>5 rows × 58 columns</p>\n",
       "</div>"
      ],
      "text/plain": [
       "   word_freq_make  word_freq_address  word_freq_all  word_freq_3d  \\\n",
       "0            0.00               0.64           0.64           0.0   \n",
       "1            0.21               0.28           0.50           0.0   \n",
       "2            0.06               0.00           0.71           0.0   \n",
       "3            0.00               0.00           0.00           0.0   \n",
       "4            0.00               0.00           0.00           0.0   \n",
       "\n",
       "   word_freq_our  word_freq_over  word_freq_remove  word_freq_internet  \\\n",
       "0           0.32            0.00              0.00                0.00   \n",
       "1           0.14            0.28              0.21                0.07   \n",
       "2           1.23            0.19              0.19                0.12   \n",
       "3           0.63            0.00              0.31                0.63   \n",
       "4           0.63            0.00              0.31                0.63   \n",
       "\n",
       "   word_freq_order  word_freq_mail  ...   char_freq_;  char_freq_(  \\\n",
       "0             0.00            0.00  ...          0.00        0.000   \n",
       "1             0.00            0.94  ...          0.00        0.132   \n",
       "2             0.64            0.25  ...          0.01        0.143   \n",
       "3             0.31            0.63  ...          0.00        0.137   \n",
       "4             0.31            0.63  ...          0.00        0.135   \n",
       "\n",
       "   char_freq_[  char_freq_!  char_freq_$  char_freq_#  \\\n",
       "0          0.0        0.778        0.000        0.000   \n",
       "1          0.0        0.372        0.180        0.048   \n",
       "2          0.0        0.276        0.184        0.010   \n",
       "3          0.0        0.137        0.000        0.000   \n",
       "4          0.0        0.135        0.000        0.000   \n",
       "\n",
       "   capital_run_length_average  capital_run_length_longest  \\\n",
       "0                       3.756                          61   \n",
       "1                       5.114                         101   \n",
       "2                       9.821                         485   \n",
       "3                       3.537                          40   \n",
       "4                       3.537                          40   \n",
       "\n",
       "   capital_run_length_total  spam  \n",
       "0                       278     1  \n",
       "1                      1028     1  \n",
       "2                      2259     1  \n",
       "3                       191     1  \n",
       "4                       191     1  \n",
       "\n",
       "[5 rows x 58 columns]"
      ]
     },
     "execution_count": 2,
     "metadata": {},
     "output_type": "execute_result"
    }
   ],
   "source": [
    "import pandas as pd\n",
    "import urllib2\n",
    "\n",
    "SPAMBASE_NAMES_URL = 'https://archive.ics.uci.edu/ml/machine-learning-databases/spambase/spambase.names'\n",
    "SPAMBASE_DATA_URL = 'https://archive.ics.uci.edu/ml/machine-learning-databases/spambase/spambase.data'\n",
    "\n",
    "feature_names = [\n",
    "    line.strip().split(':')[0] \n",
    "    for line in urllib2.urlopen(SPAMBASE_NAMES_URL).readlines()[33:]\n",
    "]\n",
    "spam_data = pd.read_csv(SPAMBASE_DATA_URL, header=None, names=(feature_names + ['spam']))\n",
    " \n",
    "X, y = spam_data.ix[:, :-1].values, spam_data.ix[:, -1].values\n",
    " \n",
    "spam_data.head()"
   ]
  },
  {
   "cell_type": "markdown",
   "metadata": {
    "collapsed": true
   },
   "source": [
    "**Задание**\n",
    "- Сколько примеров писем в датасете?\n",
    "- Какова доля плохих писем?\n",
    "- Какие характерные группы признаков представлены в наборе?"
   ]
  },
  {
   "cell_type": "code",
   "execution_count": 3,
   "metadata": {
    "collapsed": false
   },
   "outputs": [
    {
     "name": "stdout",
     "output_type": "stream",
     "text": [
      "Примеров писем: 4601\n",
      "Доля плохих писем: 0.394044772875\n"
     ]
    }
   ],
   "source": [
    "print 'Примеров писем:', X.shape[0]\n",
    "print 'Доля плохих писем:', np.mean(y)"
   ]
  },
  {
   "cell_type": "code",
   "execution_count": 4,
   "metadata": {
    "collapsed": false
   },
   "outputs": [
    {
     "name": "stdout",
     "output_type": "stream",
     "text": [
      "Группа признаков №1 (48 / 57).\n",
      "Описание: Частота встречаемости конкретных слов в письмах.\n",
      "Названия: make, address, all, 3d, our, over, remove, internet, order, mail, receive, will, people, report, addresses, free, business, email, you, credit, your, font, 000, money, hp, hpl, george, 650, lab, labs, telnet, 857, data, 415, 85, technology, 1999, parts, pm, direct, cs, meeting, original, project, re, edu, table, conference.\n",
      "\n",
      "Группа признаков №2 (6 / 57).\n",
      "Описание: Частота встречаемости конкретных символов в письмах.\n",
      "Названия: ;, (, [, !, $, #.\n",
      "\n",
      "Группа признаков №3 (3 / 57).\n",
      "Описание: Различные статистики по заглавным буквам в письмах.\n",
      "Названия: length_average, length_longest, length_total.\n",
      "\n"
     ]
    }
   ],
   "source": [
    "for idx, (prefix, descr) in enumerate([('word_freq_', 'Частота встречаемости конкретных слов в письмах'), \n",
    "                                       ('char_freq_', 'Частота встречаемости конкретных символов в письмах'),\n",
    "                                       ('capital_run_', 'Различные статистики по заглавным буквам в письмах')]):\n",
    "    feature_group = filter(lambda feature: feature.startswith(prefix), feature_names)\n",
    "    print 'Группа признаков №{} ({} / {}).'.format(idx + 1, len(feature_group), X.shape[1])\n",
    "    print 'Описание:', descr + '.'\n",
    "    print 'Названия:', ', '.join(map(lambda feature: feature[len(prefix):], feature_group)) + '.'\n",
    "    print"
   ]
  },
  {
   "cell_type": "markdown",
   "metadata": {},
   "source": [
    "### Обучение классификатора и оценка его качества"
   ]
  },
  {
   "cell_type": "markdown",
   "metadata": {
    "collapsed": true
   },
   "source": [
    "Обучение и оценка качества модели производится на независимых множествах примеров. Как правило, имеющующиеся примеры разбивают на два подмножества: обучение (train) и контроль (test). Выбор пропорции разбиения — компромисс: большой размер обучения ведет к более богатым информацией и качественным алгоритмам, большой размер контрольной выборки ведет к менее шумной оценке качества.\n",
    "\n",
    "Для оценки качества классификации рассматривают матрицу ошибок: строчки соответствуют истинному классу, столбцы — предсказанному классификатором, ячейки содержат число примеров тестовой выборки.\n",
    "\n",
    "<img src=\"confusion_matrix.png\">"
   ]
  },
  {
   "cell_type": "markdown",
   "metadata": {
    "collapsed": true
   },
   "source": [
    "Диагональ матрицы ошибок содержит правильно классифицированные положительные (TP) и отрицательные (TN) примеры. False Positive (FP) — ошибки I рода (ложное срабатывание, положили в спам хорошее письмо), False Negative (FN) — ошибки II рода (не отфильтровали спам). Ошибки I и II рода могут иметь различную стоимость.\n",
    "\n",
    "Часто рассматриваются следующие метрики качества бинарной классификации:\n",
    "\n",
    "- Accuracy = (TP + TN) / (TP + TN + FP + FN) — доля правильных ответов\n",
    "- Precision = TP / (TP + FP) — точность, доля спама среди писем, классифицированных как спам\n",
    "- Recall = TP / (TP + FN) — полнота, доля спама, которая была отфильтрована\n",
    "- F1 = 2TP / (2TP + FP + FN) — среднее гармоническое между точностью и полнотой"
   ]
  },
  {
   "cell_type": "markdown",
   "metadata": {
    "collapsed": true
   },
   "source": [
    "**Задание**\n",
    "- Разбейте набор примеров на две непересекающиеся подвыборки следующим образом: train — первые 3000 примеров (≈65%), test — все остальные примеры.\n",
    "- Обучите решающее дерево на train. Классифицируйте примеры из test. Посчитайте метрики качества классификации, описанные выше: Accuracy, Precision, Recall, F1. Рекомендованные параметры решающего дерева: разбиение по критерию gini, максимальная глубина: 7.\n",
    "- Какие есть недостатки у получившейся оценки качества на подвыборке test? Как можно сделать оценку качества более информативной?\n",
    "- Повторите эксперимент, перемешав случайно объекты исходной выборки перед разбиением.\n",
    "- Какие признаки оказались наиболее важными для определения спама? Воспользуйтесь оценками важности признаков, полученых при построении решающего дерева.\n",
    "- Какое качество дает лучшая константная модель (определяющая класс определенно и вне зависимости от признаков)?\n",
    "- Обучите модель KNN и оцените ее качество на test. Рекомендованные параметры: K=10, евклидова метрика в качестве расстояния.\n",
    "- Обучите модель KNN, предварительно приведя значения признаков к одинаковому масштабу. Оцените качество полученной модели на test. Дает ли подобное преобразование признаков прирост качества для модели KNN? Проделайте тот же эксперимент с решающим деревом. Почему масштабирование признаков не влияет на качество решающего дерева, но повышает качество классификации модели KNN?\n",
    "- Сравните все обученные модели по всем метрикам.\n"
   ]
  },
  {
   "cell_type": "code",
   "execution_count": 5,
   "metadata": {
    "collapsed": true
   },
   "outputs": [],
   "source": [
    "import numpy as np\n",
    "from sklearn.metrics import precision_score, accuracy_score, recall_score, f1_score\n",
    "from sklearn.metrics import roc_curve, roc_auc_score, precision_recall_curve\n",
    "from sklearn.tree import DecisionTreeClassifier\n",
    "from sklearn.cross_validation import train_test_split, StratifiedShuffleSplit\n",
    "from sklearn.grid_search import GridSearchCV\n",
    "from sklearn.neighbors import KNeighborsClassifier\n",
    "from sklearn.preprocessing import StandardScaler\n",
    "from sklearn.dummy import DummyClassifier\n",
    "from matplotlib import pyplot as plt\n",
    "\n",
    "from IPython.display import display"
   ]
  },
  {
   "cell_type": "code",
   "execution_count": 6,
   "metadata": {
    "collapsed": true
   },
   "outputs": [],
   "source": [
    "def get_score_names():\n",
    "    return ['Accuracy', 'Precision', 'Recall', 'F1']\n",
    "\n",
    "def get_scores(y_true, y_pred):\n",
    "    return [accuracy_score(y_true, y_pred),\n",
    "            precision_score(y_true, y_pred),\n",
    "            recall_score(y_true, y_pred),\n",
    "            f1_score(y_true, y_pred)]\n",
    "\n",
    "def str_scores(y_true, y_pred):\n",
    "    return '\\n'.join(map(lambda (name, score): name + ': ' + str(score), \n",
    "                         zip(get_score_names(), get_scores(y_true, y_pred))))\n",
    "\n",
    "def decision_tree_prediction(X_train, y_train, X_test):\n",
    "    clf = DecisionTreeClassifier(criterion='gini', max_depth=7)\n",
    "    clf.fit(X_train, y_train)\n",
    "    return clf, clf.predict(X_test)\n",
    "\n",
    "def knn_prediction(X_train, y_train, X_test):\n",
    "    clf = KNeighborsClassifier(n_neighbors=10, metric='euclidean')\n",
    "    clf.fit(X_train, y_train)\n",
    "    return clf, clf.predict(X_test)"
   ]
  },
  {
   "cell_type": "code",
   "execution_count": 7,
   "metadata": {
    "collapsed": false
   },
   "outputs": [
    {
     "name": "stdout",
     "output_type": "stream",
     "text": [
      "(3000, 57) (3000,)\n",
      "(1601, 57) (1601,)\n"
     ]
    }
   ],
   "source": [
    "# Разбейте набор примеров на две непересекающиеся подвыборки следующим образом: \n",
    "# train — первые 3000 примеров (≈65%), test — все остальные примеры.\n",
    "scores = []\n",
    "\n",
    "train_size = 3000\n",
    "X_train, y_train = X[:train_size], y[:train_size]\n",
    "X_test, y_test = X[train_size:], y[train_size:]\n",
    "print X_train.shape, y_train.shape\n",
    "print X_test.shape, y_test.shape"
   ]
  },
  {
   "cell_type": "code",
   "execution_count": 8,
   "metadata": {
    "collapsed": false
   },
   "outputs": [
    {
     "name": "stdout",
     "output_type": "stream",
     "text": [
      "Tree\n",
      "Accuracy: 0.768269831355\n",
      "Precision: 0.0\n",
      "Recall: 0.0\n",
      "F1: 0.0\n",
      "CPU times: user 56 ms, sys: 0 ns, total: 56 ms\n",
      "Wall time: 54.8 ms\n"
     ]
    },
    {
     "name": "stderr",
     "output_type": "stream",
     "text": [
      "/home/sautin1/ProgramFiles/anaconda2/lib/python2.7/site-packages/sklearn/metrics/classification.py:1076: UndefinedMetricWarning: Recall is ill-defined and being set to 0.0 due to no true samples.\n",
      "  'recall', 'true', average, warn_for)\n",
      "/home/sautin1/ProgramFiles/anaconda2/lib/python2.7/site-packages/sklearn/metrics/classification.py:1076: UndefinedMetricWarning: F-score is ill-defined and being set to 0.0 due to no true samples.\n",
      "  'recall', 'true', average, warn_for)\n"
     ]
    }
   ],
   "source": [
    "%%time\n",
    "# Обучите решающее дерево на train. Классифицируйте примеры из test. \n",
    "# Посчитайте метрики качества классификации, описанные выше: Accuracy, Precision, Recall, F1. \n",
    "# Рекомендованные параметры решающего дерева: разбиение по критерию gini, максимальная глубина: 7.\n",
    "\n",
    "model_name = 'Tree'\n",
    "_, y_pred_tree = decision_tree_prediction(X_train, y_train, X_test)\n",
    "print model_name\n",
    "print str_scores(y_test, y_pred_tree)\n",
    "scores.append([model_name] + get_scores(y_test, y_pred_tree))"
   ]
  },
  {
   "cell_type": "code",
   "execution_count": 9,
   "metadata": {
    "collapsed": false
   },
   "outputs": [
    {
     "name": "stdout",
     "output_type": "stream",
     "text": [
      "0.604333333333\n",
      "0.0\n"
     ]
    }
   ],
   "source": [
    "# Какие есть недостатки у получившейся оценки качества на подвыборке test? \n",
    "# Как можно сделать оценку качества более информативной?\n",
    "\n",
    "print np.mean(y_train)\n",
    "print np.mean(y_test)"
   ]
  },
  {
   "cell_type": "markdown",
   "metadata": {},
   "source": [
    "Существенный недостаток проявляется в разбиении исходной выборки. Все объекты класса 1 попали в обучающую выборку, т.е. в тестовой выборке все объекты принадлежат к классу 0, из-за чего $TP = 0$ и $FN = 0$. Но тогда $precision = 0$ и $F1 = 0$, а подсчет $recall$ вообще не имеет смысла из-за деления на 0.  \n",
    "Оценку качества можно сделать более информативной, перемешав исходную выборку $X$ перед разбиением на обучающую и тестовую подвыборки. При разбиении необходимо следить, чтобы в обеих выборках были объекты-представители обоих классов."
   ]
  },
  {
   "cell_type": "code",
   "execution_count": 10,
   "metadata": {
    "collapsed": false
   },
   "outputs": [
    {
     "name": "stdout",
     "output_type": "stream",
     "text": [
      "(3000, 57) (3000,)\n",
      "(1601, 57) (1601,)\n",
      "0.394 0.394128669582\n"
     ]
    }
   ],
   "source": [
    "# Повторите эксперимент, перемешав случайно объекты исходной выборки перед разбиением.\n",
    "\n",
    "X_train, X_test, y_train, y_test = train_test_split(X, y, train_size=train_size, stratify=y)\n",
    "print X_train.shape, y_train.shape\n",
    "print X_test.shape, y_test.shape\n",
    "print np.mean(y_train), np.mean(y_test)"
   ]
  },
  {
   "cell_type": "code",
   "execution_count": 11,
   "metadata": {
    "collapsed": false
   },
   "outputs": [
    {
     "name": "stdout",
     "output_type": "stream",
     "text": [
      "Tree (shuffled)\n",
      "Accuracy: 0.902560899438\n",
      "Precision: 0.917398945518\n",
      "Recall: 0.827258320127\n",
      "F1: 0.87\n",
      "CPU times: user 72 ms, sys: 0 ns, total: 72 ms\n",
      "Wall time: 73 ms\n"
     ]
    }
   ],
   "source": [
    "%%time\n",
    "model_name = 'Tree (shuffled)'\n",
    "clf, y_pred_tree_shuffled = decision_tree_prediction(X_train, y_train, X_test)\n",
    "print model_name\n",
    "print str_scores(y_test, y_pred_tree_shuffled)\n",
    "scores.append([model_name] + get_scores(y_test, y_pred_tree_shuffled))"
   ]
  },
  {
   "cell_type": "code",
   "execution_count": 12,
   "metadata": {
    "collapsed": false
   },
   "outputs": [
    {
     "name": "stdout",
     "output_type": "stream",
     "text": [
      "Признаков с ненулевой важностью: 26 / 57.\n",
      "Признаки с ненулевой важностью в порядке убывания важности:\n",
      "('char_freq_$', 0.41363373562357197)\n",
      "('word_freq_remove', 0.17417828248189376)\n",
      "('char_freq_!', 0.11178063677883558)\n",
      "('word_freq_hp', 0.064254311225209554)\n",
      "('capital_run_length_total', 0.037786851785446378)\n",
      "('word_freq_free', 0.030137961794105196)\n",
      "('word_freq_edu', 0.023044608313092817)\n",
      "('capital_run_length_average', 0.022717394050671795)\n",
      "('word_freq_george', 0.018387456012147852)\n",
      "('word_freq_money', 0.017912013306133026)\n",
      "('word_freq_our', 0.016136387647698994)\n",
      "('word_freq_meeting', 0.015525461200371907)\n",
      "('word_freq_your', 0.013751559965731412)\n",
      "('word_freq_hpl', 0.0080497038894778022)\n",
      "('word_freq_internet', 0.0066831253812141373)\n",
      "('word_freq_business', 0.0051308545183790955)\n",
      "('char_freq_(', 0.0035749749487603536)\n",
      "('word_freq_email', 0.0035583862606672701)\n",
      "('word_freq_000', 0.0032178011094734695)\n",
      "('char_freq_[', 0.0031256463321370723)\n",
      "('char_freq_;', 0.001691344808014964)\n",
      "('word_freq_mail', 0.0016610051797437567)\n",
      "('word_freq_labs', 0.001642752375570768)\n",
      "('word_freq_cs', 0.0016247987976956548)\n",
      "('word_freq_make', 0.00041345685664467353)\n",
      "('word_freq_you', 0.00037948935731089945)\n"
     ]
    }
   ],
   "source": [
    "# Какие признаки оказались наиболее важными для определения спама? \n",
    "# Воспользуйтесь оценками важности признаков, полученых при построении решающего дерева.\n",
    "\n",
    "feature_importances_sorted_idx = np.argsort(clf.feature_importances_)[::-1]\n",
    "feature_importances_idx = filter(lambda idx: clf.feature_importances_[idx] > 0, feature_importances_sorted_idx)\n",
    "feature_importances = [(feature_names[i], clf.feature_importances_[i]) for i in feature_importances_idx]\n",
    "print 'Признаков с ненулевой важностью: {} / {}.'.format(len(feature_importances_idx), \n",
    "                                                         clf.feature_importances_.shape[0])\n",
    "print 'Признаки с ненулевой важностью в порядке убывания важности:'\n",
    "# print '\\n'.join(map(str, feature_importances))\n",
    "print '\\n'.join(map(str, feature_importances))"
   ]
  },
  {
   "cell_type": "code",
   "execution_count": 13,
   "metadata": {
    "collapsed": false
   },
   "outputs": [
    {
     "name": "stdout",
     "output_type": "stream",
     "text": [
      "Const\n",
      "Accuracy: 0.605871330418\n",
      "Precision: 0.0\n",
      "Recall: 0.0\n",
      "F1: 0.0\n"
     ]
    },
    {
     "name": "stderr",
     "output_type": "stream",
     "text": [
      "/home/sautin1/ProgramFiles/anaconda2/lib/python2.7/site-packages/sklearn/metrics/classification.py:1074: UndefinedMetricWarning: Precision is ill-defined and being set to 0.0 due to no predicted samples.\n",
      "  'precision', 'predicted', average, warn_for)\n",
      "/home/sautin1/ProgramFiles/anaconda2/lib/python2.7/site-packages/sklearn/metrics/classification.py:1074: UndefinedMetricWarning: F-score is ill-defined and being set to 0.0 due to no predicted samples.\n",
      "  'precision', 'predicted', average, warn_for)\n"
     ]
    }
   ],
   "source": [
    "# Какое качество дает лучшая константная модель \n",
    "# (определяющая класс определенно и вне зависимости от признаков)?\n",
    "\n",
    "model_name = 'Const'\n",
    "clf_const = DummyClassifier(strategy='most_frequent')\n",
    "clf_const.fit(X_train, y_train)\n",
    "y_pred_const = clf_const.predict(X_test)\n",
    "print model_name\n",
    "print str_scores(y_test, y_pred_const)\n",
    "scores.append([model_name] + get_scores(y_test, y_pred_const))"
   ]
  },
  {
   "cell_type": "markdown",
   "metadata": {},
   "source": [
    "Константная модель каждому объекту предсказывает нулевой класс, поэтому $TP = 0$ и $FP = 0$. А следовательно, $F1 = 0$ и $recall = 0$, а подсчет $precision$ не имеет смысла из-за деления на 0. "
   ]
  },
  {
   "cell_type": "code",
   "execution_count": 14,
   "metadata": {
    "collapsed": false
   },
   "outputs": [
    {
     "name": "stdout",
     "output_type": "stream",
     "text": [
      "KNN\n",
      "Accuracy: 0.777014366021\n",
      "Precision: 0.756554307116\n",
      "Recall: 0.640253565769\n",
      "F1: 0.69356223176\n",
      "CPU times: user 152 ms, sys: 0 ns, total: 152 ms\n",
      "Wall time: 151 ms\n"
     ]
    }
   ],
   "source": [
    "%%time\n",
    "# Обучите модель KNN и оцените ее качество на test. \n",
    "# Рекомендованные параметры: K=10, евклидова метрика в качестве расстояния.\n",
    "\n",
    "model_name = 'KNN'\n",
    "clf_knn, y_pred_knn = knn_prediction(X_train, y_train, X_test)\n",
    "print model_name\n",
    "print str_scores(y_test, y_pred_knn)\n",
    "scores.append([model_name] + get_scores(y_test, y_pred_knn))"
   ]
  },
  {
   "cell_type": "code",
   "execution_count": 15,
   "metadata": {
    "collapsed": true
   },
   "outputs": [],
   "source": [
    "# Обучите модель KNN, предварительно приведя значения признаков к одинаковому масштабу. \n",
    "# Оцените качество полученной модели на test. \n",
    "# Дает ли подобное преобразование признаков прирост качества для модели KNN?\n",
    "\n",
    "scaler = StandardScaler()\n",
    "X_train = scaler.fit_transform(X_train)\n",
    "X_test = scaler.transform(X_test)"
   ]
  },
  {
   "cell_type": "code",
   "execution_count": 16,
   "metadata": {
    "collapsed": false
   },
   "outputs": [
    {
     "name": "stdout",
     "output_type": "stream",
     "text": [
      "KNN (scaled)\n",
      "Accuracy: 0.88881948782\n",
      "Precision: 0.908108108108\n",
      "Recall: 0.798732171157\n",
      "F1: 0.849915682968\n",
      "CPU times: user 1.14 s, sys: 0 ns, total: 1.14 s\n",
      "Wall time: 1.14 s\n"
     ]
    }
   ],
   "source": [
    "%%time\n",
    "\n",
    "model_name = 'KNN (scaled)'\n",
    "clf_knn_scaled, y_pred_knn_scaled = knn_prediction(X_train, y_train, X_test)\n",
    "print model_name\n",
    "print str_scores(y_test, y_pred_knn_scaled)\n",
    "scores.append([model_name] + get_scores(y_test, y_pred_knn_scaled))"
   ]
  },
  {
   "cell_type": "code",
   "execution_count": 17,
   "metadata": {
    "collapsed": false
   },
   "outputs": [
    {
     "name": "stdout",
     "output_type": "stream",
     "text": [
      "Tree (shuffled, scaled)\n",
      "Accuracy: 0.900687070581\n",
      "Precision: 0.915492957746\n",
      "Recall: 0.824088748019\n",
      "F1: 0.867389491243\n",
      "CPU times: user 68 ms, sys: 0 ns, total: 68 ms\n",
      "Wall time: 66.6 ms\n"
     ]
    }
   ],
   "source": [
    "%%time\n",
    "# Проделайте тот же эксперимент с решающим деревом. \n",
    "# Почему масштабирование признаков не влияет на качество решающего дерева, \n",
    "# но повышает качество классификации модели KNN?\n",
    "\n",
    "model_name = 'Tree (shuffled, scaled)'\n",
    "clf_tree_scaled, y_pred_tree_scaled = decision_tree_prediction(X_train, y_train, X_test)\n",
    "print model_name\n",
    "print str_scores(y_test, y_pred_tree_scaled)\n",
    "scores.append([model_name] + get_scores(y_test, y_pred_tree_scaled))"
   ]
  },
  {
   "cell_type": "markdown",
   "metadata": {},
   "source": [
    "При построении дерева в каждой вершине происходит разбиение по конкретному значению одного признака (например, $[x_i \\le 10]$). В этом случае разные масштабы признаков не мешают построению хорошего дерева, т.к. при построении дерева по факту не происходит сравнения значений между разными признаками.  \n",
    "\n",
    "В свою очередь, в модели KNN происходит вычисление расстояния между объектами, и сильные отличия в масштабах признаков могут существенно влиять на расстояние между объектами.\n",
    "Рассмотрим такой пример выборки с тремя объектами, каждый из которых представлен двумя признаками:  \n",
    "$\\begin{pmatrix}\n",
    "0.99 & 3\\\\\n",
    "0.81 & 15\\\\\n",
    "0.21 & 12\n",
    "\\end{pmatrix}$  \n",
    "\n",
    "Расстояния от объекта $x_1$ до остальных объектов:  \n",
    "$dist(x_1, x_2) \\approx 14.0$, $dist(x_1, x_3) \\approx 11.0$.  \n",
    "Ближайшим к $x_1$ является объект $x_3$.\n",
    "\n",
    "После масштабирования признаков матрица объекты-признаки будет выглядеть так:  \n",
    "$\\begin{pmatrix}\n",
    "0.55 & -0.79\\\\\n",
    "0.24 & 0.57\\\\\n",
    "-0.80 & 0.23\n",
    "\\end{pmatrix}$  \n",
    "Расстояния от объекта $x_1$ до остальных объектов:  \n",
    "$dist(x_1, x_2) \\approx 1.39$, $dist(x_1, x_3) \\approx 1.69$.  \n",
    "После масштабирования признаков ближайшим к $x_1$ стал объект $x_2$.\n",
    "\n",
    "\n",
    "Конечно, эти рассуждения не универсальны. При масштабировании из значения каждого из признаков вычитается среднее значение по признаку, и разность делится на среднеквадратичное отклонение по признаку. В результате этих преобразований все признаки \"уравниваются\" (приводятся к одному масштабу).  \n",
    "Если в выборке есть какой-то шумовой признак, который из-за отсутствия масштабирования не вносит почти никакого вклада в расстояние, то нас, конечно же, это устраивает. Зато после масштабирования этот же признак уже будет вносить существенный вклад в расстояние, что плохо. Возможна и обратная ситуация, когда шумовой признак изначально вносит большой вклад в расстояние, а масштабирование понижает его роль."
   ]
  },
  {
   "cell_type": "code",
   "execution_count": 18,
   "metadata": {
    "collapsed": false
   },
   "outputs": [
    {
     "data": {
      "text/html": [
       "<div>\n",
       "<table border=\"1\" class=\"dataframe\">\n",
       "  <thead>\n",
       "    <tr style=\"text-align: right;\">\n",
       "      <th></th>\n",
       "      <th>Name</th>\n",
       "      <th>Accuracy</th>\n",
       "      <th>Precision</th>\n",
       "      <th>Recall</th>\n",
       "      <th>F1</th>\n",
       "    </tr>\n",
       "  </thead>\n",
       "  <tbody>\n",
       "    <tr>\n",
       "      <th>0</th>\n",
       "      <td>Const</td>\n",
       "      <td>0.605871</td>\n",
       "      <td>0.000000</td>\n",
       "      <td>0.000000</td>\n",
       "      <td>0.000000</td>\n",
       "    </tr>\n",
       "    <tr>\n",
       "      <th>1</th>\n",
       "      <td>KNN</td>\n",
       "      <td>0.777014</td>\n",
       "      <td>0.756554</td>\n",
       "      <td>0.640254</td>\n",
       "      <td>0.693562</td>\n",
       "    </tr>\n",
       "    <tr>\n",
       "      <th>2</th>\n",
       "      <td>KNN (scaled)</td>\n",
       "      <td>0.888819</td>\n",
       "      <td>0.908108</td>\n",
       "      <td>0.798732</td>\n",
       "      <td>0.849916</td>\n",
       "    </tr>\n",
       "    <tr>\n",
       "      <th>3</th>\n",
       "      <td>Tree</td>\n",
       "      <td>0.768270</td>\n",
       "      <td>0.000000</td>\n",
       "      <td>0.000000</td>\n",
       "      <td>0.000000</td>\n",
       "    </tr>\n",
       "    <tr>\n",
       "      <th>4</th>\n",
       "      <td>Tree (shuffled)</td>\n",
       "      <td>0.902561</td>\n",
       "      <td>0.917399</td>\n",
       "      <td>0.827258</td>\n",
       "      <td>0.870000</td>\n",
       "    </tr>\n",
       "    <tr>\n",
       "      <th>5</th>\n",
       "      <td>Tree (shuffled, scaled)</td>\n",
       "      <td>0.900687</td>\n",
       "      <td>0.915493</td>\n",
       "      <td>0.824089</td>\n",
       "      <td>0.867389</td>\n",
       "    </tr>\n",
       "  </tbody>\n",
       "</table>\n",
       "</div>"
      ],
      "text/plain": [
       "                      Name  Accuracy  Precision    Recall        F1\n",
       "0                    Const  0.605871   0.000000  0.000000  0.000000\n",
       "1                      KNN  0.777014   0.756554  0.640254  0.693562\n",
       "2             KNN (scaled)  0.888819   0.908108  0.798732  0.849916\n",
       "3                     Tree  0.768270   0.000000  0.000000  0.000000\n",
       "4          Tree (shuffled)  0.902561   0.917399  0.827258  0.870000\n",
       "5  Tree (shuffled, scaled)  0.900687   0.915493  0.824089  0.867389"
      ]
     },
     "metadata": {},
     "output_type": "display_data"
    }
   ],
   "source": [
    "# Сравните все обученные модели по всем метрикам.\n",
    "scores.sort(key=lambda row: row[0])\n",
    "score_comparison = pd.DataFrame(data=scores, columns=['Name'] + get_score_names())\n",
    "display(score_comparison)"
   ]
  },
  {
   "cell_type": "markdown",
   "metadata": {},
   "source": [
    "Константная модель показала самый худший результат, следующим по качеству идет KNN без масштабирования признаков.\n",
    "После масштабирования KNN показал намного лучшее качество по всем метрикам.\n",
    "\n",
    "Качество решающего дерева повысилось после перемешивания выборки, однако масштабирование признаков никак не отразилось на результатах.\n",
    "\n",
    "В целом, решающее дерево на перемешанной выборке показало наилучшее качество среди всех рассмотренных моделей по метрикам accuracy, recall и F1. KNN с масштабированием признаков дало достаточно близкие результаты, обогнав решающее дерево в метрике precision."
   ]
  },
  {
   "cell_type": "markdown",
   "metadata": {
    "collapsed": true
   },
   "source": [
    "В итоге должны быть построены и сравнены между собой следующие модели:\n",
    "\n",
    "1) Константная модель  \n",
    "2) Решающее дерево  \n",
    "3) KNN  \n",
    "4) KNN с масштабированием признаков"
   ]
  },
  {
   "cell_type": "markdown",
   "metadata": {
    "collapsed": true
   },
   "source": [
    "### Выбор порога классификации"
   ]
  },
  {
   "cell_type": "markdown",
   "metadata": {
    "collapsed": true
   },
   "source": [
    "Многие модели классификации получают оценку принадлежности положительному классу $y'(x)\\in R$. Затем принимают решение о классе объекта путем сравнения оценки с порогом: $y(x)=+1$, если $y'(x)<\\theta$, $y(x)=−1$, если $y'(x)\\geq\\theta$\n",
    "\n",
    "Матрица ошибок и все производные от нее метрики (Accuracy, Precision, Recall, etc.) зависят от порога $\\theta$.\n",
    "\n",
    "\n",
    "<img src=\"binary_threshold.png\">\n",
    "\n",
    "Для того чтобы видеть изменения метрик при всех значениях порога классификации, рассматривают координатную плоскость, по осям которой отложены значения метрик, а качество работы классификатора представлено в виде кривой — траектории изменения соответствующих метрик при варьировании порога:\n",
    "\n",
    "<img src=\"roc_trajectory.png\">\n",
    "\n",
    "Наиболее распространены ROC-кривые (плоскость TP-vs-FP) и Precision/Recall кривые. Аббревиатура ROC (Receiver Operating Characteristic) была унаследована из инженерного дела.\n",
    "\n",
    "<img src=\"roc_and_pr_curves.png\">\n",
    "\n",
    "В случае, если необходимо сравнить качество классификаторов вне зависимости от порога, применяют интегральные числовые метрики, например AUC-ROC (Area Under ROC) — площадь под ROC-кривой классификатора. AUC-ROC идеально работающего классификатора равно 1. Идеальный случайный классификатор в среднем имеет AUC-ROC=0.5.\n",
    "\n"
   ]
  },
  {
   "cell_type": "markdown",
   "metadata": {},
   "source": [
    "**Задача 1**\n",
    "\n",
    " Определите функционал «доля дефектных пар» для задачи бинарной классификации. Как данный функционал связан с AUC-ROC?\n",
    "\n",
    "__Решение__. Пусть $a(x)$ --- бинарный классификатор, который для каждого объекта возвращает не метку класса, а оценку принадлежности положительному классу. Отсортируем объекты $\\{x_i\\}_{i=1}^{l}$ и ответы на них по неубыванию предсказаний классификатора $a(x)$: $(x_{(1)}, y_{(1)}), ..., (x_{(l)}, y_{(l)})$. Определим долю дефектных пар:  \n",
    "$DP(a, X^l) = \\frac{2}{l(l-1)} \\sum\\limits_{i < j}^l [y_{(i)} > y_{(j)}] = \\frac{2}{l(l-1)} \\sum\\limits_{i=1}^l \\sum\\limits_{j=i+1}^l [y_{(i)} > y_{(j)}]$.\n",
    "\n",
    "Заметим, что значение $DP(a, X^l)\\in [0, 1]$, и $DP(a^*, X^l) = 0$, где $a^*$ --- идеальный алгоритм.\n",
    "\n",
    "Процесс построения ROC-кривой (в пространстве $TPR$ / $FPR$):  \n",
    "1) все объекты сортируются по неубыванию оценки их принадлежности положительному классу;  \n",
    "2) начинаем строить кривую из точки $(0; 0)$, которая соответствует порогу $\\theta > y_{(l)}$ (все объекты относим к отрицательному классу $\\Rightarrow TPR = \\frac {TP}{TP + FN} = 0 = \\frac {FP}{FP + TN} = FPR$);  \n",
    "3) постепенно уменьшая порог, относим на каждом шаге новый объект к положительному классу.\n",
    "\n",
    "Обозначим за $l_+$ количество объектов из положительного класса, а за $l_-$ --- количество объектов отрицательного класса. Заметим, что при добавлении объекта положительного класса $TPR$ увеличивается на $\\frac {1}{l_+}$, а при добавлении объекта отрицательного класса $FPR$ увеличивается на $\\frac {1}{l_-}$. Будем вычислять $AUC-ROC$ следующим образом: при добавлении каждого объекта положительного класса (т.е. при движении наверх) будем добавлять в $AUC-ROC$ площадь горизонтальной полосы высоты $\\frac {1}{l_+}$:\n",
    "<img src=\"auc_roc_stripe.png\" width='400'>\n",
    "\n",
    "Тогда $AUC-ROC$ будет вычисляться так:  \n",
    "$\\sum\\limits_{i=1}^{l} [\\text{при добавлении } x_{(i)} \\text{ сдвинулись наверх}]\\cdot \\text{высота полосы} \\cdot \\text{ширина полосы} = $  \n",
    "$= \\sum\\limits_{i=1}^{l} [{y_{(i)} = 1}]\\cdot \\frac{1}{l_+} \\cdot \\sum\\limits_{j = i + 1}^l [y_{(j)} = -1]\\cdot \\frac{1}{l_-} = $  \n",
    "$= \\frac{1}{l_+ l_-}\\sum\\limits_{i=1}^l [y_{(i)} = 1]\\cdot \\sum\\limits_{j=i+1}^l [y_{(j)} = -1] = $  \n",
    "$= \\frac{1}{l_+ l_-}\\sum\\limits_{i=1}^l \\sum\\limits_{j=i+1}^l [y_{(i)} = 1]\\cdot [y_{(j)} = -1] = $  \n",
    "$= \\frac{1}{l_+ l_-}\\sum\\limits_{i=1}^l \\sum\\limits_{j=i+1}^l [y_{(i)} > y_{(j)}] = $  \n",
    "$= \\frac{1}{l_+ l_-} \\frac{l(l-1)}{2} (\\frac{2}{l(l-1)} \\sum\\limits_{i=1}^l \\sum\\limits_{j=i+1}^l [y_{(i)} > y_{(j)}]) = $  \n",
    "$= \\frac{1}{l_+ l_-} \\frac{l(l-1)}{2} DP(a, X^l)$.  \n",
    "\n",
    "Получили связь между долей дефектных пар и $AUC-ROC$."
   ]
  },
  {
   "cell_type": "markdown",
   "metadata": {
    "collapsed": true
   },
   "source": [
    "**Задача 2**\n",
    "\n",
    "Приведите пример целевого вектора $y_1, \\ldots , y_l$ и ответов алгоритма $b(x_1),\\ldots,b(x_l)$, для которых AUC-ROC будет равен 0.5.\n",
    "\n",
    "\n",
    "__Решение__. Пример для $l=8$:  \n",
    "$y = (-1, 1, -1, 1, -1, 1, 1, -1)$,  \n",
    "$b(x) = (0.1, 0.2, 0.3, 0.4, 0.5, 0.6, 0.7, 0.8)$.\n",
    "\n",
    "ROC-кривая:"
   ]
  },
  {
   "cell_type": "code",
   "execution_count": 19,
   "metadata": {
    "collapsed": false
   },
   "outputs": [],
   "source": [
    "def draw_roc_curve(y_true, y_score, label=None):\n",
    "    fpr, tpr, _ = roc_curve(y_true, y_score)\n",
    "    plt.plot(fpr, tpr, label=label)\n",
    "    plt.plot([0, 1], [0, 1], color='grey')\n",
    "    plt.grid()\n",
    "    plt.xlim([-0.05, 1.05])\n",
    "    plt.ylim([-0.05, 1.05])\n",
    "    plt.xlabel('FPR')\n",
    "    plt.ylabel('TPR')\n",
    "    return fpr, tpr\n",
    "\n",
    "def draw_prc_curve(y_true, y_score, label=None):\n",
    "    precision, recall, _ = precision_recall_curve(y_true, y_score)\n",
    "    plt.plot(recall, precision, label=label)\n",
    "    plt.grid()\n",
    "    plt.xlim([-0.05, 1.05])\n",
    "    plt.ylim([-0.05, 1.05])\n",
    "    plt.xlabel('Recall')\n",
    "    plt.ylabel('Precision')\n",
    "    return recall, precision"
   ]
  },
  {
   "cell_type": "code",
   "execution_count": 20,
   "metadata": {
    "collapsed": false
   },
   "outputs": [
    {
     "name": "stdout",
     "output_type": "stream",
     "text": [
      "ROC-AUC:  0.5\n"
     ]
    },
    {
     "data": {
      "image/png": "[encoded data removed]",
      "text/plain": [
       "<matplotlib.figure.Figure at 0x7f68f11d5150>"
      ]
     },
     "metadata": {},
     "output_type": "display_data"
    }
   ],
   "source": [
    "plt.title('ROC-curve example')\n",
    "y_true = np.array([-1, 1, -1, 1, 1, -1, 1, -1])\n",
    "y_score = np.arange(0.1, 0.9, 0.1)\n",
    "draw_roc_curve(y_true, y_score)\n",
    "print 'ROC-AUC: ', roc_auc_score(y_true, y_score)"
   ]
  },
  {
   "cell_type": "markdown",
   "metadata": {},
   "source": [
    "Также $AUC-ROC$ может быть равен $0.5$ в случае, если оценки принадлежности положительному классу совпадают для всех объектов. Тогда кривая будет представлять из себя прямую (диагональ квадрата), на которой можно будет отметить только 2 точки: $(0, 0)$ и $(1, 1)$."
   ]
  },
  {
   "cell_type": "markdown",
   "metadata": {
    "collapsed": true
   },
   "source": [
    "**Задание**\n",
    "\n",
    " Верно ли, что классификаторы из предыдущей части действуют путем сравнения некоторой оценки принадлежности положительному классу с порогом? Что это за оценки принадлежности? Какие пороги были выбраны?\n",
    " \n",
    " Для всех моделей, построенных в предыдущем задании:\n",
    "- Постройте ROC и Precision/Recall кривые в одних координатных осях, линиями разных цветов. Добавьте легенду: какая кривая соответствует какому классификатору.\n",
    "- Сравните значения AUC-ROC.\n",
    "\n",
    "Какой максимальной полноты определения спама достигают построенные классификаторы, если перед вами стоит жесткое ограничение: точность классификатора не может быть меньше 90%?\n",
    "\n"
   ]
  },
  {
   "cell_type": "markdown",
   "metadata": {},
   "source": [
    "_Верно ли, что классификаторы из предыдущей части действуют путем сравнения некоторой оценки принадлежности положительному классу с порогом? Что это за оценки принадлежности? Какие пороги были выбраны?_\n",
    "\n",
    "Да, верно.  \n",
    "\n",
    "Константный алгоритм выбирает самый часто встречаемый класс на обучающей выборке и возвращает его в качестве предсказания на любом объекте. Это поведение в случае меток классов $\\{-1, 1\\}$ аналогично следующему: просуммировать метки классов на всех объектах обучающей выборки и сравнить с нулем. Итак, для константного алгоритма оценкой принадлежности является сумма меток классов объектов обучающей выборки, а порогом --- 0.  \n",
    "\n",
    "KNN для объекта $x$ выбирает самый часто встречаемый класс среди $k$ ближайших соседей $x$. Аналогично случаю с константным алгоритмом: оценка принадлежности положительному классу --- сумма меток классов $k$ ближайших соседей, порог --- 0.\n",
    "\n",
    "Решающее дерево для объекта $x$ строит оценку принадлежности положительному классу как долю объектов положительного класса в листе, в котором оказался $x$. Порог, соответственно, равен $0.5$."
   ]
  },
  {
   "cell_type": "code",
   "execution_count": 21,
   "metadata": {
    "collapsed": true
   },
   "outputs": [],
   "source": [
    "labels = ['Const', 'KNN', 'KNN (scaled)', 'Tree (scaled)']\n",
    "clfs = [clf_const, clf_knn, clf_knn_scaled, clf_tree_scaled]\n",
    "y_scores = [clf.predict_proba(X_test)[:, 1] for clf in clfs]"
   ]
  },
  {
   "cell_type": "code",
   "execution_count": 22,
   "metadata": {
    "collapsed": false
   },
   "outputs": [
    {
     "data": {
      "text/plain": [
       "<matplotlib.legend.Legend at 0x7f68f11f4b90>"
      ]
     },
     "execution_count": 22,
     "metadata": {},
     "output_type": "execute_result"
    },
    {
     "data": {
      "image/png": "[encoded data removed]",
      "text/plain": [
       "<matplotlib.figure.Figure at 0x7f68ee8f71d0>"
      ]
     },
     "metadata": {},
     "output_type": "display_data"
    }
   ],
   "source": [
    "for label, y_score in zip(labels, y_scores):\n",
    "    draw_roc_curve(y_test, y_score, label=label)\n",
    "plt.title('ROC-curve')\n",
    "plt.legend(loc='lower right')"
   ]
  },
  {
   "cell_type": "code",
   "execution_count": 23,
   "metadata": {
    "collapsed": false
   },
   "outputs": [
    {
     "data": {
      "text/plain": [
       "<matplotlib.legend.Legend at 0x7f68ee8d2bd0>"
      ]
     },
     "execution_count": 23,
     "metadata": {},
     "output_type": "execute_result"
    },
    {
     "data": {
      "image/png": "[encoded data removed]",
      "text/plain": [
       "<matplotlib.figure.Figure at 0x7f68ee8d2610>"
      ]
     },
     "metadata": {},
     "output_type": "display_data"
    }
   ],
   "source": [
    "precisions, recalls = [], []\n",
    "for label, y_score in zip(labels, y_scores):\n",
    "    recall, precision = draw_prc_curve(y_test, y_score, label=label)\n",
    "    recalls.append(recall)\n",
    "    precisions.append(precision)\n",
    "plt.title('PRC-curve')\n",
    "plt.legend(loc='lower left')"
   ]
  },
  {
   "cell_type": "code",
   "execution_count": 24,
   "metadata": {
    "collapsed": false
   },
   "outputs": [
    {
     "data": {
      "text/html": [
       "<div>\n",
       "<table border=\"1\" class=\"dataframe\">\n",
       "  <thead>\n",
       "    <tr style=\"text-align: right;\">\n",
       "      <th></th>\n",
       "      <th>Name</th>\n",
       "      <th>AUC-ROC</th>\n",
       "    </tr>\n",
       "  </thead>\n",
       "  <tbody>\n",
       "    <tr>\n",
       "      <th>0</th>\n",
       "      <td>Const</td>\n",
       "      <td>0.500000</td>\n",
       "    </tr>\n",
       "    <tr>\n",
       "      <th>1</th>\n",
       "      <td>KNN</td>\n",
       "      <td>0.525816</td>\n",
       "    </tr>\n",
       "    <tr>\n",
       "      <th>2</th>\n",
       "      <td>KNN (scaled)</td>\n",
       "      <td>0.952378</td>\n",
       "    </tr>\n",
       "    <tr>\n",
       "      <th>3</th>\n",
       "      <td>Tree (scaled)</td>\n",
       "      <td>0.908641</td>\n",
       "    </tr>\n",
       "  </tbody>\n",
       "</table>\n",
       "</div>"
      ],
      "text/plain": [
       "            Name   AUC-ROC\n",
       "0          Const  0.500000\n",
       "1            KNN  0.525816\n",
       "2   KNN (scaled)  0.952378\n",
       "3  Tree (scaled)  0.908641"
      ]
     },
     "metadata": {},
     "output_type": "display_data"
    }
   ],
   "source": [
    "auc_rocs = [roc_auc_score(y_test, y_score) for y_score in y_scores]\n",
    "auc_rocs_comparison = pd.DataFrame(data=zip(labels, auc_rocs), columns=['Name', 'AUC-ROC'])\n",
    "display(auc_rocs_comparison)"
   ]
  },
  {
   "cell_type": "markdown",
   "metadata": {},
   "source": [
    "Наибольшего значения $AUC-ROC$ достиг алгоритм KNN c масштабированием признаков. Следующим по убыванию результата идет решающее дерево."
   ]
  },
  {
   "cell_type": "markdown",
   "metadata": {},
   "source": [
    "_Какой максимальной полноты определения спама достигают построенные классификаторы, если перед вами стоит жесткое ограничение: точность классификатора не может быть меньше 90%?_"
   ]
  },
  {
   "cell_type": "code",
   "execution_count": 25,
   "metadata": {
    "collapsed": false
   },
   "outputs": [
    {
     "name": "stdout",
     "output_type": "stream",
     "text": [
      "Const: 0.0\n",
      "KNN: 0.00158478605388\n",
      "KNN (scaled): 0.798732171157\n",
      "Tree (scaled): 0.841521394612\n"
     ]
    }
   ],
   "source": [
    "for label, recall, precision in zip(labels, recalls, precisions):\n",
    "    idxs = precision >= 0.9\n",
    "    print label + ':', np.max(recall[idxs])"
   ]
  },
  {
   "cell_type": "markdown",
   "metadata": {
    "collapsed": true
   },
   "source": [
    "### Кросс-валидация и подбор параметров"
   ]
  },
  {
   "cell_type": "markdown",
   "metadata": {
    "collapsed": true
   },
   "source": [
    "Каждая модель машинного обучения имеет множество структурных параметров и параметров обучения: число соседей и тип функции расстояния в KNN, максимальная высота дерева, минимальное число объектов в листе дерева и т.д. Нет универсальных наборов параметров, оптимально работающих во всех задачах, для каждой задачи нужно подбирать свой набор параметров.\n",
    "\n",
    "Для оптимизации параметров модели часто используют перебор по сетке (grid search): для каждого параметра выбирается несколько значений, перебираются все комбинации значений параметров и выбирается комбинация, на которой модель показывает лучшее качество (с точки зрения метрики, которая оптимизируется).\n",
    "\n",
    "Сравнение большого числа моделей при переборе параметров приводит к ситуации, когда лучшая на тестовой подвыборке модель не сохраняет свои качества на новых данных. Можно сказать, что происходит переобучение на тестовую выборку.\n",
    "\n",
    "Для устранения этой проблемы, данные разбивают на 3 непересекающихся подвыборки: обучение (train), валидация (validation) и контроль (test)."
   ]
  },
  {
   "cell_type": "markdown",
   "metadata": {
    "collapsed": true
   },
   "source": [
    "Валидационную подвыборку используют для сравнения моделей, а test — для окончательной оценки качества и сравнения семейств моделей с подобранными параметрами.\n",
    "\n",
    "Более надежный способ объективного сравнения моделей — кросс-валидация. Существуют различные схемы кросс-валидации:\n",
    "\n",
    "- Leave-One-Out\n",
    "- K-Fold\n",
    "- Многократное случайное разбиение выборки  \n",
    "\n",
    "Кросс-валидация вычислительно затратна, особенно если вы делаете перебор по сетке с очень большим числом комбинаций. С учетом конечности времени на выполнение задания, возникает ряд компромиссов:\n",
    "\n",
    "- сетку можно делать более разреженной, перебирая меньше значений каждого параметра, но в таком случае можно пропустить хорошую комбинацию параметров;\n",
    "- кросс-валидацию можно делать с меньшим числом разбиений или фолдов, но в таком случае оценка качества кросс-валидации становится более шумной и увеличивается риск выбрать неоптимальный набор параметров из-за случайности разбиения;\n",
    "- параметры можно оптимизировать последовательно (жадно) — один за другим, а не перебирать все комбинации; такая стратегия не всегда приводит к оптимальному набору;\n",
    "- перебирать не все комбинации параметров, а небольшое число случайно выбранных."
   ]
  },
  {
   "cell_type": "markdown",
   "metadata": {
    "collapsed": true
   },
   "source": [
    "**Задание**\n",
    "- Выберите схему кросс-валидаци, одну из перечисленных выше. Зафиксируйте разбиение кросс-валидации обучающей выборки. Кросс-валидировать нужно по выборке train из предыдущих заданий, test должен остаться независимым. Обратите внимание: при сравнении моделей, набор разбиений кросс-валидации не должен меняться, должен быть строго фиксированным.\n",
    "- Выберите одну метрику, которую будете оптимизировать при переборе параметров. Например, можно взять AUC-ROC.\n",
    "- Найдите оптимальный набор параметров дерева, перебрав значения параметров по сетке. Параметры для настройки: критерий разбиения, максимальная глубина, число признаков для каждого узла, минимальное число объектов в листе (или часть из этих параметров).\n",
    "- Найдите оптимальный набор параметров для KNN, перебрав значения параметров по сетке. Параметры для настройки: число соседей, функция расстояния, схема взвешивания (или часть из этих параметров).\n",
    "- Сравните полученные модели с моделями из предыдущих заданий. Сравнение необходимо проводить на тестовой выборке, которая не участвовала в подборе и обучении. Сравнение нужно проводить только по метрике которая оптимизировалась."
   ]
  },
  {
   "cell_type": "code",
   "execution_count": 26,
   "metadata": {
    "collapsed": true
   },
   "outputs": [],
   "source": [
    "# Выберите схему кросс-валидации, одну из перечисленных выше. \n",
    "# Зафиксируйте разбиение кросс-валидации обучающей выборки. \n",
    "# Кросс-валидировать нужно по выборке train из предыдущих заданий, test должен остаться независимым. \n",
    "# Обратите внимание: при сравнении моделей, набор разбиений кросс-валидации не должен меняться, \n",
    "# должен быть строго фиксированным.\n",
    "\n",
    "cv = StratifiedShuffleSplit(y=y_train, n_iter=3, test_size=0.2, random_state=42)\n",
    "\n",
    "# Выберите одну метрику, которую будете оптимизировать при переборе параметров. Например, можно взять AUC-ROC.\n",
    "scoring = 'roc_auc'"
   ]
  },
  {
   "cell_type": "code",
   "execution_count": 27,
   "metadata": {
    "collapsed": false
   },
   "outputs": [
    {
     "name": "stdout",
     "output_type": "stream",
     "text": [
      "['presort', 'splitter', 'max_leaf_nodes', 'min_samples_leaf', 'min_samples_split', 'min_weight_fraction_leaf', 'criterion', 'random_state', 'max_features', 'max_depth', 'class_weight']\n"
     ]
    }
   ],
   "source": [
    "# Найдите оптимальный набор параметров дерева, перебрав значения параметров по сетке. \n",
    "# Параметры для настройки: критерий разбиения, максимальная глубина, \n",
    "# число признаков для каждого узла, минимальное число объектов в листе (или часть из этих параметров).\n",
    "estimator_tree = DecisionTreeClassifier()\n",
    "print estimator_tree.get_params().keys()"
   ]
  },
  {
   "cell_type": "code",
   "execution_count": 28,
   "metadata": {
    "collapsed": true
   },
   "outputs": [],
   "source": [
    "param_grid = {\n",
    "    'criterion': ['gini', 'entropy'],\n",
    "    'max_depth': range(2, 20, 2) + [None],\n",
    "    'max_features': ['sqrt', 'log2', None],\n",
    "    'min_samples_leaf': range(1, 20, 2)\n",
    "}"
   ]
  },
  {
   "cell_type": "code",
   "execution_count": 29,
   "metadata": {
    "collapsed": false
   },
   "outputs": [
    {
     "name": "stdout",
     "output_type": "stream",
     "text": [
      "0.953289301011\n",
      "{'max_features': None, 'criterion': 'entropy', 'max_depth': 10, 'min_samples_leaf': 15}\n",
      "CPU times: user 7.65 s, sys: 136 ms, total: 7.78 s\n",
      "Wall time: 25.6 s\n"
     ]
    }
   ],
   "source": [
    "%%time\n",
    "grid_cv_tree = GridSearchCV(estimator_tree, param_grid, scoring, n_jobs=2)\n",
    "grid_cv_tree.fit(X_train, y_train)\n",
    "print grid_cv_tree.best_score_\n",
    "print grid_cv_tree.best_params_"
   ]
  },
  {
   "cell_type": "code",
   "execution_count": 30,
   "metadata": {
    "collapsed": false
   },
   "outputs": [
    {
     "name": "stdout",
     "output_type": "stream",
     "text": [
      "['n_neighbors', 'n_jobs', 'algorithm', 'metric', 'metric_params', 'p', 'weights', 'leaf_size']\n"
     ]
    }
   ],
   "source": [
    "# Найдите оптимальный набор параметров для KNN, перебрав значения параметров по сетке. \n",
    "# Параметры для настройки: число соседей, функция расстояния, \n",
    "# схема взвешивания (или часть из этих параметров).\n",
    "\n",
    "estimator_knn = KNeighborsClassifier()\n",
    "print estimator_knn.get_params().keys()"
   ]
  },
  {
   "cell_type": "code",
   "execution_count": 31,
   "metadata": {
    "collapsed": true
   },
   "outputs": [],
   "source": [
    "param_grid = {\n",
    "    'n_neighbors': range(1, 20),\n",
    "    'metric': ['euclidean', 'manhattan', 'chebyshev', 'minkowski'],\n",
    "    'p': [3],\n",
    "    'weights': ['uniform', 'distance'],\n",
    "}"
   ]
  },
  {
   "cell_type": "code",
   "execution_count": 32,
   "metadata": {
    "collapsed": false
   },
   "outputs": [
    {
     "name": "stdout",
     "output_type": "stream",
     "text": [
      "0.967227750694\n",
      "{'n_neighbors': 14, 'metric': 'manhattan', 'weights': 'distance', 'p': 3}\n",
      "CPU times: user 5.42 s, sys: 244 ms, total: 5.67 s\n",
      "Wall time: 7min 12s\n"
     ]
    }
   ],
   "source": [
    "%%time\n",
    "grid_cv_knn = GridSearchCV(estimator_knn, param_grid, scoring, n_jobs=2)\n",
    "grid_cv_knn.fit(X_train, y_train)\n",
    "print grid_cv_knn.best_score_\n",
    "print grid_cv_knn.best_params_"
   ]
  },
  {
   "cell_type": "code",
   "execution_count": 33,
   "metadata": {
    "collapsed": false
   },
   "outputs": [
    {
     "data": {
      "text/html": [
       "<div>\n",
       "<table border=\"1\" class=\"dataframe\">\n",
       "  <thead>\n",
       "    <tr style=\"text-align: right;\">\n",
       "      <th></th>\n",
       "      <th>Name</th>\n",
       "      <th>AUC-ROC</th>\n",
       "    </tr>\n",
       "  </thead>\n",
       "  <tbody>\n",
       "    <tr>\n",
       "      <th>0</th>\n",
       "      <td>Const</td>\n",
       "      <td>0.500000</td>\n",
       "    </tr>\n",
       "    <tr>\n",
       "      <th>1</th>\n",
       "      <td>KNN</td>\n",
       "      <td>0.525816</td>\n",
       "    </tr>\n",
       "    <tr>\n",
       "      <th>2</th>\n",
       "      <td>KNN (scaled)</td>\n",
       "      <td>0.952378</td>\n",
       "    </tr>\n",
       "    <tr>\n",
       "      <th>3</th>\n",
       "      <td>Tree (scaled)</td>\n",
       "      <td>0.908641</td>\n",
       "    </tr>\n",
       "    <tr>\n",
       "      <th>4</th>\n",
       "      <td>Tree (GridSearch)</td>\n",
       "      <td>0.953714</td>\n",
       "    </tr>\n",
       "    <tr>\n",
       "      <th>5</th>\n",
       "      <td>KNN (GridSearch)</td>\n",
       "      <td>0.966837</td>\n",
       "    </tr>\n",
       "  </tbody>\n",
       "</table>\n",
       "</div>"
      ],
      "text/plain": [
       "                Name   AUC-ROC\n",
       "0              Const  0.500000\n",
       "1                KNN  0.525816\n",
       "2       KNN (scaled)  0.952378\n",
       "3      Tree (scaled)  0.908641\n",
       "4  Tree (GridSearch)  0.953714\n",
       "5   KNN (GridSearch)  0.966837"
      ]
     },
     "metadata": {},
     "output_type": "display_data"
    }
   ],
   "source": [
    "# Сравните полученные модели с моделями из предыдущих заданий.\n",
    "# Сравнение необходимо проводить на тестовой выборке, которая не участвовала в подборе и обучении.\n",
    "# Сравнение нужно проводить только по метрике, которая оптимизировалась.\n",
    "\n",
    "labels_with_grid = ['Tree (GridSearch)', 'KNN (GridSearch)']\n",
    "clfs_with_grid = [grid_cv_tree.best_estimator_, grid_cv_knn.best_estimator_]\n",
    "scores_with_grid = [clf.predict_proba(X_test)[:, 1] for clf in clfs_with_grid]\n",
    "auc_rocs_with_grid = [roc_auc_score(y_test, y_score) for y_score in scores_with_grid]\n",
    "comparison_with_grid = pd.DataFrame(data=zip(labels + labels_with_grid, auc_rocs + auc_rocs_with_grid), \n",
    "                                    columns=['Name', 'AUC-ROC'])\n",
    "display(comparison_with_grid)"
   ]
  },
  {
   "cell_type": "markdown",
   "metadata": {},
   "source": [
    "Подбор параметров по сетке помог улучшить обе выигрывающие по метрике $AUC-ROC$ модели. Решающее дерево с подобранными параметрами улучшило свой результат на 2.8%. KNN после подбора параметров увеличил свой $AUC-ROC$ на 2%, показывая в принципе наилучший результат по этой метрике среди всех рассмотренных в этом задании моделей."
   ]
  },
  {
   "cell_type": "markdown",
   "metadata": {},
   "source": [
    "<h1 align=\"center\">Примеры</h1> "
   ]
  },
  {
   "cell_type": "markdown",
   "metadata": {},
   "source": [
    "## Обучение решающего дерева"
   ]
  },
  {
   "cell_type": "code",
   "execution_count": 34,
   "metadata": {
    "collapsed": true
   },
   "outputs": [],
   "source": [
    "from sklearn.datasets import load_iris\n",
    "from sklearn.tree import DecisionTreeClassifier\n",
    "\n",
    "iris_data = load_iris()\n",
    "X, y = iris_data.data, iris_data.target\n",
    "\n",
    "clf = DecisionTreeClassifier(max_depth=3).fit(X, y)\n",
    "\n",
    "y_pred = clf.predict(X)"
   ]
  },
  {
   "cell_type": "markdown",
   "metadata": {},
   "source": [
    "#### Важность признаков"
   ]
  },
  {
   "cell_type": "markdown",
   "metadata": {},
   "source": [
    "Важность признаков вычисляется на основании частоты разбиения по признаку и глубины узлов дерева в которых происходило разбиение по признаку."
   ]
  },
  {
   "cell_type": "code",
   "execution_count": 35,
   "metadata": {
    "collapsed": false
   },
   "outputs": [
    {
     "name": "stdout",
     "output_type": "stream",
     "text": [
      "2 petal length (cm), importance = 0.59\n",
      "3 petal width (cm), importance = 0.41\n",
      "1 sepal width (cm), importance = 0.00\n",
      "0 sepal length (cm), importance = 0.00\n"
     ]
    }
   ],
   "source": [
    "most_important_features = argsort(clf.feature_importances_)[::-1]\n",
    "for idx in most_important_features:\n",
    "    print '%d %s, importance = %.2f' % (idx, iris_data.feature_names[idx], clf.feature_importances_[idx])"
   ]
  },
  {
   "cell_type": "markdown",
   "metadata": {},
   "source": [
    "#### Ошибочно классифицированные объекты обучающей выборки"
   ]
  },
  {
   "cell_type": "code",
   "execution_count": 36,
   "metadata": {
    "collapsed": false
   },
   "outputs": [
    {
     "data": {
      "text/plain": [
       "<matplotlib.text.Text at 0x7f68fa4a1250>"
      ]
     },
     "execution_count": 36,
     "metadata": {},
     "output_type": "execute_result"
    },
    {
     "data": {
      "image/png": "[encoded data removed]",
      "text/plain": [
       "<matplotlib.figure.Figure at 0x7f68f11f4a90>"
      ]
     },
     "metadata": {},
     "output_type": "display_data"
    }
   ],
   "source": [
    "xind, yind = most_important_features[0], most_important_features[1]\n",
    "err = (y != y_pred)\n",
    "scatter(X[err, xind], X[err, yind], c=y_pred[err], marker='x', s=80, linewidths=2)\n",
    "scatter(X[:, xind], X[:, yind], c=y)\n",
    "xlabel(iris_data.feature_names[xind])\n",
    "ylabel(iris_data.feature_names[yind])\n",
    "title(u'Classification errors')"
   ]
  },
  {
   "cell_type": "markdown",
   "metadata": {},
   "source": [
    "#### Визуализация дерева"
   ]
  },
  {
   "cell_type": "code",
   "execution_count": 37,
   "metadata": {
    "collapsed": true
   },
   "outputs": [],
   "source": [
    "from sklearn.tree import export_graphviz\n",
    "export_graphviz(clf, out_file='tree.dot', feature_names=iris_data.feature_names)"
   ]
  },
  {
   "cell_type": "code",
   "execution_count": 38,
   "metadata": {
    "collapsed": true
   },
   "outputs": [],
   "source": [
    "!dot -Tpng tree.dot -o tree.png"
   ]
  },
  {
   "cell_type": "code",
   "execution_count": 39,
   "metadata": {
    "collapsed": false
   },
   "outputs": [
    {
     "data": {
      "image/png": "[encoded data removed]",
      "text/plain": [
       "<IPython.core.display.Image object>"
      ]
     },
     "execution_count": 39,
     "metadata": {},
     "output_type": "execute_result"
    }
   ],
   "source": [
    "from IPython.display import Image\n",
    "Image('tree.png')"
   ]
  },
  {
   "cell_type": "markdown",
   "metadata": {},
   "source": [
    "## Кросс-валидация"
   ]
  },
  {
   "cell_type": "code",
   "execution_count": 40,
   "metadata": {
    "collapsed": true
   },
   "outputs": [],
   "source": [
    "from sklearn.datasets import load_boston\n",
    "boston_data = load_boston()\n",
    "X, y = boston_data.data, boston_data.target"
   ]
  },
  {
   "cell_type": "markdown",
   "metadata": {},
   "source": [
    "Зафиксируем разбиение для 5-fold кросс-валидации."
   ]
  },
  {
   "cell_type": "code",
   "execution_count": 41,
   "metadata": {
    "collapsed": true
   },
   "outputs": [],
   "source": [
    "from sklearn.cross_validation import KFold\n",
    "cv = KFold(n=len(y), n_folds=5, shuffle=True, random_state=123)"
   ]
  },
  {
   "cell_type": "markdown",
   "metadata": {},
   "source": [
    "Обратите внимание на аргументы:\n",
    " \n",
    "\n",
    "- shuffle=True — без него фолды будут формироваться из последовательно идущих объектов, что нехорошо — в этом поможет убедиться задание в части 2;\n",
    "- random_state — если этот параметр не выставить, то после каждого запуска команды будет генерироваться новое разбиение на фолды; крайне желательно, чтобы ваши эксперименты были в точности воспроизводимы — это упрощает исследования.\n",
    "\n",
    "\n",
    "Оценим качество регрессии KNN на наборе Boston Housing для различных значений K (число соседей). В качестве метрики качества возьмем модуль отклонения:\n",
    "\n",
    " $MAE=\\sum_i|y_{pred,i}-y_i|$\n"
   ]
  },
  {
   "cell_type": "code",
   "execution_count": 42,
   "metadata": {
    "collapsed": true
   },
   "outputs": [],
   "source": [
    "from sklearn.neighbors import KNeighborsRegressor\n",
    "from sklearn.cross_validation import cross_val_score"
   ]
  },
  {
   "cell_type": "markdown",
   "metadata": {},
   "source": [
    "Переберем ряд значений n_neigbors, для каждого оценим среднее и стандартное отклонение MAE по кросс-валидации. Магия %%time позволяет измерить время работы ячейки с кодом."
   ]
  },
  {
   "cell_type": "code",
   "execution_count": 43,
   "metadata": {
    "collapsed": false
   },
   "outputs": [
    {
     "name": "stdout",
     "output_type": "stream",
     "text": [
      "CPU times: user 420 ms, sys: 0 ns, total: 420 ms\n",
      "Wall time: 420 ms\n"
     ]
    }
   ],
   "source": [
    "%%time \n",
    "\n",
    "k_values = range(1, 10) + range(10, 50, 5)\n",
    "mae_cv_mean = []\n",
    "mae_cv_std = []\n",
    "\n",
    "for k in k_values:\n",
    "    clf = KNeighborsRegressor(n_neighbors=k)\n",
    "    mae_folds = -cross_val_score(clf, X, y, cv=cv, scoring='mean_absolute_error')\n",
    "    mae_cv_mean.append(mae_folds.mean())\n",
    "    mae_cv_std.append(mae_folds.std())"
   ]
  },
  {
   "cell_type": "markdown",
   "metadata": {},
   "source": [
    "#### График, демонстрирующий оптимальность выбора числа соседей"
   ]
  },
  {
   "cell_type": "code",
   "execution_count": 44,
   "metadata": {
    "collapsed": false
   },
   "outputs": [
    {
     "data": {
      "text/plain": [
       "<matplotlib.text.Annotation at 0x7f68fa3c7590>"
      ]
     },
     "execution_count": 44,
     "metadata": {},
     "output_type": "execute_result"
    },
    {
     "data": {
      "image/png": "[encoded data removed]",
      "text/plain": [
       "<matplotlib.figure.Figure at 0x7f68eee85890>"
      ]
     },
     "metadata": {},
     "output_type": "display_data"
    }
   ],
   "source": [
    "figure(figsize=(8, 4))\n",
    "errorbar(k_values, mae_cv_mean, yerr=array(mae_cv_std)*2)\n",
    "title('Choosing optimal number of neighbors with 5-Fold Cross-Validation')\n",
    "xlabel('n_neighbors')\n",
    "ylabel('mean absolute error')\n",
    "\n",
    "opt_idx = argmin(mae_cv_mean)\n",
    "optimal_k = k_values[opt_idx]\n",
    "optimal_mae = mae_cv_mean[opt_idx]\n",
    "annotate('n_neighbors=%d\\nMAE=%f' % (optimal_k, optimal_mae), \n",
    "         xy=(opt_idx, optimal_mae), xytext=(30, optimal_mae), \n",
    "         arrowprops=dict(facecolor='black', shrink=0.05, alpha=0.5))"
   ]
  }
 ],
 "metadata": {
  "kernelspec": {
   "display_name": "Python [Root]",
   "language": "python",
   "name": "Python [Root]"
  },
  "language_info": {
   "codemirror_mode": {
    "name": "ipython",
    "version": 2
   },
   "file_extension": ".py",
   "mimetype": "text/x-python",
   "name": "python",
   "nbconvert_exporter": "python",
   "pygments_lexer": "ipython2",
   "version": "2.7.12"
  }
 },
 "nbformat": 4,
 "nbformat_minor": 0
}
