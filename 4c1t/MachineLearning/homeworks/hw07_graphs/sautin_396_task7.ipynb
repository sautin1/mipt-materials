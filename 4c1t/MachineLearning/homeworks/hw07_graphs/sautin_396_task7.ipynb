{
 "cells": [
  {
   "cell_type": "markdown",
   "metadata": {},
   "source": [
    "## Домашнее здание №2 / Link Prediction\n",
    "\n",
    "### Саутин Андрей / 396\n",
    "\n",
    "----\n",
    "План выполнения домашнего задания:\n",
    "\n",
    "1. Краткий обзор исходных данных\n",
    "2. Генерация дополнительных данных\n",
    "3. Создание матрицы признаков для ребер\n",
    "4. Настройка модели и валидация качества модели\n",
    "5. Отправка результатов в контест на Kaggle"
   ]
  },
  {
   "cell_type": "markdown",
   "metadata": {},
   "source": [
    "----\n",
    "\n",
    "В данном домашнем задании вам предстоит построить классификатор, который бы предсказывал наличие или отсутствия ребра в графе между двумя вершинами. Никакой дополнительной информации о вершинах, кроме ее соседей нет, поэтому вам придется создавать вектор признаков для каждой пары вершин на основе топологии графа.\n",
    "\n",
    "Вершины графа - товары интернет магазина, наличие ребра символизируют о высокой частоте совместной покупки данных товаров вместе. Например если в нашем графе присутствую вершины молоко и хлеб и данные товары часто покупаются вместе, то между данными вершинами будет ребро. Если в нашем графе есть вершины молоко и кроссовки, то между данными вершинами ребра не будет. \n",
    "\n",
    "В данном датасете уровень относительной частоты по которому решается есть ребро между вершинами или его нет был определен за нас. Сам датасет был получен краулингом сайта Amazon.com в марте 2003 года, парсилась секция \"Люди которые купили данный продукт, также преобретали это...\"\n",
    "\n",
    "Мотивация данного задания: Расширить список блока рекомендаций, за счет товаров которые с высокой вероятность могут оказаться в одной корзине покупателя.\n",
    "\n",
    "----\n",
    "Для создания модели и работы с данными мы будем использовать пакет GraphLab, структуры данных SFrame и SGraph идеально подходят для работы с графами. Распределенное хранение данных и применения функций для расчета метрик отдельных вершин сильно облегчают работу с графом.\n",
    "\n",
    "Библиотека платная, но лицензия для академических целей получается в течении 5 минут, чтобы установить пакет следуйте шагам на сайте - https://turi.com/download/academic.html\n",
    "\n",
    "----"
   ]
  },
  {
   "cell_type": "markdown",
   "metadata": {},
   "source": [
    "Описание файлов:\n",
    "\n",
    "1. the_graph.csv - файл содержащий ребра графа, две колонки: src,dst \n",
    "2. suspicions.csv - файл с ребрами, графа. Для данных ребер неизвестно присутствует ли оно в графе или нет.\n",
    "\n",
    "Описание целевой метрики - в качестве целевой метрики будем использовать ROC AUC http://mlwiki.org/index.php/ROC_Analysis"
   ]
  },
  {
   "cell_type": "markdown",
   "metadata": {},
   "source": [
    "----"
   ]
  },
  {
   "cell_type": "code",
   "execution_count": 1,
   "metadata": {
    "collapsed": false
   },
   "outputs": [
    {
     "name": "stdout",
     "output_type": "stream",
     "text": [
      "This non-commercial license of GraphLab Create for academic use is assigned to sautin@phystech.edu and will expire on November 13, 2017.\n"
     ]
    },
    {
     "name": "stderr",
     "output_type": "stream",
     "text": [
      "[INFO] graphlab.cython.cy_server: GraphLab Create v2.1 started. Logging: /tmp/graphlab_server_1479241806.log\n"
     ]
    }
   ],
   "source": [
    "import graphlab as gl\n",
    "import numpy as np\n",
    "import pandas as pd\n",
    "from matplotlib import pyplot as plt\n",
    "\n",
    "%matplotlib inline\n",
    "\n",
    "gl.canvas.set_target('ipynb')"
   ]
  },
  {
   "cell_type": "markdown",
   "metadata": {},
   "source": [
    "### 1. Краткий обзор исходных данных - 10 Баллов\n",
    "\n",
    "Загрузим данные, найдем ряд базовых статистик:\n",
    "\n",
    "1. Количество вершин и ребер\n",
    "2. Распределение степеней вершин графа (График log - log)\n",
    "3. Плотность графа\n",
    "4. Диаметр графа\n",
    "5. Количество треугольников в графе\n",
    "6. Краткие выводы о данных.\n",
    "7. БОНУСЫ - сделайте красивую визулизацию или расчет дополнительных метрик с выводами и вы получите дополнительные баллы за задание"
   ]
  },
  {
   "cell_type": "code",
   "execution_count": 2,
   "metadata": {
    "collapsed": false
   },
   "outputs": [],
   "source": [
    "edges = gl.SFrame.read_csv('the_graph.csv', delimiter=',', verbose=False)"
   ]
  },
  {
   "cell_type": "code",
   "execution_count": 3,
   "metadata": {
    "collapsed": true
   },
   "outputs": [],
   "source": [
    "g = gl.SGraph().add_edges(edges, src_field='src', dst_field='dst')"
   ]
  },
  {
   "cell_type": "markdown",
   "metadata": {},
   "source": [
    "#### 1.1. Количество вершин и ребер"
   ]
  },
  {
   "cell_type": "code",
   "execution_count": 4,
   "metadata": {
    "collapsed": false
   },
   "outputs": [
    {
     "name": "stdout",
     "output_type": "stream",
     "text": [
      "Number of vertices = 262111\n",
      "Number of edges = 1384871\n"
     ]
    }
   ],
   "source": [
    "vert_edgs = g.summary()\n",
    "vert_count = vert_edgs['num_vertices']\n",
    "edge_count = vert_edgs['num_edges']\n",
    "\n",
    "print 'Number of vertices = {0}'.format(vert_count)\n",
    "print 'Number of edges = {0}'.format(edge_count)"
   ]
  },
  {
   "cell_type": "markdown",
   "metadata": {},
   "source": [
    "Выполните пункты 2 - 6. В пункте 6 напишите краткие выводы."
   ]
  },
  {
   "cell_type": "markdown",
   "metadata": {
    "collapsed": true
   },
   "source": [
    "#### 1.2. Распределение степеней вершин графа (График log - log)"
   ]
  },
  {
   "cell_type": "code",
   "execution_count": 5,
   "metadata": {
    "collapsed": false
   },
   "outputs": [
    {
     "name": "stdout",
     "output_type": "stream",
     "text": [
      "+------+--------------+\n",
      "| __id | total_degree |\n",
      "+------+--------------+\n",
      "|  5   |      59      |\n",
      "|  7   |      40      |\n",
      "|  8   |     300      |\n",
      "|  10  |      41      |\n",
      "|  27  |      46      |\n",
      "|  29  |      47      |\n",
      "|  33  |     367      |\n",
      "|  47  |      10      |\n",
      "|  50  |      11      |\n",
      "|  52  |      20      |\n",
      "+------+--------------+\n",
      "[10 rows x 2 columns]\n",
      "\n"
     ]
    }
   ],
   "source": [
    "# count degrees\n",
    "deg = gl.degree_counting.create(g)\n",
    "deg_graph = deg['graph']\n",
    "degrees_in = deg_graph.vertices[['__id', 'in_degree']]\n",
    "degrees_out = deg_graph.vertices[['__id', 'out_degree']]\n",
    "degrees_total = deg_graph.vertices[['__id', 'total_degree']]\n",
    "degrees_total_val = degrees_total['total_degree']\n",
    "print degrees_total.head()"
   ]
  },
  {
   "cell_type": "code",
   "execution_count": 6,
   "metadata": {
    "collapsed": false
   },
   "outputs": [
    {
     "data": {
      "image/png": "[encoded data removed]",
      "text/plain": [
       "<matplotlib.figure.Figure at 0x7fb5a8d5fb90>"
      ]
     },
     "metadata": {},
     "output_type": "display_data"
    }
   ],
   "source": [
    "degrees = np.array(sorted(degrees_total_val, reverse=True))\n",
    "plt.xscale('log'), plt.yscale('log')\n",
    "plt.scatter(degrees, 1 + np.arange(degrees.shape[0]), \n",
    "            label = 'cCDF', c = 'blue', marker = '+')\n",
    "plt.title('cCDF. Degree - Quantity for graph vertices')\n",
    "plt.xlabel('Degree'), plt.ylabel('Quantity')\n",
    "plt.show()"
   ]
  },
  {
   "cell_type": "code",
   "execution_count": 7,
   "metadata": {
    "collapsed": false
   },
   "outputs": [],
   "source": [
    "## prepare data for plotting\n",
    "# degrees_total_val = degrees_total['total_degree']\n",
    "# hist, bin_edges = np.histogram(degrees_total_val, bins='auto', density=False)\n",
    "# hist = hist / float(np.sum(hist))\n",
    "# hist_sum = np.cumsum(hist)\n",
    "# print hist_sum.shape\n",
    "# print bin_edges.shape\n",
    "\n",
    "# plt.xscale('log'), plt.yscale('log')\n",
    "# plt.title('Graph Vertices Total Degree CDF & PDF')\n",
    "# plt.xlabel('x')\n",
    "# plt.plot(bin_edges[:-1], hist, label='PDF, probability P(x)')\n",
    "# plt.plot(bin_edges[:-1], hist_sum, label='CDF, probability (degree <= x)')\n",
    "# plt.legend(fontsize='x-small')\n",
    "# plt.show()"
   ]
  },
  {
   "cell_type": "markdown",
   "metadata": {},
   "source": [
    "#### 1.3. Плотность графа"
   ]
  },
  {
   "cell_type": "code",
   "execution_count": 8,
   "metadata": {
    "collapsed": false
   },
   "outputs": [
    {
     "name": "stdout",
     "output_type": "stream",
     "text": [
      "Graph density: 4.03153541186e-05\n"
     ]
    }
   ],
   "source": [
    "graph_density = 2 * float(edge_count) / (vert_count * (vert_count - 1))\n",
    "print 'Graph density: {}'.format(graph_density)"
   ]
  },
  {
   "cell_type": "markdown",
   "metadata": {},
   "source": [
    "#### 1.4. Диаметр графа"
   ]
  },
  {
   "cell_type": "code",
   "execution_count": 9,
   "metadata": {
    "collapsed": false
   },
   "outputs": [
    {
     "name": "stdout",
     "output_type": "stream",
     "text": [
      "Graph diameter = INF\n",
      "CPU times: user 1min 7s, sys: 708 ms, total: 1min 8s\n",
      "Wall time: 29.3 s\n"
     ]
    }
   ],
   "source": [
    "%%time\n",
    "graph_diam = 0\n",
    "\n",
    "for i in xrange(vert_count):\n",
    "    sp = gl.shortest_path.create(g, source_vid=i, verbose=False)\n",
    "    sp_sframe = sp['distance']['distance']\n",
    "    graph_diam = max(sp_sframe.max(), graph_diam)\n",
    "    if graph_diam > vert_count - 1:\n",
    "        break\n",
    "\n",
    "print 'Graph diameter = {}'.format(graph_diam if graph_diam <= vert_count - 1 else 'INF')"
   ]
  },
  {
   "cell_type": "markdown",
   "metadata": {},
   "source": [
    "#### 1.5. Количество треугольников в графе"
   ]
  },
  {
   "cell_type": "code",
   "execution_count": 10,
   "metadata": {
    "collapsed": false
   },
   "outputs": [
    {
     "data": {
      "text/html": [
       "<pre>Initializing vertex ids.</pre>"
      ],
      "text/plain": [
       "Initializing vertex ids."
      ]
     },
     "metadata": {},
     "output_type": "display_data"
    },
    {
     "data": {
      "text/html": [
       "<pre>Removing duplicate (bidirectional) edges.</pre>"
      ],
      "text/plain": [
       "Removing duplicate (bidirectional) edges."
      ]
     },
     "metadata": {},
     "output_type": "display_data"
    },
    {
     "data": {
      "text/html": [
       "<pre>Counting triangles...</pre>"
      ],
      "text/plain": [
       "Counting triangles..."
      ]
     },
     "metadata": {},
     "output_type": "display_data"
    },
    {
     "data": {
      "text/html": [
       "<pre>Finished in 9.98595 secs.</pre>"
      ],
      "text/plain": [
       "Finished in 9.98595 secs."
      ]
     },
     "metadata": {},
     "output_type": "display_data"
    },
    {
     "data": {
      "text/html": [
       "<pre>Total triangles in the graph : 717754</pre>"
      ],
      "text/plain": [
       "Total triangles in the graph : 717754"
      ]
     },
     "metadata": {},
     "output_type": "display_data"
    },
    {
     "name": "stdout",
     "output_type": "stream",
     "text": [
      "Triangle count = 717754\n"
     ]
    }
   ],
   "source": [
    "tc = gl.triangle_counting.create(g)\n",
    "triangle_count = tc['num_triangles']\n",
    "print 'Triangle count = {}'.format(triangle_count)"
   ]
  },
  {
   "cell_type": "markdown",
   "metadata": {},
   "source": [
    "#### 1.6. Краткие выводы о данных"
   ]
  },
  {
   "cell_type": "markdown",
   "metadata": {},
   "source": [
    "Ребер всего в ~5 раз больше, чем вершин, что при таких размерностях говорит о том, что граф скорее можно назвать разреженным нежели полным. Это подтверждается и наличием пар недостижимых вершин, а также очень низкой плотностью графа. \n",
    "Кроме того в графе присутствует большое количество треугольников, что говорит о наличии преимущественно близких связей (\"правило 6-ти рукопожатий\"). Эта же идея находит отражение и в том факте, что распределение степеней вершин близко к экспоненциальному.  \n",
    "\n",
    "В итоге, имеем достаточно большую, но разреженную сеть с недостижимыми вершинами и наличием подграфов, плотность внутри которых сильно выше плотности по всему графу."
   ]
  },
  {
   "cell_type": "markdown",
   "metadata": {},
   "source": [
    "#### 1.7. Направленность ребер (дополнительно)"
   ]
  },
  {
   "cell_type": "code",
   "execution_count": 11,
   "metadata": {
    "collapsed": false
   },
   "outputs": [
    {
     "name": "stdout",
     "output_type": "stream",
     "text": [
      "Graph is directed\n"
     ]
    }
   ],
   "source": [
    "# check directed/undirected\n",
    "edges_undir = zip(edges['src'], edges['dst']) + zip(edges['dst'], edges['src'])\n",
    "directed = len(set(edges_undir)) < len(edges_undir)\n",
    "print 'Graph is {}'.format('directed' if directed else 'undirected')"
   ]
  },
  {
   "cell_type": "markdown",
   "metadata": {},
   "source": [
    "#### 1.8. Количество компонент слабой связности (дополнительно)"
   ]
  },
  {
   "cell_type": "code",
   "execution_count": 12,
   "metadata": {
    "collapsed": false
   },
   "outputs": [
    {
     "name": "stdout",
     "output_type": "stream",
     "text": [
      "Number of weak components: 6\n"
     ]
    }
   ],
   "source": [
    "cc = gl.connected_components.create(g, verbose=0)\n",
    "cc_ids = cc['component_id']\n",
    "print 'Number of weak components: {}'.format(cc_ids['component_id'].max())"
   ]
  },
  {
   "cell_type": "markdown",
   "metadata": {},
   "source": [
    "Несмотря на малое количество ребер в графе, выделяются всего 6 компонент слабой связности, что говорит о тесной связи между продуктами, представленными в виде вершин графа."
   ]
  },
  {
   "cell_type": "markdown",
   "metadata": {},
   "source": [
    "----\n",
    "### 2. Генерация дополнительных данных - 20 Баллов\n",
    "\n",
    "Перед нами стоит задача создания модели классификации, которая в дальнейшем будет использоваться для повышения разнообразия блока рекомендаций. Для большинства моделей классификации требуется минимум 2 класса объектов - негативный и позитивный. Но у нас есть только граф, ребра которые в нем присутствуют это позитивные примеры. Получается, что у нас нет негативных примеров. \n",
    "\n",
    "Ответьте на 3 вопроса:\n",
    "\n",
    "1. Можем ли мы сами создать негативные примеры? Граф это описание связей между вершинами, если мы будем случайным образом выбирать две вершины и считать, что это ребро - негативный пример, имеет ли это смысл?\n",
    "2. Если мы решим сгенерировать негативные примеры, как должна быть устроена процедура генерации, чтобы обобщаяющая способность модели была наилучшей?\n",
    "3. Как зависит обобщающая способность модели от негативных примеров, которые мы ей покажем?"
   ]
  },
  {
   "cell_type": "markdown",
   "metadata": {},
   "source": [
    "__Ответы:__\n",
    "1. Мы можем сами создать негативные примеры, однако результат классификации будет напрямую зависеть от определенного нами способа их выбора. Ведь если ребро отсутствует между двумя вершинами в исходном графе, то возможны два случая:  \n",
    "    * ребра действительно нет;\n",
    "    * ребро есть, но нам не было об этом сказано (т.е. ожидается, что мы предскажем наличие этого ребра).  \n",
    "   \n",
    "    В связи с этим абсолютно бессмысленно генерировать негативные примеры, выбирая две случайных вершины и проверяя наличие ребра между ними в исходном графе. \n",
    "    \n",
    "    Если подразумевалось, что все ребра, не встречающиеся в тестовой выборке и в исходном графе гарантированно отсутствуют, то все эти рассуждения не имеют большого смысла. В таком случае для генерации негативных примеров достаточно взять все ребра из дополнения данного графа и удалить из этого множества те, что встречаются в тесте.\n",
    "\n",
    "2. Хотелось бы устроить генерацию так, чтобы с высокой вероятностью не считать негативными примерами те ребра, которые на самом деле существуют. Например, можно рассчитать наименьшее расстояние между всеми вершинами и считать негативными примерами те пары вершин, кратчайшее расстояние между которыми превышает какую-то константу. В нашей предметной области это будет значить, что товары вряд ли сильно связаны по своей сути и скорее всего относятся к разным категориям товаров. Таким образом, мы используем некоторые известные нам характеристики графа, а также учитываем природу его возникновения.\n",
    "\n",
    "3. Чтобы поддержать обобщающую способность модели необходимо генерировать негативные примеры, минимально опираясь на структуру конкретно этого графа и используя наиболее общие для всех подобных графов статистики.\n",
    "\n",
    "Также для повышения результата логично исключить из негативных примеров ребра, которые присутствуют в тесте."
   ]
  },
  {
   "cell_type": "markdown",
   "metadata": {},
   "source": [
    "------\n",
    "Создадим класс отрицательных примеров, сгенерировав его самым простым образом: берем две вершины, если ребро между ними отсутствует в графе, то это отрицательный пример.\n",
    "\n",
    "1. Попробуйте улучшить генерацию отрицательных примеров"
   ]
  },
  {
   "cell_type": "code",
   "execution_count": 13,
   "metadata": {
    "collapsed": false
   },
   "outputs": [
    {
     "name": "stdout",
     "output_type": "stream",
     "text": [
      "1384871\n"
     ]
    }
   ],
   "source": [
    "# read in existing edges\n",
    "graph_file = open('the_graph.csv')\n",
    "graph_file.readline() # first line is column names\n",
    "existing_edges = set()\n",
    "\n",
    "for x in graph_file:\n",
    "    start, end = x.split(',')\n",
    "    start, end = int(start), int(end)\n",
    "    existing_edges.add((start, end))\n",
    "    \n",
    "print len(existing_edges)"
   ]
  },
  {
   "cell_type": "code",
   "execution_count": 14,
   "metadata": {
    "collapsed": false
   },
   "outputs": [
    {
     "name": "stdout",
     "output_type": "stream",
     "text": [
      "299994\n"
     ]
    }
   ],
   "source": [
    "# read test edges\n",
    "test_edges = set()\n",
    "with open('suspicions.csv') as test_file:\n",
    "    test_file.readline() # first line is column names\n",
    "    for line in test_file:\n",
    "        _, start, end = map(int, line.split(','))\n",
    "        test_edges.add((start, end))\n",
    "\n",
    "print len(test_edges)"
   ]
  },
  {
   "cell_type": "code",
   "execution_count": 15,
   "metadata": {
    "collapsed": false
   },
   "outputs": [
    {
     "name": "stdout",
     "output_type": "stream",
     "text": [
      "1384832\n"
     ]
    }
   ],
   "source": [
    "# generating negative examples, so that class balance is 50/50 \n",
    "generated_nonexisting_edges = []\n",
    "counter = 0\n",
    "while True:\n",
    "    start = np.random.randint(0, vert_edgs['num_vertices'])\n",
    "    end = np.random.randint(0, vert_edgs['num_vertices'])\n",
    "    \n",
    "    if (start != end) and ((start, end) not in existing_edges):\n",
    "        generated_nonexisting_edges.append([start, end, 0])\n",
    "        \n",
    "    counter += 1\n",
    "    if counter == vert_edgs['num_edges']:\n",
    "        break\n",
    "\n",
    "print len(generated_nonexisting_edges)"
   ]
  },
  {
   "cell_type": "code",
   "execution_count": 16,
   "metadata": {
    "collapsed": true
   },
   "outputs": [],
   "source": [
    "# # generating negative examples using distances\n",
    "# # is very time-consuming, therefore I used stupidly generated negative examples + filtered those that are in test\n",
    "\n",
    "# DIST_MAX_HAS_EDGE = 5\n",
    "\n",
    "# generated_nonexisting_edges = []\n",
    "# for counter in xrange(vert_edgs['num_edges']):\n",
    "#     while True:\n",
    "#         start = np.random.randint(0, vert_edgs['num_vertices'])\n",
    "#         end = np.random.randint(0, vert_edgs['num_vertices'])\n",
    "#         sp = gl.shortest_path.create(g, source_vid=start, verbose=False)\n",
    "#         sp_sframe = sp['distance']\n",
    "#         sp_sframe = sp_sframe[sp_sframe['__id'] == end]\n",
    "#         sp_sframe.materialize()\n",
    "#         dist = sp_sframe['distance'][0]\n",
    "\n",
    "#         if (start != end) and ((start, end) not in existing_edges) and (dist > DIST_MAX_HAS_EDGE):\n",
    "#             generated_nonexisting_edges.append([start, end, 0])\n",
    "# #             print 'added ', start, ' -> ', end\n",
    "#             break\n",
    "\n",
    "# print len(generated_nonexisting_edges)"
   ]
  },
  {
   "cell_type": "code",
   "execution_count": 17,
   "metadata": {
    "collapsed": false
   },
   "outputs": [
    {
     "name": "stdout",
     "output_type": "stream",
     "text": [
      "1384871\n",
      "CPU times: user 16.3 s, sys: 116 ms, total: 16.4 s\n",
      "Wall time: 16.4 s\n"
     ]
    }
   ],
   "source": [
    "%%time\n",
    "# generating negative examples\n",
    "\n",
    "generated_nonexisting_edges = []\n",
    "for counter in xrange(vert_edgs['num_edges']):\n",
    "    while True:\n",
    "        start = np.random.randint(0, vert_edgs['num_vertices'])\n",
    "        end = np.random.randint(0, vert_edgs['num_vertices'])\n",
    "\n",
    "        if (start != end) and ((start, end) not in existing_edges) and ((start, end) not in test_edges):\n",
    "            generated_nonexisting_edges.append([start, end, 0])\n",
    "#             print 'added ', start, ' -> ', end\n",
    "            break\n",
    "\n",
    "print len(generated_nonexisting_edges)"
   ]
  },
  {
   "cell_type": "code",
   "execution_count": 18,
   "metadata": {
    "collapsed": false
   },
   "outputs": [],
   "source": [
    "# create SFrame with negative examples\n",
    "generated_nonexisting_edges = pd.DataFrame(data=generated_nonexisting_edges, columns=['src', 'dst', 'class'])\n",
    "generated_nonexisting_edges = gl.SFrame(data=generated_nonexisting_edges)"
   ]
  },
  {
   "cell_type": "code",
   "execution_count": 19,
   "metadata": {
    "collapsed": true
   },
   "outputs": [],
   "source": [
    "# add target function to the original dataset \n",
    "edges['class'] = [1]*edges.shape[0]"
   ]
  },
  {
   "cell_type": "code",
   "execution_count": 20,
   "metadata": {
    "collapsed": false
   },
   "outputs": [],
   "source": [
    "# add negative examples to the main data and shuffle\n",
    "edges = edges.append(generated_nonexisting_edges)\n",
    "edges = gl.cross_validation.shuffle(edges)"
   ]
  },
  {
   "cell_type": "code",
   "execution_count": 21,
   "metadata": {
    "collapsed": false
   },
   "outputs": [],
   "source": [
    "# update our graph g with fake edges\n",
    "g = gl.SGraph().add_edges(edges, src_field='src', dst_field='dst')"
   ]
  },
  {
   "cell_type": "code",
   "execution_count": 22,
   "metadata": {
    "collapsed": false
   },
   "outputs": [
    {
     "name": "stdout",
     "output_type": "stream",
     "text": [
      "Number of vertices = 262111\n",
      "Number of edges = 2769742\n"
     ]
    }
   ],
   "source": [
    "vert_edgs = g.summary()\n",
    "\n",
    "print 'Number of vertices = {0}'.format(vert_edgs['num_vertices'])\n",
    "print 'Number of edges = {0}'.format(vert_edgs['num_edges'])"
   ]
  },
  {
   "cell_type": "code",
   "execution_count": 23,
   "metadata": {
    "collapsed": false
   },
   "outputs": [
    {
     "name": "stdout",
     "output_type": "stream",
     "text": [
      "+--------+--------+-------+\n",
      "|  src   |  dst   | class |\n",
      "+--------+--------+-------+\n",
      "| 108328 | 57592  |   1   |\n",
      "| 210251 | 215436 |   1   |\n",
      "| 95770  | 141433 |   0   |\n",
      "|  636   | 12365  |   0   |\n",
      "| 153639 | 40560  |   0   |\n",
      "+--------+--------+-------+\n",
      "[5 rows x 3 columns]\n",
      "\n"
     ]
    }
   ],
   "source": [
    "print edges[:5]"
   ]
  },
  {
   "cell_type": "markdown",
   "metadata": {},
   "source": [
    "----\n",
    "### 3. Создание матрицы признаков для ребер - 30 Баллов\n",
    "\n",
    "Для создания модели классификации нам необходимы признаки, которые описывают каждое ребро. Вот базовый список того, что можно посчитать:\n",
    "\n",
    "Для вершин:\n",
    "\n",
    "1. Список и количество вершин, из которых ребра приходят в данную вершину\n",
    "2. Список и количество вершин, в которые ребра приходят из данной вершины\n",
    "3. Список и количество вершин связанных с данной вершиной\n",
    "4. Список и количество вершин, которые связанны с данной вершиной как входящими, так и исходящими ребрами\n",
    "\n",
    "Также можно добавить: вершины с которыми данная вершина образует треугольники, кластеризовать вершины и использовать кластер данной вершины и др.\n",
    "\n",
    "Придумайте дополнительные интересные признаки для вершин и вы получите дополнительный балл за домашнюю работу!"
   ]
  },
  {
   "cell_type": "code",
   "execution_count": 24,
   "metadata": {
    "collapsed": false
   },
   "outputs": [
    {
     "data": {
      "text/html": [
       "<div style=\"max-height:1000px;max-width:1500px;overflow:auto;\"><table frame=\"box\" rules=\"cols\">\n",
       "    <tr>\n",
       "        <th style=\"padding-left: 1em; padding-right: 1em; text-align: center\">id</th>\n",
       "    </tr>\n",
       "    <tr>\n",
       "        <td style=\"padding-left: 1em; padding-right: 1em; text-align: center; vertical-align: top\">5</td>\n",
       "    </tr>\n",
       "    <tr>\n",
       "        <td style=\"padding-left: 1em; padding-right: 1em; text-align: center; vertical-align: top\">7</td>\n",
       "    </tr>\n",
       "    <tr>\n",
       "        <td style=\"padding-left: 1em; padding-right: 1em; text-align: center; vertical-align: top\">8</td>\n",
       "    </tr>\n",
       "    <tr>\n",
       "        <td style=\"padding-left: 1em; padding-right: 1em; text-align: center; vertical-align: top\">10</td>\n",
       "    </tr>\n",
       "    <tr>\n",
       "        <td style=\"padding-left: 1em; padding-right: 1em; text-align: center; vertical-align: top\">27</td>\n",
       "    </tr>\n",
       "</table>\n",
       "[5 rows x 1 columns]<br/>\n",
       "</div>"
      ],
      "text/plain": [
       "Columns:\n",
       "\tid\tint\n",
       "\n",
       "Rows: 5\n",
       "\n",
       "Data:\n",
       "+----+\n",
       "| id |\n",
       "+----+\n",
       "| 5  |\n",
       "| 7  |\n",
       "| 8  |\n",
       "| 10 |\n",
       "| 27 |\n",
       "+----+\n",
       "[5 rows x 1 columns]"
      ]
     },
     "execution_count": 24,
     "metadata": {},
     "output_type": "execute_result"
    }
   ],
   "source": [
    "all_vertices = g.get_vertices()\n",
    "all_vertices.rename({\"__id\": \"id\"}) \n",
    "all_vertices.head(5)"
   ]
  },
  {
   "cell_type": "code",
   "execution_count": 25,
   "metadata": {
    "collapsed": false
   },
   "outputs": [
    {
     "name": "stdout",
     "output_type": "stream",
     "text": [
      "+--------+-------------------------------+\n",
      "|   id   |          out_vertices         |\n",
      "+--------+-------------------------------+\n",
      "| 251434 | [250137, 56222, 115886, 25... |\n",
      "| 211023 | [232183, 202342, 181032, 1... |\n",
      "| 21855  | [104905, 15075, 25114, 251... |\n",
      "| 233270 | [258684, 139583, 200836, 1... |\n",
      "| 88004  | [244635, 64573, 72281, 880... |\n",
      "+--------+-------------------------------+\n",
      "[5 rows x 2 columns]\n",
      "\n"
     ]
    }
   ],
   "source": [
    "# calculating each vertices in and out connections\n",
    "out_vertices = edges.groupby(\"src\", {\"out_vertices\": gl.aggregate.CONCAT(\"dst\")})\n",
    "out_vertices.rename({\"src\": \"id\"})\n",
    "\n",
    "in_vertices = edges.groupby(\"dst\", {\"in_vertices\": gl.aggregate.CONCAT(\"src\")})\n",
    "in_vertices.rename({\"dst\": \"id\"})\n",
    "print out_vertices[:5]"
   ]
  },
  {
   "cell_type": "code",
   "execution_count": 26,
   "metadata": {
    "collapsed": false
   },
   "outputs": [
    {
     "data": {
      "text/html": [
       "<div style=\"max-height:1000px;max-width:1500px;overflow:auto;\"><table frame=\"box\" rules=\"cols\">\n",
       "    <tr>\n",
       "        <th style=\"padding-left: 1em; padding-right: 1em; text-align: center\">id</th>\n",
       "        <th style=\"padding-left: 1em; padding-right: 1em; text-align: center\">out_vertices</th>\n",
       "        <th style=\"padding-left: 1em; padding-right: 1em; text-align: center\">in_vertices</th>\n",
       "    </tr>\n",
       "    <tr>\n",
       "        <td style=\"padding-left: 1em; padding-right: 1em; text-align: center; vertical-align: top\">251434</td>\n",
       "        <td style=\"padding-left: 1em; padding-right: 1em; text-align: center; vertical-align: top\">[250137, 56222, 115886,<br>255120, 4126, 240147, ...</td>\n",
       "        <td style=\"padding-left: 1em; padding-right: 1em; text-align: center; vertical-align: top\">[146977, 53134, 204624,<br>149617, 13675, 250137, ...</td>\n",
       "    </tr>\n",
       "    <tr>\n",
       "        <td style=\"padding-left: 1em; padding-right: 1em; text-align: center; vertical-align: top\">211023</td>\n",
       "        <td style=\"padding-left: 1em; padding-right: 1em; text-align: center; vertical-align: top\">[232183, 202342, 181032,<br>198886, 129442, 159269, ...</td>\n",
       "        <td style=\"padding-left: 1em; padding-right: 1em; text-align: center; vertical-align: top\">[236267, 109374, 130553,<br>248527, 233626, 198886, ...</td>\n",
       "    </tr>\n",
       "    <tr>\n",
       "        <td style=\"padding-left: 1em; padding-right: 1em; text-align: center; vertical-align: top\">21855</td>\n",
       "        <td style=\"padding-left: 1em; padding-right: 1em; text-align: center; vertical-align: top\">[104905, 15075, 25114,<br>25115, 21854, 184729, ...</td>\n",
       "        <td style=\"padding-left: 1em; padding-right: 1em; text-align: center; vertical-align: top\">[162607, 37428, 191808,<br>49405, 64737, 126985, ...</td>\n",
       "    </tr>\n",
       "</table>\n",
       "[3 rows x 3 columns]<br/>\n",
       "</div>"
      ],
      "text/plain": [
       "Columns:\n",
       "\tid\tint\n",
       "\tout_vertices\tlist\n",
       "\tin_vertices\tlist\n",
       "\n",
       "Rows: 3\n",
       "\n",
       "Data:\n",
       "+--------+-------------------------------+-------------------------------+\n",
       "|   id   |          out_vertices         |          in_vertices          |\n",
       "+--------+-------------------------------+-------------------------------+\n",
       "| 251434 | [250137, 56222, 115886, 25... | [146977, 53134, 204624, 14... |\n",
       "| 211023 | [232183, 202342, 181032, 1... | [236267, 109374, 130553, 2... |\n",
       "| 21855  | [104905, 15075, 25114, 251... | [162607, 37428, 191808, 49... |\n",
       "+--------+-------------------------------+-------------------------------+\n",
       "[3 rows x 3 columns]"
      ]
     },
     "execution_count": 26,
     "metadata": {},
     "output_type": "execute_result"
    }
   ],
   "source": [
    "# join in and out connections with all_vertices\n",
    "all_vertices = all_vertices.join(out_vertices, on=\"id\", how=\"outer\")\n",
    "all_vertices = all_vertices.join(in_vertices, on=\"id\", how=\"outer\")\n",
    "\n",
    "# replace missing values with empty lists\n",
    "all_vertices = all_vertices.fillna('in_vertices',[])\n",
    "all_vertices = all_vertices.fillna('out_vertices',[])\n",
    "all_vertices.head(3)"
   ]
  },
  {
   "cell_type": "code",
   "execution_count": 27,
   "metadata": {
    "collapsed": false
   },
   "outputs": [
    {
     "data": {
      "text/html": [
       "<div style=\"max-height:1000px;max-width:1500px;overflow:auto;\"><table frame=\"box\" rules=\"cols\">\n",
       "    <tr>\n",
       "        <th style=\"padding-left: 1em; padding-right: 1em; text-align: center\">id</th>\n",
       "        <th style=\"padding-left: 1em; padding-right: 1em; text-align: center\">out_vertices</th>\n",
       "        <th style=\"padding-left: 1em; padding-right: 1em; text-align: center\">in_vertices</th>\n",
       "        <th style=\"padding-left: 1em; padding-right: 1em; text-align: center\">in_and_out_vertices</th>\n",
       "        <th style=\"padding-left: 1em; padding-right: 1em; text-align: center\">in_or_out_vertices</th>\n",
       "    </tr>\n",
       "    <tr>\n",
       "        <td style=\"padding-left: 1em; padding-right: 1em; text-align: center; vertical-align: top\">251434</td>\n",
       "        <td style=\"padding-left: 1em; padding-right: 1em; text-align: center; vertical-align: top\">[250137, 56222, 115886,<br>255120, 4126, 240147, ...</td>\n",
       "        <td style=\"padding-left: 1em; padding-right: 1em; text-align: center; vertical-align: top\">[146977, 53134, 204624,<br>149617, 13675, 250137, ...</td>\n",
       "        <td style=\"padding-left: 1em; padding-right: 1em; text-align: center; vertical-align: top\">[250137.0, 255119.0]</td>\n",
       "        <td style=\"padding-left: 1em; padding-right: 1em; text-align: center; vertical-align: top\">[146977.0, 166244.0,<br>240872.0, 255120.0, ...</td>\n",
       "    </tr>\n",
       "    <tr>\n",
       "        <td style=\"padding-left: 1em; padding-right: 1em; text-align: center; vertical-align: top\">211023</td>\n",
       "        <td style=\"padding-left: 1em; padding-right: 1em; text-align: center; vertical-align: top\">[232183, 202342, 181032,<br>198886, 129442, 159269, ...</td>\n",
       "        <td style=\"padding-left: 1em; padding-right: 1em; text-align: center; vertical-align: top\">[236267, 109374, 130553,<br>248527, 233626, 198886, ...</td>\n",
       "        <td style=\"padding-left: 1em; padding-right: 1em; text-align: center; vertical-align: top\">[233626.0, 198886.0]</td>\n",
       "        <td style=\"padding-left: 1em; padding-right: 1em; text-align: center; vertical-align: top\">[248527.0, 124113.0,<br>189714.0, 208410.0, ...</td>\n",
       "    </tr>\n",
       "    <tr>\n",
       "        <td style=\"padding-left: 1em; padding-right: 1em; text-align: center; vertical-align: top\">21855</td>\n",
       "        <td style=\"padding-left: 1em; padding-right: 1em; text-align: center; vertical-align: top\">[104905, 15075, 25114,<br>25115, 21854, 184729, ...</td>\n",
       "        <td style=\"padding-left: 1em; padding-right: 1em; text-align: center; vertical-align: top\">[162607, 37428, 191808,<br>49405, 64737, 126985, ...</td>\n",
       "        <td style=\"padding-left: 1em; padding-right: 1em; text-align: center; vertical-align: top\">[15075.0, 25116.0,<br>21854.0] ...</td>\n",
       "        <td style=\"padding-left: 1em; padding-right: 1em; text-align: center; vertical-align: top\">[191808.0, 64737.0,<br>104905.0, 15075.0, ...</td>\n",
       "    </tr>\n",
       "</table>\n",
       "[3 rows x 5 columns]<br/>\n",
       "</div>"
      ],
      "text/plain": [
       "Columns:\n",
       "\tid\tint\n",
       "\tout_vertices\tlist\n",
       "\tin_vertices\tlist\n",
       "\tin_and_out_vertices\tlist\n",
       "\tin_or_out_vertices\tlist\n",
       "\n",
       "Rows: 3\n",
       "\n",
       "Data:\n",
       "+--------+-------------------------------+-------------------------------+\n",
       "|   id   |          out_vertices         |          in_vertices          |\n",
       "+--------+-------------------------------+-------------------------------+\n",
       "| 251434 | [250137, 56222, 115886, 25... | [146977, 53134, 204624, 14... |\n",
       "| 211023 | [232183, 202342, 181032, 1... | [236267, 109374, 130553, 2... |\n",
       "| 21855  | [104905, 15075, 25114, 251... | [162607, 37428, 191808, 49... |\n",
       "+--------+-------------------------------+-------------------------------+\n",
       "+-----------------------------+-------------------------------+\n",
       "|     in_and_out_vertices     |       in_or_out_vertices      |\n",
       "+-----------------------------+-------------------------------+\n",
       "|     [250137.0, 255119.0]    | [146977.0, 166244.0, 24087... |\n",
       "|     [233626.0, 198886.0]    | [248527.0, 124113.0, 18971... |\n",
       "| [15075.0, 25116.0, 21854.0] | [191808.0, 64737.0, 104905... |\n",
       "+-----------------------------+-------------------------------+\n",
       "[3 rows x 5 columns]"
      ]
     },
     "execution_count": 27,
     "metadata": {},
     "output_type": "execute_result"
    }
   ],
   "source": [
    "# add in-and-out and in-or-out connections\n",
    "\n",
    "all_vertices['in_and_out_vertices'] = all_vertices[['in_vertices', 'out_vertices']].apply(\n",
    "    lambda row: list(set(row['in_vertices']) & set(row['out_vertices']))\n",
    ")\n",
    "all_vertices['in_or_out_vertices'] = all_vertices[['in_vertices', 'out_vertices']].apply(\n",
    "    lambda row: list(set(row['in_vertices']) | set(row['out_vertices']))\n",
    ")\n",
    "\n",
    "all_vertices['in_and_out_vertices'] = all_vertices['in_and_out_vertices'].astype(list)\n",
    "all_vertices['in_or_out_vertices'] = all_vertices['in_or_out_vertices'].astype(list)\n",
    "\n",
    "all_vertices = all_vertices.fillna('in_and_out_vertices', [])\n",
    "all_vertices = all_vertices.fillna('in_or_out_vertices', [])\n",
    "all_vertices.head(3)"
   ]
  },
  {
   "cell_type": "markdown",
   "metadata": {},
   "source": [
    "Мы получили базовый набор данных - список входящих и исходящих вершин, для каждой вершины. Теперь найдем количества вершин для метрик 1 и 2. Метрики 3 и 4 вы посчитаете сами"
   ]
  },
  {
   "cell_type": "code",
   "execution_count": 28,
   "metadata": {
    "collapsed": true
   },
   "outputs": [],
   "source": [
    "# in_degree - number of users following each vertex\n",
    "all_vertices['in_degree'] = all_vertices[\"in_vertices\"].apply(lambda x: len(x) )\n",
    "\n",
    "all_vertices['in_and_out_degree'] = all_vertices['in_and_out_vertices'].apply(lambda x: len(x))\n",
    "all_vertices['in_or_out_degree'] = all_vertices['in_or_out_vertices'].apply(lambda x: len(x))\n",
    "\n",
    "# out_degree - number of users each vertex is following\n",
    "all_vertices['out_degree'] = all_vertices[\"out_vertices\"].apply(lambda x: len(x) )"
   ]
  },
  {
   "cell_type": "code",
   "execution_count": 29,
   "metadata": {
    "collapsed": false
   },
   "outputs": [
    {
     "data": {
      "text/html": [
       "<div style=\"max-height:1000px;max-width:1500px;overflow:auto;\"><table frame=\"box\" rules=\"cols\">\n",
       "    <tr>\n",
       "        <th style=\"padding-left: 1em; padding-right: 1em; text-align: center\">id</th>\n",
       "        <th style=\"padding-left: 1em; padding-right: 1em; text-align: center\">out_vertices</th>\n",
       "        <th style=\"padding-left: 1em; padding-right: 1em; text-align: center\">in_vertices</th>\n",
       "        <th style=\"padding-left: 1em; padding-right: 1em; text-align: center\">in_and_out_vertices</th>\n",
       "        <th style=\"padding-left: 1em; padding-right: 1em; text-align: center\">in_or_out_vertices</th>\n",
       "    </tr>\n",
       "    <tr>\n",
       "        <td style=\"padding-left: 1em; padding-right: 1em; text-align: center; vertical-align: top\">251434</td>\n",
       "        <td style=\"padding-left: 1em; padding-right: 1em; text-align: center; vertical-align: top\">[250137, 56222, 115886,<br>255120, 4126, 240147, ...</td>\n",
       "        <td style=\"padding-left: 1em; padding-right: 1em; text-align: center; vertical-align: top\">[146977, 53134, 204624,<br>149617, 13675, 250137, ...</td>\n",
       "        <td style=\"padding-left: 1em; padding-right: 1em; text-align: center; vertical-align: top\">[250137.0, 255119.0]</td>\n",
       "        <td style=\"padding-left: 1em; padding-right: 1em; text-align: center; vertical-align: top\">[146977.0, 166244.0,<br>240872.0, 255120.0, ...</td>\n",
       "    </tr>\n",
       "    <tr>\n",
       "        <td style=\"padding-left: 1em; padding-right: 1em; text-align: center; vertical-align: top\">211023</td>\n",
       "        <td style=\"padding-left: 1em; padding-right: 1em; text-align: center; vertical-align: top\">[232183, 202342, 181032,<br>198886, 129442, 159269, ...</td>\n",
       "        <td style=\"padding-left: 1em; padding-right: 1em; text-align: center; vertical-align: top\">[236267, 109374, 130553,<br>248527, 233626, 198886, ...</td>\n",
       "        <td style=\"padding-left: 1em; padding-right: 1em; text-align: center; vertical-align: top\">[233626.0, 198886.0]</td>\n",
       "        <td style=\"padding-left: 1em; padding-right: 1em; text-align: center; vertical-align: top\">[248527.0, 124113.0,<br>189714.0, 208410.0, ...</td>\n",
       "    </tr>\n",
       "    <tr>\n",
       "        <td style=\"padding-left: 1em; padding-right: 1em; text-align: center; vertical-align: top\">21855</td>\n",
       "        <td style=\"padding-left: 1em; padding-right: 1em; text-align: center; vertical-align: top\">[104905, 15075, 25114,<br>25115, 21854, 184729, ...</td>\n",
       "        <td style=\"padding-left: 1em; padding-right: 1em; text-align: center; vertical-align: top\">[162607, 37428, 191808,<br>49405, 64737, 126985, ...</td>\n",
       "        <td style=\"padding-left: 1em; padding-right: 1em; text-align: center; vertical-align: top\">[15075.0, 25116.0,<br>21854.0] ...</td>\n",
       "        <td style=\"padding-left: 1em; padding-right: 1em; text-align: center; vertical-align: top\">[191808.0, 64737.0,<br>104905.0, 15075.0, ...</td>\n",
       "    </tr>\n",
       "</table>\n",
       "<table frame=\"box\" rules=\"cols\">\n",
       "    <tr>\n",
       "        <th style=\"padding-left: 1em; padding-right: 1em; text-align: center\">in_degree</th>\n",
       "        <th style=\"padding-left: 1em; padding-right: 1em; text-align: center\">in_and_out_degree</th>\n",
       "        <th style=\"padding-left: 1em; padding-right: 1em; text-align: center\">in_or_out_degree</th>\n",
       "        <th style=\"padding-left: 1em; padding-right: 1em; text-align: center\">out_degree</th>\n",
       "    </tr>\n",
       "    <tr>\n",
       "        <td style=\"padding-left: 1em; padding-right: 1em; text-align: center; vertical-align: top\">10</td>\n",
       "        <td style=\"padding-left: 1em; padding-right: 1em; text-align: center; vertical-align: top\">2</td>\n",
       "        <td style=\"padding-left: 1em; padding-right: 1em; text-align: center; vertical-align: top\">17</td>\n",
       "        <td style=\"padding-left: 1em; padding-right: 1em; text-align: center; vertical-align: top\">9</td>\n",
       "    </tr>\n",
       "    <tr>\n",
       "        <td style=\"padding-left: 1em; padding-right: 1em; text-align: center; vertical-align: top\">12</td>\n",
       "        <td style=\"padding-left: 1em; padding-right: 1em; text-align: center; vertical-align: top\">2</td>\n",
       "        <td style=\"padding-left: 1em; padding-right: 1em; text-align: center; vertical-align: top\">22</td>\n",
       "        <td style=\"padding-left: 1em; padding-right: 1em; text-align: center; vertical-align: top\">12</td>\n",
       "    </tr>\n",
       "    <tr>\n",
       "        <td style=\"padding-left: 1em; padding-right: 1em; text-align: center; vertical-align: top\">13</td>\n",
       "        <td style=\"padding-left: 1em; padding-right: 1em; text-align: center; vertical-align: top\">3</td>\n",
       "        <td style=\"padding-left: 1em; padding-right: 1em; text-align: center; vertical-align: top\">18</td>\n",
       "        <td style=\"padding-left: 1em; padding-right: 1em; text-align: center; vertical-align: top\">8</td>\n",
       "    </tr>\n",
       "</table>\n",
       "[3 rows x 9 columns]<br/>\n",
       "</div>"
      ],
      "text/plain": [
       "Columns:\n",
       "\tid\tint\n",
       "\tout_vertices\tlist\n",
       "\tin_vertices\tlist\n",
       "\tin_and_out_vertices\tlist\n",
       "\tin_or_out_vertices\tlist\n",
       "\tin_degree\tint\n",
       "\tin_and_out_degree\tint\n",
       "\tin_or_out_degree\tint\n",
       "\tout_degree\tint\n",
       "\n",
       "Rows: 3\n",
       "\n",
       "Data:\n",
       "+--------+-------------------------------+-------------------------------+\n",
       "|   id   |          out_vertices         |          in_vertices          |\n",
       "+--------+-------------------------------+-------------------------------+\n",
       "| 251434 | [250137, 56222, 115886, 25... | [146977, 53134, 204624, 14... |\n",
       "| 211023 | [232183, 202342, 181032, 1... | [236267, 109374, 130553, 2... |\n",
       "| 21855  | [104905, 15075, 25114, 251... | [162607, 37428, 191808, 49... |\n",
       "+--------+-------------------------------+-------------------------------+\n",
       "+-----------------------------+-------------------------------+-----------+-------------------+\n",
       "|     in_and_out_vertices     |       in_or_out_vertices      | in_degree | in_and_out_degree |\n",
       "+-----------------------------+-------------------------------+-----------+-------------------+\n",
       "|     [250137.0, 255119.0]    | [146977.0, 166244.0, 24087... |     10    |         2         |\n",
       "|     [233626.0, 198886.0]    | [248527.0, 124113.0, 18971... |     12    |         2         |\n",
       "| [15075.0, 25116.0, 21854.0] | [191808.0, 64737.0, 104905... |     13    |         3         |\n",
       "+-----------------------------+-------------------------------+-----------+-------------------+\n",
       "+------------------+------------+\n",
       "| in_or_out_degree | out_degree |\n",
       "+------------------+------------+\n",
       "|        17        |     9      |\n",
       "|        22        |     12     |\n",
       "|        18        |     8      |\n",
       "+------------------+------------+\n",
       "[3 rows x 9 columns]"
      ]
     },
     "execution_count": 29,
     "metadata": {},
     "output_type": "execute_result"
    }
   ],
   "source": [
    "all_vertices.head(3)"
   ]
  },
  {
   "cell_type": "markdown",
   "metadata": {},
   "source": [
    "Мы получили характеристики для каждой вершины графа. Так как у нас задача предсказания наличия ребра, мы должны составить описание каждого ребра, используя метрики вершин. После составления характеристик ребер, мы можем перейти к генерации свойств ребер, взяв за основу метрики вершин ребра. Пример метрик для ребер, которые мы можем найти:\n",
    "\n",
    "1. Общие друзья вершин ребра\n",
    "2. Общее количество друзей вершин ребра\n",
    "3. Коэффициенты Жаккара, Пирсона, Адамик - Адара, косинусная мера\n",
    "\n",
    "Данные метрики находятся для каждого списка вершин, пунктов 1 - 4"
   ]
  },
  {
   "cell_type": "code",
   "execution_count": 30,
   "metadata": {
    "collapsed": false
   },
   "outputs": [
    {
     "data": {
      "text/html": [
       "<div style=\"max-height:1000px;max-width:1500px;overflow:auto;\"><table frame=\"box\" rules=\"cols\">\n",
       "    <tr>\n",
       "        <th style=\"padding-left: 1em; padding-right: 1em; text-align: center\">id</th>\n",
       "        <th style=\"padding-left: 1em; padding-right: 1em; text-align: center\">out_vertices</th>\n",
       "        <th style=\"padding-left: 1em; padding-right: 1em; text-align: center\">in_vertices</th>\n",
       "        <th style=\"padding-left: 1em; padding-right: 1em; text-align: center\">in_and_out_vertices</th>\n",
       "    </tr>\n",
       "    <tr>\n",
       "        <td style=\"padding-left: 1em; padding-right: 1em; text-align: center; vertical-align: top\">251434</td>\n",
       "        <td style=\"padding-left: 1em; padding-right: 1em; text-align: center; vertical-align: top\">[250137, 56222, 115886,<br>255120, 4126, 240147, ...</td>\n",
       "        <td style=\"padding-left: 1em; padding-right: 1em; text-align: center; vertical-align: top\">[146977, 53134, 204624,<br>149617, 13675, 250137, ...</td>\n",
       "        <td style=\"padding-left: 1em; padding-right: 1em; text-align: center; vertical-align: top\">[250137.0, 255119.0]</td>\n",
       "    </tr>\n",
       "    <tr>\n",
       "        <td style=\"padding-left: 1em; padding-right: 1em; text-align: center; vertical-align: top\">211023</td>\n",
       "        <td style=\"padding-left: 1em; padding-right: 1em; text-align: center; vertical-align: top\">[232183, 202342, 181032,<br>198886, 129442, 159269, ...</td>\n",
       "        <td style=\"padding-left: 1em; padding-right: 1em; text-align: center; vertical-align: top\">[236267, 109374, 130553,<br>248527, 233626, 198886, ...</td>\n",
       "        <td style=\"padding-left: 1em; padding-right: 1em; text-align: center; vertical-align: top\">[233626.0, 198886.0]</td>\n",
       "    </tr>\n",
       "    <tr>\n",
       "        <td style=\"padding-left: 1em; padding-right: 1em; text-align: center; vertical-align: top\">21855</td>\n",
       "        <td style=\"padding-left: 1em; padding-right: 1em; text-align: center; vertical-align: top\">[104905, 15075, 25114,<br>25115, 21854, 184729, ...</td>\n",
       "        <td style=\"padding-left: 1em; padding-right: 1em; text-align: center; vertical-align: top\">[162607, 37428, 191808,<br>49405, 64737, 126985, ...</td>\n",
       "        <td style=\"padding-left: 1em; padding-right: 1em; text-align: center; vertical-align: top\">[15075.0, 25116.0,<br>21854.0] ...</td>\n",
       "    </tr>\n",
       "    <tr>\n",
       "        <td style=\"padding-left: 1em; padding-right: 1em; text-align: center; vertical-align: top\">233270</td>\n",
       "        <td style=\"padding-left: 1em; padding-right: 1em; text-align: center; vertical-align: top\">[258684, 139583, 200836,<br>161558, 144450, 155998, ...</td>\n",
       "        <td style=\"padding-left: 1em; padding-right: 1em; text-align: center; vertical-align: top\">[175862, 137936, 229329,<br>135662, 39368, 228296] ...</td>\n",
       "        <td style=\"padding-left: 1em; padding-right: 1em; text-align: center; vertical-align: top\">[229329.0]</td>\n",
       "    </tr>\n",
       "    <tr>\n",
       "        <td style=\"padding-left: 1em; padding-right: 1em; text-align: center; vertical-align: top\">88004</td>\n",
       "        <td style=\"padding-left: 1em; padding-right: 1em; text-align: center; vertical-align: top\">[244635, 64573, 72281,<br>88002, 128647, 193701, ...</td>\n",
       "        <td style=\"padding-left: 1em; padding-right: 1em; text-align: center; vertical-align: top\">[255591, 96497, 125651,<br>88003, 88005, 130339, ...</td>\n",
       "        <td style=\"padding-left: 1em; padding-right: 1em; text-align: center; vertical-align: top\">[72281.0, 88002.0,<br>88003.0, 88005.0] ...</td>\n",
       "    </tr>\n",
       "    <tr>\n",
       "        <td style=\"padding-left: 1em; padding-right: 1em; text-align: center; vertical-align: top\">79732</td>\n",
       "        <td style=\"padding-left: 1em; padding-right: 1em; text-align: center; vertical-align: top\">[49437, 79730, 75040,<br>81407, 188417, 255344, ...</td>\n",
       "        <td style=\"padding-left: 1em; padding-right: 1em; text-align: center; vertical-align: top\">[81407, 83186, 26725,<br>198512, 81408, 134130, ...</td>\n",
       "        <td style=\"padding-left: 1em; padding-right: 1em; text-align: center; vertical-align: top\">[75040.0, 83186.0,<br>79730.0, 79734.0, ...</td>\n",
       "    </tr>\n",
       "    <tr>\n",
       "        <td style=\"padding-left: 1em; padding-right: 1em; text-align: center; vertical-align: top\">63664</td>\n",
       "        <td style=\"padding-left: 1em; padding-right: 1em; text-align: center; vertical-align: top\">[58327, 110648, 218347,<br>72586, 210024, 80726, ...</td>\n",
       "        <td style=\"padding-left: 1em; padding-right: 1em; text-align: center; vertical-align: top\">[116067, 80915, 110648,<br>53209, 151381, 80726, ...</td>\n",
       "        <td style=\"padding-left: 1em; padding-right: 1em; text-align: center; vertical-align: top\">[110648.0, 116067.0,<br>46916.0, 80726.0] ...</td>\n",
       "    </tr>\n",
       "    <tr>\n",
       "        <td style=\"padding-left: 1em; padding-right: 1em; text-align: center; vertical-align: top\">127950</td>\n",
       "        <td style=\"padding-left: 1em; padding-right: 1em; text-align: center; vertical-align: top\">[21468, 98108, 198150,<br>127952, 28500, 36117, ...</td>\n",
       "        <td style=\"padding-left: 1em; padding-right: 1em; text-align: center; vertical-align: top\">[191876, 127952, 98108,<br>84284, 48454, 190588] ...</td>\n",
       "        <td style=\"padding-left: 1em; padding-right: 1em; text-align: center; vertical-align: top\">[127952.0, 98108.0]</td>\n",
       "    </tr>\n",
       "    <tr>\n",
       "        <td style=\"padding-left: 1em; padding-right: 1em; text-align: center; vertical-align: top\">7899</td>\n",
       "        <td style=\"padding-left: 1em; padding-right: 1em; text-align: center; vertical-align: top\">[22880, 243752, 27312,<br>8977, 67627, 11624, ...</td>\n",
       "        <td style=\"padding-left: 1em; padding-right: 1em; text-align: center; vertical-align: top\">[8977, 6150, 142873,<br>27312, 168840, 15258, ...</td>\n",
       "        <td style=\"padding-left: 1em; padding-right: 1em; text-align: center; vertical-align: top\">[27312.0, 8977.0, 7896.0]</td>\n",
       "    </tr>\n",
       "    <tr>\n",
       "        <td style=\"padding-left: 1em; padding-right: 1em; text-align: center; vertical-align: top\">25263</td>\n",
       "        <td style=\"padding-left: 1em; padding-right: 1em; text-align: center; vertical-align: top\">[125673, 6961, 99749,<br>42350, 6965, 42349, ...</td>\n",
       "        <td style=\"padding-left: 1em; padding-right: 1em; text-align: center; vertical-align: top\">[6965, 155804, 174885,<br>91014, 111709, 42349, ...</td>\n",
       "        <td style=\"padding-left: 1em; padding-right: 1em; text-align: center; vertical-align: top\">[42349.0, 6965.0]</td>\n",
       "    </tr>\n",
       "</table>\n",
       "<table frame=\"box\" rules=\"cols\">\n",
       "    <tr>\n",
       "        <th style=\"padding-left: 1em; padding-right: 1em; text-align: center\">in_or_out_vertices</th>\n",
       "        <th style=\"padding-left: 1em; padding-right: 1em; text-align: center\">in_degree</th>\n",
       "        <th style=\"padding-left: 1em; padding-right: 1em; text-align: center\">in_and_out_degree</th>\n",
       "        <th style=\"padding-left: 1em; padding-right: 1em; text-align: center\">in_or_out_degree</th>\n",
       "        <th style=\"padding-left: 1em; padding-right: 1em; text-align: center\">out_degree</th>\n",
       "    </tr>\n",
       "    <tr>\n",
       "        <td style=\"padding-left: 1em; padding-right: 1em; text-align: center; vertical-align: top\">[146977.0, 166244.0,<br>240872.0, 255120.0, ...</td>\n",
       "        <td style=\"padding-left: 1em; padding-right: 1em; text-align: center; vertical-align: top\">10</td>\n",
       "        <td style=\"padding-left: 1em; padding-right: 1em; text-align: center; vertical-align: top\">2</td>\n",
       "        <td style=\"padding-left: 1em; padding-right: 1em; text-align: center; vertical-align: top\">17</td>\n",
       "        <td style=\"padding-left: 1em; padding-right: 1em; text-align: center; vertical-align: top\">9</td>\n",
       "    </tr>\n",
       "    <tr>\n",
       "        <td style=\"padding-left: 1em; padding-right: 1em; text-align: center; vertical-align: top\">[248527.0, 124113.0,<br>189714.0, 208410.0, ...</td>\n",
       "        <td style=\"padding-left: 1em; padding-right: 1em; text-align: center; vertical-align: top\">12</td>\n",
       "        <td style=\"padding-left: 1em; padding-right: 1em; text-align: center; vertical-align: top\">2</td>\n",
       "        <td style=\"padding-left: 1em; padding-right: 1em; text-align: center; vertical-align: top\">22</td>\n",
       "        <td style=\"padding-left: 1em; padding-right: 1em; text-align: center; vertical-align: top\">12</td>\n",
       "    </tr>\n",
       "    <tr>\n",
       "        <td style=\"padding-left: 1em; padding-right: 1em; text-align: center; vertical-align: top\">[191808.0, 64737.0,<br>104905.0, 15075.0, ...</td>\n",
       "        <td style=\"padding-left: 1em; padding-right: 1em; text-align: center; vertical-align: top\">13</td>\n",
       "        <td style=\"padding-left: 1em; padding-right: 1em; text-align: center; vertical-align: top\">3</td>\n",
       "        <td style=\"padding-left: 1em; padding-right: 1em; text-align: center; vertical-align: top\">18</td>\n",
       "        <td style=\"padding-left: 1em; padding-right: 1em; text-align: center; vertical-align: top\">8</td>\n",
       "    </tr>\n",
       "    <tr>\n",
       "        <td style=\"padding-left: 1em; padding-right: 1em; text-align: center; vertical-align: top\">[144450.0, 200836.0,<br>228296.0, 3031.0, ...</td>\n",
       "        <td style=\"padding-left: 1em; padding-right: 1em; text-align: center; vertical-align: top\">6</td>\n",
       "        <td style=\"padding-left: 1em; padding-right: 1em; text-align: center; vertical-align: top\">1</td>\n",
       "        <td style=\"padding-left: 1em; padding-right: 1em; text-align: center; vertical-align: top\">21</td>\n",
       "        <td style=\"padding-left: 1em; padding-right: 1em; text-align: center; vertical-align: top\">16</td>\n",
       "    </tr>\n",
       "    <tr>\n",
       "        <td style=\"padding-left: 1em; padding-right: 1em; text-align: center; vertical-align: top\">[88002.0, 130339.0,<br>88005.0, 205478.0, ...</td>\n",
       "        <td style=\"padding-left: 1em; padding-right: 1em; text-align: center; vertical-align: top\">8</td>\n",
       "        <td style=\"padding-left: 1em; padding-right: 1em; text-align: center; vertical-align: top\">4</td>\n",
       "        <td style=\"padding-left: 1em; padding-right: 1em; text-align: center; vertical-align: top\">13</td>\n",
       "        <td style=\"padding-left: 1em; padding-right: 1em; text-align: center; vertical-align: top\">9</td>\n",
       "    </tr>\n",
       "    <tr>\n",
       "        <td style=\"padding-left: 1em; padding-right: 1em; text-align: center; vertical-align: top\">[81408.0, 95872.0,<br>128834.0, 188417.0, ...</td>\n",
       "        <td style=\"padding-left: 1em; padding-right: 1em; text-align: center; vertical-align: top\">18</td>\n",
       "        <td style=\"padding-left: 1em; padding-right: 1em; text-align: center; vertical-align: top\">5</td>\n",
       "        <td style=\"padding-left: 1em; padding-right: 1em; text-align: center; vertical-align: top\">23</td>\n",
       "        <td style=\"padding-left: 1em; padding-right: 1em; text-align: center; vertical-align: top\">10</td>\n",
       "    </tr>\n",
       "    <tr>\n",
       "        <td style=\"padding-left: 1em; padding-right: 1em; text-align: center; vertical-align: top\">[40875.0, 46916.0,<br>72586.0, 253260.0, ...</td>\n",
       "        <td style=\"padding-left: 1em; padding-right: 1em; text-align: center; vertical-align: top\">11</td>\n",
       "        <td style=\"padding-left: 1em; padding-right: 1em; text-align: center; vertical-align: top\">4</td>\n",
       "        <td style=\"padding-left: 1em; padding-right: 1em; text-align: center; vertical-align: top\">21</td>\n",
       "        <td style=\"padding-left: 1em; padding-right: 1em; text-align: center; vertical-align: top\">14</td>\n",
       "    </tr>\n",
       "    <tr>\n",
       "        <td style=\"padding-left: 1em; padding-right: 1em; text-align: center; vertical-align: top\">[211778.0, 191876.0,<br>48454.0, 57100.0, ...</td>\n",
       "        <td style=\"padding-left: 1em; padding-right: 1em; text-align: center; vertical-align: top\">6</td>\n",
       "        <td style=\"padding-left: 1em; padding-right: 1em; text-align: center; vertical-align: top\">2</td>\n",
       "        <td style=\"padding-left: 1em; padding-right: 1em; text-align: center; vertical-align: top\">16</td>\n",
       "        <td style=\"padding-left: 1em; padding-right: 1em; text-align: center; vertical-align: top\">12</td>\n",
       "    </tr>\n",
       "    <tr>\n",
       "        <td style=\"padding-left: 1em; padding-right: 1em; text-align: center; vertical-align: top\">[200154.0, 67627.0,<br>6150.0, 168840.0, ...</td>\n",
       "        <td style=\"padding-left: 1em; padding-right: 1em; text-align: center; vertical-align: top\">12</td>\n",
       "        <td style=\"padding-left: 1em; padding-right: 1em; text-align: center; vertical-align: top\">3</td>\n",
       "        <td style=\"padding-left: 1em; padding-right: 1em; text-align: center; vertical-align: top\">21</td>\n",
       "        <td style=\"padding-left: 1em; padding-right: 1em; text-align: center; vertical-align: top\">12</td>\n",
       "    </tr>\n",
       "    <tr>\n",
       "        <td style=\"padding-left: 1em; padding-right: 1em; text-align: center; vertical-align: top\">[169857.0, 174885.0,<br>91014.0, 125673.0, ...</td>\n",
       "        <td style=\"padding-left: 1em; padding-right: 1em; text-align: center; vertical-align: top\">11</td>\n",
       "        <td style=\"padding-left: 1em; padding-right: 1em; text-align: center; vertical-align: top\">2</td>\n",
       "        <td style=\"padding-left: 1em; padding-right: 1em; text-align: center; vertical-align: top\">19</td>\n",
       "        <td style=\"padding-left: 1em; padding-right: 1em; text-align: center; vertical-align: top\">10</td>\n",
       "    </tr>\n",
       "</table>\n",
       "[262111 rows x 9 columns]<br/>Note: Only the head of the SFrame is printed.<br/>You can use print_rows(num_rows=m, num_columns=n) to print more rows and columns.\n",
       "</div>"
      ],
      "text/plain": [
       "Columns:\n",
       "\tid\tint\n",
       "\tout_vertices\tlist\n",
       "\tin_vertices\tlist\n",
       "\tin_and_out_vertices\tlist\n",
       "\tin_or_out_vertices\tlist\n",
       "\tin_degree\tint\n",
       "\tin_and_out_degree\tint\n",
       "\tin_or_out_degree\tint\n",
       "\tout_degree\tint\n",
       "\n",
       "Rows: 262111\n",
       "\n",
       "Data:\n",
       "+--------+-------------------------------+-------------------------------+\n",
       "|   id   |          out_vertices         |          in_vertices          |\n",
       "+--------+-------------------------------+-------------------------------+\n",
       "| 251434 | [250137, 56222, 115886, 25... | [146977, 53134, 204624, 14... |\n",
       "| 211023 | [232183, 202342, 181032, 1... | [236267, 109374, 130553, 2... |\n",
       "| 21855  | [104905, 15075, 25114, 251... | [162607, 37428, 191808, 49... |\n",
       "| 233270 | [258684, 139583, 200836, 1... | [175862, 137936, 229329, 1... |\n",
       "| 88004  | [244635, 64573, 72281, 880... | [255591, 96497, 125651, 88... |\n",
       "| 79732  | [49437, 79730, 75040, 8140... | [81407, 83186, 26725, 1985... |\n",
       "| 63664  | [58327, 110648, 218347, 72... | [116067, 80915, 110648, 53... |\n",
       "| 127950 | [21468, 98108, 198150, 127... | [191876, 127952, 98108, 84... |\n",
       "|  7899  | [22880, 243752, 27312, 897... | [8977, 6150, 142873, 27312... |\n",
       "| 25263  | [125673, 6961, 99749, 4235... | [6965, 155804, 174885, 910... |\n",
       "+--------+-------------------------------+-------------------------------+\n",
       "+-------------------------------+-------------------------------+-----------+-------------------+\n",
       "|      in_and_out_vertices      |       in_or_out_vertices      | in_degree | in_and_out_degree |\n",
       "+-------------------------------+-------------------------------+-----------+-------------------+\n",
       "|      [250137.0, 255119.0]     | [146977.0, 166244.0, 24087... |     10    |         2         |\n",
       "|      [233626.0, 198886.0]     | [248527.0, 124113.0, 18971... |     12    |         2         |\n",
       "|  [15075.0, 25116.0, 21854.0]  | [191808.0, 64737.0, 104905... |     13    |         3         |\n",
       "|           [229329.0]          | [144450.0, 200836.0, 22829... |     6     |         1         |\n",
       "| [72281.0, 88002.0, 88003.0... | [88002.0, 130339.0, 88005.... |     8     |         4         |\n",
       "| [75040.0, 83186.0, 79730.0... | [81408.0, 95872.0, 128834.... |     18    |         5         |\n",
       "| [110648.0, 116067.0, 46916... | [40875.0, 46916.0, 72586.0... |     11    |         4         |\n",
       "|      [127952.0, 98108.0]      | [211778.0, 191876.0, 48454... |     6     |         2         |\n",
       "|   [27312.0, 8977.0, 7896.0]   | [200154.0, 67627.0, 6150.0... |     12    |         3         |\n",
       "|       [42349.0, 6965.0]       | [169857.0, 174885.0, 91014... |     11    |         2         |\n",
       "+-------------------------------+-------------------------------+-----------+-------------------+\n",
       "+------------------+------------+\n",
       "| in_or_out_degree | out_degree |\n",
       "+------------------+------------+\n",
       "|        17        |     9      |\n",
       "|        22        |     12     |\n",
       "|        18        |     8      |\n",
       "|        21        |     16     |\n",
       "|        13        |     9      |\n",
       "|        23        |     10     |\n",
       "|        21        |     14     |\n",
       "|        16        |     12     |\n",
       "|        21        |     12     |\n",
       "|        19        |     10     |\n",
       "+------------------+------------+\n",
       "[262111 rows x 9 columns]\n",
       "Note: Only the head of the SFrame is printed.\n",
       "You can use print_rows(num_rows=m, num_columns=n) to print more rows and columns."
      ]
     },
     "execution_count": 30,
     "metadata": {},
     "output_type": "execute_result"
    }
   ],
   "source": [
    "all_vertices"
   ]
  },
  {
   "cell_type": "code",
   "execution_count": null,
   "metadata": {
    "collapsed": false
   },
   "outputs": [],
   "source": []
  },
  {
   "cell_type": "code",
   "execution_count": 31,
   "metadata": {
    "collapsed": false
   },
   "outputs": [
    {
     "data": {
      "text/html": [
       "<div style=\"max-height:1000px;max-width:1500px;overflow:auto;\"><table frame=\"box\" rules=\"cols\">\n",
       "    <tr>\n",
       "        <th style=\"padding-left: 1em; padding-right: 1em; text-align: center\">src</th>\n",
       "        <th style=\"padding-left: 1em; padding-right: 1em; text-align: center\">dst</th>\n",
       "        <th style=\"padding-left: 1em; padding-right: 1em; text-align: center\">class</th>\n",
       "        <th style=\"padding-left: 1em; padding-right: 1em; text-align: center\">src_out_vertices</th>\n",
       "        <th style=\"padding-left: 1em; padding-right: 1em; text-align: center\">src_in_vertices</th>\n",
       "        <th style=\"padding-left: 1em; padding-right: 1em; text-align: center\">in_and_out_vertices</th>\n",
       "    </tr>\n",
       "    <tr>\n",
       "        <td style=\"padding-left: 1em; padding-right: 1em; text-align: center; vertical-align: top\">108328</td>\n",
       "        <td style=\"padding-left: 1em; padding-right: 1em; text-align: center; vertical-align: top\">57592</td>\n",
       "        <td style=\"padding-left: 1em; padding-right: 1em; text-align: center; vertical-align: top\">1</td>\n",
       "        <td style=\"padding-left: 1em; padding-right: 1em; text-align: center; vertical-align: top\">[57592, 58801, 57593,<br>63705, 129909, 249496, ...</td>\n",
       "        <td style=\"padding-left: 1em; padding-right: 1em; text-align: center; vertical-align: top\">[57594, 148635, 153284,<br>120393, 252121, 100914, ...</td>\n",
       "        <td style=\"padding-left: 1em; padding-right: 1em; text-align: center; vertical-align: top\">[57594.0, 129909.0]</td>\n",
       "    </tr>\n",
       "    <tr>\n",
       "        <td style=\"padding-left: 1em; padding-right: 1em; text-align: center; vertical-align: top\">210251</td>\n",
       "        <td style=\"padding-left: 1em; padding-right: 1em; text-align: center; vertical-align: top\">215436</td>\n",
       "        <td style=\"padding-left: 1em; padding-right: 1em; text-align: center; vertical-align: top\">1</td>\n",
       "        <td style=\"padding-left: 1em; padding-right: 1em; text-align: center; vertical-align: top\">[215436, 194070, 163168,<br>203628, 66971, 97865, ...</td>\n",
       "        <td style=\"padding-left: 1em; padding-right: 1em; text-align: center; vertical-align: top\">[162601, 184555, 102481,<br>258049, 215436, 190560, ...</td>\n",
       "        <td style=\"padding-left: 1em; padding-right: 1em; text-align: center; vertical-align: top\">[215435.0, 215436.0]</td>\n",
       "    </tr>\n",
       "    <tr>\n",
       "        <td style=\"padding-left: 1em; padding-right: 1em; text-align: center; vertical-align: top\">95770</td>\n",
       "        <td style=\"padding-left: 1em; padding-right: 1em; text-align: center; vertical-align: top\">141433</td>\n",
       "        <td style=\"padding-left: 1em; padding-right: 1em; text-align: center; vertical-align: top\">0</td>\n",
       "        <td style=\"padding-left: 1em; padding-right: 1em; text-align: center; vertical-align: top\">[141433, 186015, 26289,<br>211369, 31319, 95517, ...</td>\n",
       "        <td style=\"padding-left: 1em; padding-right: 1em; text-align: center; vertical-align: top\">[50883, 140990, 231776,<br>256941, 212110, 95517, ...</td>\n",
       "        <td style=\"padding-left: 1em; padding-right: 1em; text-align: center; vertical-align: top\">[95517.0]</td>\n",
       "    </tr>\n",
       "</table>\n",
       "<table frame=\"box\" rules=\"cols\">\n",
       "    <tr>\n",
       "        <th style=\"padding-left: 1em; padding-right: 1em; text-align: center\">in_or_out_vertices</th>\n",
       "        <th style=\"padding-left: 1em; padding-right: 1em; text-align: center\">src_in_degree</th>\n",
       "        <th style=\"padding-left: 1em; padding-right: 1em; text-align: center\">in_and_out_degree</th>\n",
       "        <th style=\"padding-left: 1em; padding-right: 1em; text-align: center\">in_or_out_degree</th>\n",
       "        <th style=\"padding-left: 1em; padding-right: 1em; text-align: center\">src_out_degree</th>\n",
       "    </tr>\n",
       "    <tr>\n",
       "        <td style=\"padding-left: 1em; padding-right: 1em; text-align: center; vertical-align: top\">[153284.0, 106632.0,<br>120393.0, 215060.0, ...</td>\n",
       "        <td style=\"padding-left: 1em; padding-right: 1em; text-align: center; vertical-align: top\">12</td>\n",
       "        <td style=\"padding-left: 1em; padding-right: 1em; text-align: center; vertical-align: top\">2</td>\n",
       "        <td style=\"padding-left: 1em; padding-right: 1em; text-align: center; vertical-align: top\">21</td>\n",
       "        <td style=\"padding-left: 1em; padding-right: 1em; text-align: center; vertical-align: top\">11</td>\n",
       "    </tr>\n",
       "    <tr>\n",
       "        <td style=\"padding-left: 1em; padding-right: 1em; text-align: center; vertical-align: top\">[258049.0, 29315.0,<br>2249.0, 189322.0, ...</td>\n",
       "        <td style=\"padding-left: 1em; padding-right: 1em; text-align: center; vertical-align: top\">13</td>\n",
       "        <td style=\"padding-left: 1em; padding-right: 1em; text-align: center; vertical-align: top\">2</td>\n",
       "        <td style=\"padding-left: 1em; padding-right: 1em; text-align: center; vertical-align: top\">22</td>\n",
       "        <td style=\"padding-left: 1em; padding-right: 1em; text-align: center; vertical-align: top\">11</td>\n",
       "    </tr>\n",
       "    <tr>\n",
       "        <td style=\"padding-left: 1em; padding-right: 1em; text-align: center; vertical-align: top\">[33376.0, 50883.0,<br>63553.0, 35212.0, ...</td>\n",
       "        <td style=\"padding-left: 1em; padding-right: 1em; text-align: center; vertical-align: top\">7</td>\n",
       "        <td style=\"padding-left: 1em; padding-right: 1em; text-align: center; vertical-align: top\">1</td>\n",
       "        <td style=\"padding-left: 1em; padding-right: 1em; text-align: center; vertical-align: top\">18</td>\n",
       "        <td style=\"padding-left: 1em; padding-right: 1em; text-align: center; vertical-align: top\">12</td>\n",
       "    </tr>\n",
       "</table>\n",
       "<table frame=\"box\" rules=\"cols\">\n",
       "    <tr>\n",
       "        <th style=\"padding-left: 1em; padding-right: 1em; text-align: center\">dst_out_vertices</th>\n",
       "        <th style=\"padding-left: 1em; padding-right: 1em; text-align: center\">dst_in_vertices</th>\n",
       "        <th style=\"padding-left: 1em; padding-right: 1em; text-align: center\">in_and_out_vertices.1</th>\n",
       "        <th style=\"padding-left: 1em; padding-right: 1em; text-align: center\">in_or_out_vertices.1</th>\n",
       "        <th style=\"padding-left: 1em; padding-right: 1em; text-align: center\">dst_in_degree</th>\n",
       "    </tr>\n",
       "    <tr>\n",
       "        <td style=\"padding-left: 1em; padding-right: 1em; text-align: center; vertical-align: top\">[78574, 218918, 57406,<br>78575, 230530, 57593, ...</td>\n",
       "        <td style=\"padding-left: 1em; padding-right: 1em; text-align: center; vertical-align: top\">[108328, 57594, 72403,<br>78574, 204384, 180467, ...</td>\n",
       "        <td style=\"padding-left: 1em; padding-right: 1em; text-align: center; vertical-align: top\">[57594.0, 57406.0,<br>78574.0, 78575.0] ...</td>\n",
       "        <td style=\"padding-left: 1em; padding-right: 1em; text-align: center; vertical-align: top\">[230530.0, 182085.0,<br>147213.0, 71696.0, ...</td>\n",
       "        <td style=\"padding-left: 1em; padding-right: 1em; text-align: center; vertical-align: top\">18</td>\n",
       "    </tr>\n",
       "    <tr>\n",
       "        <td style=\"padding-left: 1em; padding-right: 1em; text-align: center; vertical-align: top\">[194309, 87925, 130566,<br>68707, 215435, 169096, ...</td>\n",
       "        <td style=\"padding-left: 1em; padding-right: 1em; text-align: center; vertical-align: top\">[210251, 215435, 8854,<br>102120] ...</td>\n",
       "        <td style=\"padding-left: 1em; padding-right: 1em; text-align: center; vertical-align: top\">[210251.0, 215435.0]</td>\n",
       "        <td style=\"padding-left: 1em; padding-right: 1em; text-align: center; vertical-align: top\">[215435.0, 194309.0,<br>130566.0, 169096.0, ...</td>\n",
       "        <td style=\"padding-left: 1em; padding-right: 1em; text-align: center; vertical-align: top\">4</td>\n",
       "    </tr>\n",
       "    <tr>\n",
       "        <td style=\"padding-left: 1em; padding-right: 1em; text-align: center; vertical-align: top\">[164628, 118224, 32111,<br>99341, 78585, 84104, ...</td>\n",
       "        <td style=\"padding-left: 1em; padding-right: 1em; text-align: center; vertical-align: top\">[95770, 118224, 158342,<br>79861, 106802, 122923, ...</td>\n",
       "        <td style=\"padding-left: 1em; padding-right: 1em; text-align: center; vertical-align: top\">[118224.0, 158342.0]</td>\n",
       "        <td style=\"padding-left: 1em; padding-right: 1em; text-align: center; vertical-align: top\">[6080.0, 158342.0,<br>84104.0, 99341.0, ...</td>\n",
       "        <td style=\"padding-left: 1em; padding-right: 1em; text-align: center; vertical-align: top\">13</td>\n",
       "    </tr>\n",
       "</table>\n",
       "<table frame=\"box\" rules=\"cols\">\n",
       "    <tr>\n",
       "        <th style=\"padding-left: 1em; padding-right: 1em; text-align: center\">in_and_out_degree.1</th>\n",
       "        <th style=\"padding-left: 1em; padding-right: 1em; text-align: center\">in_or_out_degree.1</th>\n",
       "        <th style=\"padding-left: 1em; padding-right: 1em; text-align: center\">dst_out_degree</th>\n",
       "    </tr>\n",
       "    <tr>\n",
       "        <td style=\"padding-left: 1em; padding-right: 1em; text-align: center; vertical-align: top\">4</td>\n",
       "        <td style=\"padding-left: 1em; padding-right: 1em; text-align: center; vertical-align: top\">22</td>\n",
       "        <td style=\"padding-left: 1em; padding-right: 1em; text-align: center; vertical-align: top\">8</td>\n",
       "    </tr>\n",
       "    <tr>\n",
       "        <td style=\"padding-left: 1em; padding-right: 1em; text-align: center; vertical-align: top\">2</td>\n",
       "        <td style=\"padding-left: 1em; padding-right: 1em; text-align: center; vertical-align: top\">14</td>\n",
       "        <td style=\"padding-left: 1em; padding-right: 1em; text-align: center; vertical-align: top\">12</td>\n",
       "    </tr>\n",
       "    <tr>\n",
       "        <td style=\"padding-left: 1em; padding-right: 1em; text-align: center; vertical-align: top\">2</td>\n",
       "        <td style=\"padding-left: 1em; padding-right: 1em; text-align: center; vertical-align: top\">24</td>\n",
       "        <td style=\"padding-left: 1em; padding-right: 1em; text-align: center; vertical-align: top\">13</td>\n",
       "    </tr>\n",
       "</table>\n",
       "[3 rows x 19 columns]<br/>\n",
       "</div>"
      ],
      "text/plain": [
       "Columns:\n",
       "\tsrc\tint\n",
       "\tdst\tint\n",
       "\tclass\tint\n",
       "\tsrc_out_vertices\tlist\n",
       "\tsrc_in_vertices\tlist\n",
       "\tin_and_out_vertices\tlist\n",
       "\tin_or_out_vertices\tlist\n",
       "\tsrc_in_degree\tint\n",
       "\tin_and_out_degree\tint\n",
       "\tin_or_out_degree\tint\n",
       "\tsrc_out_degree\tint\n",
       "\tdst_out_vertices\tlist\n",
       "\tdst_in_vertices\tlist\n",
       "\tin_and_out_vertices.1\tlist\n",
       "\tin_or_out_vertices.1\tlist\n",
       "\tdst_in_degree\tint\n",
       "\tin_and_out_degree.1\tint\n",
       "\tin_or_out_degree.1\tint\n",
       "\tdst_out_degree\tint\n",
       "\n",
       "Rows: 3\n",
       "\n",
       "Data:\n",
       "+--------+--------+-------+-------------------------------+\n",
       "|  src   |  dst   | class |        src_out_vertices       |\n",
       "+--------+--------+-------+-------------------------------+\n",
       "| 108328 | 57592  |   1   | [57592, 58801, 57593, 6370... |\n",
       "| 210251 | 215436 |   1   | [215436, 194070, 163168, 2... |\n",
       "| 95770  | 141433 |   0   | [141433, 186015, 26289, 21... |\n",
       "+--------+--------+-------+-------------------------------+\n",
       "+-------------------------------+----------------------+\n",
       "|        src_in_vertices        | in_and_out_vertices  |\n",
       "+-------------------------------+----------------------+\n",
       "| [57594, 148635, 153284, 12... | [57594.0, 129909.0]  |\n",
       "| [162601, 184555, 102481, 2... | [215435.0, 215436.0] |\n",
       "| [50883, 140990, 231776, 25... |      [95517.0]       |\n",
       "+-------------------------------+----------------------+\n",
       "+-------------------------------+---------------+-------------------+------------------+\n",
       "|       in_or_out_vertices      | src_in_degree | in_and_out_degree | in_or_out_degree |\n",
       "+-------------------------------+---------------+-------------------+------------------+\n",
       "| [153284.0, 106632.0, 12039... |       12      |         2         |        21        |\n",
       "| [258049.0, 29315.0, 2249.0... |       13      |         2         |        22        |\n",
       "| [33376.0, 50883.0, 63553.0... |       7       |         1         |        18        |\n",
       "+-------------------------------+---------------+-------------------+------------------+\n",
       "+----------------+-------------------------------+\n",
       "| src_out_degree |        dst_out_vertices       |\n",
       "+----------------+-------------------------------+\n",
       "|       11       | [78574, 218918, 57406, 785... |\n",
       "|       11       | [194309, 87925, 130566, 68... |\n",
       "|       12       | [164628, 118224, 32111, 99... |\n",
       "+----------------+-------------------------------+\n",
       "+--------------------------------+-------------------------------+\n",
       "|        dst_in_vertices         |     in_and_out_vertices.1     |\n",
       "+--------------------------------+-------------------------------+\n",
       "| [108328, 57594, 72403, 785...  | [57594.0, 57406.0, 78574.0... |\n",
       "| [210251, 215435, 8854, 102120] |      [210251.0, 215435.0]     |\n",
       "| [95770, 118224, 158342, 79...  |      [118224.0, 158342.0]     |\n",
       "+--------------------------------+-------------------------------+\n",
       "+-------------------------------+---------------+---------------------+--------------------+\n",
       "|      in_or_out_vertices.1     | dst_in_degree | in_and_out_degree.1 | in_or_out_degree.1 |\n",
       "+-------------------------------+---------------+---------------------+--------------------+\n",
       "| [230530.0, 182085.0, 14721... |       18      |          4          |         22         |\n",
       "| [215435.0, 194309.0, 13056... |       4       |          2          |         14         |\n",
       "| [6080.0, 158342.0, 84104.0... |       13      |          2          |         24         |\n",
       "+-------------------------------+---------------+---------------------+--------------------+\n",
       "+----------------+\n",
       "| dst_out_degree |\n",
       "+----------------+\n",
       "|       8        |\n",
       "|       12       |\n",
       "|       13       |\n",
       "+----------------+\n",
       "[3 rows x 19 columns]"
      ]
     },
     "execution_count": 31,
     "metadata": {},
     "output_type": "execute_result"
    }
   ],
   "source": [
    "edges = edges.join(all_vertices, on={\"src\": \"id\"}, how=\"right\")\n",
    "edges.rename({\"in_vertices\": \"src_in_vertices\", \"out_vertices\": \"src_out_vertices\",\n",
    "                  \"in_degree\": \"src_in_degree\", \"out_degree\": \"src_out_degree\"\n",
    "                 })\n",
    "\n",
    "edges = edges.join(all_vertices, on={\"dst\": \"id\"}, how=\"right\")\n",
    "edges.rename({\"in_vertices\": \"dst_in_vertices\", \"out_vertices\": \"dst_out_vertices\",\n",
    "                  \"in_degree\": \"dst_in_degree\", \"out_degree\": \"dst_out_degree\"})\n",
    "\n",
    "edges.head(3)"
   ]
  },
  {
   "cell_type": "markdown",
   "metadata": {},
   "source": [
    "#### Общие друзья для списков вершин\n",
    "\n",
    "Найдем пункт 1 - общих друзей для списков вершин из пункта 1. Пункты 2 и 3 вы посчитаете самостоятельно"
   ]
  },
  {
   "cell_type": "code",
   "execution_count": 32,
   "metadata": {
    "collapsed": true
   },
   "outputs": [],
   "source": [
    "def common_friends(u, v, u_neighbors, v_neighbors):\n",
    "    u_neighbors = set(u_neighbors)\n",
    "    if v in u_neighbors:\n",
    "            u_neighbors.remove(v)\n",
    "\n",
    "    v_neighbors = set(v_neighbors)\n",
    "    if u in v_neighbors:\n",
    "        v_neighbors.remove(u)\n",
    "        \n",
    "    return len(u_neighbors & v_neighbors)"
   ]
  },
  {
   "cell_type": "code",
   "execution_count": 33,
   "metadata": {
    "collapsed": false
   },
   "outputs": [],
   "source": [
    "edges['common_in_vertices'] = (edges[['src','dst', 'src_in_vertices', 'dst_in_vertices']]\n",
    "                               .apply(lambda x: common_friends(x['src'], x['dst'], x['src_in_vertices'], x['dst_in_vertices'])))"
   ]
  },
  {
   "cell_type": "code",
   "execution_count": 34,
   "metadata": {
    "collapsed": false
   },
   "outputs": [
    {
     "data": {
      "text/html": [
       "<div style=\"max-height:1000px;max-width:1500px;overflow:auto;\"><table frame=\"box\" rules=\"cols\">\n",
       "    <tr>\n",
       "        <th style=\"padding-left: 1em; padding-right: 1em; text-align: center\">src</th>\n",
       "        <th style=\"padding-left: 1em; padding-right: 1em; text-align: center\">dst</th>\n",
       "        <th style=\"padding-left: 1em; padding-right: 1em; text-align: center\">class</th>\n",
       "        <th style=\"padding-left: 1em; padding-right: 1em; text-align: center\">src_out_vertices</th>\n",
       "        <th style=\"padding-left: 1em; padding-right: 1em; text-align: center\">src_in_vertices</th>\n",
       "        <th style=\"padding-left: 1em; padding-right: 1em; text-align: center\">in_and_out_vertices</th>\n",
       "    </tr>\n",
       "    <tr>\n",
       "        <td style=\"padding-left: 1em; padding-right: 1em; text-align: center; vertical-align: top\">108328</td>\n",
       "        <td style=\"padding-left: 1em; padding-right: 1em; text-align: center; vertical-align: top\">57592</td>\n",
       "        <td style=\"padding-left: 1em; padding-right: 1em; text-align: center; vertical-align: top\">1</td>\n",
       "        <td style=\"padding-left: 1em; padding-right: 1em; text-align: center; vertical-align: top\">[57592, 58801, 57593,<br>63705, 129909, 249496, ...</td>\n",
       "        <td style=\"padding-left: 1em; padding-right: 1em; text-align: center; vertical-align: top\">[57594, 148635, 153284,<br>120393, 252121, 100914, ...</td>\n",
       "        <td style=\"padding-left: 1em; padding-right: 1em; text-align: center; vertical-align: top\">[57594.0, 129909.0]</td>\n",
       "    </tr>\n",
       "    <tr>\n",
       "        <td style=\"padding-left: 1em; padding-right: 1em; text-align: center; vertical-align: top\">210251</td>\n",
       "        <td style=\"padding-left: 1em; padding-right: 1em; text-align: center; vertical-align: top\">215436</td>\n",
       "        <td style=\"padding-left: 1em; padding-right: 1em; text-align: center; vertical-align: top\">1</td>\n",
       "        <td style=\"padding-left: 1em; padding-right: 1em; text-align: center; vertical-align: top\">[215436, 194070, 163168,<br>203628, 66971, 97865, ...</td>\n",
       "        <td style=\"padding-left: 1em; padding-right: 1em; text-align: center; vertical-align: top\">[162601, 184555, 102481,<br>258049, 215436, 190560, ...</td>\n",
       "        <td style=\"padding-left: 1em; padding-right: 1em; text-align: center; vertical-align: top\">[215435.0, 215436.0]</td>\n",
       "    </tr>\n",
       "    <tr>\n",
       "        <td style=\"padding-left: 1em; padding-right: 1em; text-align: center; vertical-align: top\">95770</td>\n",
       "        <td style=\"padding-left: 1em; padding-right: 1em; text-align: center; vertical-align: top\">141433</td>\n",
       "        <td style=\"padding-left: 1em; padding-right: 1em; text-align: center; vertical-align: top\">0</td>\n",
       "        <td style=\"padding-left: 1em; padding-right: 1em; text-align: center; vertical-align: top\">[141433, 186015, 26289,<br>211369, 31319, 95517, ...</td>\n",
       "        <td style=\"padding-left: 1em; padding-right: 1em; text-align: center; vertical-align: top\">[50883, 140990, 231776,<br>256941, 212110, 95517, ...</td>\n",
       "        <td style=\"padding-left: 1em; padding-right: 1em; text-align: center; vertical-align: top\">[95517.0]</td>\n",
       "    </tr>\n",
       "</table>\n",
       "<table frame=\"box\" rules=\"cols\">\n",
       "    <tr>\n",
       "        <th style=\"padding-left: 1em; padding-right: 1em; text-align: center\">in_or_out_vertices</th>\n",
       "        <th style=\"padding-left: 1em; padding-right: 1em; text-align: center\">src_in_degree</th>\n",
       "        <th style=\"padding-left: 1em; padding-right: 1em; text-align: center\">in_and_out_degree</th>\n",
       "        <th style=\"padding-left: 1em; padding-right: 1em; text-align: center\">in_or_out_degree</th>\n",
       "        <th style=\"padding-left: 1em; padding-right: 1em; text-align: center\">src_out_degree</th>\n",
       "    </tr>\n",
       "    <tr>\n",
       "        <td style=\"padding-left: 1em; padding-right: 1em; text-align: center; vertical-align: top\">[153284.0, 106632.0,<br>120393.0, 215060.0, ...</td>\n",
       "        <td style=\"padding-left: 1em; padding-right: 1em; text-align: center; vertical-align: top\">12</td>\n",
       "        <td style=\"padding-left: 1em; padding-right: 1em; text-align: center; vertical-align: top\">2</td>\n",
       "        <td style=\"padding-left: 1em; padding-right: 1em; text-align: center; vertical-align: top\">21</td>\n",
       "        <td style=\"padding-left: 1em; padding-right: 1em; text-align: center; vertical-align: top\">11</td>\n",
       "    </tr>\n",
       "    <tr>\n",
       "        <td style=\"padding-left: 1em; padding-right: 1em; text-align: center; vertical-align: top\">[258049.0, 29315.0,<br>2249.0, 189322.0, ...</td>\n",
       "        <td style=\"padding-left: 1em; padding-right: 1em; text-align: center; vertical-align: top\">13</td>\n",
       "        <td style=\"padding-left: 1em; padding-right: 1em; text-align: center; vertical-align: top\">2</td>\n",
       "        <td style=\"padding-left: 1em; padding-right: 1em; text-align: center; vertical-align: top\">22</td>\n",
       "        <td style=\"padding-left: 1em; padding-right: 1em; text-align: center; vertical-align: top\">11</td>\n",
       "    </tr>\n",
       "    <tr>\n",
       "        <td style=\"padding-left: 1em; padding-right: 1em; text-align: center; vertical-align: top\">[33376.0, 50883.0,<br>63553.0, 35212.0, ...</td>\n",
       "        <td style=\"padding-left: 1em; padding-right: 1em; text-align: center; vertical-align: top\">7</td>\n",
       "        <td style=\"padding-left: 1em; padding-right: 1em; text-align: center; vertical-align: top\">1</td>\n",
       "        <td style=\"padding-left: 1em; padding-right: 1em; text-align: center; vertical-align: top\">18</td>\n",
       "        <td style=\"padding-left: 1em; padding-right: 1em; text-align: center; vertical-align: top\">12</td>\n",
       "    </tr>\n",
       "</table>\n",
       "<table frame=\"box\" rules=\"cols\">\n",
       "    <tr>\n",
       "        <th style=\"padding-left: 1em; padding-right: 1em; text-align: center\">dst_out_vertices</th>\n",
       "        <th style=\"padding-left: 1em; padding-right: 1em; text-align: center\">dst_in_vertices</th>\n",
       "        <th style=\"padding-left: 1em; padding-right: 1em; text-align: center\">in_and_out_vertices.1</th>\n",
       "        <th style=\"padding-left: 1em; padding-right: 1em; text-align: center\">in_or_out_vertices.1</th>\n",
       "        <th style=\"padding-left: 1em; padding-right: 1em; text-align: center\">dst_in_degree</th>\n",
       "    </tr>\n",
       "    <tr>\n",
       "        <td style=\"padding-left: 1em; padding-right: 1em; text-align: center; vertical-align: top\">[78574, 218918, 57406,<br>78575, 230530, 57593, ...</td>\n",
       "        <td style=\"padding-left: 1em; padding-right: 1em; text-align: center; vertical-align: top\">[108328, 57594, 72403,<br>78574, 204384, 180467, ...</td>\n",
       "        <td style=\"padding-left: 1em; padding-right: 1em; text-align: center; vertical-align: top\">[57594.0, 57406.0,<br>78574.0, 78575.0] ...</td>\n",
       "        <td style=\"padding-left: 1em; padding-right: 1em; text-align: center; vertical-align: top\">[230530.0, 182085.0,<br>147213.0, 71696.0, ...</td>\n",
       "        <td style=\"padding-left: 1em; padding-right: 1em; text-align: center; vertical-align: top\">18</td>\n",
       "    </tr>\n",
       "    <tr>\n",
       "        <td style=\"padding-left: 1em; padding-right: 1em; text-align: center; vertical-align: top\">[194309, 87925, 130566,<br>68707, 215435, 169096, ...</td>\n",
       "        <td style=\"padding-left: 1em; padding-right: 1em; text-align: center; vertical-align: top\">[210251, 215435, 8854,<br>102120] ...</td>\n",
       "        <td style=\"padding-left: 1em; padding-right: 1em; text-align: center; vertical-align: top\">[210251.0, 215435.0]</td>\n",
       "        <td style=\"padding-left: 1em; padding-right: 1em; text-align: center; vertical-align: top\">[215435.0, 194309.0,<br>130566.0, 169096.0, ...</td>\n",
       "        <td style=\"padding-left: 1em; padding-right: 1em; text-align: center; vertical-align: top\">4</td>\n",
       "    </tr>\n",
       "    <tr>\n",
       "        <td style=\"padding-left: 1em; padding-right: 1em; text-align: center; vertical-align: top\">[164628, 118224, 32111,<br>99341, 78585, 84104, ...</td>\n",
       "        <td style=\"padding-left: 1em; padding-right: 1em; text-align: center; vertical-align: top\">[95770, 118224, 158342,<br>79861, 106802, 122923, ...</td>\n",
       "        <td style=\"padding-left: 1em; padding-right: 1em; text-align: center; vertical-align: top\">[118224.0, 158342.0]</td>\n",
       "        <td style=\"padding-left: 1em; padding-right: 1em; text-align: center; vertical-align: top\">[6080.0, 158342.0,<br>84104.0, 99341.0, ...</td>\n",
       "        <td style=\"padding-left: 1em; padding-right: 1em; text-align: center; vertical-align: top\">13</td>\n",
       "    </tr>\n",
       "</table>\n",
       "<table frame=\"box\" rules=\"cols\">\n",
       "    <tr>\n",
       "        <th style=\"padding-left: 1em; padding-right: 1em; text-align: center\">in_and_out_degree.1</th>\n",
       "        <th style=\"padding-left: 1em; padding-right: 1em; text-align: center\">in_or_out_degree.1</th>\n",
       "        <th style=\"padding-left: 1em; padding-right: 1em; text-align: center\">dst_out_degree</th>\n",
       "        <th style=\"padding-left: 1em; padding-right: 1em; text-align: center\">common_in_vertices</th>\n",
       "    </tr>\n",
       "    <tr>\n",
       "        <td style=\"padding-left: 1em; padding-right: 1em; text-align: center; vertical-align: top\">4</td>\n",
       "        <td style=\"padding-left: 1em; padding-right: 1em; text-align: center; vertical-align: top\">22</td>\n",
       "        <td style=\"padding-left: 1em; padding-right: 1em; text-align: center; vertical-align: top\">8</td>\n",
       "        <td style=\"padding-left: 1em; padding-right: 1em; text-align: center; vertical-align: top\">1</td>\n",
       "    </tr>\n",
       "    <tr>\n",
       "        <td style=\"padding-left: 1em; padding-right: 1em; text-align: center; vertical-align: top\">2</td>\n",
       "        <td style=\"padding-left: 1em; padding-right: 1em; text-align: center; vertical-align: top\">14</td>\n",
       "        <td style=\"padding-left: 1em; padding-right: 1em; text-align: center; vertical-align: top\">12</td>\n",
       "        <td style=\"padding-left: 1em; padding-right: 1em; text-align: center; vertical-align: top\">1</td>\n",
       "    </tr>\n",
       "    <tr>\n",
       "        <td style=\"padding-left: 1em; padding-right: 1em; text-align: center; vertical-align: top\">2</td>\n",
       "        <td style=\"padding-left: 1em; padding-right: 1em; text-align: center; vertical-align: top\">24</td>\n",
       "        <td style=\"padding-left: 1em; padding-right: 1em; text-align: center; vertical-align: top\">13</td>\n",
       "        <td style=\"padding-left: 1em; padding-right: 1em; text-align: center; vertical-align: top\">0</td>\n",
       "    </tr>\n",
       "</table>\n",
       "[3 rows x 20 columns]<br/>\n",
       "</div>"
      ],
      "text/plain": [
       "Columns:\n",
       "\tsrc\tint\n",
       "\tdst\tint\n",
       "\tclass\tint\n",
       "\tsrc_out_vertices\tlist\n",
       "\tsrc_in_vertices\tlist\n",
       "\tin_and_out_vertices\tlist\n",
       "\tin_or_out_vertices\tlist\n",
       "\tsrc_in_degree\tint\n",
       "\tin_and_out_degree\tint\n",
       "\tin_or_out_degree\tint\n",
       "\tsrc_out_degree\tint\n",
       "\tdst_out_vertices\tlist\n",
       "\tdst_in_vertices\tlist\n",
       "\tin_and_out_vertices.1\tlist\n",
       "\tin_or_out_vertices.1\tlist\n",
       "\tdst_in_degree\tint\n",
       "\tin_and_out_degree.1\tint\n",
       "\tin_or_out_degree.1\tint\n",
       "\tdst_out_degree\tint\n",
       "\tcommon_in_vertices\tint\n",
       "\n",
       "Rows: 3\n",
       "\n",
       "Data:\n",
       "+--------+--------+-------+-------------------------------+\n",
       "|  src   |  dst   | class |        src_out_vertices       |\n",
       "+--------+--------+-------+-------------------------------+\n",
       "| 108328 | 57592  |   1   | [57592, 58801, 57593, 6370... |\n",
       "| 210251 | 215436 |   1   | [215436, 194070, 163168, 2... |\n",
       "| 95770  | 141433 |   0   | [141433, 186015, 26289, 21... |\n",
       "+--------+--------+-------+-------------------------------+\n",
       "+-------------------------------+----------------------+\n",
       "|        src_in_vertices        | in_and_out_vertices  |\n",
       "+-------------------------------+----------------------+\n",
       "| [57594, 148635, 153284, 12... | [57594.0, 129909.0]  |\n",
       "| [162601, 184555, 102481, 2... | [215435.0, 215436.0] |\n",
       "| [50883, 140990, 231776, 25... |      [95517.0]       |\n",
       "+-------------------------------+----------------------+\n",
       "+-------------------------------+---------------+-------------------+------------------+\n",
       "|       in_or_out_vertices      | src_in_degree | in_and_out_degree | in_or_out_degree |\n",
       "+-------------------------------+---------------+-------------------+------------------+\n",
       "| [153284.0, 106632.0, 12039... |       12      |         2         |        21        |\n",
       "| [258049.0, 29315.0, 2249.0... |       13      |         2         |        22        |\n",
       "| [33376.0, 50883.0, 63553.0... |       7       |         1         |        18        |\n",
       "+-------------------------------+---------------+-------------------+------------------+\n",
       "+----------------+-------------------------------+\n",
       "| src_out_degree |        dst_out_vertices       |\n",
       "+----------------+-------------------------------+\n",
       "|       11       | [78574, 218918, 57406, 785... |\n",
       "|       11       | [194309, 87925, 130566, 68... |\n",
       "|       12       | [164628, 118224, 32111, 99... |\n",
       "+----------------+-------------------------------+\n",
       "+--------------------------------+-------------------------------+\n",
       "|        dst_in_vertices         |     in_and_out_vertices.1     |\n",
       "+--------------------------------+-------------------------------+\n",
       "| [108328, 57594, 72403, 785...  | [57594.0, 57406.0, 78574.0... |\n",
       "| [210251, 215435, 8854, 102120] |      [210251.0, 215435.0]     |\n",
       "| [95770, 118224, 158342, 79...  |      [118224.0, 158342.0]     |\n",
       "+--------------------------------+-------------------------------+\n",
       "+-------------------------------+---------------+---------------------+--------------------+\n",
       "|      in_or_out_vertices.1     | dst_in_degree | in_and_out_degree.1 | in_or_out_degree.1 |\n",
       "+-------------------------------+---------------+---------------------+--------------------+\n",
       "| [230530.0, 182085.0, 14721... |       18      |          4          |         22         |\n",
       "| [215435.0, 194309.0, 13056... |       4       |          2          |         14         |\n",
       "| [6080.0, 158342.0, 84104.0... |       13      |          2          |         24         |\n",
       "+-------------------------------+---------------+---------------------+--------------------+\n",
       "+----------------+--------------------+\n",
       "| dst_out_degree | common_in_vertices |\n",
       "+----------------+--------------------+\n",
       "|       8        |         1          |\n",
       "|       12       |         1          |\n",
       "|       13       |         0          |\n",
       "+----------------+--------------------+\n",
       "[3 rows x 20 columns]"
      ]
     },
     "execution_count": 34,
     "metadata": {},
     "output_type": "execute_result"
    }
   ],
   "source": [
    "edges[:3]"
   ]
  },
  {
   "cell_type": "markdown",
   "metadata": {
    "collapsed": false
   },
   "source": []
  },
  {
   "cell_type": "code",
   "execution_count": null,
   "metadata": {
    "collapsed": true
   },
   "outputs": [],
   "source": []
  },
  {
   "cell_type": "markdown",
   "metadata": {},
   "source": [
    "Результатом пункта 3 является матрица признаков. Теперь мы готовы занятся настройкой моделей. Главная ваша задача в пункте 3 - подготовить как можно больше качественных признаков, которые могли бы использоваться для настройки модели машинного обучения."
   ]
  },
  {
   "cell_type": "markdown",
   "metadata": {},
   "source": [
    "----\n",
    "### 4. Настройка модели и валидация качества модели - 20 Баллов\n",
    "\n",
    "Исключим подозрительные ребра из рассмотрения, а затем разобьем датасет на 2 части, для обучения и проверки результатов. Настроим базовую модель классификации - логистическую регрессию.\n",
    "Для улучшения качества модели вам предстоит выполнить следующие пункты:\n",
    "\n",
    "1. Кросс - валидация для настройки гиперпараметров модели и регуляризации\n",
    "2. Подбор модели машинного обучения (случайный лес, бустинг, нейронная сеть и т.д.)"
   ]
  },
  {
   "cell_type": "code",
   "execution_count": 22,
   "metadata": {
    "collapsed": false
   },
   "outputs": [
    {
     "name": "stdout",
     "output_type": "stream",
     "text": [
      "(299994, 3)\n"
     ]
    }
   ],
   "source": [
    "susp = gl.SFrame.read_csv('suspicions.csv', delimiter=',', verbose=False)\n",
    "print susp.shape"
   ]
  },
  {
   "cell_type": "code",
   "execution_count": 23,
   "metadata": {
    "collapsed": false
   },
   "outputs": [
    {
     "name": "stdout",
     "output_type": "stream",
     "text": [
      "(2769712, 12)\n",
      "(2769712, 13)\n"
     ]
    }
   ],
   "source": [
    "print edges.shape\n",
    "edges = edges.join(susp, on=['src', 'dst'], how='left')\n",
    "print edges.shape"
   ]
  },
  {
   "cell_type": "code",
   "execution_count": 24,
   "metadata": {
    "collapsed": false
   },
   "outputs": [
    {
     "name": "stdout",
     "output_type": "stream",
     "text": [
      "(2469718, 13) (299994, 13)\n"
     ]
    }
   ],
   "source": [
    "clean_edges = edges[edges['edge_id'] == None]\n",
    "susp_edges = edges[edges['edge_id'] != None]\n",
    "print clean_edges.shape, susp_edges.shape"
   ]
  },
  {
   "cell_type": "code",
   "execution_count": 25,
   "metadata": {
    "collapsed": false
   },
   "outputs": [
    {
     "name": "stdout",
     "output_type": "stream",
     "text": [
      "\n"
     ]
    }
   ],
   "source": [
    "clean_edges.remove_column('edge_id')\n",
    "print"
   ]
  },
  {
   "cell_type": "code",
   "execution_count": 26,
   "metadata": {
    "collapsed": false
   },
   "outputs": [
    {
     "data": {
      "text/html": [
       "<div style=\"max-height:1000px;max-width:1500px;overflow:auto;\"><table frame=\"box\" rules=\"cols\">\n",
       "    <tr>\n",
       "        <th style=\"padding-left: 1em; padding-right: 1em; text-align: center\">src</th>\n",
       "        <th style=\"padding-left: 1em; padding-right: 1em; text-align: center\">dst</th>\n",
       "        <th style=\"padding-left: 1em; padding-right: 1em; text-align: center\">class</th>\n",
       "        <th style=\"padding-left: 1em; padding-right: 1em; text-align: center\">src_out_vertices</th>\n",
       "        <th style=\"padding-left: 1em; padding-right: 1em; text-align: center\">src_in_vertices</th>\n",
       "        <th style=\"padding-left: 1em; padding-right: 1em; text-align: center\">src_in_degree</th>\n",
       "        <th style=\"padding-left: 1em; padding-right: 1em; text-align: center\">src_out_degree</th>\n",
       "    </tr>\n",
       "    <tr>\n",
       "        <td style=\"padding-left: 1em; padding-right: 1em; text-align: center; vertical-align: top\">101355</td>\n",
       "        <td style=\"padding-left: 1em; padding-right: 1em; text-align: center; vertical-align: top\">48945</td>\n",
       "        <td style=\"padding-left: 1em; padding-right: 1em; text-align: center; vertical-align: top\">0</td>\n",
       "        <td style=\"padding-left: 1em; padding-right: 1em; text-align: center; vertical-align: top\">[48945, 144461, 212543,<br>88680, 185092, 87440, ...</td>\n",
       "        <td style=\"padding-left: 1em; padding-right: 1em; text-align: center; vertical-align: top\">[28229, 20714, 88679,<br>33725, 105824] ...</td>\n",
       "        <td style=\"padding-left: 1em; padding-right: 1em; text-align: center; vertical-align: top\">5</td>\n",
       "        <td style=\"padding-left: 1em; padding-right: 1em; text-align: center; vertical-align: top\">12</td>\n",
       "    </tr>\n",
       "    <tr>\n",
       "        <td style=\"padding-left: 1em; padding-right: 1em; text-align: center; vertical-align: top\">46194</td>\n",
       "        <td style=\"padding-left: 1em; padding-right: 1em; text-align: center; vertical-align: top\">185867</td>\n",
       "        <td style=\"padding-left: 1em; padding-right: 1em; text-align: center; vertical-align: top\">0</td>\n",
       "        <td style=\"padding-left: 1em; padding-right: 1em; text-align: center; vertical-align: top\">[185867, 75042, 46193,<br>184234, 37313, 75043, ...</td>\n",
       "        <td style=\"padding-left: 1em; padding-right: 1em; text-align: center; vertical-align: top\">[31625, 191284, 73421,<br>108368, 37313, 44419, ...</td>\n",
       "        <td style=\"padding-left: 1em; padding-right: 1em; text-align: center; vertical-align: top\">13</td>\n",
       "        <td style=\"padding-left: 1em; padding-right: 1em; text-align: center; vertical-align: top\">7</td>\n",
       "    </tr>\n",
       "    <tr>\n",
       "        <td style=\"padding-left: 1em; padding-right: 1em; text-align: center; vertical-align: top\">224536</td>\n",
       "        <td style=\"padding-left: 1em; padding-right: 1em; text-align: center; vertical-align: top\">206071</td>\n",
       "        <td style=\"padding-left: 1em; padding-right: 1em; text-align: center; vertical-align: top\">1</td>\n",
       "        <td style=\"padding-left: 1em; padding-right: 1em; text-align: center; vertical-align: top\">[206071, 218520, 161,<br>162477, 49, 97, 255996, ...</td>\n",
       "        <td style=\"padding-left: 1em; padding-right: 1em; text-align: center; vertical-align: top\">[206071, 189583, 226504,<br>257630, 19535, 148538, ...</td>\n",
       "        <td style=\"padding-left: 1em; padding-right: 1em; text-align: center; vertical-align: top\">8</td>\n",
       "        <td style=\"padding-left: 1em; padding-right: 1em; text-align: center; vertical-align: top\">12</td>\n",
       "    </tr>\n",
       "</table>\n",
       "<table frame=\"box\" rules=\"cols\">\n",
       "    <tr>\n",
       "        <th style=\"padding-left: 1em; padding-right: 1em; text-align: center\">dst_out_vertices</th>\n",
       "        <th style=\"padding-left: 1em; padding-right: 1em; text-align: center\">dst_in_vertices</th>\n",
       "        <th style=\"padding-left: 1em; padding-right: 1em; text-align: center\">dst_in_degree</th>\n",
       "        <th style=\"padding-left: 1em; padding-right: 1em; text-align: center\">dst_out_degree</th>\n",
       "        <th style=\"padding-left: 1em; padding-right: 1em; text-align: center\">common_in_vertices</th>\n",
       "    </tr>\n",
       "    <tr>\n",
       "        <td style=\"padding-left: 1em; padding-right: 1em; text-align: center; vertical-align: top\">[17610, 212149, 35485,<br>210770, 54364, 54361, ...</td>\n",
       "        <td style=\"padding-left: 1em; padding-right: 1em; text-align: center; vertical-align: top\">[101355, 54363, 173623,<br>202622, 129016, 114089, ...</td>\n",
       "        <td style=\"padding-left: 1em; padding-right: 1em; text-align: center; vertical-align: top\">12</td>\n",
       "        <td style=\"padding-left: 1em; padding-right: 1em; text-align: center; vertical-align: top\">9</td>\n",
       "        <td style=\"padding-left: 1em; padding-right: 1em; text-align: center; vertical-align: top\">0</td>\n",
       "    </tr>\n",
       "    <tr>\n",
       "        <td style=\"padding-left: 1em; padding-right: 1em; text-align: center; vertical-align: top\">[43157, 207398, 104024,<br>124881, 24417, 34990, ...</td>\n",
       "        <td style=\"padding-left: 1em; padding-right: 1em; text-align: center; vertical-align: top\">[46194, 117192, 189506,<br>158306, 170121, 33607, ...</td>\n",
       "        <td style=\"padding-left: 1em; padding-right: 1em; text-align: center; vertical-align: top\">8</td>\n",
       "        <td style=\"padding-left: 1em; padding-right: 1em; text-align: center; vertical-align: top\">10</td>\n",
       "        <td style=\"padding-left: 1em; padding-right: 1em; text-align: center; vertical-align: top\">0</td>\n",
       "    </tr>\n",
       "    <tr>\n",
       "        <td style=\"padding-left: 1em; padding-right: 1em; text-align: center; vertical-align: top\">[215731, 224536, 174005,<br>150055, 36787, 47886, ...</td>\n",
       "        <td style=\"padding-left: 1em; padding-right: 1em; text-align: center; vertical-align: top\">[224536, 224537, 164200,<br>54418, 108445, 174005, ...</td>\n",
       "        <td style=\"padding-left: 1em; padding-right: 1em; text-align: center; vertical-align: top\">7</td>\n",
       "        <td style=\"padding-left: 1em; padding-right: 1em; text-align: center; vertical-align: top\">10</td>\n",
       "        <td style=\"padding-left: 1em; padding-right: 1em; text-align: center; vertical-align: top\">0</td>\n",
       "    </tr>\n",
       "</table>\n",
       "[3 rows x 12 columns]<br/>\n",
       "</div>"
      ],
      "text/plain": [
       "Columns:\n",
       "\tsrc\tint\n",
       "\tdst\tint\n",
       "\tclass\tint\n",
       "\tsrc_out_vertices\tlist\n",
       "\tsrc_in_vertices\tlist\n",
       "\tsrc_in_degree\tint\n",
       "\tsrc_out_degree\tint\n",
       "\tdst_out_vertices\tlist\n",
       "\tdst_in_vertices\tlist\n",
       "\tdst_in_degree\tint\n",
       "\tdst_out_degree\tint\n",
       "\tcommon_in_vertices\tint\n",
       "\n",
       "Rows: 3\n",
       "\n",
       "Data:\n",
       "+--------+--------+-------+-------------------------------+\n",
       "|  src   |  dst   | class |        src_out_vertices       |\n",
       "+--------+--------+-------+-------------------------------+\n",
       "| 101355 | 48945  |   0   | [48945, 144461, 212543, 88... |\n",
       "| 46194  | 185867 |   0   | [185867, 75042, 46193, 184... |\n",
       "| 224536 | 206071 |   1   | [206071, 218520, 161, 1624... |\n",
       "+--------+--------+-------+-------------------------------+\n",
       "+-------------------------------+---------------+----------------+\n",
       "|        src_in_vertices        | src_in_degree | src_out_degree |\n",
       "+-------------------------------+---------------+----------------+\n",
       "| [28229, 20714, 88679, 3372... |       5       |       12       |\n",
       "| [31625, 191284, 73421, 108... |       13      |       7        |\n",
       "| [206071, 189583, 226504, 2... |       8       |       12       |\n",
       "+-------------------------------+---------------+----------------+\n",
       "+-------------------------------+-------------------------------+---------------+\n",
       "|        dst_out_vertices       |        dst_in_vertices        | dst_in_degree |\n",
       "+-------------------------------+-------------------------------+---------------+\n",
       "| [17610, 212149, 35485, 210... | [101355, 54363, 173623, 20... |       12      |\n",
       "| [43157, 207398, 104024, 12... | [46194, 117192, 189506, 15... |       8       |\n",
       "| [215731, 224536, 174005, 1... | [224536, 224537, 164200, 5... |       7       |\n",
       "+-------------------------------+-------------------------------+---------------+\n",
       "+----------------+--------------------+\n",
       "| dst_out_degree | common_in_vertices |\n",
       "+----------------+--------------------+\n",
       "|       9        |         0          |\n",
       "|       10       |         0          |\n",
       "|       10       |         0          |\n",
       "+----------------+--------------------+\n",
       "[3 rows x 12 columns]"
      ]
     },
     "execution_count": 26,
     "metadata": {},
     "output_type": "execute_result"
    }
   ],
   "source": [
    "clean_edges.head(3)"
   ]
  },
  {
   "cell_type": "code",
   "execution_count": 35,
   "metadata": {
    "collapsed": true
   },
   "outputs": [],
   "source": [
    "# split on train and test\n",
    "test, train = clean_edges.random_split(0.2)"
   ]
  },
  {
   "cell_type": "code",
   "execution_count": 37,
   "metadata": {
    "collapsed": false
   },
   "outputs": [
    {
     "name": "stdout",
     "output_type": "stream",
     "text": [
      "(493512, 12) (1976206, 12)\n"
     ]
    }
   ],
   "source": [
    "print test.shape, train.shape"
   ]
  },
  {
   "cell_type": "code",
   "execution_count": 38,
   "metadata": {
    "collapsed": false,
    "scrolled": false
   },
   "outputs": [
    {
     "name": "stdout",
     "output_type": "stream",
     "text": [
      "PROGRESS: Creating a validation set from 5 percent of training data. This may take a while.\n",
      "          You can set ``validation_set=None`` to disable validation tracking.\n",
      "\n"
     ]
    },
    {
     "data": {
      "text/html": [
       "<pre>Logistic regression:</pre>"
      ],
      "text/plain": [
       "Logistic regression:"
      ]
     },
     "metadata": {},
     "output_type": "display_data"
    },
    {
     "data": {
      "text/html": [
       "<pre>--------------------------------------------------------</pre>"
      ],
      "text/plain": [
       "--------------------------------------------------------"
      ]
     },
     "metadata": {},
     "output_type": "display_data"
    },
    {
     "data": {
      "text/html": [
       "<pre>Number of examples          : 1877268</pre>"
      ],
      "text/plain": [
       "Number of examples          : 1877268"
      ]
     },
     "metadata": {},
     "output_type": "display_data"
    },
    {
     "data": {
      "text/html": [
       "<pre>Number of classes           : 2</pre>"
      ],
      "text/plain": [
       "Number of classes           : 2"
      ]
     },
     "metadata": {},
     "output_type": "display_data"
    },
    {
     "data": {
      "text/html": [
       "<pre>Number of feature columns   : 11</pre>"
      ],
      "text/plain": [
       "Number of feature columns   : 11"
      ]
     },
     "metadata": {},
     "output_type": "display_data"
    },
    {
     "data": {
      "text/html": [
       "<pre>Number of unpacked features : 11</pre>"
      ],
      "text/plain": [
       "Number of unpacked features : 11"
      ]
     },
     "metadata": {},
     "output_type": "display_data"
    },
    {
     "data": {
      "text/html": [
       "<pre>Number of coefficients    : 1048419</pre>"
      ],
      "text/plain": [
       "Number of coefficients    : 1048419"
      ]
     },
     "metadata": {},
     "output_type": "display_data"
    },
    {
     "data": {
      "text/html": [
       "<pre>Starting L-BFGS</pre>"
      ],
      "text/plain": [
       "Starting L-BFGS"
      ]
     },
     "metadata": {},
     "output_type": "display_data"
    },
    {
     "data": {
      "text/html": [
       "<pre>--------------------------------------------------------</pre>"
      ],
      "text/plain": [
       "--------------------------------------------------------"
      ]
     },
     "metadata": {},
     "output_type": "display_data"
    },
    {
     "data": {
      "text/html": [
       "<pre>+-----------+----------+-----------+--------------+-------------------+---------------------+</pre>"
      ],
      "text/plain": [
       "+-----------+----------+-----------+--------------+-------------------+---------------------+"
      ]
     },
     "metadata": {},
     "output_type": "display_data"
    },
    {
     "data": {
      "text/html": [
       "<pre>| Iteration | Passes   | Step size | Elapsed Time | Training-accuracy | Validation-accuracy |</pre>"
      ],
      "text/plain": [
       "| Iteration | Passes   | Step size | Elapsed Time | Training-accuracy | Validation-accuracy |"
      ]
     },
     "metadata": {},
     "output_type": "display_data"
    },
    {
     "data": {
      "text/html": [
       "<pre>+-----------+----------+-----------+--------------+-------------------+---------------------+</pre>"
      ],
      "text/plain": [
       "+-----------+----------+-----------+--------------+-------------------+---------------------+"
      ]
     },
     "metadata": {},
     "output_type": "display_data"
    },
    {
     "data": {
      "text/html": [
       "<pre>| 1         | 4        | 0.000000  | 10.419121    | 0.613062          | 0.603651            |</pre>"
      ],
      "text/plain": [
       "| 1         | 4        | 0.000000  | 10.419121    | 0.613062          | 0.603651            |"
      ]
     },
     "metadata": {},
     "output_type": "display_data"
    },
    {
     "data": {
      "text/html": [
       "<pre>| 2         | 6        | 1.000000  | 17.326750    | 0.708492          | 0.638238            |</pre>"
      ],
      "text/plain": [
       "| 2         | 6        | 1.000000  | 17.326750    | 0.708492          | 0.638238            |"
      ]
     },
     "metadata": {},
     "output_type": "display_data"
    },
    {
     "data": {
      "text/html": [
       "<pre>| 3         | 7        | 1.000000  | 21.600158    | 0.732180          | 0.642877            |</pre>"
      ],
      "text/plain": [
       "| 3         | 7        | 1.000000  | 21.600158    | 0.732180          | 0.642877            |"
      ]
     },
     "metadata": {},
     "output_type": "display_data"
    },
    {
     "data": {
      "text/html": [
       "<pre>| 4         | 8        | 1.000000  | 25.620888    | 0.765225          | 0.644161            |</pre>"
      ],
      "text/plain": [
       "| 4         | 8        | 1.000000  | 25.620888    | 0.765225          | 0.644161            |"
      ]
     },
     "metadata": {},
     "output_type": "display_data"
    },
    {
     "data": {
      "text/html": [
       "<pre>| 5         | 9        | 1.000000  | 29.689968    | 0.734595          | 0.646526            |</pre>"
      ],
      "text/plain": [
       "| 5         | 9        | 1.000000  | 29.689968    | 0.734595          | 0.646526            |"
      ]
     },
     "metadata": {},
     "output_type": "display_data"
    },
    {
     "data": {
      "text/html": [
       "<pre>| 6         | 11       | 1.000000  | 36.544376    | 0.783402          | 0.663294            |</pre>"
      ],
      "text/plain": [
       "| 6         | 11       | 1.000000  | 36.544376    | 0.783402          | 0.663294            |"
      ]
     },
     "metadata": {},
     "output_type": "display_data"
    },
    {
     "data": {
      "text/html": [
       "<pre>| 7         | 12       | 1.000000  | 40.992921    | 0.794094          | 0.664113            |</pre>"
      ],
      "text/plain": [
       "| 7         | 12       | 1.000000  | 40.992921    | 0.794094          | 0.664113            |"
      ]
     },
     "metadata": {},
     "output_type": "display_data"
    },
    {
     "data": {
      "text/html": [
       "<pre>| 8         | 13       | 1.000000  | 46.060695    | 0.798794          | 0.663901            |</pre>"
      ],
      "text/plain": [
       "| 8         | 13       | 1.000000  | 46.060695    | 0.798794          | 0.663901            |"
      ]
     },
     "metadata": {},
     "output_type": "display_data"
    },
    {
     "data": {
      "text/html": [
       "<pre>| 9         | 14       | 1.000000  | 50.565929    | 0.812954          | 0.662991            |</pre>"
      ],
      "text/plain": [
       "| 9         | 14       | 1.000000  | 50.565929    | 0.812954          | 0.662991            |"
      ]
     },
     "metadata": {},
     "output_type": "display_data"
    },
    {
     "data": {
      "text/html": [
       "<pre>| 10        | 15       | 1.000000  | 54.652590    | 0.833784          | 0.672836            |</pre>"
      ],
      "text/plain": [
       "| 10        | 15       | 1.000000  | 54.652590    | 0.833784          | 0.672836            |"
      ]
     },
     "metadata": {},
     "output_type": "display_data"
    },
    {
     "data": {
      "text/html": [
       "<pre>+-----------+----------+-----------+--------------+-------------------+---------------------+</pre>"
      ],
      "text/plain": [
       "+-----------+----------+-----------+--------------+-------------------+---------------------+"
      ]
     },
     "metadata": {},
     "output_type": "display_data"
    },
    {
     "data": {
      "text/html": [
       "<pre>TERMINATED: Iteration limit reached.</pre>"
      ],
      "text/plain": [
       "TERMINATED: Iteration limit reached."
      ]
     },
     "metadata": {},
     "output_type": "display_data"
    },
    {
     "data": {
      "text/html": [
       "<pre>This model may not be optimal. To improve it, consider increasing `max_iterations`.</pre>"
      ],
      "text/plain": [
       "This model may not be optimal. To improve it, consider increasing `max_iterations`."
      ]
     },
     "metadata": {},
     "output_type": "display_data"
    },
    {
     "name": "stdout",
     "output_type": "stream",
     "text": [
      "{'f1_score': 0.6222868163147988, 'auc': 0.7163561741742771, 'recall': 0.6185931408241703, 'precision': 0.6260248673152441, 'log_loss': 0.745825485545319, 'roc_curve': Columns:\n",
      "\tthreshold\tfloat\n",
      "\tfpr\tfloat\n",
      "\ttpr\tfloat\n",
      "\tp\tint\n",
      "\tn\tint\n",
      "\n",
      "Rows: 100001\n",
      "\n",
      "Data:\n",
      "+-----------+----------------+----------------+--------+--------+\n",
      "| threshold |      fpr       |      tpr       |   p    |   n    |\n",
      "+-----------+----------------+----------------+--------+--------+\n",
      "|    0.0    |      1.0       |      1.0       | 216994 | 276518 |\n",
      "|   1e-05   | 0.999981917994 |      1.0       | 216994 | 276518 |\n",
      "|   2e-05   | 0.99996745239  | 0.999995391578 | 216994 | 276518 |\n",
      "|   3e-05   | 0.999949370385 | 0.999990783155 | 216994 | 276518 |\n",
      "|   4e-05   | 0.999931288379 | 0.999990783155 | 216994 | 276518 |\n",
      "|   5e-05   | 0.999920439176 | 0.999972349466 | 216994 | 276518 |\n",
      "|   6e-05   | 0.999920439176 | 0.999972349466 | 216994 | 276518 |\n",
      "|   7e-05   | 0.999913206374 | 0.999972349466 | 216994 | 276518 |\n",
      "|   8e-05   | 0.999905973571 | 0.999958524199 | 216994 | 276518 |\n",
      "|   9e-05   | 0.999891507967 | 0.999958524199 | 216994 | 276518 |\n",
      "+-----------+----------------+----------------+--------+--------+\n",
      "[100001 rows x 5 columns]\n",
      "Note: Only the head of the SFrame is printed.\n",
      "You can use print_rows(num_rows=m, num_columns=n) to print more rows and columns., 'confusion_matrix': Columns:\n",
      "\ttarget_label\tint\n",
      "\tpredicted_label\tint\n",
      "\tcount\tint\n",
      "\n",
      "Rows: 4\n",
      "\n",
      "Data:\n",
      "+--------------+-----------------+--------+\n",
      "| target_label | predicted_label | count  |\n",
      "+--------------+-----------------+--------+\n",
      "|      0       |        1        | 80187  |\n",
      "|      1       |        0        | 82763  |\n",
      "|      1       |        1        | 134231 |\n",
      "|      0       |        0        | 196331 |\n",
      "+--------------+-----------------+--------+\n",
      "[4 rows x 3 columns]\n",
      ", 'accuracy': 0.6698155262688648}\n"
     ]
    }
   ],
   "source": [
    "# fit basic classification model - LR\n",
    "model = gl.classifier.logistic_classifier.create(train, \n",
    "                                                 target=\"class\", \n",
    "                                                 features=[x for x in clean_edges.column_names() if 'class' not in x])\n",
    "results = model.evaluate(test)\n",
    "print results"
   ]
  },
  {
   "cell_type": "markdown",
   "metadata": {},
   "source": [
    "Мы получили базовую модель с метриками: точность ~ 0.67, ROC AUC ~ 0.71. Ваша задача улучшить модель,  за счет добавления новых признаков вершин, ребер и аккуратного обучения выбранных моделей (настройки гиперпараметров и регуляризации)."
   ]
  },
  {
   "cell_type": "markdown",
   "metadata": {},
   "source": [
    "----\n",
    "### 5. Отправка результатов в контест на Kaggle - 20 Баллов\n",
    "\n",
    "\n",
    "Завершая домашнюю работу, нам небходимо предсказать вероятности наличия ребер, для заданного списка ребер. Результат отправлется в контест на kaggle.com в формате: edge_id - probability"
   ]
  },
  {
   "cell_type": "code",
   "execution_count": 39,
   "metadata": {
    "collapsed": true
   },
   "outputs": [],
   "source": [
    "predicted = model.predict(susp_edges, output_type='probability')"
   ]
  },
  {
   "cell_type": "code",
   "execution_count": 40,
   "metadata": {
    "collapsed": false
   },
   "outputs": [],
   "source": [
    "susp_edges['probability'] = predicted"
   ]
  },
  {
   "cell_type": "code",
   "execution_count": 41,
   "metadata": {
    "collapsed": false
   },
   "outputs": [],
   "source": [
    "result = susp_edges['edge_id', 'probability']"
   ]
  },
  {
   "cell_type": "code",
   "execution_count": 42,
   "metadata": {
    "collapsed": false
   },
   "outputs": [],
   "source": [
    "result.save('result.csv', format='csv')"
   ]
  },
  {
   "cell_type": "code",
   "execution_count": null,
   "metadata": {
    "collapsed": true
   },
   "outputs": [],
   "source": []
  },
  {
   "cell_type": "code",
   "execution_count": null,
   "metadata": {
    "collapsed": false
   },
   "outputs": [],
   "source": []
  },
  {
   "cell_type": "code",
   "execution_count": null,
   "metadata": {
    "collapsed": true
   },
   "outputs": [],
   "source": []
  },
  {
   "cell_type": "markdown",
   "metadata": {},
   "source": [
    "----"
   ]
  },
  {
   "cell_type": "markdown",
   "metadata": {},
   "source": [
    "----\n",
    "### Не модифицируйте данный код, он для проверки вашего ноутбука"
   ]
  },
  {
   "cell_type": "code",
   "execution_count": 35,
   "metadata": {
    "collapsed": true
   },
   "outputs": [],
   "source": [
    "# from sklearn.metrics import roc_curve, auc\n",
    "# import matplotlib.pyplot as plt\n",
    "\n",
    "# %matplotlib inline"
   ]
  },
  {
   "cell_type": "code",
   "execution_count": 36,
   "metadata": {
    "collapsed": false
   },
   "outputs": [],
   "source": [
    "# labeled = pd.read_csv('labeled_suspicions.csv')\n",
    "# print labeled.shape\n",
    "\n",
    "# res = labeled.merge(result.to_dataframe(), on='edge_id', how='inner')\n",
    "# res = res[['class', 'probability']]\n",
    "# print res.shape"
   ]
  },
  {
   "cell_type": "code",
   "execution_count": 37,
   "metadata": {
    "collapsed": false
   },
   "outputs": [],
   "source": [
    "# fpr, tpr, _ = roc_curve(res['class'], res['probability'])\n",
    "# roc_auc = auc(fpr, tpr)\n",
    "\n",
    "# plt.figure(figsize=(15, 10))\n",
    "# lw = 2\n",
    "# plt.plot(fpr, tpr, color='darkorange', lw=lw, label='ROC curve (area = %0.2f)' % roc_auc)\n",
    "# plt.plot([0, 1], [0, 1], color='navy', lw=lw, linestyle='--')\n",
    "# plt.xlim([0.0, 1.0])\n",
    "# plt.ylim([0.0, 1.05])\n",
    "# plt.xlabel('False Positive Rate')\n",
    "# plt.ylabel('True Positive Rate')\n",
    "# plt.title('Receiver operating characteristic example')\n",
    "# plt.legend(loc=\"lower right\")\n",
    "# plt.show()"
   ]
  },
  {
   "cell_type": "code",
   "execution_count": null,
   "metadata": {
    "collapsed": true
   },
   "outputs": [],
   "source": []
  },
  {
   "cell_type": "code",
   "execution_count": null,
   "metadata": {
    "collapsed": true
   },
   "outputs": [],
   "source": []
  }
 ],
 "metadata": {
  "anaconda-cloud": {},
  "kernelspec": {
   "display_name": "Python [default]",
   "language": "python",
   "name": "python2"
  },
  "language_info": {
   "codemirror_mode": {
    "name": "ipython",
    "version": 2
   },
   "file_extension": ".py",
   "mimetype": "text/x-python",
   "name": "python",
   "nbconvert_exporter": "python",
   "pygments_lexer": "ipython2",
   "version": "2.7.12"
  }
 },
 "nbformat": 4,
 "nbformat_minor": 0
}
