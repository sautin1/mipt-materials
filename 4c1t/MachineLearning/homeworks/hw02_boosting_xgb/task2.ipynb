{
 "cells": [
  {
   "cell_type": "markdown",
   "metadata": {},
   "source": [
    "МФТИ ФИВТ: Курс Машинное Обучение (осень, 2016), Арсений Ашуха, ars.ashuha@gmail.com"
   ]
  },
  {
   "cell_type": "markdown",
   "metadata": {},
   "source": [
    "<h1 align=\"center\">Organization Info</h1> "
   ]
  },
  {
   "cell_type": "markdown",
   "metadata": {},
   "source": [
    "**Дополнительный материал для выполнения дз**:\n",
    "- Hastie, The Elements of Statistical Learning, https://goo.gl/k3wfEU, 10 Boosting and Additive Trees 337\n",
    "- Соколов, Семинары по композиционным методам, https://goo.gl/sn8RyJ, http://goo.gl/ajNTQy\n",
    "\n",
    "**Оформление дз**: \n",
    "- Присылайте выполненное задание на почту ``ml.course.mipt@gmail.com``\n",
    "- Укажите тему письма в следующем формате ``ML2016_fall <номер_группы> <фамилия>``, к примеру -- ``ML2016_fall 401 ivanov``\n",
    "- Выполненное дз сохраните в файл ``<фамилия>_<группа>_task<номер>.ipnb``, к примеру -- ``ivanov_401_task1.ipnb``\n",
    "\n",
    "**Вопросы**:\n",
    "- Присылайте вопросы на почту ``ml.course.mipt@gmail.com``\n",
    "- Укажите тему письма в следующем формате ``ML2016_fall Question <Содержание вопроса>``\n",
    "\n",
    "--------\n",
    "- **PS1**: Мы используем автоматические фильтры, и просто не найдем ваше дз, если вы не аккуратно его подпишите.\n",
    "- **PS2**: Напоминаем, что дедлайны жесткие, письма пришедшие после автоматически удаляются =( чтобы соблазна не было "
   ]
  },
  {
   "cell_type": "markdown",
   "metadata": {},
   "source": [
    "<h1 align=\"center\">Check Questions</h1> "
   ]
  },
  {
   "cell_type": "markdown",
   "metadata": {},
   "source": [
    "$\\DeclareMathOperator*{\\argmin}{arg\\!min}$  \n",
    "Ответе на вопросы своими словами (загугленный материал надо пересказать), ответ обоснуйте (напишите и ОБЪЯСНИТЕ формулки если потребуется), если не выходит, то вернитесь к лекции дополнительным материалам:\n",
    "\n",
    "**Вопрос 1**: Чем отличается AdaBoost от XGBoost? Перечислите принципиальные отличия.  \n",
    "\n",
    "Мне кажется, что основных отличий два:  \n",
    "1) назначение исторически. AdaBoost создавался для решения задачи бинарной классификации. XGBoost же создавался как для решения задач классификации, так и для решения задач регрессии.  \n",
    "2) Функция потерь. AdaBoost использует экспоненциальную функцию потерь:  \n",
    "$L(y_i, a(x_i)) = \\exp(-y_i\\cdot a(x_i))$, где $y_i$ --- истинный ответ на $i$-м объекте, $a(x_i)$ --- предсказанный ответ алгоритма на объекте $x_i$. В свою очередь XGBoost работает с различными функциями потерь.\n",
    "\n",
    "В целом, как я понимаю, AdaBoost является частным случаем XGBoost.\n",
    "\n",
    "**Вопрос 2**: Почему говорят, что AdaBoost неустойчив к выбросам?\n",
    "\n",
    "Потому что AdaBoost использует экспоненциальную функцию потерь $L(y_i, a(x_i)) = \\exp(-y_i\\cdot a(x_i))$, которая принимает большие значения при немалых отрицательных отступах. В таком случае базовые алгоритмы, которые строятся впоследствии, начинают \"подстраиваться\" под объекты-выбросы, что плохо.\n",
    "\n",
    "**Вопрос 3**:  В каком пространстве градиентный бустинг совершает градиентный спуск? Какова размерность этого пространства?\n",
    "\n",
    "В пространстве прогнозов алгоритма на обучающей выборке. На $N$-м шаге этого градиентного спуска вычисляется антиградиент функции потерь по прогнозам алгоритма на обучающей выборке:  \n",
    "$s = -\\nabla_z L(y, z) = (-L^\\prime_{z_1}(y_1, a_{N-1}(x_1)), ..., -L^\\prime_{z_l}(y_l, a_{N-1}(x_l)))$, где $z(x) = (a_{N-1}(x_1), ..., a_{N-1}(x_l))$ --- вектор-функция, а $a_{N-1}$ --- композиция, построенная на предыдущих $N-1$ шагах.\n",
    "\n",
    "Т.к. описанный градиентный спуск подбирает $l$ параметров для выполнения шага, то размерность пространства совпадает с $l$ --- объемом обучающей выборки (количеством объектов в ней).\n",
    "\n",
    "**Вопрос 4**: В чем заключается сокращение шага в градиентном бустинге? Как число итераций, необходимое для сходимости, зависит от размера шага η?\n",
    "\n",
    "Сокращение шага заключается в том, что очередной базовый алгоритм при добавлении в композицию ранее построенных алгоритмов домножается на некоторый коэффициент $\\alpha_N\\in (0, 1]$. Это позволяет бороться с переобучением, но _увеличивает_ количество итераций, необходимых для сходимости.\n",
    "\n",
    "Вообще можно подбирать $\\alpha_N$, решая одномерную задачу оптимизации функции потерь на каждой итерации бустинга. Тогда на $N$-й итерации будем определять $\\alpha_N$ по следующей формуле:  \n",
    "$\\alpha_N = \\argmin_{\\alpha > 0} \\sum\\limits_{i=1}^{l} L(a_{N-1} + \\alpha\\cdot b_N(x_i), y_i) $,  \n",
    "где $l$ --- количество объектов в обучающей выборке, $a_{N-1}$ --- композиция базовых алгоритмов, полученная после шага $N-1$, $b_N$ --- базовый алгоритм, полученный на шаге $N$.\n",
    "\n",
    "**Вопрос 5**: Что такое стохастический градиентный бустинг?\n",
    "\n",
    "Это градиентный бустинг с использованием бэггинга: каждый базовый алгоритм будем обучать не на всей обучающей выборке, а на некоторой ее подвыборке фиксированного размера. Использование бэггинга в градиентном бустинге также является способом борьбы с переобучением.\n",
    "\n",
    "-----------\n",
    "PS: Если проверяющий не понял ответ на большинство вопросов, то будет пичалька. Пишите так, чтобы можно было разобраться. "
   ]
  },
  {
   "cell_type": "markdown",
   "metadata": {
    "collapsed": true
   },
   "source": [
    "<h1 align=\"center\">Boosting</h1> "
   ]
  },
  {
   "cell_type": "markdown",
   "metadata": {
    "collapsed": true
   },
   "source": [
    "1) Задача 1 \n",
    "![](./img/task11.png)\n",
    "![](./img/task12.png)\n",
    "\n",
    "**Решение**  \n",
    "Пусть все $\\gamma_n = 1$, т.е. каждый базовый решающий пень будем добавлять в композицию с единичным весом. Выберем первый пень $b_1$ произвольным образом. Далее рассмотрим множество $X_{err}$ объектов, на которых первый пень ошибается. Выберем из $X_{err}$ произвольный объект $x^*$. Без ограничения общности можно считать, что $x^*$ принадлежит классу 1. Тогда $b_1(x^*)=-1$. Построим для $x^*$ два пня по следующим правилам:  \n",
    "\n",
    "$b_{x^*}^1 (x) = -1$, если $x < x^*$;  \n",
    "$b_{x^*}^1 (x) =  1$, если $x \\ge x^*$;  \n",
    "$b_{x^*}^2 (x) =  1$, если $x \\le x^*$;  \n",
    "$b_{x^*}^2 (x) = -1$, если $x > x^*$;  \n",
    "\n",
    "Заметим, что  \n",
    "$b_{x^*}^1(x) + b_{x^*}^2(x) = 0\\; \\forall x \\ne x^*$ и  \n",
    "$b_{x^*}^1(x^*) + b_{x^*}^2(x^*) = 2$,  \n",
    "\n",
    "а тогда:  \n",
    "$b_1(x) + b_{x^*}^1(x) + b_{x^*}^2(x) = b_1(x)\\; \\forall x \\ne x^*$  \n",
    "$b_1(x^*) + b_{x^*}^1(x^*) + b_{x^*}^2(x^*) = 1$.\n",
    "\n",
    "Таким образом, прибавление двух пней ($b_{x^*}^1(x)$ и $b_{x^*}^2(x)$) \"исправляет\" значение композиции для объекта $x^*$, но не меняет ответов на других объектах.\n",
    "\n",
    "Тогда можем повторить эту процедуру для всех объектов из $X_{err}$. В итоге, даже если пень $b_1(x)$ классифицировал все объекты неверно, то $|X_{err}| = |X| = l$. Добавляя по два пня на каждый объект из $X_{err}$ по вышеописанной процедуре, получим $2l + 1$ пень ($b_1(x)$ + по 2 на каждый из $l$ объектов).\n",
    "\n",
    "Таким образом, мы получили композицию, состоящую из $\\le 2l+1$ пней и не допускающую ошибок на обучающей выборке.\n",
    "\n",
    "2) Найдите градиент логистичиской функции потерь для фиксированного объекта\n",
    "\n",
    "**Решение**  \n",
    "Логистическая функция потерь: $L(y, a(x)) = \\ln(1 + \\exp(-a(x)\\cdot y))$. Это функция _одного_ аргумента $x$. Считать градиент от функции одного переменного я не умею. Судя по всему, автор задания имел в виду подсчет _одной компоненты вектора градиента по прогнозу композиции_, который (градиент) вычисляется на каждой итерации градиентного бустинга.  \n",
    "$-s = \\nabla_z L(y, z) = (L^\\prime_{z_1}(y_1, a_{N-1}(x_1)), ..., L^\\prime_{z_l}(y_l, a_{N-1}(x_l)))$, где $z(x) = (a_{N-1}(x_1), ..., a_{N-1}(x_l))$.  \n",
    "\n",
    "В таком случае $i$-ая компонента вектора $-s$ будет вычисляться так:\n",
    "$L^\\prime_{z_i}(y_i, z_i) = \\frac {1}{1 + e^{-z_i\\cdot y_i}}\\cdot (-y_i)\\cdot e^{-z_iy_i} = $\n",
    "$ \\frac {-y_i e^{-z_i y_i}} {1 + e^{-z_i y_i}} = \\frac {-y_i} {1 + e^{z_i y_i}} $."
   ]
  },
  {
   "cell_type": "markdown",
   "metadata": {},
   "source": [
    "<h1 align=\"center\">Binary Boosting Implementation</h1> "
   ]
  },
  {
   "cell_type": "markdown",
   "metadata": {},
   "source": [
    "Нужно реализовать двухклассовый бустинг с логистичиской функцией потерь. \n",
    "\n",
    "Длину шага -- или используйте $1.0*lr$ или подбирайте одномерной оптимизацией;"
   ]
  },
  {
   "cell_type": "code",
   "execution_count": 1,
   "metadata": {
    "collapsed": false
   },
   "outputs": [
    {
     "name": "stdout",
     "output_type": "stream",
     "text": [
      "Populating the interactive namespace from numpy and matplotlib\n"
     ]
    }
   ],
   "source": [
    "%pylab inline\n",
    "\n",
    "import warnings\n",
    "import numpy as np\n",
    "import pandas as pd\n",
    "from copy import deepcopy\n",
    "from utils import plot_surface\n",
    "from scipy.stats import mode\n",
    "from scipy.optimize import minimize_scalar\n",
    "from sklearn.tree import DecisionTreeRegressor\n",
    "from sklearn.cross_validation import cross_val_score\n",
    "from sklearn.base import ClassifierMixin, BaseEstimator\n",
    "from sklearn.ensemble import GradientBoostingClassifier\n",
    "from sklearn.metrics import zero_one_loss\n",
    "\n",
    "warnings.simplefilter(\"ignore\")"
   ]
  },
  {
   "cell_type": "code",
   "execution_count": 2,
   "metadata": {
    "collapsed": false
   },
   "outputs": [],
   "source": [
    "class BinaryBoostingClassifier(BaseEstimator, ClassifierMixin):\n",
    "    def __init__(self, n_estimators=100, lr='auto', max_depth=3):\n",
    "        self.lr = lr # learning rate\n",
    "        self.n_estimators = n_estimators\n",
    "        self.max_depth = max_depth\n",
    "    \n",
    "    def loss_grad(self, original_y, pred_y):\n",
    "        return np.divide(original_y, (1 + np.exp(np.multiply(original_y, pred_y))))\n",
    "        # АНТИ-градиент на каждом объекте\n",
    "        \n",
    "    def loss(self, original_y, pred_y):\n",
    "        return np.log(1 + np.exp(-np.multiply(original_y, pred_y)))\n",
    "        \n",
    "    def fit(self, X, original_y):\n",
    "        # Храните базовые алгоритмы тут\n",
    "        self.estimators_ = []\n",
    "        self.weights_ = []\n",
    "        self.most_frequent_class = mode(original_y).mode[0]\n",
    "        \n",
    "        for estimator_index in range(self.n_estimators):\n",
    "            if estimator_index > 0:\n",
    "                previous_pred = self._predict(X)\n",
    "                grad = self.loss_grad(original_y, previous_pred)\n",
    "            else:\n",
    "                previous_pred = np.array([self.most_frequent_class] * X.shape[0])\n",
    "                grad = previous_pred\n",
    "            \n",
    "            # Настройте базовый алгоритм на градиент, это классификация или регрессия? - регрессия\n",
    "            estimator = DecisionTreeRegressor(max_depth=self.max_depth)\n",
    "            estimator.fit(X, grad)\n",
    "            \n",
    "            if self.lr == 'auto':\n",
    "                current_tree_pred = estimator.predict(X)\n",
    "                f = lambda alpha: np.sum(self.loss(original_y, previous_pred + alpha * current_tree_pred))\n",
    "                weight = minimize_scalar(f, method='bounded', bounds=(0, 1)).x\n",
    "            else:\n",
    "                weight = self.lr\n",
    "                \n",
    "            self.estimators_.append(estimator)\n",
    "            self.weights_.append(weight)\n",
    "            \n",
    "        self.out_ = self.outliers(grad)\n",
    "\n",
    "        return self\n",
    "\n",
    "    def _predict(self, X):\n",
    "        weights_ = np.reshape(self.weights_, (-1, 1))\n",
    "        y_pred = np.sum(weights_ * np.array([estimator.predict(X) for estimator in self.estimators_]), axis=0)\n",
    "        return y_pred\n",
    "    \n",
    "    def predict(self, X):\n",
    "        y_pred = self._predict(X)\n",
    "        np.place(y_pred, y_pred == 0, self.most_frequent_class)\n",
    "        y_pred = np.sign(y_pred)\n",
    "        return y_pred\n",
    "    \n",
    "    def outliers(self, grad):\n",
    "        # Топ-10 объектов с большим отступом\n",
    "        top_size = min(10, grad.shape[0])\n",
    "        return np.argsort(np.absolute(grad))[-top_size:][::-1]\n",
    "\n",
    "# classifier = BinaryBoostingClassifier(n_estimators=5, lr=None)\n",
    "# X = np.array([[1, 0, 0],\n",
    "#               [0, 1, 0],\n",
    "#               [0, 0, 1],\n",
    "#               [1, 0, 1]])\n",
    "# y = np.array([1, -1, 1, 1])\n",
    "# classifier.fit(X, y)\n",
    "# classifier.predict(X)"
   ]
  },
  {
   "cell_type": "markdown",
   "metadata": {},
   "source": [
    "<h1 align=\"center\">Simple test</h1> "
   ]
  },
  {
   "cell_type": "code",
   "execution_count": 3,
   "metadata": {
    "collapsed": false
   },
   "outputs": [],
   "source": [
    "import matplotlib.pyplot as plt\n",
    "from sklearn.datasets import make_classification\n",
    "\n",
    "X, y = make_classification(n_samples=500, n_features=2,\n",
    "                           n_informative=2, n_redundant=0, n_repeated=0,\n",
    "                           n_classes=2, n_clusters_per_class=2,\n",
    "                           flip_y=0.05, class_sep=0.8, random_state=241)\n",
    "y = 2*(y-0.5)"
   ]
  },
  {
   "cell_type": "code",
   "execution_count": 4,
   "metadata": {
    "collapsed": false
   },
   "outputs": [
    {
     "data": {
      "image/png": "[encoded data removed]",
      "text/plain": [
       "<matplotlib.figure.Figure at 0x7f3b02038250>"
      ]
     },
     "metadata": {},
     "output_type": "display_data"
    }
   ],
   "source": [
    "clf = BinaryBoostingClassifier().fit(X, y)\n",
    "plot_surface(X, y, clf)"
   ]
  },
  {
   "cell_type": "markdown",
   "metadata": {
    "collapsed": true
   },
   "source": [
    "<h1 align=\"center\">Outliers</h1> "
   ]
  },
  {
   "cell_type": "code",
   "execution_count": 5,
   "metadata": {
    "collapsed": false
   },
   "outputs": [
    {
     "name": "stdout",
     "output_type": "stream",
     "text": [
      "[416 379 386  80 265 220 212 343 306 317]\n"
     ]
    },
    {
     "data": {
      "image/png": "[encoded data removed]",
      "text/plain": [
       "<matplotlib.figure.Figure at 0x7f3afed39950>"
      ]
     },
     "metadata": {},
     "output_type": "display_data"
    }
   ],
   "source": [
    "# <Нарисуйте только outliers> \n",
    "outliers = clf.out_\n",
    "print outliers\n",
    "plot_surface(X[outliers], y[outliers], clf)"
   ]
  },
  {
   "cell_type": "markdown",
   "metadata": {},
   "source": [
    "<h1 align=\"center\">Adult test</h1> "
   ]
  },
  {
   "cell_type": "code",
   "execution_count": 6,
   "metadata": {
    "collapsed": false
   },
   "outputs": [],
   "source": [
    "# !sh ./get_data.sh"
   ]
  },
  {
   "cell_type": "code",
   "execution_count": 7,
   "metadata": {
    "collapsed": false
   },
   "outputs": [],
   "source": [
    "adult = pd.read_csv(\n",
    "    './data/adult.data', \n",
    "    names=[\n",
    "        \"Age\", \"Workclass\", \"fnlwgt\", \"Education\", \"Education-Num\", \"Martial Status\",\n",
    "        \"Occupation\", \"Relationship\", \"Race\", \"Sex\", \"Capital Gain\", \"Capital Loss\",\n",
    "        \"Hours per week\", \"Country\", \"Target\"], \n",
    "    header=None, na_values=\"?\")\n",
    "adult = pd.get_dummies(adult)\n",
    "adult[\"Target\"] = adult[\"Target_ >50K\"]"
   ]
  },
  {
   "cell_type": "code",
   "execution_count": 8,
   "metadata": {
    "collapsed": true
   },
   "outputs": [],
   "source": [
    "X, y = adult[adult.columns[:-3]].values, adult[adult.columns[-1]].values\n",
    "y = 2*(y-0.5)"
   ]
  },
  {
   "cell_type": "markdown",
   "metadata": {},
   "source": [
    "Сверьте качество своего алгоритма с GradientBoostingClassifier"
   ]
  },
  {
   "cell_type": "code",
   "execution_count": 9,
   "metadata": {
    "collapsed": false
   },
   "outputs": [
    {
     "name": "stdout",
     "output_type": "stream",
     "text": [
      "GradientBoostingClassifier:  0.865759781029\n",
      "CPU times: user 1min 1s, sys: 84 ms, total: 1min 2s\n",
      "Wall time: 1min 2s\n"
     ]
    }
   ],
   "source": [
    "%%time\n",
    "cv_gbc = np.mean(cross_val_score(GradientBoostingClassifier(), X, y))\n",
    "print 'GradientBoostingClassifier: ', cv_gbc"
   ]
  },
  {
   "cell_type": "code",
   "execution_count": 10,
   "metadata": {
    "collapsed": false
   },
   "outputs": [
    {
     "name": "stdout",
     "output_type": "stream",
     "text": [
      "BinaryBoostingClassifier:  0.868063110479\n",
      "CPU times: user 3min 22s, sys: 336 ms, total: 3min 22s\n",
      "Wall time: 3min 22s\n"
     ]
    }
   ],
   "source": [
    "%%time\n",
    "cv_bbc = np.mean(cross_val_score(BinaryBoostingClassifier(), X, y))\n",
    "print 'BinaryBoostingClassifier: ', cv_bbc"
   ]
  },
  {
   "cell_type": "markdown",
   "metadata": {},
   "source": [
    "<h1 align=\"center\">Text classification</h1> \n",
    "\n",
    "- Найдите двухклассовый текстовый датасет (в качестве примера sentiment analysis) или возьмите многоклассовый и классифцируйте один клас против остальных\n",
    "- Попробуйте бустинг на решающих деревьях, в качестве фичей используйте tf-idf и svd/random_projection/hashing_trick, что работает лучше? Сравните качество и время работы."
   ]
  },
  {
   "cell_type": "code",
   "execution_count": 32,
   "metadata": {
    "collapsed": false
   },
   "outputs": [],
   "source": [
    "from sklearn.datasets import fetch_20newsgroups\n",
    "\n",
    "from sklearn.pipeline import Pipeline\n",
    "from sklearn.feature_extraction.text import TfidfVectorizer\n",
    "from sklearn.decomposition import TruncatedSVD\n",
    "from sklearn.random_projection import SparseRandomProjection\n",
    "from sklearn.feature_extraction.text import HashingVectorizer"
   ]
  },
  {
   "cell_type": "code",
   "execution_count": 14,
   "metadata": {
    "collapsed": true
   },
   "outputs": [],
   "source": [
    "def load_newsgroups_data():\n",
    "    newsgroups_train = fetch_20newsgroups(subset='train')\n",
    "    newsgroups_test = fetch_20newsgroups(subset='test')\n",
    "    return newsgroups_train, newsgroups_test\n",
    "\n",
    "def binarize_newsgroups_data(newsgroups_train, newsgroups_test, vectorizer, reductor=None):\n",
    "    if reductor is not None:\n",
    "        pipeline = Pipeline(steps = [('vectorizer', vectorizer), ('reductor', reductor)])\n",
    "    else:\n",
    "        pipeline = Pipeline(steps = [('vectorizer', vectorizer)])\n",
    "    X_train, y_train = pipeline.fit_transform(newsgroups_train.data), newsgroups_train.target\n",
    "    X_test,  y_test  = pipeline.transform(newsgroups_test.data), newsgroups_test.target\n",
    "#     train_size = 2000\n",
    "#     test_size = 1000\n",
    "#     X_train, y_train = X_train[:train_size][:], y_train[:train_size]\n",
    "#     X_test, y_test = X_test[:test_size][:], y_test[:test_size]\n",
    "    np.place(y_train, y_train < 9, -1)\n",
    "    np.place(y_train, y_train >= 9, 1)\n",
    "    np.place(y_test, y_test < 9, -1)\n",
    "    np.place(y_test, y_test >= 9, 1)\n",
    "    return X_train, X_test, y_train, y_test\n",
    "\n",
    "def load_binarized_newsgroups_data(vectorizer, reductor=None):\n",
    "    newsgroups_train, newsgroups_test = load_newsgroups_data()\n",
    "    return binarize_newsgroups_data(newsgroups_train, newsgroups_test, vectorizer, reductor)\n",
    "\n",
    "def zero_one_loss_with_binary_boosting(X_train, X_test, y_train, y_test):\n",
    "    n_estimators = 100\n",
    "    clf = BinaryBoostingClassifier()\n",
    "    clf.fit(X_train, y_train)\n",
    "    return zero_one_loss(y_test, clf.predict(X_test), normalize=True)"
   ]
  },
  {
   "cell_type": "markdown",
   "metadata": {},
   "source": [
    "__TfidfVectorizer + TruncatedSVD__"
   ]
  },
  {
   "cell_type": "code",
   "execution_count": 15,
   "metadata": {
    "collapsed": false
   },
   "outputs": [],
   "source": [
    "X_train, X_test, y_train, y_test = load_binarized_newsgroups_data(TfidfVectorizer(), \n",
    "                                                                  TruncatedSVD(n_components=100))"
   ]
  },
  {
   "cell_type": "code",
   "execution_count": 16,
   "metadata": {
    "collapsed": false
   },
   "outputs": [
    {
     "name": "stdout",
     "output_type": "stream",
     "text": [
      "0.127588953797\n",
      "CPU times: user 1min 23s, sys: 16 ms, total: 1min 23s\n",
      "Wall time: 1min 23s\n"
     ]
    }
   ],
   "source": [
    "%%time\n",
    "print zero_one_loss_with_binary_boosting(X_train, X_test, y_train, y_test)"
   ]
  },
  {
   "cell_type": "markdown",
   "metadata": {},
   "source": [
    "__TfidfVectorizer + SparseRandomProjection__"
   ]
  },
  {
   "cell_type": "code",
   "execution_count": 17,
   "metadata": {
    "collapsed": true
   },
   "outputs": [],
   "source": [
    "X_train, X_test, y_train, y_test = load_binarized_newsgroups_data(TfidfVectorizer(),\n",
    "                                                                  SparseRandomProjection(n_components=100))"
   ]
  },
  {
   "cell_type": "code",
   "execution_count": 18,
   "metadata": {
    "collapsed": false
   },
   "outputs": [
    {
     "name": "stdout",
     "output_type": "stream",
     "text": [
      "0.285448751992\n",
      "CPU times: user 45.1 s, sys: 48 ms, total: 45.1 s\n",
      "Wall time: 45.2 s\n"
     ]
    }
   ],
   "source": [
    "%%time\n",
    "print zero_one_loss_with_binary_boosting(X_train, X_test, y_train, y_test)"
   ]
  },
  {
   "cell_type": "markdown",
   "metadata": {},
   "source": [
    "__TfidfVectorizer + FeatureHasher__"
   ]
  },
  {
   "cell_type": "code",
   "execution_count": 19,
   "metadata": {
    "collapsed": false
   },
   "outputs": [],
   "source": [
    "X_train, X_test, y_train, y_test = load_binarized_newsgroups_data(HashingVectorizer(n_features=100))"
   ]
  },
  {
   "cell_type": "code",
   "execution_count": 20,
   "metadata": {
    "collapsed": false
   },
   "outputs": [
    {
     "name": "stdout",
     "output_type": "stream",
     "text": [
      "0.284519383962\n",
      "CPU times: user 1min 32s, sys: 108 ms, total: 1min 32s\n",
      "Wall time: 1min 32s\n"
     ]
    }
   ],
   "source": [
    "%%time\n",
    "print zero_one_loss_with_binary_boosting(X_train, X_test, y_train, y_test)"
   ]
  },
  {
   "cell_type": "markdown",
   "metadata": {},
   "source": [
    "FeatureHasher работает немного дольше остальных методов.\n",
    "TruncatedSVD показал намного лучшее качество по сравнению с остальными методами."
   ]
  },
  {
   "cell_type": "markdown",
   "metadata": {},
   "source": [
    "<h1 align=\"center\">Random Forest vs Boosting</h1> "
   ]
  },
  {
   "cell_type": "markdown",
   "metadata": {
    "collapsed": true
   },
   "source": [
    "Подберите 2+ датасета как минимум большой и маленький (не использованных в этом дз) и проведите сравнение random forest и градиентного бустинга, используйте реализации алгоритмов из библиотеки sklearn.\n",
    "\n",
    "- Опишите результаты, почему тот или другой алгоритм на конкретном датасете работает лучше/хуже?\n",
    "- Как вы настраивали гиперпараметры алгоритмов?\n",
    "- Как вы проверяли качесво алгоритмов?"
   ]
  },
  {
   "cell_type": "code",
   "execution_count": 21,
   "metadata": {
    "collapsed": false
   },
   "outputs": [],
   "source": [
    "from sklearn.datasets import make_classification\n",
    "from sklearn.ensemble import RandomForestClassifier\n",
    "from sklearn.grid_search import GridSearchCV\n",
    "from sklearn.cross_validation import StratifiedShuffleSplit"
   ]
  },
  {
   "cell_type": "code",
   "execution_count": 22,
   "metadata": {
    "collapsed": true
   },
   "outputs": [],
   "source": [
    "def param_search_forest(X, y):\n",
    "    estimator = RandomForestClassifier()\n",
    "    param_grid = {'n_estimators': [10, 50, 100, 150, 200],\n",
    "                  'max_features': ['sqrt', 'log2', None],\n",
    "                  'max_depth': [5, 10, 50, None]}\n",
    "    cv = StratifiedShuffleSplit(y, n_iter=3, test_size=0.2)\n",
    "    grid_cv = GridSearchCV(estimator, param_grid, cv=cv)\n",
    "    return grid_cv\n",
    "\n",
    "def param_search_boosting(X, y):\n",
    "    estimator = GradientBoostingClassifier()\n",
    "    param_grid = {'n_estimators': [10, 50, 100, 150, 200],\n",
    "                  'max_features': ['sqrt', 'log2', None],\n",
    "                  'max_depth': [5, 10, 50, None]}\n",
    "    cv = StratifiedShuffleSplit(y, n_iter=3, test_size=0.2)\n",
    "    \n",
    "    grid_cv = GridSearchCV(estimator, param_grid, cv=cv)\n",
    "    return grid_cv"
   ]
  },
  {
   "cell_type": "code",
   "execution_count": 23,
   "metadata": {
    "collapsed": false
   },
   "outputs": [
    {
     "name": "stdout",
     "output_type": "stream",
     "text": [
      "Test with 500 samples\n"
     ]
    }
   ],
   "source": [
    "# First dataset\n",
    "n_samples = 500\n",
    "print 'Test with {} samples'.format(n_samples)\n",
    "X, y = make_classification(n_samples=n_samples, random_state=42)"
   ]
  },
  {
   "cell_type": "code",
   "execution_count": 24,
   "metadata": {
    "collapsed": false
   },
   "outputs": [
    {
     "name": "stdout",
     "output_type": "stream",
     "text": [
      "RandomForestClassifier results\n",
      "0.96\n",
      "{'max_features': 'log2', 'n_estimators': 100, 'max_depth': None}\n",
      "CPU times: user 1min 43s, sys: 300 ms, total: 1min 43s\n",
      "Wall time: 1min 43s\n"
     ]
    }
   ],
   "source": [
    "%%time\n",
    "print 'RandomForestClassifier results'\n",
    "grid_cv = param_search_forest(X, y)\n",
    "grid_cv.fit(X, y)\n",
    "print grid_cv.best_score_\n",
    "print grid_cv.best_params_"
   ]
  },
  {
   "cell_type": "code",
   "execution_count": 25,
   "metadata": {
    "collapsed": false
   },
   "outputs": [
    {
     "name": "stdout",
     "output_type": "stream",
     "text": [
      "GradientBoostingClassifier results\n",
      "0.963333333333\n",
      "{'max_features': 'log2', 'n_estimators': 100, 'max_depth': None}\n",
      "CPU times: user 46.9 s, sys: 28 ms, total: 47 s\n",
      "Wall time: 47 s\n"
     ]
    }
   ],
   "source": [
    "%%time\n",
    "print 'GradientBoostingClassifier results'\n",
    "grid_cv = param_search_boosting(X, y)\n",
    "grid_cv.fit(X, y)\n",
    "print grid_cv.best_score_\n",
    "print grid_cv.best_params_"
   ]
  },
  {
   "cell_type": "code",
   "execution_count": 26,
   "metadata": {
    "collapsed": false
   },
   "outputs": [
    {
     "name": "stdout",
     "output_type": "stream",
     "text": [
      "Test with 10000 samples\n"
     ]
    }
   ],
   "source": [
    "# Second dataset\n",
    "n_samples = 10000 # больше не брал, дабы дождаться cross_val_score\n",
    "print 'Test with {} samples'.format(n_samples)\n",
    "X, y = make_classification(n_samples=n_samples, random_state=42)"
   ]
  },
  {
   "cell_type": "code",
   "execution_count": 27,
   "metadata": {
    "collapsed": false
   },
   "outputs": [
    {
     "name": "stdout",
     "output_type": "stream",
     "text": [
      "RandomForestClassifier results\n",
      "0.943666666667\n",
      "{'max_features': None, 'n_estimators': 200, 'max_depth': None}\n",
      "CPU times: user 26min 47s, sys: 2.26 s, total: 26min 49s\n",
      "Wall time: 26min 51s\n"
     ]
    }
   ],
   "source": [
    "%%time\n",
    "print 'RandomForestClassifier results'\n",
    "grid_cv = param_search_forest(X, y)\n",
    "grid_cv.fit(X, y)\n",
    "print grid_cv.best_score_\n",
    "print grid_cv.best_params_"
   ]
  },
  {
   "cell_type": "code",
   "execution_count": 28,
   "metadata": {
    "collapsed": false
   },
   "outputs": [
    {
     "name": "stdout",
     "output_type": "stream",
     "text": [
      "GradientBoostingClassifier results\n",
      "0.943\n",
      "{'max_features': 'log2', 'n_estimators': 100, 'max_depth': None}\n",
      "CPU times: user 25min 33s, sys: 1.92 s, total: 25min 34s\n",
      "Wall time: 25min 36s\n"
     ]
    }
   ],
   "source": [
    "%%time\n",
    "print 'GradientBoostingClassifier results'\n",
    "grid_cv = param_search_boosting(X, y)\n",
    "grid_cv.fit(X, y)\n",
    "print grid_cv.best_score_\n",
    "print grid_cv.best_params_"
   ]
  },
  {
   "cell_type": "markdown",
   "metadata": {},
   "source": [
    "Результаты обоих алгоритмов на обоих датасетах близки. На маленьком датасете (500 объектов) GradientBoostingClassifier справился лучше, в свою очередь на большом датасете (10000 объектов) RandomForestClassifier показал лучший результат.\n",
    "Гиперпараметры настраивал с помощью поиска по сетке (GridSearch).\n",
    "Качество проверял с помощью cross_val_score, который считается внутри GridSearch."
   ]
  },
  {
   "cell_type": "markdown",
   "metadata": {
    "collapsed": true
   },
   "source": [
    "<h1 align=\"center\">Bonus part</h1> "
   ]
  },
  {
   "cell_type": "markdown",
   "metadata": {},
   "source": [
    "Это удвоит баллы за дз.\n",
    "\n",
    "- Реализуйте мультиклассовый бустинг -- проверьте на CIFAR10 + SVD\n",
    "- Попробуйте различные функции потерь, придумайте несколько своих, удалось ли обойти логистичискую и экспоненциальную?"
   ]
  },
  {
   "cell_type": "code",
   "execution_count": 29,
   "metadata": {
    "collapsed": false
   },
   "outputs": [],
   "source": [
    "# Classifier based on gradient boosting that uses one-vs-all strategy\n",
    "class MultiBoostingClassifier(BaseEstimator, ClassifierMixin):\n",
    "    def __init__(self, n_estimators=100, lr='auto', max_depth=3, class_labels=None, balancing=None):\n",
    "        self.lr = lr # learning rate\n",
    "        self.n_estimators = n_estimators\n",
    "        self.max_depth = max_depth\n",
    "        self.class_labels = class_labels\n",
    "        self.balancing = balancing\n",
    "    \n",
    "    def _undersample(self, X, y, class_label):\n",
    "        class_mask = y == class_label\n",
    "        positive_class_idx = np.nonzero(class_mask)[0]\n",
    "        negative_class_idx = np.nonzero(~class_mask)[0]\n",
    "        negative_class_idx_chosen = np.random.randint(0, \n",
    "                                                      high=negative_class_idx.shape[0],\n",
    "                                                      size=positive_class_idx.shape[0])\n",
    "        negative_class_idx = negative_class_idx[negative_class_idx_chosen]\n",
    "        X_new = np.vstack((X[positive_class_idx], X[negative_class_idx]))\n",
    "        y_new = np.append(y[positive_class_idx], y[negative_class_idx])\n",
    "        return X_new, y_new\n",
    "    \n",
    "    def _oversample(self, X, y, class_label):\n",
    "        class_mask = y == class_label\n",
    "        positive_class_idx = np.nonzero(class_mask)[0]\n",
    "        negative_class_idx = np.nonzero(~class_mask)[0]\n",
    "        positive_class_add_size = abs(negative_class_idx.shape[0] - positive_class_idx.shape[0]) / 3\n",
    "        positive_class_idx_chosen = np.random.randint(0, \n",
    "                                                      high=positive_class_idx.shape[0],\n",
    "                                                      size=positive_class_add_size)\n",
    "        positive_class_idx = positive_class_idx[positive_class_idx_chosen]\n",
    "        X_new = np.vstack((X, X[positive_class_idx]))\n",
    "        y_new = np.append(y, y[positive_class_idx])\n",
    "        return X_new, y_new\n",
    "    \n",
    "    def _binarizeLabels(self, y, class_label):\n",
    "        label_converter = lambda label: 1 if label == class_label else -1\n",
    "        return np.array(map(label_converter, list(y)))\n",
    "    \n",
    "    def fit(self, X, original_y):\n",
    "        self.binary_clfs = []\n",
    "        if self.class_labels is None:\n",
    "            self.class_labels = np.unique(original_y)\n",
    "        for class_label in self.class_labels:\n",
    "            print 'CL: {}'.format(class_label)\n",
    "            # balance classes\n",
    "            if self.balancing == 'under':\n",
    "                X_train, y_train = self._undersample(X, original_y, class_label)\n",
    "            elif self.balancing == 'over':\n",
    "                X_train, y_train = self._oversample(X, original_y, class_label)\n",
    "            else:\n",
    "                X_train, y_train = X, original_y\n",
    "            y_train = self._binarizeLabels(y_train, class_label)\n",
    "            \n",
    "#             binary_clf = BinaryBoostingClassifier(self.n_estimators, self.lr, max_depth=self.max_depth) #works slowly\n",
    "            binary_clf = GradientBoostingClassifier(n_estimators=self.n_estimators, \n",
    "                                                    learning_rate=0.1,\n",
    "                                                    max_depth=self.max_depth)\n",
    "            binary_clf.fit(X_train, y_train)\n",
    "            self.binary_clfs.append(binary_clf)\n",
    "        return self\n",
    "\n",
    "    def _predict(self, X):\n",
    "        return np.array([binary_clf.predict_proba(X)[:, 1] for binary_clf in self.binary_clfs])\n",
    "        #return np.array([binary_clf._predict(X) for binary_clf in self.binary_clfs])\n",
    "    \n",
    "    def predict(self, X):\n",
    "        predictions = self._predict(X)\n",
    "        class_predictions = np.argmax(predictions, axis=0)\n",
    "        return self.class_labels[class_predictions]\n",
    "\n",
    "# classifier = MultiBoostingClassifier(n_estimators=2)\n",
    "# X = np.array([[0, 0, 0],\n",
    "#               [0, 0, 1],\n",
    "#               [0, 1, 0],\n",
    "#               [0, 1, 1],\n",
    "#               [1, 0, 0],\n",
    "#               [1, 0, 1],\n",
    "#               [1, 1, 0],\n",
    "#               [1, 1, 1]])\n",
    "# y = np.array([1, 0, 2, 0, 1, 2, 0, 1])\n",
    "# classifier.fit(X, y)\n",
    "# classifier.predict(X)"
   ]
  },
  {
   "cell_type": "code",
   "execution_count": 30,
   "metadata": {
    "collapsed": false
   },
   "outputs": [],
   "source": [
    "from utils_1 import load_cifar10\n",
    "X_train, y_train, X_val, y_val, X_test, y_test = load_cifar10('./data/cifar10')[0]\n",
    "X_train, X_test = X_train.reshape(X_train.shape[0], -1), X_test.reshape(X_test.shape[0], -1)"
   ]
  },
  {
   "cell_type": "code",
   "execution_count": 33,
   "metadata": {
    "collapsed": false
   },
   "outputs": [
    {
     "name": "stdout",
     "output_type": "stream",
     "text": [
      "(50000, 100)\n",
      "(10000, 100)\n"
     ]
    }
   ],
   "source": [
    "svd = TruncatedSVD(n_components=100)\n",
    "X_train = svd.fit_transform(X_train)\n",
    "X_test  = svd.transform(X_test)\n",
    "print X_train.shape\n",
    "print X_test.shape"
   ]
  },
  {
   "cell_type": "markdown",
   "metadata": {},
   "source": [
    "__Undersampling__"
   ]
  },
  {
   "cell_type": "code",
   "execution_count": 42,
   "metadata": {
    "collapsed": false
   },
   "outputs": [
    {
     "name": "stdout",
     "output_type": "stream",
     "text": [
      "CL: 0\n",
      "CL: 1\n",
      "CL: 2\n",
      "CL: 3\n",
      "CL: 4\n",
      "CL: 5\n",
      "CL: 6\n",
      "CL: 7\n",
      "CL: 8\n",
      "CL: 9\n",
      "CPU times: user 3min 16s, sys: 504 ms, total: 3min 17s\n",
      "Wall time: 3min 18s\n"
     ]
    }
   ],
   "source": [
    "%%time\n",
    "clf = MultiBoostingClassifier(class_labels=np.arange(10), balancing='under')\n",
    "clf.fit(X_train, y_train)"
   ]
  },
  {
   "cell_type": "code",
   "execution_count": 43,
   "metadata": {
    "collapsed": false
   },
   "outputs": [
    {
     "name": "stdout",
     "output_type": "stream",
     "text": [
      "0.50162 0.5504\n",
      "CPU times: user 5.24 s, sys: 0 ns, total: 5.24 s\n",
      "Wall time: 5.25 s\n"
     ]
    }
   ],
   "source": [
    "%%time\n",
    "print zero_one_loss(clf.predict(X_train), y_train), zero_one_loss(clf.predict(X_test), y_test)"
   ]
  },
  {
   "cell_type": "markdown",
   "metadata": {},
   "source": [
    "__Oversampling__"
   ]
  },
  {
   "cell_type": "code",
   "execution_count": 44,
   "metadata": {
    "collapsed": false
   },
   "outputs": [
    {
     "name": "stdout",
     "output_type": "stream",
     "text": [
      "CL: 0\n",
      "CL: 1\n",
      "CL: 2\n",
      "CL: 3\n",
      "CL: 4\n",
      "CL: 5\n",
      "CL: 6\n",
      "CL: 7\n",
      "CL: 8\n",
      "CL: 9\n",
      "CPU times: user 33min 48s, sys: 3.41 s, total: 33min 52s\n",
      "Wall time: 33min 56s\n"
     ]
    }
   ],
   "source": [
    "%%time\n",
    "clf = MultiBoostingClassifier(class_labels=np.arange(10), balancing='over')\n",
    "clf.fit(X_train, y_train)"
   ]
  },
  {
   "cell_type": "code",
   "execution_count": 45,
   "metadata": {
    "collapsed": false
   },
   "outputs": [
    {
     "name": "stdout",
     "output_type": "stream",
     "text": [
      "0.48754 0.5446\n",
      "CPU times: user 6.32 s, sys: 8 ms, total: 6.33 s\n",
      "Wall time: 6.36 s\n"
     ]
    }
   ],
   "source": [
    "%%time\n",
    "print zero_one_loss(clf.predict(X_train), y_train), zero_one_loss(clf.predict(X_test), y_test)"
   ]
  },
  {
   "cell_type": "markdown",
   "metadata": {},
   "source": [
    "__No balancing__"
   ]
  },
  {
   "cell_type": "code",
   "execution_count": 46,
   "metadata": {
    "collapsed": false
   },
   "outputs": [
    {
     "name": "stdout",
     "output_type": "stream",
     "text": [
      "CL: 0\n",
      "CL: 1\n",
      "CL: 2\n",
      "CL: 3\n",
      "CL: 4\n",
      "CL: 5\n",
      "CL: 6\n",
      "CL: 7\n",
      "CL: 8\n",
      "CL: 9\n",
      "CPU times: user 27min 47s, sys: 1.9 s, total: 27min 48s\n",
      "Wall time: 27min 52s\n"
     ]
    }
   ],
   "source": [
    "%%time\n",
    "clf = MultiBoostingClassifier(class_labels=np.arange(10))\n",
    "clf.fit(X_train, y_train)"
   ]
  },
  {
   "cell_type": "code",
   "execution_count": 48,
   "metadata": {
    "collapsed": false
   },
   "outputs": [
    {
     "name": "stdout",
     "output_type": "stream",
     "text": [
      "0.47906 0.5466\n",
      "CPU times: user 5.14 s, sys: 4 ms, total: 5.15 s\n",
      "Wall time: 5.16 s\n"
     ]
    }
   ],
   "source": [
    "%%time\n",
    "print zero_one_loss(clf.predict(X_train), y_train), zero_one_loss(clf.predict(X_test), y_test)"
   ]
  },
  {
   "cell_type": "markdown",
   "metadata": {},
   "source": [
    "__Loss functions__"
   ]
  },
  {
   "cell_type": "code",
   "execution_count": 53,
   "metadata": {
    "collapsed": false
   },
   "outputs": [],
   "source": [
    "# defined be my sqrt loss function\n",
    "def sqrt_loss_margin(margin):\n",
    "    return 0 if margin >= 0 else np.sqrt(1-margin)\n",
    "    \n",
    "def sqrt_loss(y_true, y_pred):\n",
    "    return sqrt_loss_margin(y_true * y_pred)\n",
    "    \n",
    "# defined be my arctan loss function\n",
    "def arctan_loss_margin(margin):\n",
    "    return np.pi / 2 - np.arctan(margin + np.tan(np.pi / 2 - 1))\n",
    "\n",
    "def arctan_loss(y_true, y_pred):\n",
    "    return arctan_loss_margin(y_true * y_pred)\n",
    "\n",
    "# classic 0-1 loss function\n",
    "def zero_one_loss_margin(margin):\n",
    "    return 0 if margin >= 0 else 1\n",
    "\n",
    "sqrt_loss_margin = np.vectorize(sqrt_loss_margin)\n",
    "arctan_loss_margin = np.vectorize(arctan_loss_margin)\n",
    "zero_one_loss_margin = np.vectorize(zero_one_loss_margin)"
   ]
  },
  {
   "cell_type": "code",
   "execution_count": 48,
   "metadata": {
    "collapsed": false
   },
   "outputs": [
    {
     "data": {
      "text/plain": [
       "<matplotlib.legend.Legend at 0x7fc3da6b3ad0>"
      ]
     },
     "execution_count": 48,
     "metadata": {},
     "output_type": "execute_result"
    },
    {
     "data": {
      "image/png": "[encoded data removed]",
      "text/plain": [
       "<matplotlib.figure.Figure at 0x7fc3db0400d0>"
      ]
     },
     "metadata": {},
     "output_type": "display_data"
    }
   ],
   "source": [
    "Xs = np.linspace(-10, 10, num=1000)\n",
    "plt.plot(Xs, sqrt_loss_margin(Xs), label='Sqrt loss', color='r')\n",
    "plt.plot(Xs, arctan_loss_margin(Xs), label='Arctan loss', color='g')\n",
    "plt.plot(Xs, zero_one_loss_margin(Xs), label='Zero-one loss', color='b')\n",
    "plt.legend()"
   ]
  },
  {
   "cell_type": "markdown",
   "metadata": {},
   "source": [
    "Учитывая, что в классы sklearn нельзя передать пользовательскую функцию потерь, я не могу построить GradientBoostingClassifier на основе определенных мною функций потерь. Поэтому я воспользуюсь ими, чтобы оценить предсказание уже построенной модели."
   ]
  },
  {
   "cell_type": "code",
   "execution_count": 57,
   "metadata": {
    "collapsed": true
   },
   "outputs": [],
   "source": [
    "from sklearn.cross_validation import train_test_split\n",
    "\n",
    "adult = pd.read_csv(\n",
    "    './data/adult.data', \n",
    "    names=[\n",
    "        \"Age\", \"Workclass\", \"fnlwgt\", \"Education\", \"Education-Num\", \"Martial Status\",\n",
    "        \"Occupation\", \"Relationship\", \"Race\", \"Sex\", \"Capital Gain\", \"Capital Loss\",\n",
    "        \"Hours per week\", \"Country\", \"Target\"], \n",
    "    header=None, na_values=\"?\")\n",
    "adult = pd.get_dummies(adult)\n",
    "adult[\"Target\"] = adult[\"Target_ >50K\"]\n",
    "\n",
    "X, y = adult[adult.columns[:-3]].values, adult[adult.columns[-1]].values\n",
    "y = 2*(y-0.5)\n",
    "X_train, X_test, y_train, y_test = train_test_split(X, y, test_size=0.3)"
   ]
  },
  {
   "cell_type": "code",
   "execution_count": 58,
   "metadata": {
    "collapsed": false
   },
   "outputs": [
    {
     "name": "stdout",
     "output_type": "stream",
     "text": [
      "CPU times: user 22.7 s, sys: 36 ms, total: 22.7 s\n",
      "Wall time: 22.8 s\n"
     ]
    }
   ],
   "source": [
    "%%time\n",
    "clf = GradientBoostingClassifier()\n",
    "clf.fit(X_train, y_train)\n",
    "y_pred = clf.predict(X_test)"
   ]
  },
  {
   "cell_type": "code",
   "execution_count": 59,
   "metadata": {
    "collapsed": false
   },
   "outputs": [
    {
     "name": "stdout",
     "output_type": "stream",
     "text": [
      "Arctan loss: 0.723795240562\n",
      "Sqrt loss: 0.129286518579\n",
      "Zero-one loss: 0.129286518579\n",
      "Logistic loss: 0.442548206097\n"
     ]
    }
   ],
   "source": [
    "arctan_loss_score = np.mean(arctan_loss(y_test, y_pred))\n",
    "sqrt_loss_score = np.mean(sqrt_loss(y_test, y_pred))\n",
    "zero_one_loss_score = zero_one_loss(y_test, y_pred, normalize=True)\n",
    "logistic_loss_score = np.mean(BinaryBoostingClassifier().loss(y_test, y_pred))\n",
    "\n",
    "print 'Arctan loss:', arctan_loss_score\n",
    "print 'Sqrt loss:', sqrt_loss_score\n",
    "print 'Zero-one loss:', zero_one_loss_score\n",
    "print 'Logistic loss:', logistic_loss_score"
   ]
  }
 ],
 "metadata": {
  "kernelspec": {
   "display_name": "Python [Root]",
   "language": "python",
   "name": "Python [Root]"
  },
  "language_info": {
   "codemirror_mode": {
    "name": "ipython",
    "version": 2
   },
   "file_extension": ".py",
   "mimetype": "text/x-python",
   "name": "python",
   "nbconvert_exporter": "python",
   "pygments_lexer": "ipython2",
   "version": "2.7.12"
  }
 },
 "nbformat": 4,
 "nbformat_minor": 0
}
