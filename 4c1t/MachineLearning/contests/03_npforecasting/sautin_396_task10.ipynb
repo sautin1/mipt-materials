{
 "cells": [
  {
   "cell_type": "markdown",
   "metadata": {},
   "source": [
    "## Домашнее здание №3 / New Product Forecasting\n",
    "\n",
    "### Саутин Андрей / 396\n",
    "\n",
    "----\n",
    "План выполнения домашнего задания:\n",
    "\n",
    "1. Подготовка данных\n",
    "2. Предсказание без категориальных признаков\n",
    "3. Предсказание с категориальными признаками\n",
    "4.  Другие модели и генерация дополнительных признаков\n",
    "5. Отправка результатов в контест на Kaggle"
   ]
  },
  {
   "cell_type": "code",
   "execution_count": 1,
   "metadata": {
    "collapsed": false
   },
   "outputs": [
    {
     "name": "stderr",
     "output_type": "stream",
     "text": [
      "/home/sautin1/anaconda2/lib/python2.7/site-packages/sklearn/cross_validation.py:44: DeprecationWarning: This module was deprecated in version 0.18 in favor of the model_selection module into which all the refactored classes and functions are moved. Also note that the interface of the new CV iterators are different from that of this module. This module will be removed in 0.20.\n",
      "  \"This module will be removed in 0.20.\", DeprecationWarning)\n"
     ]
    }
   ],
   "source": [
    "import pandas as pd\n",
    "import numpy as np\n",
    "from random import shuffle\n",
    "from sklearn import tree\n",
    "from copy import deepcopy\n",
    "from sklearn.ensemble import BaggingRegressor\n",
    "import matplotlib.pyplot as plt\n",
    "from sklearn.ensemble import RandomForestRegressor\n",
    "from sklearn.ensemble import ExtraTreesRegressor\n",
    "from sklearn.ensemble import GradientBoostingRegressor\n",
    "from sklearn import cross_validation\n",
    "from sklearn.dummy import DummyRegressor\n",
    "from scipy.optimize import minimize_scalar\n",
    "%matplotlib inline"
   ]
  },
  {
   "cell_type": "markdown",
   "metadata": {},
   "source": [
    "## Подготовка данных (1 балл)\n",
    " * Изучить признаки\n",
    " * Выделить категориальные признаки, которые можно использовать для обучения\n",
    " * Выделить датасет только с числовыми признаками\n",
    " * Выделить полезные числовые признаки"
   ]
  },
  {
   "cell_type": "code",
   "execution_count": 2,
   "metadata": {
    "collapsed": false
   },
   "outputs": [
    {
     "data": {
      "text/plain": [
       "(40000, 33)"
      ]
     },
     "execution_count": 2,
     "metadata": {},
     "output_type": "execute_result"
    }
   ],
   "source": [
    "# data = pd.read_csv('blogData_train.csv', header=None)\n",
    "data = pd.read_csv('./data/train.csv', sep=';', index_col='ID')\n",
    "data.shape"
   ]
  },
  {
   "cell_type": "code",
   "execution_count": 3,
   "metadata": {
    "collapsed": false
   },
   "outputs": [
    {
     "data": {
      "text/html": [
       "<div>\n",
       "<table border=\"1\" class=\"dataframe\">\n",
       "  <thead>\n",
       "    <tr style=\"text-align: right;\">\n",
       "      <th></th>\n",
       "      <th>DEMAND</th>\n",
       "      <th>LOCATION_ID</th>\n",
       "      <th>MODEL_BRAND</th>\n",
       "      <th>MODEL_COST_AVG</th>\n",
       "      <th>MODEL_COUNT_SALES_DAYS</th>\n",
       "      <th>MODEL_DIAG</th>\n",
       "      <th>MODEL_DIAG_TYPE</th>\n",
       "      <th>MODEL_HEIGHT</th>\n",
       "      <th>MODEL_ID</th>\n",
       "      <th>MODEL_MEAN_SALES</th>\n",
       "      <th>...</th>\n",
       "      <th>STORE_FORMAT</th>\n",
       "      <th>STORE_OPEN_DTTM</th>\n",
       "      <th>STORE_PRICE_TYPE</th>\n",
       "      <th>STORE_REGION</th>\n",
       "      <th>STORE_RES_ABC</th>\n",
       "      <th>STORE_RES_SPECTR</th>\n",
       "      <th>STORE_TYPE_A</th>\n",
       "      <th>STORE_TYPE_B</th>\n",
       "      <th>STORE_TYPE_C</th>\n",
       "      <th>STORE_TYPE_SPECTR</th>\n",
       "    </tr>\n",
       "    <tr>\n",
       "      <th>ID</th>\n",
       "      <th></th>\n",
       "      <th></th>\n",
       "      <th></th>\n",
       "      <th></th>\n",
       "      <th></th>\n",
       "      <th></th>\n",
       "      <th></th>\n",
       "      <th></th>\n",
       "      <th></th>\n",
       "      <th></th>\n",
       "      <th></th>\n",
       "      <th></th>\n",
       "      <th></th>\n",
       "      <th></th>\n",
       "      <th></th>\n",
       "      <th></th>\n",
       "      <th></th>\n",
       "      <th></th>\n",
       "      <th></th>\n",
       "      <th></th>\n",
       "      <th></th>\n",
       "    </tr>\n",
       "  </thead>\n",
       "  <tbody>\n",
       "    <tr>\n",
       "      <th>0</th>\n",
       "      <td>0.10536</td>\n",
       "      <td>1835543262</td>\n",
       "      <td>ark</td>\n",
       "      <td>5179.7500</td>\n",
       "      <td>NaN</td>\n",
       "      <td>5.5</td>\n",
       "      <td>big</td>\n",
       "      <td>720.0</td>\n",
       "      <td>1682</td>\n",
       "      <td>NaN</td>\n",
       "      <td>...</td>\n",
       "      <td>новый формат</td>\n",
       "      <td>19MAY15:00:00:00</td>\n",
       "      <td>розничная цена (северо-запад-санкт-петербург)</td>\n",
       "      <td>северо-запад</td>\n",
       "      <td>B</td>\n",
       "      <td>0.67</td>\n",
       "      <td>0.75</td>\n",
       "      <td>0.25</td>\n",
       "      <td>0.0</td>\n",
       "      <td>3.06</td>\n",
       "    </tr>\n",
       "    <tr>\n",
       "      <th>1</th>\n",
       "      <td>0.00010</td>\n",
       "      <td>1972241965</td>\n",
       "      <td>samsung</td>\n",
       "      <td>22015.3300</td>\n",
       "      <td>NaN</td>\n",
       "      <td>5.2</td>\n",
       "      <td>big</td>\n",
       "      <td>1920.0</td>\n",
       "      <td>34706</td>\n",
       "      <td>NaN</td>\n",
       "      <td>...</td>\n",
       "      <td>новый формат</td>\n",
       "      <td>20JAN16:00:00:00</td>\n",
       "      <td>розничная цена (северо-запад-днс1)</td>\n",
       "      <td>северо-запад</td>\n",
       "      <td>C</td>\n",
       "      <td>0.48</td>\n",
       "      <td>0.00</td>\n",
       "      <td>1.00</td>\n",
       "      <td>0.0</td>\n",
       "      <td>2.51</td>\n",
       "    </tr>\n",
       "    <tr>\n",
       "      <th>2</th>\n",
       "      <td>0.00010</td>\n",
       "      <td>2027986985</td>\n",
       "      <td>samsung</td>\n",
       "      <td>15592.5900</td>\n",
       "      <td>NaN</td>\n",
       "      <td>5.0</td>\n",
       "      <td>big</td>\n",
       "      <td>1280.0</td>\n",
       "      <td>2753</td>\n",
       "      <td>NaN</td>\n",
       "      <td>...</td>\n",
       "      <td>новый формат</td>\n",
       "      <td>27APR16:00:00:00</td>\n",
       "      <td>розничная цена (дальний восток-якутск)</td>\n",
       "      <td>дальний восток</td>\n",
       "      <td>A</td>\n",
       "      <td>0.64</td>\n",
       "      <td>1.00</td>\n",
       "      <td>0.00</td>\n",
       "      <td>0.0</td>\n",
       "      <td>2.72</td>\n",
       "    </tr>\n",
       "    <tr>\n",
       "      <th>3</th>\n",
       "      <td>0.00010</td>\n",
       "      <td>28432</td>\n",
       "      <td>alcatel</td>\n",
       "      <td>540.9533</td>\n",
       "      <td>29.0</td>\n",
       "      <td>1.8</td>\n",
       "      <td>small</td>\n",
       "      <td>128.0</td>\n",
       "      <td>1593</td>\n",
       "      <td>7.533</td>\n",
       "      <td>...</td>\n",
       "      <td>стандарт</td>\n",
       "      <td>21OCT09:00:00:00</td>\n",
       "      <td>розничная цена (северо-запад-боровичи)</td>\n",
       "      <td>северо-запад</td>\n",
       "      <td>B</td>\n",
       "      <td>0.65</td>\n",
       "      <td>0.50</td>\n",
       "      <td>0.25</td>\n",
       "      <td>0.0</td>\n",
       "      <td>2.04</td>\n",
       "    </tr>\n",
       "    <tr>\n",
       "      <th>4</th>\n",
       "      <td>0.00010</td>\n",
       "      <td>28547</td>\n",
       "      <td>мтс</td>\n",
       "      <td>444.7300</td>\n",
       "      <td>30.0</td>\n",
       "      <td>4.0</td>\n",
       "      <td>medium</td>\n",
       "      <td>480.0</td>\n",
       "      <td>80644</td>\n",
       "      <td>16.830</td>\n",
       "      <td>...</td>\n",
       "      <td>стандарт</td>\n",
       "      <td>20MAY09:00:00:00</td>\n",
       "      <td>розничная цена (северо-запад-санкт-петербург)</td>\n",
       "      <td>северо-запад</td>\n",
       "      <td>A</td>\n",
       "      <td>0.83</td>\n",
       "      <td>0.75</td>\n",
       "      <td>0.25</td>\n",
       "      <td>0.0</td>\n",
       "      <td>2.37</td>\n",
       "    </tr>\n",
       "  </tbody>\n",
       "</table>\n",
       "<p>5 rows × 33 columns</p>\n",
       "</div>"
      ],
      "text/plain": [
       "     DEMAND  LOCATION_ID MODEL_BRAND  MODEL_COST_AVG  MODEL_COUNT_SALES_DAYS  \\\n",
       "ID                                                                             \n",
       "0   0.10536   1835543262         ark       5179.7500                     NaN   \n",
       "1   0.00010   1972241965     samsung      22015.3300                     NaN   \n",
       "2   0.00010   2027986985     samsung      15592.5900                     NaN   \n",
       "3   0.00010        28432     alcatel        540.9533                    29.0   \n",
       "4   0.00010        28547         мтс        444.7300                    30.0   \n",
       "\n",
       "    MODEL_DIAG MODEL_DIAG_TYPE  MODEL_HEIGHT  MODEL_ID  MODEL_MEAN_SALES  \\\n",
       "ID                                                                         \n",
       "0          5.5             big         720.0      1682               NaN   \n",
       "1          5.2             big        1920.0     34706               NaN   \n",
       "2          5.0             big        1280.0      2753               NaN   \n",
       "3          1.8           small         128.0      1593             7.533   \n",
       "4          4.0          medium         480.0     80644            16.830   \n",
       "\n",
       "          ...         STORE_FORMAT   STORE_OPEN_DTTM  \\\n",
       "ID        ...                                          \n",
       "0         ...         новый формат  19MAY15:00:00:00   \n",
       "1         ...         новый формат  20JAN16:00:00:00   \n",
       "2         ...         новый формат  27APR16:00:00:00   \n",
       "3         ...             стандарт  21OCT09:00:00:00   \n",
       "4         ...             стандарт  20MAY09:00:00:00   \n",
       "\n",
       "                                 STORE_PRICE_TYPE    STORE_REGION  \\\n",
       "ID                                                                  \n",
       "0   розничная цена (северо-запад-санкт-петербург)    северо-запад   \n",
       "1              розничная цена (северо-запад-днс1)    северо-запад   \n",
       "2          розничная цена (дальний восток-якутск)  дальний восток   \n",
       "3          розничная цена (северо-запад-боровичи)    северо-запад   \n",
       "4   розничная цена (северо-запад-санкт-петербург)    северо-запад   \n",
       "\n",
       "    STORE_RES_ABC  STORE_RES_SPECTR STORE_TYPE_A  STORE_TYPE_B STORE_TYPE_C  \\\n",
       "ID                                                                            \n",
       "0               B              0.67         0.75          0.25          0.0   \n",
       "1               C              0.48         0.00          1.00          0.0   \n",
       "2               A              0.64         1.00          0.00          0.0   \n",
       "3               B              0.65         0.50          0.25          0.0   \n",
       "4               A              0.83         0.75          0.25          0.0   \n",
       "\n",
       "   STORE_TYPE_SPECTR  \n",
       "ID                    \n",
       "0               3.06  \n",
       "1               2.51  \n",
       "2               2.72  \n",
       "3               2.04  \n",
       "4               2.37  \n",
       "\n",
       "[5 rows x 33 columns]"
      ]
     },
     "execution_count": 3,
     "metadata": {},
     "output_type": "execute_result"
    }
   ],
   "source": [
    "# Посмотрим на данные\n",
    "data.head()"
   ]
  },
  {
   "cell_type": "markdown",
   "metadata": {},
   "source": [
    "### Категориальные признаки\n",
    " * Какие категориальные признаки следует использовать в первую очередь? \n",
    " * Есть ли категориальные признаки, которые в принципе не понятно, как использовать?"
   ]
  },
  {
   "cell_type": "code",
   "execution_count": 4,
   "metadata": {
    "collapsed": false
   },
   "outputs": [
    {
     "data": {
      "text/plain": [
       "Index([u'MODEL_BRAND', u'MODEL_DIAG_TYPE', u'MODEL_NAME', u'MODEL_OS',\n",
       "       u'MODEL_RES_TYPE', u'MODEL_TYPE', u'STORE_BRAND_ABC',\n",
       "       u'STORE_BUILDING_TYPE', u'STORE_CITY', u'STORE_CLUSTER',\n",
       "       u'STORE_DIAG_ABC', u'STORE_FORMAT', u'STORE_OPEN_DTTM',\n",
       "       u'STORE_PRICE_TYPE', u'STORE_REGION', u'STORE_RES_ABC'],\n",
       "      dtype='object')"
      ]
     },
     "execution_count": 4,
     "metadata": {},
     "output_type": "execute_result"
    }
   ],
   "source": [
    "# Определяем категориальные признаки\n",
    "# По понятным причинам 'LOCATION_ID', 'MODEL_ID' считаются числовыми признаками - их добавляем руками отдельно\n",
    "Cathegorical_columns = data.columns[([isinstance(z, str) for z in data.ix[0]])]\n",
    "# Cathegorical_columns = Categorical_columns.append(pd.Index(['LOCATION_ID', 'MODEL_ID']))\n",
    "\n",
    "# а зачем было здесь писать про \"добавление признаков руками\", если дальше из-за этого нельзя выделить числовой датасет?\n",
    "# наверное стоило использовать слова \"Добавим позже\"\n",
    "Cathegorical_columns"
   ]
  },
  {
   "cell_type": "code",
   "execution_count": 5,
   "metadata": {
    "collapsed": false
   },
   "outputs": [
    {
     "name": "stdout",
     "output_type": "stream",
     "text": [
      "Количество уникальных категориальных значений: [845]\n",
      "Удаляем признаки с номерами: \n",
      "                 NoUniqueValues\n",
      "MODEL_NAME                  447\n",
      "STORE_OPEN_DTTM             246\n"
     ]
    }
   ],
   "source": [
    "# Количество уникальных значений в категориальных признаках\n",
    "dist_val = pd.DataFrame({'NoUniqueValues': [data[z].nunique() for z in Cathegorical_columns]}, \n",
    "                        index = Cathegorical_columns)\n",
    "\n",
    "print('Количество уникальных категориальных значений: '+ str(dist_val.sum().values))\n",
    "nunique_threshold = 50\n",
    "print('Удаляем признаки с номерами: \\n'+ str(dist_val.ix[dist_val['NoUniqueValues']>nunique_threshold].sort_values(by='NoUniqueValues', ascending=False)))"
   ]
  },
  {
   "cell_type": "code",
   "execution_count": 6,
   "metadata": {
    "collapsed": false
   },
   "outputs": [
    {
     "name": "stdout",
     "output_type": "stream",
     "text": [
      "Index([u'MODEL_BRAND', u'MODEL_DIAG_TYPE', u'MODEL_OS', u'MODEL_RES_TYPE',\n",
      "       u'MODEL_TYPE', u'STORE_BRAND_ABC', u'STORE_BUILDING_TYPE',\n",
      "       u'STORE_CITY', u'STORE_CLUSTER', u'STORE_DIAG_ABC', u'STORE_FORMAT',\n",
      "       u'STORE_PRICE_TYPE', u'STORE_REGION', u'STORE_RES_ABC'],\n",
      "      dtype='object')\n"
     ]
    }
   ],
   "source": [
    "# Запоминаем те категориальные признаки, с которыми будем далее работать (используется далее)\n",
    "Cathegorical_columns_use = dist_val.ix[dist_val['NoUniqueValues']<=nunique_threshold].axes[0]\n",
    "print Cathegorical_columns_use"
   ]
  },
  {
   "cell_type": "markdown",
   "metadata": {},
   "source": [
    "### Числовые признаки\n",
    "* Какие числовые признаки следует использовать в первую очередь? \n",
    "* Есть ли числовые признаки, которые в принципе не понятно, как использовать?\n",
    "* Как заполнять NaN?"
   ]
  },
  {
   "cell_type": "code",
   "execution_count": 7,
   "metadata": {
    "collapsed": false
   },
   "outputs": [
    {
     "data": {
      "text/plain": [
       "Index([u'DEMAND', u'MODEL_COST_AVG', u'MODEL_COUNT_SALES_DAYS', u'MODEL_DIAG',\n",
       "       u'MODEL_HEIGHT', u'MODEL_MEAN_SALES', u'MODEL_WIDTH',\n",
       "       u'STORE_ASSORTMENT', u'STORE_BRAND_SPECTR', u'STORE_DIAG_SPECTR',\n",
       "       u'STORE_RES_SPECTR', u'STORE_TYPE_A', u'STORE_TYPE_B', u'STORE_TYPE_C',\n",
       "       u'STORE_TYPE_SPECTR'],\n",
       "      dtype='object')"
      ]
     },
     "execution_count": 7,
     "metadata": {},
     "output_type": "execute_result"
    }
   ],
   "source": [
    "# Выделяем числовой датасет: В данном случае удаляем все + MODEL_ID и LOCATION_ID\n",
    "num_data = data.drop(Cathegorical_columns | data.columns[[1,8]], axis = 1)\n",
    "num_data.columns"
   ]
  },
  {
   "cell_type": "code",
   "execution_count": 8,
   "metadata": {
    "collapsed": false
   },
   "outputs": [
    {
     "name": "stdout",
     "output_type": "stream",
     "text": [
      "Количество NaN:\n"
     ]
    },
    {
     "data": {
      "text/plain": [
       "DEMAND                        0\n",
       "MODEL_COST_AVG                0\n",
       "MODEL_COUNT_SALES_DAYS    18917\n",
       "MODEL_DIAG                  212\n",
       "MODEL_HEIGHT                212\n",
       "MODEL_MEAN_SALES          18917\n",
       "MODEL_WIDTH                 212\n",
       "STORE_ASSORTMENT            235\n",
       "STORE_BRAND_SPECTR          235\n",
       "STORE_DIAG_SPECTR           442\n",
       "STORE_RES_SPECTR            446\n",
       "STORE_TYPE_A                  0\n",
       "STORE_TYPE_B                  0\n",
       "STORE_TYPE_C                  0\n",
       "STORE_TYPE_SPECTR             0\n",
       "dtype: int64"
      ]
     },
     "execution_count": 8,
     "metadata": {},
     "output_type": "execute_result"
    }
   ],
   "source": [
    "# Количество NaN в числовых признаках\n",
    "print('Количество NaN:')\n",
    "nan_val = num_data.isnull().sum().T\n",
    "nan_val\n",
    "# print('Удаляем признаки с номерами: \\n'+ str(nan_val.sort_values(by='NoUniqueValues', ascending=False)))"
   ]
  },
  {
   "cell_type": "markdown",
   "metadata": {},
   "source": [
    "##### Преобразовываем числовые признаки (удаляем/добавляем/заменяем nan)"
   ]
  },
  {
   "cell_type": "code",
   "execution_count": 9,
   "metadata": {
    "collapsed": false
   },
   "outputs": [],
   "source": [
    "# Здесь добавьте код по преобразованию числовых признаков\n",
    "# пример\n",
    "# num_data[???][num_data[???]<числовой порог]=значение"
   ]
  },
  {
   "cell_type": "code",
   "execution_count": 10,
   "metadata": {
    "collapsed": false
   },
   "outputs": [
    {
     "name": "stdout",
     "output_type": "stream",
     "text": [
      "Index([u'DEMAND', u'MODEL_COST_AVG', u'MODEL_COUNT_SALES_DAYS', u'MODEL_DIAG',\n",
      "       u'MODEL_HEIGHT', u'MODEL_MEAN_SALES', u'MODEL_WIDTH',\n",
      "       u'STORE_ASSORTMENT', u'STORE_BRAND_SPECTR', u'STORE_DIAG_SPECTR',\n",
      "       u'STORE_RES_SPECTR', u'STORE_TYPE_A', u'STORE_TYPE_B', u'STORE_TYPE_C',\n",
      "       u'STORE_TYPE_SPECTR'],\n",
      "      dtype='object')\n"
     ]
    }
   ],
   "source": [
    "# Здесь добавьте код по заполнению NaN\n",
    "num_data[['MODEL_MEAN_SALES']] = num_data[['MODEL_MEAN_SALES']].fillna(0)\n",
    "print num_data.columns"
   ]
  },
  {
   "cell_type": "code",
   "execution_count": 11,
   "metadata": {
    "collapsed": false
   },
   "outputs": [
    {
     "name": "stdout",
     "output_type": "stream",
     "text": [
      "Index([u'DEMAND', u'MODEL_COST_AVG', u'MODEL_DIAG', u'MODEL_MEAN_SALES',\n",
      "       u'STORE_BRAND_SPECTR', u'STORE_DIAG_SPECTR', u'STORE_RES_SPECTR',\n",
      "       u'STORE_TYPE_A', u'STORE_TYPE_B', u'STORE_TYPE_C',\n",
      "       u'STORE_TYPE_SPECTR'],\n",
      "      dtype='object')\n",
      "(39554, 11)\n"
     ]
    }
   ],
   "source": [
    "# Здесь добавьте код по удалению числовых признаков\n",
    "num_data.drop(['MODEL_COUNT_SALES_DAYS', 'MODEL_HEIGHT', 'MODEL_WIDTH', 'STORE_ASSORTMENT'], axis = 1, inplace=True)\n",
    "num_data = num_data.dropna(axis=0, how='any')\n",
    "print num_data.columns\n",
    "print num_data.shape"
   ]
  },
  {
   "cell_type": "markdown",
   "metadata": {},
   "source": [
    "## Предсказание без категориальных признаков (1 балл)\n",
    "### Вспомогательные функции"
   ]
  },
  {
   "cell_type": "code",
   "execution_count": 12,
   "metadata": {
    "collapsed": true
   },
   "outputs": [],
   "source": [
    "def smape_loss_func(x, y):\n",
    "    SymAPE = [ 2*np.abs(x-y)/(np.abs(x)+np.abs(y))] \n",
    "    return np.mean(SymAPE)\n",
    "\n",
    "def get_numerated_data(df, categorical_columns):\n",
    "    simple_df = deepcopy(df)\n",
    "    for column in categorical_columns:\n",
    "        simple_df[column] = pd.Categorical.from_array(simple_df[column]).labels\n",
    "    \n",
    "    return simple_df\n",
    "\n",
    "def get_binarized_data(df, categorical_columns):\n",
    "    binary_df = deepcopy(df)\n",
    "    for column in categorical_columns:\n",
    "        binary_df = pd.concat([binary_df, pd.get_dummies(binary_df[column], prefix=column, prefix_sep=': ')], axis=1)\n",
    "        del binary_df[column]\n",
    "    \n",
    "    return binary_df\n",
    "\n",
    "def split_to_numpy(df, y_column_name):\n",
    "    #print df\n",
    "    #print y_column_name\n",
    "    data_x = df.drop(y_column_name, axis=1).values.astype(np.float32)\n",
    "    data_y = df[y_column_name].values.astype(np.float32)\n",
    "    column_names = df.drop(y_column_name, axis=1).columns\n",
    "    \n",
    "    return data_x, data_y, column_names\n",
    "\n",
    "def split_train_test(df, test_size=0.5, random_state=42, y_column_name='y'):\n",
    "    X = np.asarray(df.drop(y_column_name, axis=1))\n",
    "    y = np.asarray(df[y_column_name]).ravel()\n",
    "    trainX, testX, trainY, testY = cross_validation.train_test_split(X, y, test_size=test_size, random_state=42)\n",
    "    return trainX, testX, trainY, testY"
   ]
  },
  {
   "cell_type": "markdown",
   "metadata": {},
   "source": [
    "### Необходимые функции"
   ]
  },
  {
   "cell_type": "code",
   "execution_count": 13,
   "metadata": {
    "collapsed": false
   },
   "outputs": [],
   "source": [
    "def show_plot(n_est, res, title=\"\", ylabel=\"acc\"):\n",
    "    fig, ax = plt.subplots()\n",
    "    ax.plot(n_est, [res[x][1] for x in n_est], 'ro')\n",
    "#     ax.set_xlim((np.min(n_est) - 10, np.max(n_est) + 10))\n",
    "#     plt.xlabel(\"n_estimators\")\n",
    "#     plt.ylabel(ylabel)\n",
    "#     plt.title(\"Test result\")\n",
    "#     plt.show()\n",
    "    \n",
    "#     fig, ax = plt.subplots()\n",
    "    ax.plot(n_est, [res[x][0] for x in n_est], 'bo')\n",
    "    ax.set_xlim((np.min(n_est) - 10, np.max(n_est) + 10))\n",
    "    plt.xlabel(\"n_estimators\")\n",
    "    plt.ylabel(\"acc\")\n",
    "    plt.title(title)\n",
    "    plt.show()\n",
    "\n",
    "def get_results_dummy_reg(acc=smape_loss_func, verbose=True, strg ='mean', const=None):\n",
    "    results = dict()\n",
    "    reg = DummyRegressor(strategy=strg, constant=const)\n",
    "    reg.fit(trainX, trainY)\n",
    "    predict = reg.predict(testX)\n",
    "    results[1] = (acc(trainY, reg.predict(trainX)), acc(testY, predict))\n",
    "    if verbose:\n",
    "        print(\"Accuracy: \" + str(results[1][1]))\n",
    "    return results\n",
    "\n",
    "def get_results_baggind_rsm(n_est, max_samples, max_features, acc=smape_loss_func, verbose=True):\n",
    "    results = dict()\n",
    "    for i in n_est:\n",
    "        reg = BaggingRegressor(n_estimators=i,\n",
    "                          max_samples=max_samples, max_features=max_features, random_state=42, n_jobs=-1, verbose=0)\n",
    "        reg.fit(trainX, trainY)\n",
    "#         results[i] = (mse(reg.predict(trainX), trainY), mse(reg.predict(testX), testY))\n",
    "        predict = reg.predict(testX)\n",
    "        results[i] = (acc(trainY, reg.predict(trainX)), acc(testY, predict))\n",
    "        if verbose:\n",
    "            print(\"Count of estimators: \" + str(i) + \", accuracy: \" + str(results[i][1]))\n",
    "    return results\n",
    "\n",
    "def get_results_rf(n_est, oob=False, verbose=True, acc=smape_loss_func, max_features='sqrt'):\n",
    "    results = dict()\n",
    "    for i in n_est:\n",
    "        reg = RandomForestRegressor(n_estimators=i, n_jobs=-1, random_state=42, verbose=0,\n",
    "                                    oob_score=oob, max_features=max_features)\n",
    "        reg.fit(trainX, trainY)\n",
    "        predict = reg.predict(testX)\n",
    "        if oob:\n",
    "            results[i] = (reg.oob_score_, acc(predict, testY))\n",
    "        else:\n",
    "            results[i] = (acc(trainY, reg.predict(trainX)), acc(testY,predict))\n",
    "        if verbose:\n",
    "            print(\"Count of estimators: \" + str(i) + \", accuracy: \" + str(results[i][1]))\n",
    "    return results\n",
    "\n",
    "def get_results_erte(n_est, verbose=True,acc=smape_loss_func):\n",
    "    results = dict()\n",
    "    for i in n_est:\n",
    "        reg = ExtraTreesRegressor(n_estimators=i, n_jobs=-1, random_state=42, verbose=0)\n",
    "        reg.fit(trainX, trainY)\n",
    "        predict = reg.predict(testX)\n",
    "        results[i] = (acc(trainY,reg.predict(trainX)), acc(predict, testY))\n",
    "        if verbose:\n",
    "            print(\"Count of estimators: \" + str(i) + \", accuracy: \" + str(results[i][1]))\n",
    "    return results\n",
    "\n",
    "def get_results_gbdt(n_est, verbose=True, init=None, acc=smape_loss_func, min_max_filter=True, max_val=1, min_val=0.001, max_depth=3):\n",
    "    results = dict()\n",
    "    for i in n_est:\n",
    "        if init is not None:\n",
    "            reg = GradientBoostingRegressor(n_estimators=i, random_state=42, max_depth=max_depth, verbose=0, init=init)\n",
    "        else:\n",
    "            reg = GradientBoostingRegressor(n_estimators=i, random_state=42, max_depth=max_depth, verbose=0)\n",
    "        reg.fit(trainX, trainY)\n",
    "        predict = reg.predict(testX)\n",
    "        if min_max_filter:\n",
    "            predict = np.minimum(np.maximum(predict, min_val),max_val)\n",
    "        results[i] = (acc(trainY, reg.predict(trainX)), acc(testY, predict))\n",
    "        if verbose:\n",
    "            print(\"Count of estimators: \" + str(i) + \", accuracy: \" + str(results[i][1]))    \n",
    "    return results\n",
    "\n",
    "def get_optimal(results):\n",
    "    results = sorted(results, key=lambda x: x[1])"
   ]
  },
  {
   "cell_type": "markdown",
   "metadata": {},
   "source": [
    "### Делим выборку на обучение и контроль"
   ]
  },
  {
   "cell_type": "code",
   "execution_count": 113,
   "metadata": {
    "collapsed": false
   },
   "outputs": [],
   "source": [
    "trainX, testX, trainY, testY = split_train_test(df = num_data, test_size=0.3,  y_column_name='DEMAND')"
   ]
  },
  {
   "cell_type": "markdown",
   "metadata": {},
   "source": [
    "### DummyRegressor\n",
    "* Самый простой классификатор на числовых признаках используется как база для сравнения"
   ]
  },
  {
   "cell_type": "code",
   "execution_count": 131,
   "metadata": {
    "collapsed": false
   },
   "outputs": [
    {
     "name": "stdout",
     "output_type": "stream",
     "text": [
      "Accuracy: 1.26016395526\n",
      "CPU times: user 8 ms, sys: 0 ns, total: 8 ms\n",
      "Wall time: 3.27 ms\n",
      "Accuracy: 1.13137239143\n",
      "CPU times: user 4 ms, sys: 0 ns, total: 4 ms\n",
      "Wall time: 2.56 ms\n"
     ]
    }
   ],
   "source": [
    "%time results = get_results_dummy_reg()\n",
    "%time results = get_results_dummy_reg(strg='constant', const=0.0001)"
   ]
  },
  {
   "cell_type": "markdown",
   "metadata": {},
   "source": [
    "### Bagging and RSM\n",
    "Диапазон для n_est рекомендуется брать небольшим\n",
    "\n",
    "Если трубется изменять дефолтные параметры алгоритма - меняйте код выше"
   ]
  },
  {
   "cell_type": "markdown",
   "metadata": {},
   "source": [
    "** Каким стоит брать размер bootstrap выборки и RSM выборки ** \n",
    "Например: \n",
    "**Bagging:** 0.5 от размера тестовой выборки.\n",
    "\n",
    "**RSM:** 0.5 от размера тестовой выборки."
   ]
  },
  {
   "cell_type": "code",
   "execution_count": 137,
   "metadata": {
    "collapsed": false
   },
   "outputs": [
    {
     "name": "stdout",
     "output_type": "stream",
     "text": [
      "Count of estimators: 5, accuracy: 1.23023847433\n",
      "Count of estimators: 9, accuracy: 1.2207910569\n",
      "Count of estimators: 13, accuracy: 1.21654261424\n",
      "Count of estimators: 17, accuracy: 1.2213740033\n",
      "Count of estimators: 21, accuracy: 1.22245114468\n",
      "Count of estimators: 25, accuracy: 1.22133931032\n",
      "Count of estimators: 29, accuracy: 1.21908583305\n",
      "Count of estimators: 33, accuracy: 1.22165363087\n",
      "Count of estimators: 37, accuracy: 1.22508999724\n",
      "Count of estimators: 41, accuracy: 1.22819780618\n",
      "Count of estimators: 45, accuracy: 1.22703992559\n",
      "Count of estimators: 49, accuracy: 1.22745975017\n",
      "Count of estimators: 53, accuracy: 1.22791937274\n",
      "Count of estimators: 57, accuracy: 1.22732358252\n",
      "Count of estimators: 61, accuracy: 1.22779537954\n",
      "Count of estimators: 65, accuracy: 1.22899921012\n",
      "Count of estimators: 69, accuracy: 1.22653581671\n",
      "Count of estimators: 73, accuracy: 1.22485772616\n",
      "Count of estimators: 77, accuracy: 1.224947711\n",
      "CPU times: user 13.5 s, sys: 7.63 s, total: 21.1 s\n",
      "Wall time: 44 s\n"
     ]
    },
    {
     "data": {
      "image/png": "[encoded data removed]",
      "text/plain": [
       "<matplotlib.figure.Figure at 0x7f26860651d0>"
      ]
     },
     "metadata": {},
     "output_type": "display_data"
    }
   ],
   "source": [
    "n_est = range(1, 30, 2)\n",
    "%time results = get_results_baggind_rsm(n_est, 0.5, 0.33, verbose=True)\n",
    "show_plot(n_est, results)"
   ]
  },
  {
   "cell_type": "markdown",
   "metadata": {},
   "source": [
    "### Random Forest\n",
    "Диапазон для n_est рекомендуется брать небольшим\n",
    "\n",
    "Если трубется изменять дефолтные параметры алгоритма - меняйте код выше"
   ]
  },
  {
   "cell_type": "code",
   "execution_count": 138,
   "metadata": {
    "collapsed": false
   },
   "outputs": [
    {
     "name": "stdout",
     "output_type": "stream",
     "text": [
      "Count of estimators: 5, accuracy: 1.1925190042\n",
      "Count of estimators: 9, accuracy: 1.23377637017\n",
      "Count of estimators: 13, accuracy: 1.24333962031\n",
      "Count of estimators: 17, accuracy: 1.24459059112\n",
      "Count of estimators: 21, accuracy: 1.24559211629\n",
      "Count of estimators: 25, accuracy: 1.24483271065\n",
      "Count of estimators: 29, accuracy: 1.24429055033\n",
      "Count of estimators: 33, accuracy: 1.24378197193\n",
      "Count of estimators: 37, accuracy: 1.24245502383\n",
      "Count of estimators: 41, accuracy: 1.24318946143\n",
      "Count of estimators: 45, accuracy: 1.24334566592\n",
      "Count of estimators: 49, accuracy: 1.2433957586\n",
      "Count of estimators: 53, accuracy: 1.24348874198\n",
      "Count of estimators: 57, accuracy: 1.24321729444\n",
      "Count of estimators: 61, accuracy: 1.24306273798\n",
      "Count of estimators: 65, accuracy: 1.24266443691\n",
      "Count of estimators: 69, accuracy: 1.2426909459\n",
      "Count of estimators: 73, accuracy: 1.24315689961\n",
      "Count of estimators: 77, accuracy: 1.24258154553\n",
      "CPU times: user 1min 53s, sys: 744 ms, total: 1min 54s\n",
      "Wall time: 38.5 s\n"
     ]
    },
    {
     "data": {
      "image/png": "[encoded data removed]",
      "text/plain": [
       "<matplotlib.figure.Figure at 0x7f26846792d0>"
      ]
     },
     "metadata": {},
     "output_type": "display_data"
    }
   ],
   "source": [
    "n_est = range(1, 20, 2)\n",
    "%time results = get_results_rf(n_est, max_features=trainX.shape[1] / 3)\n",
    "show_plot(n_est, results)"
   ]
  },
  {
   "cell_type": "markdown",
   "metadata": {},
   "source": [
    "### Extremely Randomized Trees Ensemble\n",
    "Диапазон для n_est рекомендуется брать небольшим\n",
    "\n",
    "Если трубется изменять дефолтные параметры алгоритма - меняйте код выше"
   ]
  },
  {
   "cell_type": "code",
   "execution_count": 139,
   "metadata": {
    "collapsed": false
   },
   "outputs": [
    {
     "name": "stdout",
     "output_type": "stream",
     "text": [
      "Count of estimators: 5, accuracy: 1.17465772179\n",
      "Count of estimators: 9, accuracy: 1.21682297641\n",
      "Count of estimators: 13, accuracy: 1.23035026341\n",
      "Count of estimators: 17, accuracy: 1.23699672053\n",
      "Count of estimators: 21, accuracy: 1.23934856506\n",
      "Count of estimators: 25, accuracy: 1.24076164906\n",
      "Count of estimators: 29, accuracy: 1.24285100815\n",
      "Count of estimators: 33, accuracy: 1.24361526028\n",
      "Count of estimators: 37, accuracy: 1.2428514858\n",
      "Count of estimators: 41, accuracy: 1.24319559807\n",
      "Count of estimators: 45, accuracy: 1.24322810395\n",
      "Count of estimators: 49, accuracy: 1.24313452045\n",
      "Count of estimators: 53, accuracy: 1.24293486027\n",
      "Count of estimators: 57, accuracy: 1.242786716\n",
      "Count of estimators: 61, accuracy: 1.24347449435\n",
      "Count of estimators: 65, accuracy: 1.24414792174\n",
      "Count of estimators: 69, accuracy: 1.24459850662\n",
      "Count of estimators: 73, accuracy: 1.24420049888\n",
      "Count of estimators: 77, accuracy: 1.24390796391\n",
      "CPU times: user 2min 29s, sys: 684 ms, total: 2min 30s\n",
      "Wall time: 53 s\n"
     ]
    },
    {
     "data": {
      "image/png": "[encoded data removed]",
      "text/plain": [
       "<matplotlib.figure.Figure at 0x7f2684647c90>"
      ]
     },
     "metadata": {},
     "output_type": "display_data"
    }
   ],
   "source": [
    "n_est = range(1, 20, 2)\n",
    "%time results = get_results_erte(n_est)\n",
    "show_plot(n_est, results)"
   ]
  },
  {
   "cell_type": "markdown",
   "metadata": {},
   "source": [
    "## Gradient Boosted Decision Trees\n",
    "Диапазон для n_est рекомендуется брать небольшим\n",
    "\n",
    "Если трубется изменять дефолтные параметры алгоритма - меняйте код выше"
   ]
  },
  {
   "cell_type": "code",
   "execution_count": 144,
   "metadata": {
    "collapsed": false
   },
   "outputs": [
    {
     "name": "stdout",
     "output_type": "stream",
     "text": [
      "Count of estimators: 5, accuracy: 1.25562833669\n",
      "Count of estimators: 9, accuracy: 1.255264607\n",
      "Count of estimators: 13, accuracy: 1.25317955482\n",
      "Count of estimators: 17, accuracy: 1.25285819807\n",
      "Count of estimators: 21, accuracy: 1.25113817978\n",
      "Count of estimators: 25, accuracy: 1.24956376781\n",
      "Count of estimators: 29, accuracy: 1.24757136055\n",
      "Count of estimators: 33, accuracy: 1.24705038405\n",
      "Count of estimators: 37, accuracy: 1.24549266104\n",
      "Count of estimators: 41, accuracy: 1.24512359627\n",
      "Count of estimators: 45, accuracy: 1.24368335805\n",
      "Count of estimators: 49, accuracy: 1.24265725299\n",
      "Count of estimators: 53, accuracy: 1.24353120086\n",
      "Count of estimators: 57, accuracy: 1.24421630718\n",
      "Count of estimators: 61, accuracy: 1.2444696419\n",
      "Count of estimators: 65, accuracy: 1.24404958162\n",
      "Count of estimators: 69, accuracy: 1.24490298168\n",
      "Count of estimators: 73, accuracy: 1.24404298452\n",
      "Count of estimators: 77, accuracy: 1.24384331409\n",
      "CPU times: user 19.4 s, sys: 40 ms, total: 19.4 s\n",
      "Wall time: 19.4 s\n"
     ]
    },
    {
     "data": {
      "image/png": "[encoded data removed]",
      "text/plain": [
       "<matplotlib.figure.Figure at 0x7f2683443210>"
      ]
     },
     "metadata": {},
     "output_type": "display_data"
    }
   ],
   "source": [
    "n_est = range(40, 60, 2)\n",
    "%time results = get_results_gbdt(n_est)\n",
    "show_plot(n_est, results)"
   ]
  },
  {
   "cell_type": "markdown",
   "metadata": {},
   "source": [
    "### Вывод\n",
    "Переобучаются ExtraDT, остальные методы показывают результаты на одном уровне (в пределах погрешности).\n",
    "\n",
    "Для RF и Baggin+RSM оптимальные значения кол-ва близко к 20.\n",
    "\n",
    "Для GBDT оптимальное количество алгоритмов находится в районе 50."
   ]
  },
  {
   "cell_type": "markdown",
   "metadata": {},
   "source": [
    "**Вопрос: Дайте интепретацию полученным результатам в вашем случае.**\n",
    "ERT переобучается очень сильно, остальные модели (кроме константной) показывают довольно близкие результаты.\n",
    "Из неконстантных наиболее успешно отрабатывает бэггинг на ~30 эстиматорах и случайный лес на ~5 деревьях."
   ]
  },
  {
   "cell_type": "markdown",
   "metadata": {},
   "source": [
    "## Использование категориальных признаков (1 балл)\n",
    "* Проведите аналогичный экспермент при наличии категориальных признаков"
   ]
  },
  {
   "cell_type": "markdown",
   "metadata": {},
   "source": [
    "### Обучение и Контроль"
   ]
  },
  {
   "cell_type": "code",
   "execution_count": 14,
   "metadata": {
    "collapsed": false
   },
   "outputs": [
    {
     "data": {
      "text/plain": [
       "Index([u'MODEL_BRAND', u'MODEL_DIAG_TYPE', u'MODEL_NAME', u'MODEL_OS',\n",
       "       u'MODEL_RES_TYPE', u'MODEL_TYPE', u'STORE_BRAND_ABC',\n",
       "       u'STORE_BUILDING_TYPE', u'STORE_CITY', u'STORE_CLUSTER',\n",
       "       u'STORE_DIAG_ABC', u'STORE_FORMAT', u'STORE_OPEN_DTTM',\n",
       "       u'STORE_PRICE_TYPE', u'STORE_REGION', u'STORE_RES_ABC'],\n",
       "      dtype='object')"
      ]
     },
     "execution_count": 14,
     "metadata": {},
     "output_type": "execute_result"
    }
   ],
   "source": [
    "Cathegorical_columns"
   ]
  },
  {
   "cell_type": "code",
   "execution_count": 15,
   "metadata": {
    "collapsed": false
   },
   "outputs": [
    {
     "name": "stdout",
     "output_type": "stream",
     "text": [
      "(40000, 171)\n"
     ]
    }
   ],
   "source": [
    "# Для обучения используются полезные категориальные признаки\n",
    "bin_data = get_binarized_data(data, Cathegorical_columns_use)\n",
    "print(bin_data.shape)"
   ]
  },
  {
   "cell_type": "markdown",
   "metadata": {},
   "source": [
    "##### Исключаем лишние произнаки, заменяем NaN"
   ]
  },
  {
   "cell_type": "code",
   "execution_count": 16,
   "metadata": {
    "collapsed": false
   },
   "outputs": [
    {
     "name": "stdout",
     "output_type": "stream",
     "text": [
      "(40000, 169)\n"
     ]
    }
   ],
   "source": [
    "# Удаляем лишние категоримальные признаки\n",
    "bin_data.drop(Cathegorical_columns[[2, 12]], axis = 1, inplace=True)\n",
    "print bin_data.shape"
   ]
  },
  {
   "cell_type": "code",
   "execution_count": 17,
   "metadata": {
    "collapsed": false
   },
   "outputs": [
    {
     "name": "stdout",
     "output_type": "stream",
     "text": [
      "(40000, 165)\n"
     ]
    }
   ],
   "source": [
    "# Удаляем лишние числвые признаки признаки\n",
    "bin_data.drop(['MODEL_COUNT_SALES_DAYS', 'MODEL_HEIGHT', 'MODEL_WIDTH', 'STORE_ASSORTMENT'], axis = 1, inplace = True)\n",
    "print bin_data.shape"
   ]
  },
  {
   "cell_type": "code",
   "execution_count": 18,
   "metadata": {
    "collapsed": false
   },
   "outputs": [
    {
     "name": "stdout",
     "output_type": "stream",
     "text": [
      "(39554, 165)\n"
     ]
    }
   ],
   "source": [
    "# Заменяем NaN\n",
    "# bin_data.fillna(значение, inplace = True)\n",
    "bin_data[['MODEL_MEAN_SALES']] = bin_data[['MODEL_MEAN_SALES']].fillna(0)\n",
    "bin_data = bin_data.dropna(axis=0, how='any')\n",
    "print bin_data.shape"
   ]
  },
  {
   "cell_type": "code",
   "execution_count": 19,
   "metadata": {
    "collapsed": false
   },
   "outputs": [],
   "source": [
    "# Делим выборку на обучение и контроль\n",
    "trainX, testX, trainY, testY = split_train_test(df = bin_data, test_size=0.3,  y_column_name='DEMAND')"
   ]
  },
  {
   "cell_type": "markdown",
   "metadata": {},
   "source": [
    "### Bagging and RSM\n",
    "Диапазон для n_est рекомендуется брать небольшим\n",
    "\n",
    "Если трубется изменять дефолтные параметры алгоритма - меняйте код выше"
   ]
  },
  {
   "cell_type": "code",
   "execution_count": 174,
   "metadata": {
    "collapsed": false
   },
   "outputs": [
    {
     "name": "stdout",
     "output_type": "stream",
     "text": [
      "Count of estimators: 5, accuracy: 1.13943089976\n",
      "Count of estimators: 9, accuracy: 1.18934922094\n",
      "Count of estimators: 13, accuracy: 1.20219222555\n",
      "Count of estimators: 17, accuracy: 1.20842287261\n",
      "Count of estimators: 21, accuracy: 1.20907291327\n",
      "Count of estimators: 25, accuracy: 1.20946736322\n",
      "Count of estimators: 29, accuracy: 1.20995782136\n",
      "Count of estimators: 33, accuracy: 1.21104392882\n",
      "Count of estimators: 37, accuracy: 1.2109481965\n",
      "Count of estimators: 41, accuracy: 1.21143937811\n",
      "Count of estimators: 45, accuracy: 1.21080408612\n",
      "Count of estimators: 49, accuracy: 1.21155534647\n",
      "Count of estimators: 53, accuracy: 1.21170284961\n",
      "Count of estimators: 57, accuracy: 1.2109121663\n",
      "Count of estimators: 61, accuracy: 1.21078332722\n",
      "Count of estimators: 65, accuracy: 1.2113067759\n",
      "Count of estimators: 69, accuracy: 1.21069518102\n",
      "Count of estimators: 73, accuracy: 1.21106386774\n",
      "Count of estimators: 77, accuracy: 1.2105245562\n",
      "CPU times: user 39.1 s, sys: 12.5 s, total: 51.6 s\n",
      "Wall time: 10min 39s\n"
     ]
    },
    {
     "data": {
      "image/png": "[encoded data removed]",
      "text/plain": [
       "<matplotlib.figure.Figure at 0x7f26834d28d0>"
      ]
     },
     "metadata": {},
     "output_type": "display_data"
    }
   ],
   "source": [
    "n_est = range(1, 20, 2)\n",
    "# %time results = get_results_baggind_rsm(n_est, 0.9, 0.9, verbose=True)\n",
    "# %time results = get_results_baggind_rsm(n_est, 0.8, trainX.shape[1] / 3, verbose=True)\n",
    "# %time results = get_results_baggind_rsm(n_est, 0.7, trainX.shape[1] / 3, verbose=True)\n",
    "# %time results = get_results_baggind_rsm(n_est, 0.5, trainX.shape[1] / 3, verbose=True)\n",
    "%time results = get_results_baggind_rsm(n_est, 0.91, 0.91, verbose=True)\n",
    "show_plot(n_est, results)"
   ]
  },
  {
   "cell_type": "markdown",
   "metadata": {},
   "source": [
    "### Random Forest\n",
    "Диапазон для n_est рекомендуется брать небольшим\n",
    "\n",
    "Если трубется изменять дефолтные параметры алгоритма - меняйте код выше"
   ]
  },
  {
   "cell_type": "code",
   "execution_count": 177,
   "metadata": {
    "collapsed": false
   },
   "outputs": [
    {
     "name": "stdout",
     "output_type": "stream",
     "text": [
      "Count of estimators: 1, accuracy: 0.986551120808\n",
      "Count of estimators: 3, accuracy: 1.11697305571\n",
      "Count of estimators: 5, accuracy: 1.18479547078\n",
      "Count of estimators: 7, accuracy: 1.20636975276\n",
      "Count of estimators: 9, accuracy: 1.21750775003\n",
      "Count of estimators: 11, accuracy: 1.2191125739\n",
      "Count of estimators: 13, accuracy: 1.2186945059\n",
      "Count of estimators: 15, accuracy: 1.21748547847\n",
      "Count of estimators: 17, accuracy: 1.21958981208\n",
      "Count of estimators: 19, accuracy: 1.21864769694\n",
      "CPU times: user 22.3 s, sys: 104 ms, total: 22.4 s\n",
      "Wall time: 10.2 s\n"
     ]
    },
    {
     "data": {
      "image/png": "[encoded data removed]",
      "text/plain": [
       "<matplotlib.figure.Figure at 0x7f268348dd10>"
      ]
     },
     "metadata": {},
     "output_type": "display_data"
    }
   ],
   "source": [
    "n_est = range(1, 20, 2)\n",
    "%time results = get_results_rf(n_est, max_features=trainX.shape[1] / 3)\n",
    "show_plot(n_est, results)"
   ]
  },
  {
   "cell_type": "markdown",
   "metadata": {},
   "source": [
    "### Extremely Randomized Trees Ensemble\n",
    "Диапазон для n_est рекомендуется брать небольшим\n",
    "\n",
    "Если трубется изменять дефолтные параметры алгоритма - меняйте код выше"
   ]
  },
  {
   "cell_type": "code",
   "execution_count": 168,
   "metadata": {
    "collapsed": false
   },
   "outputs": [
    {
     "name": "stdout",
     "output_type": "stream",
     "text": [
      "Count of estimators: 10, accuracy: 1.98787789468\n",
      "Count of estimators: 20, accuracy: 1.98365737576\n",
      "Count of estimators: 30, accuracy: 1.9817152687\n",
      "Count of estimators: 40, accuracy: 1.98163912705\n",
      "Count of estimators: 50, accuracy: 1.98285835431\n",
      "Count of estimators: 60, accuracy: 1.98346790057\n",
      "Count of estimators: 70, accuracy: 1.98412016812\n",
      "Count of estimators: 80, accuracy: 1.98429575357\n",
      "Count of estimators: 90, accuracy: 1.9843401346\n",
      "Count of estimators: 100, accuracy: 1.98458447444\n",
      "Count of estimators: 110, accuracy: 1.98548507553\n",
      "Count of estimators: 120, accuracy: 1.98418310327\n",
      "Count of estimators: 130, accuracy: 1.98383253052\n",
      "Count of estimators: 140, accuracy: 1.98409054326\n",
      "Wall time: 13min 9s\n"
     ]
    },
    {
     "data": {
      "image/png": "[encoded data removed]",
      "text/plain": [
       "<matplotlib.figure.Figure at 0x2458f908>"
      ]
     },
     "metadata": {},
     "output_type": "display_data"
    }
   ],
   "source": [
    "n_est = range(1, 20, 2)\n",
    "%time results = get_results_erte(n_est)\n",
    "show_plot(n_est, results)"
   ]
  },
  {
   "cell_type": "markdown",
   "metadata": {},
   "source": [
    "### Gradient Boosted Decision Trees\n",
    "Диапазон для n_est рекомендуется брать небольшим\n",
    "\n",
    "Если трубется изменять дефолтные параметры алгоритма - меняйте код выше"
   ]
  },
  {
   "cell_type": "code",
   "execution_count": 180,
   "metadata": {
    "collapsed": false
   },
   "outputs": [
    {
     "name": "stdout",
     "output_type": "stream",
     "text": [
      "Count of estimators: 50, accuracy: 1.23608262048\n",
      "Count of estimators: 54, accuracy: 1.23501299423\n",
      "Count of estimators: 58, accuracy: 1.23508817236\n",
      "Count of estimators: 62, accuracy: 1.23505040674\n",
      "Count of estimators: 66, accuracy: 1.23394381272\n",
      "CPU times: user 2min 3s, sys: 664 ms, total: 2min 4s\n",
      "Wall time: 2min 4s\n"
     ]
    },
    {
     "data": {
      "image/png": "[encoded data removed]",
      "text/plain": [
       "<matplotlib.figure.Figure at 0x7f26845a75d0>"
      ]
     },
     "metadata": {},
     "output_type": "display_data"
    }
   ],
   "source": [
    "n_est = range(50, 75, 2)\n",
    "%time results = get_results_gbdt(n_est)\n",
    "show_plot(n_est, results)"
   ]
  },
  {
   "cell_type": "markdown",
   "metadata": {},
   "source": [
    "### Вывод"
   ]
  },
  {
   "cell_type": "markdown",
   "metadata": {},
   "source": [
    "**Вопрос: Дайте интепретацию полученным результатам в вашем случае.**\n",
    "Интересен тот факт, что наилучшие результаты во всех методах кроме градиентного бустинга дает малое количество (<10) базовых эстиматоров. Все так же наблюдается сильное переобучение у ERT. "
   ]
  },
  {
   "cell_type": "markdown",
   "metadata": {},
   "source": [
    "## Другие модели и генерация дополнительных признаков (2 балла)"
   ]
  },
  {
   "cell_type": "markdown",
   "metadata": {},
   "source": [
    "* На основании сделанных выводов, предложите другой вариант алгоритма ML, который должен показать лучший результат\n",
    "* Направляния:\n",
    "    -- использовать принципиально другое семейство алгоритмов (NN, GB+kNN, LinearRegression, композиция Baggin и GBDT)\n",
    "    -- исключить бесполезные фичи из обучающей выборки (полезность фич проанализировать с помощью RF);\n",
    "    -- исключить фичи, в которых есть NaN; сделать восстановление NaN более интеллектуально;\n",
    "    -- преобразовать катеориальные признаки так, чтобы получились числовые."
   ]
  },
  {
   "cell_type": "code",
   "execution_count": 20,
   "metadata": {
    "collapsed": false
   },
   "outputs": [
    {
     "name": "stdout",
     "output_type": "stream",
     "text": [
      "0.0 0.0930388607071\n"
     ]
    }
   ],
   "source": [
    "# избавимся от бесполезных признаков\n",
    "\n",
    "reg = RandomForestRegressor(n_estimators=10, n_jobs=-1, verbose=0, max_features=trainX.shape[1] / 3)\n",
    "reg.fit(trainX, trainY)\n",
    "print reg.feature_importances_.min(), reg.feature_importances_.max()"
   ]
  },
  {
   "cell_type": "code",
   "execution_count": 21,
   "metadata": {
    "collapsed": false
   },
   "outputs": [
    {
     "name": "stdout",
     "output_type": "stream",
     "text": [
      "(27687, 164)\n",
      "(27687, 107) (11867, 107)\n"
     ]
    }
   ],
   "source": [
    "print trainX.shape\n",
    "importance_threshold = 5e-4\n",
    "useful_features = reg.feature_importances_ > importance_threshold\n",
    "trainX_use, testX_use = trainX[:,useful_features], testX[:,useful_features]\n",
    "print trainX_use.shape, testX_use.shape"
   ]
  },
  {
   "cell_type": "code",
   "execution_count": 22,
   "metadata": {
    "collapsed": true
   },
   "outputs": [],
   "source": [
    "from sklearn.neighbors import KNeighborsRegressor\n",
    "from sklearn.linear_model import LinearRegression"
   ]
  },
  {
   "cell_type": "code",
   "execution_count": 23,
   "metadata": {
    "collapsed": false
   },
   "outputs": [],
   "source": [
    "def get_results_lin_reg(acc=smape_loss_func, verbose=True):\n",
    "    results = dict()\n",
    "    reg = LinearRegression(n_jobs=-1)\n",
    "    reg.fit(trainX, trainY)\n",
    "    predict = reg.predict(testX)\n",
    "    results[1] = (acc(trainY, reg.predict(trainX)), acc(testY, predict))\n",
    "    if verbose:\n",
    "        print(\"Accuracy: \" + str(results[1][1]))\n",
    "    return results\n",
    "\n",
    "def get_results_knn_bag(n_est, max_samples, max_features, acc=smape_loss_func, verbose=True):\n",
    "    results = dict()\n",
    "    \n",
    "    for i in n_est:\n",
    "        reg = BaggingRegressor(base_estimator=KNeighborsRegressor(), n_estimators=i,\n",
    "                               max_samples=max_samples, max_features=max_features, n_jobs=-1, verbose=0)\n",
    "        reg.fit(trainX, trainY)\n",
    "        predict = reg.predict(testX)\n",
    "        results[i] = (acc(trainY, reg.predict(trainX)), acc(testY, predict))\n",
    "        if verbose:\n",
    "            print(\"Count of estimators: \" + str(i) + \", accuracy: \" + str(results[i][1]))\n",
    "    return results\n",
    "\n",
    "def get_results_knn(n_neighb, verbose=True, acc=smape_loss_func):\n",
    "    results = dict()\n",
    "    for i in n_neighb:\n",
    "        reg = KNeighborsRegressor(n_neighbors=i, n_jobs=-1)\n",
    "        reg.fit(trainX, trainY)\n",
    "        predict = reg.predict(testX)\n",
    "        results[i] = (acc(trainY, reg.predict(trainX)), acc(testY, predict))\n",
    "        if verbose:\n",
    "            print(\"Count of estimators: \" + str(i) + \", accuracy: \" + str(results[i][1]))\n",
    "    return results\n",
    "\n",
    "def get_results_gbdt_bag(n_est, verbose=True, init=None, acc=smape_loss_func, min_max_filter=True, \n",
    "                         max_val=1, min_val=0.001, max_depth=3, subsample=1.0, max_features=None):\n",
    "    results = dict()\n",
    "    for i in n_est:\n",
    "        reg = GradientBoostingRegressor(n_estimators=i, random_state=42, max_depth=max_depth, \n",
    "                                        verbose=0, init=init, subsample=subsample, max_features=max_features)\n",
    "        reg.fit(trainX, trainY)\n",
    "        predict = reg.predict(testX)\n",
    "        if min_max_filter:\n",
    "            predict = np.minimum(np.maximum(predict, min_val),max_val)\n",
    "        results[i] = (acc(trainY, reg.predict(trainX)), acc(testY, predict))\n",
    "        if verbose:\n",
    "            print(\"Count of estimators: \" + str(i) + \", accuracy: \" + str(results[i][1]))    \n",
    "    return results"
   ]
  },
  {
   "cell_type": "code",
   "execution_count": 202,
   "metadata": {
    "collapsed": false
   },
   "outputs": [
    {
     "name": "stdout",
     "output_type": "stream",
     "text": [
      "Accuracy: 1.30517636681\n",
      "CPU times: user 748 ms, sys: 152 ms, total: 900 ms\n",
      "Wall time: 585 ms\n"
     ]
    }
   ],
   "source": [
    "%time results = get_results_lin_reg()"
   ]
  },
  {
   "cell_type": "code",
   "execution_count": 205,
   "metadata": {
    "collapsed": false
   },
   "outputs": [
    {
     "name": "stdout",
     "output_type": "stream",
     "text": [
      "Count of estimators: 1, accuracy: 1.00664821213\n",
      "Count of estimators: 3, accuracy: 1.14934448172\n",
      "Count of estimators: 5, accuracy: 1.21552106212\n",
      "Count of estimators: 7, accuracy: 1.2368960306\n",
      "Count of estimators: 9, accuracy: 1.24459729946\n",
      "Count of estimators: 11, accuracy: 1.25167046203\n",
      "Count of estimators: 13, accuracy: 1.25430361958\n",
      "Count of estimators: 15, accuracy: 1.25632604933\n",
      "Count of estimators: 17, accuracy: 1.25916982028\n",
      "Count of estimators: 19, accuracy: 1.25870714718\n",
      "CPU times: user 2min 18s, sys: 380 ms, total: 2min 18s\n",
      "Wall time: 45.5 s\n"
     ]
    },
    {
     "data": {
      "image/png": "[encoded data removed]",
      "text/plain": [
       "<matplotlib.figure.Figure at 0x7f26801252d0>"
      ]
     },
     "metadata": {},
     "output_type": "display_data"
    }
   ],
   "source": [
    "n_neighb = range(1, 10, 2)\n",
    "%time results = get_results_knn(n_neighb)\n",
    "show_plot(n_est, results)"
   ]
  },
  {
   "cell_type": "code",
   "execution_count": null,
   "metadata": {
    "collapsed": false
   },
   "outputs": [
    {
     "name": "stdout",
     "output_type": "stream",
     "text": [
      "Count of estimators: 1, accuracy: 1.23627680099\n",
      "Count of estimators: 3, accuracy: 1.22494814465\n"
     ]
    },
    {
     "name": "stderr",
     "output_type": "stream",
     "text": [
      "Process PoolWorker-1304:\n",
      "Process PoolWorker-1306:\n",
      "Process PoolWorker-1305:\n",
      "Traceback (most recent call last):\n",
      "Traceback (most recent call last):\n",
      "Process PoolWorker-1303:\n",
      "Traceback (most recent call last):\n",
      "  File \"/home/sautin1/anaconda2/lib/python2.7/multiprocessing/process.py\", line 258, in _bootstrap\n",
      "    self.run()\n",
      "  File \"/home/sautin1/anaconda2/lib/python2.7/multiprocessing/process.py\", line 258, in _bootstrap\n",
      "  File \"/home/sautin1/anaconda2/lib/python2.7/multiprocessing/process.py\", line 114, in run\n",
      "Traceback (most recent call last):\n",
      "    self._target(*self._args, **self._kwargs)\n",
      "  File \"/home/sautin1/anaconda2/lib/python2.7/multiprocessing/process.py\", line 258, in _bootstrap\n",
      "    self.run()\n",
      "  File \"/home/sautin1/anaconda2/lib/python2.7/multiprocessing/process.py\", line 114, in run\n",
      "  File \"/home/sautin1/anaconda2/lib/python2.7/multiprocessing/process.py\", line 258, in _bootstrap\n",
      "  File \"/home/sautin1/anaconda2/lib/python2.7/multiprocessing/pool.py\", line 117, in worker\n",
      "    self._target(*self._args, **self._kwargs)\n",
      "  File \"/home/sautin1/anaconda2/lib/python2.7/multiprocessing/pool.py\", line 102, in worker\n",
      "    self.run()\n",
      "    task = get()\n",
      "  File \"/home/sautin1/anaconda2/lib/python2.7/multiprocessing/process.py\", line 114, in run\n",
      "    put((job, i, result))\n",
      "    self.run()\n",
      "  File \"/home/sautin1/anaconda2/lib/python2.7/site-packages/sklearn/externals/joblib/pool.py\", line 362, in get\n",
      "  File \"/home/sautin1/anaconda2/lib/python2.7/site-packages/sklearn/externals/joblib/pool.py\", line 384, in put\n",
      "    return recv()\n",
      "  File \"/home/sautin1/anaconda2/lib/python2.7/multiprocessing/process.py\", line 114, in run\n",
      "KeyboardInterrupt\n",
      "    self._target(*self._args, **self._kwargs)\n",
      "    wlock_acquire()\n",
      "KeyboardInterrupt\n",
      "    self._target(*self._args, **self._kwargs)\n",
      "  File \"/home/sautin1/anaconda2/lib/python2.7/multiprocessing/pool.py\", line 102, in worker\n",
      "  File \"/home/sautin1/anaconda2/lib/python2.7/multiprocessing/pool.py\", line 117, in worker\n",
      "    task = get()\n",
      "    put((job, i, result))\n",
      "  File \"/home/sautin1/anaconda2/lib/python2.7/site-packages/sklearn/externals/joblib/pool.py\", line 360, in get\n",
      "  File \"/home/sautin1/anaconda2/lib/python2.7/site-packages/sklearn/externals/joblib/pool.py\", line 386, in put\n",
      "    return send(obj)\n",
      "    racquire()\n",
      "KeyboardInterrupt\n",
      "  File \"/home/sautin1/anaconda2/lib/python2.7/site-packages/sklearn/externals/joblib/pool.py\", line 371, in send\n",
      "    CustomizablePickler(buffer, self._reducers).dump(obj)\n",
      "  File \"/home/sautin1/anaconda2/lib/python2.7/pickle.py\", line 224, in dump\n",
      "    self.save(obj)\n",
      "  File \"/home/sautin1/anaconda2/lib/python2.7/pickle.py\", line 286, in save\n",
      "    f(self, obj) # Call unbound method with explicit self\n",
      "  File \"/home/sautin1/anaconda2/lib/python2.7/pickle.py\", line 554, in save_tuple\n",
      "    save(element)\n",
      "  File \"/home/sautin1/anaconda2/lib/python2.7/pickle.py\", line 286, in save\n",
      "    f(self, obj) # Call unbound method with explicit self\n",
      "  File \"/home/sautin1/anaconda2/lib/python2.7/pickle.py\", line 554, in save_tuple\n",
      "    save(element)\n",
      "  File \"/home/sautin1/anaconda2/lib/python2.7/pickle.py\", line 286, in save\n",
      "    f(self, obj) # Call unbound method with explicit self\n",
      "  File \"/home/sautin1/anaconda2/lib/python2.7/pickle.py\", line 606, in save_list\n",
      "    self._batch_appends(iter(obj))\n",
      "  File \"/home/sautin1/anaconda2/lib/python2.7/pickle.py\", line 642, in _batch_appends\n",
      "    save(tmp[0])\n",
      "  File \"/home/sautin1/anaconda2/lib/python2.7/pickle.py\", line 286, in save\n",
      "    f(self, obj) # Call unbound method with explicit self\n",
      "  File \"/home/sautin1/anaconda2/lib/python2.7/pickle.py\", line 554, in save_tuple\n",
      "    save(element)\n",
      "  File \"/home/sautin1/anaconda2/lib/python2.7/pickle.py\", line 286, in save\n",
      "    f(self, obj) # Call unbound method with explicit self\n",
      "  File \"/home/sautin1/anaconda2/lib/python2.7/pickle.py\", line 606, in save_list\n",
      "    self._batch_appends(iter(obj))\n",
      "  File \"/home/sautin1/anaconda2/lib/python2.7/pickle.py\", line 639, in _batch_appends\n",
      "    save(x)\n",
      "  File \"/home/sautin1/anaconda2/lib/python2.7/pickle.py\", line 331, in save\n",
      "    self.save_reduce(obj=obj, *rv)\n",
      "  File \"/home/sautin1/anaconda2/lib/python2.7/pickle.py\", line 425, in save_reduce\n",
      "    save(state)\n",
      "  File \"/home/sautin1/anaconda2/lib/python2.7/pickle.py\", line 286, in save\n",
      "    f(self, obj) # Call unbound method with explicit self\n",
      "  File \"/home/sautin1/anaconda2/lib/python2.7/pickle.py\", line 655, in save_dict\n",
      "    self._batch_setitems(obj.iteritems())\n",
      "  File \"/home/sautin1/anaconda2/lib/python2.7/pickle.py\", line 687, in _batch_setitems\n",
      "    save(v)\n",
      "  File \"/home/sautin1/anaconda2/lib/python2.7/pickle.py\", line 286, in save\n",
      "    f(self, obj) # Call unbound method with explicit self\n",
      "  File \"/home/sautin1/anaconda2/lib/python2.7/site-packages/sklearn/externals/joblib/pool.py\", line 309, in dispatcher\n",
      "    self.save_reduce(obj=obj, *reduced)\n",
      "  File \"/home/sautin1/anaconda2/lib/python2.7/pickle.py\", line 401, in save_reduce\n",
      "    save(args)\n",
      "  File \"/home/sautin1/anaconda2/lib/python2.7/pickle.py\", line 286, in save\n",
      "    f(self, obj) # Call unbound method with explicit self\n",
      "  File \"/home/sautin1/anaconda2/lib/python2.7/pickle.py\", line 554, in save_tuple\n",
      "    save(element)\n",
      "  File \"/home/sautin1/anaconda2/lib/python2.7/pickle.py\", line 286, in save\n",
      "    f(self, obj) # Call unbound method with explicit self\n",
      "  File \"/home/sautin1/anaconda2/lib/python2.7/pickle.py\", line 492, in save_string\n",
      "    self.write(BINSTRING + pack(\"<i\", n) + obj)\n",
      "KeyboardInterrupt\n",
      "Process PoolWorker-1310:\n",
      "Process PoolWorker-1307:\n",
      "Process PoolWorker-1309:\n",
      "Process PoolWorker-1308:\n",
      "Traceback (most recent call last):\n",
      "Traceback (most recent call last):\n",
      "  File \"/home/sautin1/anaconda2/lib/python2.7/multiprocessing/process.py\", line 258, in _bootstrap\n",
      "Traceback (most recent call last):\n",
      "Traceback (most recent call last):\n",
      "    self.run()\n",
      "  File \"/home/sautin1/anaconda2/lib/python2.7/multiprocessing/process.py\", line 258, in _bootstrap\n",
      "  File \"/home/sautin1/anaconda2/lib/python2.7/multiprocessing/process.py\", line 258, in _bootstrap\n",
      "  File \"/home/sautin1/anaconda2/lib/python2.7/multiprocessing/process.py\", line 258, in _bootstrap\n",
      "    self.run()\n",
      "    self.run()\n",
      "  File \"/home/sautin1/anaconda2/lib/python2.7/multiprocessing/process.py\", line 114, in run\n",
      "  File \"/home/sautin1/anaconda2/lib/python2.7/multiprocessing/process.py\", line 114, in run\n",
      "  File \"/home/sautin1/anaconda2/lib/python2.7/multiprocessing/process.py\", line 114, in run\n",
      "    self.run()\n",
      "    self._target(*self._args, **self._kwargs)\n",
      "  File \"/home/sautin1/anaconda2/lib/python2.7/multiprocessing/process.py\", line 114, in run\n",
      "    self._target(*self._args, **self._kwargs)\n",
      "    self._target(*self._args, **self._kwargs)\n",
      "  File \"/home/sautin1/anaconda2/lib/python2.7/multiprocessing/pool.py\", line 102, in worker\n",
      "  File \"/home/sautin1/anaconda2/lib/python2.7/multiprocessing/pool.py\", line 102, in worker\n",
      "  File \"/home/sautin1/anaconda2/lib/python2.7/multiprocessing/pool.py\", line 102, in worker\n",
      "    self._target(*self._args, **self._kwargs)\n",
      "    task = get()\n",
      "    task = get()\n",
      "    task = get()\n",
      "  File \"/home/sautin1/anaconda2/lib/python2.7/site-packages/sklearn/externals/joblib/pool.py\", line 362, in get\n",
      "  File \"/home/sautin1/anaconda2/lib/python2.7/multiprocessing/pool.py\", line 102, in worker\n",
      "  File \"/home/sautin1/anaconda2/lib/python2.7/site-packages/sklearn/externals/joblib/pool.py\", line 360, in get\n",
      "  File \"/home/sautin1/anaconda2/lib/python2.7/site-packages/sklearn/externals/joblib/pool.py\", line 360, in get\n",
      "    return recv()\n",
      "KeyboardInterrupt\n",
      "    racquire()\n",
      "    racquire()\n",
      "KeyboardInterrupt\n",
      "    task = get()\n",
      "KeyboardInterrupt\n",
      "  File \"/home/sautin1/anaconda2/lib/python2.7/site-packages/sklearn/externals/joblib/pool.py\", line 360, in get\n",
      "    racquire()\n",
      "KeyboardInterrupt\n",
      "Process PoolWorker-1313:\n",
      "Process PoolWorker-1311:\n",
      "Traceback (most recent call last):\n",
      "Traceback (most recent call last):\n",
      "  File \"/home/sautin1/anaconda2/lib/python2.7/multiprocessing/process.py\", line 258, in _bootstrap\n",
      "  File \"/home/sautin1/anaconda2/lib/python2.7/multiprocessing/process.py\", line 258, in _bootstrap\n",
      "Process PoolWorker-1312:\n",
      "Process PoolWorker-1314:\n",
      "    self.run()\n",
      "    self.run()\n",
      "Traceback (most recent call last):\n",
      "  File \"/home/sautin1/anaconda2/lib/python2.7/multiprocessing/process.py\", line 258, in _bootstrap\n",
      "Traceback (most recent call last):\n",
      "  File \"/home/sautin1/anaconda2/lib/python2.7/multiprocessing/process.py\", line 114, in run\n",
      "  File \"/home/sautin1/anaconda2/lib/python2.7/multiprocessing/process.py\", line 114, in run\n",
      "    self._target(*self._args, **self._kwargs)\n",
      "    self._target(*self._args, **self._kwargs)\n",
      "    self.run()\n",
      "  File \"/home/sautin1/anaconda2/lib/python2.7/multiprocessing/process.py\", line 258, in _bootstrap\n",
      "  File \"/home/sautin1/anaconda2/lib/python2.7/multiprocessing/pool.py\", line 102, in worker\n",
      "  File \"/home/sautin1/anaconda2/lib/python2.7/multiprocessing/pool.py\", line 102, in worker\n",
      "  File \"/home/sautin1/anaconda2/lib/python2.7/multiprocessing/process.py\", line 114, in run\n",
      "    self.run()\n",
      "    task = get()\n",
      "  File \"/home/sautin1/anaconda2/lib/python2.7/multiprocessing/process.py\", line 114, in run\n",
      "    self._target(*self._args, **self._kwargs)\n",
      "  File \"/home/sautin1/anaconda2/lib/python2.7/site-packages/sklearn/externals/joblib/pool.py\", line 360, in get\n",
      "    task = get()\n",
      "    self._target(*self._args, **self._kwargs)\n",
      "  File \"/home/sautin1/anaconda2/lib/python2.7/site-packages/sklearn/externals/joblib/pool.py\", line 360, in get\n",
      "  File \"/home/sautin1/anaconda2/lib/python2.7/multiprocessing/pool.py\", line 102, in worker\n",
      "    racquire()\n",
      "KeyboardInterrupt\n",
      "    task = get()\n",
      "  File \"/home/sautin1/anaconda2/lib/python2.7/site-packages/sklearn/externals/joblib/pool.py\", line 360, in get\n",
      "  File \"/home/sautin1/anaconda2/lib/python2.7/multiprocessing/pool.py\", line 102, in worker\n",
      "    racquire()\n",
      "    racquire()\n",
      "KeyboardInterrupt\n",
      "    task = get()\n",
      "KeyboardInterrupt\n",
      "  File \"/home/sautin1/anaconda2/lib/python2.7/site-packages/sklearn/externals/joblib/pool.py\", line 360, in get\n",
      "    racquire()\n",
      "KeyboardInterrupt\n",
      "Process PoolWorker-1316:\n",
      "Process PoolWorker-1315:\n",
      "Process PoolWorker-1318:\n",
      "Traceback (most recent call last):\n",
      "Traceback (most recent call last):\n",
      "Process PoolWorker-1317:\n",
      "  File \"/home/sautin1/anaconda2/lib/python2.7/multiprocessing/process.py\", line 258, in _bootstrap\n",
      "Traceback (most recent call last):\n",
      "Traceback (most recent call last):\n",
      "    self.run()\n",
      "  File \"/home/sautin1/anaconda2/lib/python2.7/multiprocessing/process.py\", line 258, in _bootstrap\n",
      "  File \"/home/sautin1/anaconda2/lib/python2.7/multiprocessing/process.py\", line 258, in _bootstrap\n",
      "  File \"/home/sautin1/anaconda2/lib/python2.7/multiprocessing/process.py\", line 258, in _bootstrap\n",
      "  File \"/home/sautin1/anaconda2/lib/python2.7/multiprocessing/process.py\", line 114, in run\n",
      "    self.run()\n",
      "    self.run()\n",
      "    self.run()\n",
      "  File \"/home/sautin1/anaconda2/lib/python2.7/multiprocessing/process.py\", line 114, in run\n",
      "    self._target(*self._args, **self._kwargs)\n",
      "  File \"/home/sautin1/anaconda2/lib/python2.7/multiprocessing/process.py\", line 114, in run\n",
      "    self._target(*self._args, **self._kwargs)\n",
      "  File \"/home/sautin1/anaconda2/lib/python2.7/multiprocessing/pool.py\", line 102, in worker\n",
      "  File \"/home/sautin1/anaconda2/lib/python2.7/multiprocessing/process.py\", line 114, in run\n",
      "  File \"/home/sautin1/anaconda2/lib/python2.7/multiprocessing/pool.py\", line 102, in worker\n",
      "    self._target(*self._args, **self._kwargs)\n",
      "    self._target(*self._args, **self._kwargs)\n",
      "    task = get()\n",
      "    task = get()\n",
      "  File \"/home/sautin1/anaconda2/lib/python2.7/multiprocessing/pool.py\", line 102, in worker\n",
      "  File \"/home/sautin1/anaconda2/lib/python2.7/multiprocessing/pool.py\", line 102, in worker\n",
      "  File \"/home/sautin1/anaconda2/lib/python2.7/site-packages/sklearn/externals/joblib/pool.py\", line 360, in get\n",
      "  File \"/home/sautin1/anaconda2/lib/python2.7/site-packages/sklearn/externals/joblib/pool.py\", line 360, in get\n",
      "    task = get()\n",
      "    racquire()\n",
      "    racquire()\n",
      "    task = get()\n",
      "KeyboardInterrupt\n",
      "  File \"/home/sautin1/anaconda2/lib/python2.7/site-packages/sklearn/externals/joblib/pool.py\", line 360, in get\n",
      "KeyboardInterrupt\n",
      "    racquire()\n",
      "  File \"/home/sautin1/anaconda2/lib/python2.7/site-packages/sklearn/externals/joblib/pool.py\", line 360, in get\n",
      "KeyboardInterrupt\n",
      "    racquire()\n",
      "KeyboardInterrupt\n",
      "Process PoolWorker-1322:\n",
      "Process PoolWorker-1320:\n",
      "Process PoolWorker-1321:\n",
      "Process PoolWorker-1319:\n",
      "Traceback (most recent call last):\n",
      "Traceback (most recent call last):\n",
      "Traceback (most recent call last):\n",
      "  File \"/home/sautin1/anaconda2/lib/python2.7/multiprocessing/process.py\", line 258, in _bootstrap\n",
      "Traceback (most recent call last):\n",
      "  File \"/home/sautin1/anaconda2/lib/python2.7/multiprocessing/process.py\", line 258, in _bootstrap\n",
      "  File \"/home/sautin1/anaconda2/lib/python2.7/multiprocessing/process.py\", line 258, in _bootstrap\n",
      "    self.run()\n",
      "Exception in thread Thread-5165:\n",
      "Traceback (most recent call last):\n",
      "  File \"/home/sautin1/anaconda2/lib/python2.7/threading.py\", line 801, in __bootstrap_inner\n",
      "    self.run()\n",
      "  File \"/home/sautin1/anaconda2/lib/python2.7/threading.py\", line 754, in run\n",
      "    self.__target(*self.__args, **self.__kwargs)\n",
      "  File \"/home/sautin1/anaconda2/lib/python2.7/multiprocessing/pool.py\", line 326, in _handle_workers\n",
      "    pool._maintain_pool()\n",
      "  File \"/home/sautin1/anaconda2/lib/python2.7/multiprocessing/pool.py\", line 230, in _maintain_pool\n",
      "    self._repopulate_pool()\n",
      "  File \"/home/sautin1/anaconda2/lib/python2.7/multiprocessing/pool.py\", line 223, in _repopulate_pool\n",
      "    w.start()\n",
      "  File \"/home/sautin1/anaconda2/lib/python2.7/multiprocessing/process.py\", line 130, in start\n",
      "    self._popen = Popen(self)\n",
      "  File \"/home/sautin1/anaconda2/lib/python2.7/multiprocessing/forking.py\", line 126, in __init__\n",
      "    code = process_obj._bootstrap()\n",
      "  File \"/home/sautin1/anaconda2/lib/python2.7/multiprocessing/process.py\", line 276, in _bootstrap\n",
      "    traceback.print_exc()\n",
      "  File \"/home/sautin1/anaconda2/lib/python2.7/traceback.py\", line 233, in print_exc\n",
      "    print_exception(etype, value, tb, limit, file)\n",
      "  File \"/home/sautin1/anaconda2/lib/python2.7/traceback.py\", line 125, in print_exception\n",
      "    print_tb(tb, limit, file)\n",
      "  File \"/home/sautin1/anaconda2/lib/python2.7/traceback.py\", line 67, in print_tb\n",
      "    '  File \"%s\", line %d, in %s' % (filename, lineno, name))\n",
      "  File \"/home/sautin1/anaconda2/lib/python2.7/traceback.py\", line 13, in _print\n",
      "    file.write(str+terminator)\n",
      "  File \"/home/sautin1/anaconda2/lib/python2.7/site-packages/ipykernel/iostream.py\", line 317, in write\n",
      "    is_child = (not self._is_master_process())\n",
      "  File \"/home/sautin1/anaconda2/lib/python2.7/site-packages/ipykernel/iostream.py\", line 228, in _is_master_process\n",
      "    def _is_master_process(self):\n",
      "KeyboardInterrupt\n",
      "\n",
      "Exception in thread Thread-5165:\n",
      "Traceback (most recent call last):\n",
      "  File \"/home/sautin1/anaconda2/lib/python2.7/threading.py\", line 801, in __bootstrap_inner\n",
      "    self.run()\n",
      "  File \"/home/sautin1/anaconda2/lib/python2.7/threading.py\", line 754, in run\n",
      "    self.__target(*self.__args, **self.__kwargs)\n",
      "  File \"/home/sautin1/anaconda2/lib/python2.7/multiprocessing/pool.py\", line 326, in _handle_workers\n",
      "    pool._maintain_pool()\n",
      "  File \"/home/sautin1/anaconda2/lib/python2.7/multiprocessing/pool.py\", line 230, in _maintain_pool\n",
      "    self._repopulate_pool()\n",
      "  File \"/home/sautin1/anaconda2/lib/python2.7/multiprocessing/pool.py\", line 223, in _repopulate_pool\n",
      "    w.start()\n",
      "  File \"/home/sautin1/anaconda2/lib/python2.7/multiprocessing/process.py\", line 130, in start\n",
      "    self._popen = Popen(self)\n",
      "  File \"/home/sautin1/anaconda2/lib/python2.7/multiprocessing/forking.py\", line 126, in __init__\n",
      "    code = process_obj._bootstrap()\n",
      "  File \"/home/sautin1/anaconda2/lib/python2.7/multiprocessing/process.py\", line 276, in _bootstrap\n",
      "    traceback.print_exc()\n",
      "  File \"/home/sautin1/anaconda2/lib/python2.7/traceback.py\", line 233, in print_exc\n",
      "    print_exception(etype, value, tb, limit, file)\n",
      "  File \"/home/sautin1/anaconda2/lib/python2.7/traceback.py\", line 125, in print_exception\n",
      "    print_tb(tb, limit, file)\n",
      "  File \"/home/sautin1/anaconda2/lib/python2.7/traceback.py\", line 70, in print_tb\n",
      "    if line: _print(file, '    ' + line.strip())\n",
      "  File \"/home/sautin1/anaconda2/lib/python2.7/traceback.py\", line 13, in _print\n",
      "    file.write(str+terminator)\n",
      "  File \"/home/sautin1/anaconda2/lib/python2.7/site-packages/ipykernel/iostream.py\", line 325, in write\n",
      "    self.flush()\n",
      "  File \"/home/sautin1/anaconda2/lib/python2.7/site-packages/ipykernel/iostream.py\", line 271, in flush\n",
      "    self._flush()\n",
      "  File \"/home/sautin1/anaconda2/lib/python2.7/site-packages/ipykernel/iostream.py\", line 286, in _flush\n",
      "    self.session.pid = os.getpid()\n",
      "  File \"/home/sautin1/anaconda2/lib/python2.7/site-packages/traitlets/traitlets.py\", line 583, in __set__\n",
      "    self.set(obj, value)\n",
      "  File \"/home/sautin1/anaconda2/lib/python2.7/site-packages/traitlets/traitlets.py\", line 557, in set\n",
      "    new_value = self._validate(obj, value)\n",
      "KeyboardInterrupt\n",
      "\n",
      "Exception in thread Thread-5165:\n",
      "Traceback (most recent call last):\n",
      "  File \"/home/sautin1/anaconda2/lib/python2.7/threading.py\", line 801, in __bootstrap_inner\n",
      "    self.run()\n",
      "  File \"/home/sautin1/anaconda2/lib/python2.7/threading.py\", line 754, in run\n",
      "    self.__target(*self.__args, **self.__kwargs)\n",
      "  File \"/home/sautin1/anaconda2/lib/python2.7/multiprocessing/pool.py\", line 326, in _handle_workers\n",
      "    pool._maintain_pool()\n",
      "  File \"/home/sautin1/anaconda2/lib/python2.7/multiprocessing/pool.py\", line 230, in _maintain_pool\n",
      "    self._repopulate_pool()\n",
      "  File \"/home/sautin1/anaconda2/lib/python2.7/multiprocessing/pool.py\", line 223, in _repopulate_pool\n",
      "    w.start()\n",
      "  File \"/home/sautin1/anaconda2/lib/python2.7/multiprocessing/process.py\", line 130, in start\n",
      "    self._popen = Popen(self)\n",
      "  File \"/home/sautin1/anaconda2/lib/python2.7/multiprocessing/forking.py\", line 126, in __init__\n",
      "    code = process_obj._bootstrap()\n",
      "  File \"/home/sautin1/anaconda2/lib/python2.7/multiprocessing/process.py\", line 276, in _bootstrap\n",
      "    traceback.print_exc()\n",
      "  File \"/home/sautin1/anaconda2/lib/python2.7/traceback.py\", line 233, in print_exc\n",
      "    print_exception(etype, value, tb, limit, file)\n",
      "  File \"/home/sautin1/anaconda2/lib/python2.7/traceback.py\", line 125, in print_exception\n",
      "    print_tb(tb, limit, file)\n",
      "  File \"/home/sautin1/anaconda2/lib/python2.7/traceback.py\", line 70, in print_tb\n",
      "    if line: _print(file, '    ' + line.strip())\n",
      "  File \"/home/sautin1/anaconda2/lib/python2.7/traceback.py\", line 13, in _print\n",
      "    file.write(str+terminator)\n",
      "  File \"/home/sautin1/anaconda2/lib/python2.7/site-packages/ipykernel/iostream.py\", line 325, in write\n",
      "    self.flush()\n",
      "  File \"/home/sautin1/anaconda2/lib/python2.7/site-packages/ipykernel/iostream.py\", line 271, in flush\n",
      "    self._flush()\n",
      "  File \"/home/sautin1/anaconda2/lib/python2.7/site-packages/ipykernel/iostream.py\", line 289, in _flush\n",
      "    parent=self.parent_header, ident=self.topic)\n",
      "  File \"/home/sautin1/anaconda2/lib/python2.7/site-packages/jupyter_client/session.py\", line 684, in send\n",
      "    stream.send_multipart(to_send, copy=copy)\n",
      "  File \"/home/sautin1/anaconda2/lib/python2.7/site-packages/ipykernel/iostream.py\", line 140, in send_multipart\n",
      "    self._really_send(*args, **kwargs)\n",
      "  File \"/home/sautin1/anaconda2/lib/python2.7/site-packages/ipykernel/iostream.py\", line 156, in _really_send\n",
      "    ctx.term()\n",
      "  File \"zmq/backend/cython/context.pyx\", line 136, in zmq.backend.cython.context.Context.term (zmq/backend/cython/context.c:2091)\n",
      "  File \"zmq/backend/cython/checkrc.pxd\", line 12, in zmq.backend.cython.checkrc._check_rc (zmq/backend/cython/context.c:2956)\n",
      "    PyErr_CheckSignals()\n",
      "KeyboardInterrupt\n",
      "Exception in thread Thread-5165:\n",
      "Traceback (most recent call last):\n",
      "  File \"/home/sautin1/anaconda2/lib/python2.7/threading.py\", line 801, in __bootstrap_inner\n",
      "    self.run()\n",
      "  File \"/home/sautin1/anaconda2/lib/python2.7/threading.py\", line 754, in run\n",
      "    self.__target(*self.__args, **self.__kwargs)\n",
      "  File \"/home/sautin1/anaconda2/lib/python2.7/multiprocessing/pool.py\", line 326, in _handle_workers\n",
      "    pool._maintain_pool()\n",
      "  File \"/home/sautin1/anaconda2/lib/python2.7/multiprocessing/pool.py\", line 230, in _maintain_pool\n",
      "    self._repopulate_pool()\n",
      "  File \"/home/sautin1/anaconda2/lib/python2.7/multiprocessing/pool.py\", line 223, in _repopulate_pool\n",
      "    w.start()\n",
      "  File \"/home/sautin1/anaconda2/lib/python2.7/multiprocessing/process.py\", line 130, in start\n",
      "    self._popen = Popen(self)\n",
      "  File \"/home/sautin1/anaconda2/lib/python2.7/multiprocessing/forking.py\", line 126, in __init__\n",
      "    code = process_obj._bootstrap()\n",
      "  File \"/home/sautin1/anaconda2/lib/python2.7/multiprocessing/process.py\", line 276, in _bootstrap\n",
      "    traceback.print_exc()\n",
      "  File \"/home/sautin1/anaconda2/lib/python2.7/traceback.py\", line 233, in print_exc\n",
      "    print_exception(etype, value, tb, limit, file)\n",
      "  File \"/home/sautin1/anaconda2/lib/python2.7/traceback.py\", line 125, in print_exception\n",
      "    print_tb(tb, limit, file)\n",
      "  File \"/home/sautin1/anaconda2/lib/python2.7/traceback.py\", line 67, in print_tb\n",
      "    '  File \"%s\", line %d, in %s' % (filename, lineno, name))\n",
      "  File \"/home/sautin1/anaconda2/lib/python2.7/traceback.py\", line 13, in _print\n",
      "    file.write(str+terminator)\n",
      "  File \"/home/sautin1/anaconda2/lib/python2.7/site-packages/ipykernel/iostream.py\", line 325, in write\n",
      "    self.flush()\n",
      "  File \"/home/sautin1/anaconda2/lib/python2.7/site-packages/ipykernel/iostream.py\", line 271, in flush\n",
      "    self._flush()\n",
      "  File \"/home/sautin1/anaconda2/lib/python2.7/site-packages/ipykernel/iostream.py\", line 289, in _flush\n",
      "    parent=self.parent_header, ident=self.topic)\n",
      "  File \"/home/sautin1/anaconda2/lib/python2.7/site-packages/jupyter_client/session.py\", line 684, in send\n",
      "    stream.send_multipart(to_send, copy=copy)\n",
      "  File \"/home/sautin1/anaconda2/lib/python2.7/site-packages/ipykernel/iostream.py\", line 140, in send_multipart\n",
      "    self._really_send(*args, **kwargs)\n",
      "  File \"/home/sautin1/anaconda2/lib/python2.7/site-packages/ipykernel/iostream.py\", line 156, in _really_send\n",
      "    ctx.term()\n",
      "  File \"zmq/backend/cython/context.pyx\", line 136, in zmq.backend.cython.context.Context.term (zmq/backend/cython/context.c:2091)\n",
      "  File \"zmq/backend/cython/checkrc.pxd\", line 12, in zmq.backend.cython.checkrc._check_rc (zmq/backend/cython/context.c:2956)\n",
      "    PyErr_CheckSignals()\n",
      "KeyboardInterrupt\n",
      "\n",
      "\n",
      "Process PoolWorker-1325:\n",
      "Process PoolWorker-1324:\n",
      "Traceback (most recent call last):\n",
      "Process PoolWorker-1323:\n",
      "Process PoolWorker-1326:\n",
      "  File \"/home/sautin1/anaconda2/lib/python2.7/multiprocessing/process.py\", line 258, in _bootstrap\n",
      "Traceback (most recent call last):\n",
      "Traceback (most recent call last):\n",
      "Traceback (most recent call last):\n",
      "  File \"/home/sautin1/anaconda2/lib/python2.7/multiprocessing/process.py\", line 258, in _bootstrap\n",
      "    self.run()\n",
      "  File \"/home/sautin1/anaconda2/lib/python2.7/multiprocessing/process.py\", line 258, in _bootstrap\n",
      "    self.run()\n",
      "    self.run()\n",
      "  File \"/home/sautin1/anaconda2/lib/python2.7/multiprocessing/process.py\", line 114, in run\n",
      "  File \"/home/sautin1/anaconda2/lib/python2.7/multiprocessing/process.py\", line 114, in run\n",
      "  File \"/home/sautin1/anaconda2/lib/python2.7/multiprocessing/process.py\", line 114, in run\n",
      "    self._target(*self._args, **self._kwargs)\n",
      "    self._target(*self._args, **self._kwargs)\n",
      "    self._target(*self._args, **self._kwargs)\n",
      "  File \"/home/sautin1/anaconda2/lib/python2.7/multiprocessing/pool.py\", line 102, in worker\n",
      "  File \"/home/sautin1/anaconda2/lib/python2.7/multiprocessing/process.py\", line 258, in _bootstrap\n",
      "  File \"/home/sautin1/anaconda2/lib/python2.7/multiprocessing/pool.py\", line 102, in worker\n",
      "    task = get()\n",
      "  File \"/home/sautin1/anaconda2/lib/python2.7/multiprocessing/pool.py\", line 102, in worker\n",
      "    task = get()\n",
      "  File \"/home/sautin1/anaconda2/lib/python2.7/site-packages/sklearn/externals/joblib/pool.py\", line 360, in get\n",
      "    task = get()\n",
      "  File \"/home/sautin1/anaconda2/lib/python2.7/site-packages/sklearn/externals/joblib/pool.py\", line 360, in get\n",
      "  File \"/home/sautin1/anaconda2/lib/python2.7/site-packages/sklearn/externals/joblib/pool.py\", line 360, in get\n",
      "    racquire()\n",
      "    self.run()\n",
      "KeyboardInterrupt\n",
      "    racquire()\n",
      "    racquire()\n",
      "KeyboardInterrupt\n",
      "KeyboardInterrupt\n",
      "  File \"/home/sautin1/anaconda2/lib/python2.7/multiprocessing/process.py\", line 114, in run\n",
      "    self._target(*self._args, **self._kwargs)\n",
      "  File \"/home/sautin1/anaconda2/lib/python2.7/multiprocessing/pool.py\", line 102, in worker\n",
      "    task = get()\n",
      "  File \"/home/sautin1/anaconda2/lib/python2.7/site-packages/sklearn/externals/joblib/pool.py\", line 360, in get\n",
      "    racquire()\n",
      "KeyboardInterrupt\n"
     ]
    }
   ],
   "source": [
    "n_est = range(1, 2, 2)\n",
    "%time results = get_results_knn_bag(n_est, max_samples=0.8, max_features=trainX.shape[1] / 3)\n",
    "show_plot(n_est, results)"
   ]
  },
  {
   "cell_type": "code",
   "execution_count": 212,
   "metadata": {
    "collapsed": false
   },
   "outputs": [
    {
     "name": "stdout",
     "output_type": "stream",
     "text": [
      "Count of estimators: 40, accuracy: 1.23726138281\n",
      "Count of estimators: 50, accuracy: 1.23477830203\n",
      "Count of estimators: 60, accuracy: 1.23231619786\n",
      "Count of estimators: 70, accuracy: 1.23381562161\n",
      "Count of estimators: 80, accuracy: 1.23447475743\n",
      "Count of estimators: 90, accuracy: 1.23696119751\n",
      "CPU times: user 1min 14s, sys: 452 ms, total: 1min 14s\n",
      "Wall time: 1min 21s\n"
     ]
    },
    {
     "data": {
      "image/png": "[encoded data removed]",
      "text/plain": [
       "<matplotlib.figure.Figure at 0x7f26834872d0>"
      ]
     },
     "metadata": {},
     "output_type": "display_data"
    }
   ],
   "source": [
    "n_est = range(40, 100, 10)\n",
    "%time results = get_results_gbdt_bag(n_est, subsample=0.8, max_features=trainX.shape[1] / 3)\n",
    "show_plot(n_est, results)"
   ]
  },
  {
   "cell_type": "code",
   "execution_count": 24,
   "metadata": {
    "collapsed": false
   },
   "outputs": [
    {
     "name": "stdout",
     "output_type": "stream",
     "text": [
      "Count of estimators: 1, accuracy: 0.925586607174\n",
      "Count of estimators: 3, accuracy: 1.06559032338\n",
      "Count of estimators: 5, accuracy: 1.13325309358\n",
      "Count of estimators: 7, accuracy: 1.17004662507\n",
      "Count of estimators: 9, accuracy: 1.18741142771\n",
      "Count of estimators: 11, accuracy: 1.19701997597\n",
      "Count of estimators: 13, accuracy: 1.20074705696\n",
      "Count of estimators: 15, accuracy: 1.2032284316\n",
      "Count of estimators: 17, accuracy: 1.20500092401\n",
      "Count of estimators: 19, accuracy: 1.20468676986\n",
      "CPU times: user 1min 10s, sys: 368 ms, total: 1min 10s\n",
      "Wall time: 26.9 s\n"
     ]
    },
    {
     "data": {
      "image/png": "[encoded data removed]",
      "text/plain": [
       "<matplotlib.figure.Figure at 0x7fd5533780d0>"
      ]
     },
     "metadata": {},
     "output_type": "display_data"
    }
   ],
   "source": [
    "n_est = range(1, 20, 2)\n",
    "%time results = get_results_rf(n_est, max_features=trainX.shape[1] / 3)\n",
    "show_plot(n_est, results)"
   ]
  },
  {
   "cell_type": "code",
   "execution_count": 26,
   "metadata": {
    "collapsed": false
   },
   "outputs": [
    {
     "name": "stdout",
     "output_type": "stream",
     "text": [
      "Count of estimators: 1, accuracy: 0.901128391417\n",
      "Count of estimators: 3, accuracy: 1.04452151535\n",
      "CPU times: user 9.92 s, sys: 52 ms, total: 9.97 s\n",
      "Wall time: 6.1 s\n"
     ]
    },
    {
     "data": {
      "image/png": "[encoded data removed]",
      "text/plain": [
       "<matplotlib.figure.Figure at 0x7fd54fc408d0>"
      ]
     },
     "metadata": {},
     "output_type": "display_data"
    }
   ],
   "source": [
    "n_est = range(1, 5, 2)\n",
    "%time results = get_results_erte(n_est)\n",
    "show_plot(n_est, results)"
   ]
  },
  {
   "cell_type": "markdown",
   "metadata": {},
   "source": [
    "### Вывод\n",
    "\n",
    "ERT с одним эстиматором дает наилучший результат.\n",
    "Фильтрация признаков позволила немного улучшить результаты."
   ]
  },
  {
   "cell_type": "markdown",
   "metadata": {},
   "source": [
    "## Отправка результатов в контест на Kaggle (оценивается по результатам в Leaderboard)"
   ]
  },
  {
   "cell_type": "code",
   "execution_count": 62,
   "metadata": {
    "collapsed": false
   },
   "outputs": [],
   "source": [
    "test = pd.read_csv('./data/test.csv', sep=';',decimal= '.', index_col='ID')"
   ]
  },
  {
   "cell_type": "code",
   "execution_count": 63,
   "metadata": {
    "collapsed": true
   },
   "outputs": [],
   "source": [
    "# Предобработка тестовой выборки (добавляем\\удаляем признаки, предобработка NaN и пр.)\n",
    "test_data = get_binarized_data(test, Cathegorical_columns_use)"
   ]
  },
  {
   "cell_type": "code",
   "execution_count": 64,
   "metadata": {
    "collapsed": false
   },
   "outputs": [
    {
     "name": "stdout",
     "output_type": "stream",
     "text": [
      "(11296, 777)\n"
     ]
    }
   ],
   "source": [
    "# test_data = test_data[test_data.columns[useful_features]]\n",
    "# test_data.fillna(0, inplace=True)\n",
    "print test_data.shape"
   ]
  },
  {
   "cell_type": "code",
   "execution_count": 65,
   "metadata": {
    "collapsed": false
   },
   "outputs": [
    {
     "name": "stdout",
     "output_type": "stream",
     "text": [
      "(11296, 164)\n"
     ]
    }
   ],
   "source": [
    "# Все отсутствующие в тестовой выборке столбцы полагаем 0\n",
    "add_columns = bin_data.columns[1:].difference(test_data.columns)\n",
    "test_data = pd.merge(test_data, bin_data.ix[test_data.index][add_columns], how='inner', left_index=True, right_index=True)\n",
    "test_data[add_columns]=0\n",
    "\n",
    "# Оставляем только столбцы обучающей выборки (целевая переменная в обучающей выборке отсутствует)\n",
    "test_data = test_data[bin_data.columns[1:]]\n",
    "\n",
    "test_data.fillna(-10, inplace=True)\n",
    "print test_data.shape"
   ]
  },
  {
   "cell_type": "code",
   "execution_count": 66,
   "metadata": {
    "collapsed": false
   },
   "outputs": [],
   "source": [
    "# Обучающая выборка\n",
    "trainX, _, trainY, _ = split_train_test(df = bin_data, test_size=0,  y_column_name='DEMAND')"
   ]
  },
  {
   "cell_type": "code",
   "execution_count": 67,
   "metadata": {
    "collapsed": false
   },
   "outputs": [
    {
     "data": {
      "text/plain": [
       "ExtraTreesRegressor(bootstrap=False, criterion='mse', max_depth=None,\n",
       "          max_features='auto', max_leaf_nodes=None,\n",
       "          min_impurity_split=1e-07, min_samples_leaf=1,\n",
       "          min_samples_split=2, min_weight_fraction_leaf=0.0,\n",
       "          n_estimators=1, n_jobs=-1, oob_score=False, random_state=1234,\n",
       "          verbose=0, warm_start=False)"
      ]
     },
     "execution_count": 67,
     "metadata": {},
     "output_type": "execute_result"
    }
   ],
   "source": [
    "# Обучаем финальный алгоритм\n",
    "final_regressor = ExtraTreesRegressor(n_estimators=1, n_jobs=-1, random_state=1234, verbose=0)\n",
    "final_regressor.fit(trainX, trainY)"
   ]
  },
  {
   "cell_type": "code",
   "execution_count": 68,
   "metadata": {
    "collapsed": false
   },
   "outputs": [],
   "source": [
    "# Предсказание интенсивности\n",
    "test_predict = final_regressor.predict(np.asarray(test_data))"
   ]
  },
  {
   "cell_type": "code",
   "execution_count": 69,
   "metadata": {
    "collapsed": false
   },
   "outputs": [],
   "source": [
    "# Сохраняем в csv-файл\n",
    "test['DEMAND'] = test_predict\n",
    "test[['DEMAND']].to_csv('./data/submission_gbdt2.csv', sep = ',', index = True)"
   ]
  }
 ],
 "metadata": {
  "anaconda-cloud": {},
  "kernelspec": {
   "display_name": "Python [conda root]",
   "language": "python",
   "name": "conda-root-py"
  },
  "language_info": {
   "codemirror_mode": {
    "name": "ipython",
    "version": 2
   },
   "file_extension": ".py",
   "mimetype": "text/x-python",
   "name": "python",
   "nbconvert_exporter": "python",
   "pygments_lexer": "ipython2",
   "version": "2.7.12"
  }
 },
 "nbformat": 4,
 "nbformat_minor": 0
}
