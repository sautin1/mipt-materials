{
 "cells": [
  {
   "cell_type": "code",
   "execution_count": 1,
   "metadata": {
    "collapsed": true
   },
   "outputs": [],
   "source": [
    "import numpy as np\n",
    "import cv2"
   ]
  },
  {
   "cell_type": "code",
   "execution_count": null,
   "metadata": {},
   "outputs": [],
   "source": [
    "class DemosaicingVNG:\n",
    "    def __init__(self, k1=1.5, k2=0.5):\n",
    "        self.k1 = k1\n",
    "        self.k2 = k2\n",
    "\n",
    "    def demosaic(self, img):\n",
    "        for row in range(2, img.shape[0] - 2):\n",
    "            for col in range(2, img.shape[1] - 2):\n",
    "                matrix = img[row-2:row+2, col-2:col+2]\n",
    "                gradients = DemosaicingVNG._calc_gradients(matrix)\n",
    "                threshold = DemosaicingVNG._calc_threshold(gradients,\n",
    "                                                           self.k1,\n",
    "                                                           self.k2) \n",
    "                directions = [key for key, value in gradients.items() if value < threshold]\n",
    "    \n",
    "    @staticmethod\n",
    "    def _calc_threshold(gradients, k1, k2):\n",
    "        gradient_min = min(gradients.values())\n",
    "        gradient_max = max(gradients.values())\n",
    "        return k1 * gradient_min + k2 * (gradient_max - gradient_min)\n",
    "    \n",
    "    @staticmethod\n",
    "    def _calc_gradients(matrix):\n",
    "        red, green, blue = matrix\n",
    "        gradients = {}\n",
    "        for row_offset in [-1, 0, 1]:\n",
    "            for col_offset in [-1, 0, 1]:\n",
    "                if row_offset == 0 or col_offset == 0:\n",
    "                    gradient = abs(green[2 + row_offset, 2 + col_offset] - \n",
    "                                   green[2 - row_offset, 2 - col_offset])\n",
    "                    gradient += abs(red[2 + row_offset * 2, 2 + col_offset * 2] -\n",
    "                                    red[2 - row_offset * 2, 2 - col_offset * 2])\n",
    "                    gradient += abs(blue[2 + row_offset, 2 + col_offset] -\n",
    "                                    blue[2 - row_offset, 2 - col_offset]) / 2\n",
    "        return gradients"
   ]
  }
 ],
 "metadata": {
  "kernelspec": {
   "display_name": "Python 2",
   "language": "python",
   "name": "python2"
  },
  "language_info": {
   "codemirror_mode": {
    "name": "ipython",
    "version": 2.0
   },
   "file_extension": ".py",
   "mimetype": "text/x-python",
   "name": "python",
   "nbconvert_exporter": "python",
   "pygments_lexer": "ipython2",
   "version": "2.7.6"
  }
 },
 "nbformat": 4,
 "nbformat_minor": 0
}