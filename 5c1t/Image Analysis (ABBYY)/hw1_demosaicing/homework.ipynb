{
 "cells": [
  {
   "cell_type": "code",
   "execution_count": 1,
   "metadata": {},
   "outputs": [],
   "source": [
    "from demosaicing import DemosaicingVNG\n",
    "from metrics import peak_signal_to_noise_ratio\n",
    "\n",
    "import cv2\n",
    "from os.path import join"
   ]
  },
  {
   "cell_type": "code",
   "execution_count": null,
   "metadata": {},
   "outputs": [],
   "source": [
    "filename = 'RGB_CFA.bmp'\n",
    "image = cv2.imread(join('images', 'source', filename), cv2.IMREAD_COLOR)\n",
    "image = cv2.cvtColor(image, cv2.COLOR_BGR2RGB)"
   ]
  },
  {
   "cell_type": "code",
   "execution_count": null,
   "metadata": {},
   "outputs": [
    {
     "name": "stderr",
     "output_type": "stream",
     "text": [
      "  9%|▉         | 792428/8656848 [33:57<4:42:07, 464.59it/s] "
     ]
    }
   ],
   "source": [
    "image_interpolated = DemosaicingVNG().demosaic(image)"
   ]
  },
  {
   "cell_type": "code",
   "execution_count": null,
   "metadata": {},
   "outputs": [],
   "source": [
    "image_interpolated = cv2.cvtColor(image_interpolated, cv2.COLOR_RGB2BGR)\n",
    "cv2.imwrite(join('images', 'results', filename), image_interpolated)"
   ]
  },
  {
   "cell_type": "code",
   "execution_count": null,
   "metadata": {},
   "outputs": [],
   "source": [
    "x = cv2.cvtColor(image, cv2.COLOR_RGB2GRAY)\n",
    "print(x.shape)"
   ]
  },
  {
   "cell_type": "code",
   "execution_count": null,
   "metadata": {},
   "outputs": [],
   "source": [
    "# psnr = peak_signal_to_noise_ratio(cv2.cvtColor(image, cv2.COLOR_RGB2GRAY),\n",
    "#                                   cv2.cvtColor(image_interpolated, cv2.COLOR_RGB2GRAY))\n",
    "# print(f'PSNR: {psnr}db')"
   ]
  }
 ],
 "metadata": {
  "kernelspec": {
   "display_name": "Python 3",
   "language": "python",
   "name": "python3"
  },
  "language_info": {
   "codemirror_mode": {
    "name": "ipython",
    "version": 3
   },
   "file_extension": ".py",
   "mimetype": "text/x-python",
   "name": "python",
   "nbconvert_exporter": "python",
   "pygments_lexer": "ipython3",
   "version": "3.6.2"
  }
 },
 "nbformat": 4,
 "nbformat_minor": 1
}
