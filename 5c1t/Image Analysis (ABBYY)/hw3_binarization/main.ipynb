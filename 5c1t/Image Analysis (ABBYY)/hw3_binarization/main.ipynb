{
 "cells": [
  {
   "cell_type": "code",
   "execution_count": 1,
   "metadata": {
    "collapsed": true
   },
   "outputs": [],
   "source": [
    "from tqdm import tqdm\n",
    "import os\n",
    "from os.path import join, basename, splitext\n",
    "\n",
    "from paths import PATH_RESULTS, PATH_DATA, list_files\n",
    "from image import read_image, save_image\n",
    "\n",
    "from binarization import SauvolaPixByBlockBinarizer, SauvolaBlockBinarizer"
   ]
  },
  {
   "cell_type": "code",
   "execution_count": 2,
   "metadata": {
    "collapsed": true
   },
   "outputs": [],
   "source": [
    "use_small_images = False"
   ]
  },
  {
   "cell_type": "code",
   "execution_count": 3,
   "metadata": {
    "collapsed": true
   },
   "outputs": [],
   "source": [
    "IMAGES_ROOT_PATH = join(PATH_DATA, 'original') if not use_small_images else join(PATH_DATA, 'small')\n",
    "IMAGES_PATHS = list(list_files(IMAGES_ROOT_PATH))\n",
    "\n",
    "\n",
    "def run_binarization(binarizer, name):\n",
    "    for path_input in tqdm(IMAGES_PATHS):\n",
    "        image = read_image(path_input)\n",
    "        image_binarized = binarizer.binarize(image)\n",
    "    \n",
    "        path_result_dir = join(PATH_RESULTS, name)\n",
    "        os.makedirs(path_result_dir, exist_ok=True)\n",
    "        path_result = join(path_result_dir, splitext(basename(path_input))[0] + '.tiff')\n",
    "        save_image(image_binarized, path_result)"
   ]
  },
  {
   "cell_type": "code",
   "execution_count": 4,
   "metadata": {},
   "outputs": [
    {
     "name": "stderr",
     "output_type": "stream",
     "text": [
      "100%|██████████| 15/15 [06:55<00:00, 28.92s/it]\n"
     ]
    }
   ],
   "source": [
    "result_name = 'sauvola_block' + ('_small' if use_small_images else '')\n",
    "run_binarization(SauvolaBlockBinarizer(), result_name)"
   ]
  },
  {
   "cell_type": "code",
   "execution_count": null,
   "metadata": {},
   "outputs": [
    {
     "name": "stderr",
     "output_type": "stream",
     "text": [
      "100%|██████████| 15/15 [56:54<00:00, 237.92s/it]\n"
     ]
    }
   ],
   "source": [
    "result_name = 'sauvola_pixel_0.5' + ('_small' if use_small_images else '')\n",
    "run_binarization(SauvolaPixByBlockBinarizer(), result_name)"
   ]
  },
  {
   "cell_type": "code",
   "execution_count": null,
   "metadata": {},
   "outputs": [
    {
     "name": "stderr",
     "output_type": "stream",
     "text": [
      "  7%|▋         | 1/15 [01:39<23:19, 99.99s/it]"
     ]
    }
   ],
   "source": [
    "result_name = 'sauvola_pixel_0.2' + ('_small' if use_small_images else '')\n",
    "run_binarization(SauvolaPixByBlockBinarizer(k=0.2), result_name)"
   ]
  }
 ],
 "metadata": {
  "kernelspec": {
   "display_name": "Python 3",
   "language": "python",
   "name": "python3"
  },
  "language_info": {
   "codemirror_mode": {
    "name": "ipython",
    "version": 3
   },
   "file_extension": ".py",
   "mimetype": "text/x-python",
   "name": "python",
   "nbconvert_exporter": "python",
   "pygments_lexer": "ipython3",
   "version": "3.6.2"
  }
 },
 "nbformat": 4,
 "nbformat_minor": 1
}
