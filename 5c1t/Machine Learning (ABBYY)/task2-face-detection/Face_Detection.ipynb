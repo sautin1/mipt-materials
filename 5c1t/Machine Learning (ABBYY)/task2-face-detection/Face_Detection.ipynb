{
 "cells": [
  {
   "cell_type": "markdown",
   "metadata": {},
   "source": [
    "# Face Detection\n",
    "\n",
    "Hello! In this task you will create your own deep face detector.\n",
    "\n",
    "First of all, we need import some useful stuff."
   ]
  },
  {
   "cell_type": "code",
   "execution_count": 1,
   "metadata": {},
   "outputs": [
    {
     "name": "stdout",
     "output_type": "stream",
     "text": [
      "Populating the interactive namespace from numpy and matplotlib\n"
     ]
    }
   ],
   "source": [
    "%load_ext autoreload\n",
    "%autoreload 2\n",
    "%pylab inline"
   ]
  },
  {
   "cell_type": "markdown",
   "metadata": {},
   "source": [
    "Do you have modern Nvidia [GPU](https://en.wikipedia.org/wiki/Graphics_processing_unit)? There is your video-card model in [list](https://developer.nvidia.com/cuda-gpus) and CUDA capability >= 3.0?\n",
    "\n",
    "- Yes. You can use it for fast deep learning! In this work we recommend you use tensorflow backend with GPU. Read [installation notes](https://www.tensorflow.org/install/) with attention to gpu section, install all requirements and then install GPU version `tensorflow-gpu`.\n",
    "- No. CPU is enough for this task, but you have to use only simple model. Read [installation notes](https://www.tensorflow.org/install/) and install CPU version `tensorflow`.\n",
    "\n",
    "Of course, also you should install `keras`, `matplotlib`, `numpy` and `scikit-image`."
   ]
  },
  {
   "cell_type": "code",
   "execution_count": 2,
   "metadata": {},
   "outputs": [
    {
     "name": "stderr",
     "output_type": "stream",
     "text": [
      "Using TensorFlow backend.\n"
     ]
    }
   ],
   "source": [
    "from keras import backend as K"
   ]
  },
  {
   "cell_type": "code",
   "execution_count": 3,
   "metadata": {},
   "outputs": [],
   "source": [
    "from matplotlib import pyplot as plt\n",
    "import numpy as np\n",
    "from skimage import transform\n",
    "import cv2"
   ]
  },
  {
   "cell_type": "code",
   "execution_count": 4,
   "metadata": {},
   "outputs": [],
   "source": [
    "from get_data import load_dataset, unpack"
   ]
  },
  {
   "cell_type": "markdown",
   "metadata": {},
   "source": [
    "In this task we use processed [FDDB dataset](http://vis-www.cs.umass.edu/fddb/). Processing defined in file [./prepare_data.ipynb](prepare_data.ipynb) and consists of:\n",
    "\n",
    "1. Extract bboxes from dataset. In base dataset face defined by [ellipsis](http://vis-www.cs.umass.edu/fddb/samples/) that not very useful for basic neural network learning.\n",
    "2. Remove images with big and small faces on one shoot.\n",
    "3. Re-size images to bounding boxes (bboxes) have same size 32 +/- pixels.\n",
    "\n",
    "Each image in train, validation and test datasets have shape (176, 176, 3), but part of this image is black background. Interesting image aligned at top left corner.\n",
    "\n",
    "Bounding boxes define face in image and consist of 7 integer numbers: [image_index, min_row, min_col, max_row, max_col]. Bounding box width and height are 32 +/- 8 pixels wide.\n",
    "\n",
    "`train_bboxes` and `val_bboxes` is a list of bboxes.\n",
    "\n",
    "`train_shapes` and `val_shapes` is a list of interesting image shapes."
   ]
  },
  {
   "cell_type": "code",
   "execution_count": 5,
   "metadata": {},
   "outputs": [
    {
     "name": "stdout",
     "output_type": "stream",
     "text": [
      "Downloading data.zip\n"
     ]
    }
   ],
   "source": [
    "# First run will download 30 MB data from github\n",
    "\n",
    "train_images, train_bboxes, train_shapes = load_dataset(\"train\")\n",
    "val_images, val_bboxes, val_shapes = load_dataset(\"val\")"
   ]
  },
  {
   "cell_type": "markdown",
   "metadata": {},
   "source": [
    "## Prepare data (1 point)\n",
    "\n",
    "Visualize first image from train dataset with face bounding box rectangle. Note that true shape of image is stored in another array."
   ]
  },
  {
   "cell_type": "code",
   "execution_count": 9,
   "metadata": {},
   "outputs": [
    {
     "name": "stdout",
     "output_type": "stream",
     "text": [
      "Sorted\n"
     ]
    }
   ],
   "source": [
    "# check that train_bboxes is sorted by image index\n",
    "current_image_idx = 0\n",
    "is_sorted = True\n",
    "for image_idx, _, _, _, _ in train_bboxes:\n",
    "    if current_image_idx == image_idx or current_image_idx == image_idx - 1:\n",
    "        current_image_idx = image_idx\n",
    "    else:\n",
    "        is_sorted = False\n",
    "        break\n",
    "print('Sorted' if is_sorted else 'Not sorted')"
   ]
  },
  {
   "cell_type": "code",
   "execution_count": 6,
   "metadata": {},
   "outputs": [
    {
     "data": {
      "text/plain": [
       "<matplotlib.image.AxesImage at 0x1eb44d43908>"
      ]
     },
     "execution_count": 6,
     "metadata": {},
     "output_type": "execute_result"
    },
    {
     "data": {
      "image/png": "[encoded data removed]",
      "text/plain": [
       "<matplotlib.figure.Figure at 0x1eb44c01320>"
      ]
     },
     "metadata": {},
     "output_type": "display_data"
    }
   ],
   "source": [
    "image_idx = 0\n",
    "image = train_images[image_idx].copy()\n",
    "for idx, min_row, min_col, max_row, max_col in train_bboxes:\n",
    "    if idx == image_idx:\n",
    "        image = cv2.rectangle(image,\n",
    "                              (min_col, min_row),\n",
    "                              (max_col, max_row),\n",
    "                              (0, 0, 255),\n",
    "                              1)\n",
    "plt.imshow(image[0:train_shapes[0, 0], 0:train_shapes[0, 1], :])"
   ]
  },
  {
   "cell_type": "markdown",
   "metadata": {},
   "source": [
    "For learning we should extract positive and negative samples from image.\n",
    "Positive and negative samples counts should be similar.\n",
    "Every samples should have same size.\n",
    "Positive sample is actual face resized to target shape, negative one should is some cropped not face region also resized to target shape"
   ]
  },
  {
   "cell_type": "code",
   "execution_count": 7,
   "metadata": {
    "collapsed": true
   },
   "outputs": [],
   "source": [
    "SAMPLE_SHAPE = (32, 32, 3)"
   ]
  },
  {
   "cell_type": "markdown",
   "metadata": {},
   "source": [
    "Use this function to detect that your negative bounding box is not a face"
   ]
  },
  {
   "cell_type": "code",
   "execution_count": 8,
   "metadata": {
    "collapsed": true
   },
   "outputs": [],
   "source": [
    "from scores import iou_score  # https://en.wikipedia.org/wiki/Jaccard_index\n",
    "\n",
    "\n",
    "def is_negative_bbox(new_bbox, true_bboxes, eps=1e-1):\n",
    "    \"\"\"There bbox is 4 ints [min_row, min_col, max_row, max_col] without image index.\"\"\"\n",
    "    for bbox in true_bboxes:\n",
    "        if iou_score(new_bbox, bbox) >= eps:\n",
    "            return False\n",
    "    return True"
   ]
  },
  {
   "cell_type": "code",
   "execution_count": 42,
   "metadata": {
    "collapsed": true
   },
   "outputs": [],
   "source": [
    "def get_positive_negative(images, true_bboxes, image_shapes):\n",
    "    \"\"\"Retrieve positive and negative samples from image.\"\"\"\n",
    "    positive = []\n",
    "    negative = []\n",
    "    \n",
    "    # Pay attention to the fact that most part of image may be black -\n",
    "    # extract negative samples only from part [0:image_shape[0], 0:image_shape[1]]\n",
    "    \n",
    "    true_bboxes_finish = 0\n",
    "    for image_idx, image in enumerate(images):\n",
    "        true_bboxes_start = true_bboxes_finish\n",
    "        while true_bboxes_finish + 1 < len(true_bboxes):\n",
    "            true_bboxes_finish += 1\n",
    "            if true_bboxes[true_bboxes_finish, 0] != true_bboxes[true_bboxes_start, 0]:\n",
    "                break\n",
    "        true_bboxes_count = true_bboxes_finish - true_bboxes_start\n",
    "        positive.extend([cv2.resize(image[min_row:max_row, min_col:max_col, :], SAMPLE_SHAPE[:-1])\n",
    "                         for _, min_row, min_col, max_row, max_col in true_bboxes[true_bboxes_start:true_bboxes_finish]])\n",
    "\n",
    "        negative_new = []\n",
    "        true_bboxes_of_image = [bbox[1:] for bbox in true_bboxes[true_bboxes_start:true_bboxes_finish]]\n",
    "        while len(negative_new) < true_bboxes_count:\n",
    "            crop_size = np.random.randint(8, 33)\n",
    "            if is_negative_bbox((0, 0, crop_size, crop_size), true_bboxes_of_image):\n",
    "                crop = image[0:crop_size, 0:crop_size]\n",
    "                negative_new.append(cv2.resize(crop, SAMPLE_SHAPE[:-1]))\n",
    "        negative.extend(negative_new)\n",
    "    assert len(positive) == len(negative), 'Number of negative and positive samples differ'\n",
    "    return positive, negative"
   ]
  },
  {
   "cell_type": "code",
   "execution_count": null,
   "metadata": {
    "collapsed": true
   },
   "outputs": [],
   "source": [
    "def get_samples(images, true_bboxes, image_shapes):\n",
    "    \"\"\"Usefull samples for learning.\n",
    "    \n",
    "    X - positive and negative samples.\n",
    "    Y - one hot encoded list of zeros and ones. One is positive marker.\n",
    "    \"\"\"\n",
    "    positive, negative = get_positive_negative(images=images, true_bboxes=true_bboxes, \n",
    "                                               image_shapes=image_shapes)\n",
    "    X = positive\n",
    "    Y = [[0, 1]] * len(positive)\n",
    "    \n",
    "    X.extend(negative)\n",
    "    Y.extend([[1, 0]] * len(negative))\n",
    "    \n",
    "    return np.array(X), np.array(Y)"
   ]
  },
  {
   "cell_type": "markdown",
   "metadata": {},
   "source": [
    "Now we can extract samples from images."
   ]
  },
  {
   "cell_type": "code",
   "execution_count": null,
   "metadata": {},
   "outputs": [],
   "source": [
    "X_train, Y_train = get_samples(train_images, train_bboxes, train_shapes)\n",
    "X_val, Y_val = get_samples(val_images, val_bboxes, val_shapes)"
   ]
  },
  {
   "cell_type": "code",
   "execution_count": null,
   "metadata": {},
   "outputs": [],
   "source": [
    "# There we should see faces\n",
    "from graph import visualize_samples\n",
    "visualize_samples(X_train[Y_train[:, 1] == 1])"
   ]
  },
  {
   "cell_type": "code",
   "execution_count": null,
   "metadata": {},
   "outputs": [],
   "source": [
    "# There we shouldn't see faces\n",
    "visualize_samples(X_train[Y_train[:, 1] == 0])"
   ]
  },
  {
   "cell_type": "markdown",
   "metadata": {},
   "source": [
    "## Classifier training (3 points)\n",
    "\n",
    "First of all, we should train face classifier that checks if face represented on sample."
   ]
  },
  {
   "cell_type": "code",
   "execution_count": null,
   "metadata": {
    "collapsed": true
   },
   "outputs": [],
   "source": [
    "BATCH_SIZE = 64"
   ]
  },
  {
   "cell_type": "markdown",
   "metadata": {},
   "source": [
    "### Image augmentation\n",
    "\n",
    "Important thing in deep learning is augmentation. Sometimes, if your model are complex and cool, you can increase quality by using good augmentation.\n",
    "\n",
    "Keras provide good [images preprocessing and augmentation](https://keras.io/preprocessing/image/). This preprocessing executes online (on the fly) while learning.\n",
    "\n",
    "Of course, if you want using samplewise and featurewise center and std normalization you should run this transformation on predict stage. But you will use this classifier to fully convolution detector, in this case such transformation quite complicated, and we don't recommend use them in classifier.\n",
    "\n",
    "For heavy augmentation you can use library [imgaug](https://github.com/aleju/imgaug). If you need, you can use this library in offline manner (simple way) and online manner (hard way). However, hard way is not so hard: you only have to write [python generator](https://wiki.python.org/moin/Generators), which returns image batches, and pass it to [fit_generator](https://keras.io/models/model/#fit_generator)"
   ]
  },
  {
   "cell_type": "code",
   "execution_count": null,
   "metadata": {
    "collapsed": true
   },
   "outputs": [],
   "source": [
    "from keras.preprocessing.image import ImageDataGenerator # Usefull thing. Read the doc.\n",
    "\n",
    "datagen = ImageDataGenerator(horizontal_flip=True,\n",
    "                             width_shift_range=0.2,\n",
    "                             height_shift_range=0.2,\n",
    "                             zoom_range=0.1,\n",
    "                            )\n",
    "datagen.fit(X_train)"
   ]
  },
  {
   "cell_type": "markdown",
   "metadata": {},
   "source": [
    "### Fitting classifier\n",
    "\n",
    "For fitting you can use one of Keras optimizer algorithms. [Good overview](http://ruder.io/optimizing-gradient-descent/)\n",
    "\n",
    "To choose best learning rate strategy you should read about EarlyStopping and ReduceLROnPlateau or LearningRateScheduler on [callbacks](https://keras.io/callbacks/) page of keras documentation, it's very useful in deep learning.\n",
    "\n",
    "If you repeat architecture from some paper, you can find information about good optimizer algorithm and learning rate strategy in this paper. For example, every [keras application](https://keras.io/applications/) has link to paper, that describes suitable learning procedure for this specific architecture."
   ]
  },
  {
   "cell_type": "code",
   "execution_count": null,
   "metadata": {},
   "outputs": [],
   "source": [
    "from keras.optimizers import RMSprop\n",
    "# Very usefull, pay attention\n",
    "from keras.callbacks import ModelCheckpoint, EarlyStopping, ReduceLROnPlateau, LearningRateScheduler\n",
    "\n",
    "from graph import plot_history\n",
    "\n",
    "def fit(model_name, model, datagen, X_train, Y_train, X_val, Y_val, class_weight=None, epochs=10, lr=0.001, verbose=False):\n",
    "    \"\"\"Fit model.\n",
    "    \n",
    "    You can edit this function anyhow.\n",
    "    \"\"\"\n",
    "    \n",
    "    if verbose:\n",
    "        model.summary()\n",
    "\n",
    "    model.compile(optimizer=RMSprop(lr=lr), # You can use another optimizer\n",
    "                  loss='categorical_crossentropy',\n",
    "                  metrics=['accuracy'])\n",
    "    \n",
    "    history = model.fit_generator(datagen.flow(X_train, Y_train, batch_size=BATCH_SIZE),\n",
    "                                  validation_data=(X_val, Y_val),\n",
    "                                  epochs=epochs, steps_per_epoch=len(X_train) // BATCH_SIZE,\n",
    "                                  callbacks=[\n",
    "                                        # May lead to crash on windows. Uncomment and try, it may work for you\n",
    "                                        #ModelCheckpoint(model_name + \"-{epoch:02d}-{val_loss:.2f}.hdf5\", save_best_only=True)\n",
    "                                    ]\n",
    "                                 )  # starts training\n",
    "    \n",
    "    plot_history(history)"
   ]
  },
  {
   "cell_type": "markdown",
   "metadata": {},
   "source": [
    "#### (first point out of three)\n",
    "\n",
    "We propose you make your own classification model based on lenet architecture.\n",
    "\n",
    "![lenet architecture](lenet_architecture.png)\n",
    "LeCun, Y., Bottou, L., Bengio, Y. and Haffner, P., 1998. Gradient-based learning applied to document recognition. Proceedings of the IEEE, 86(11), pp.2278-2324.\n",
    "\n",
    "Of course, you can use any another architecture, if want. Main thing is classification quality of your model.\n",
    "\n",
    "Acceptable validation accuracy for this task is 0.92."
   ]
  },
  {
   "cell_type": "code",
   "execution_count": null,
   "metadata": {},
   "outputs": [],
   "source": [
    "from keras.models import Model, Sequential\n",
    "from keras.layers import Flatten, Dense, Activation, Input, Dropout, Activation, BatchNormalization\n",
    "from keras.layers import Conv2D, MaxPooling2D, GlobalAveragePooling2D\n",
    "\n",
    "# Classification model\n",
    "# You can start from LeNet architecture\n",
    "\n",
    "x = inputs = Input(shape=SAMPLE_SHAPE)\n",
    "\n",
    "# Insert your architecture here\n",
    "\n",
    "# This creates a model\n",
    "predictions = Dense(2, activation='softmax')(x)\n",
    "model = Model(inputs=inputs, outputs=predictions)"
   ]
  },
  {
   "cell_type": "markdown",
   "metadata": {},
   "source": [
    "#### Fit the model (second point out of three)\n",
    "\n",
    "If you doesn't have fast video-card suitable for deep learning, you can first check neural network modifications with small value of parameter `epochs`, for example, 10, and then after selecting best model increase this parameter.\n",
    "Fitting on CPU can be long, we suggest do it at bedtime.\n",
    "\n",
    "Don't forget change model name."
   ]
  },
  {
   "cell_type": "code",
   "execution_count": null,
   "metadata": {},
   "outputs": [],
   "source": [
    "fit(model_name=\"baseline\", epochs=50, model=model, datagen=datagen, X_train=X_train, X_val=X_val, Y_train=Y_train, Y_val=Y_val)"
   ]
  },
  {
   "cell_type": "markdown",
   "metadata": {},
   "source": [
    "#### (third point out of three)\n",
    "\n",
    "After learning model weights saves in folder `data/checkpoints/`.\n",
    "Use `model.load_weights(fname)` to load best weights."
   ]
  },
  {
   "cell_type": "code",
   "execution_count": null,
   "metadata": {
    "collapsed": true
   },
   "outputs": [],
   "source": [
    "# model.load_weights(\"data/checkpoints/...\")"
   ]
  },
  {
   "cell_type": "markdown",
   "metadata": {},
   "source": [
    "## Detection\n",
    "\n",
    "If you have prepared classification architecture with high validation score, you can use this architecture for detection.\n",
    "\n",
    "Convert classification architecture to fully convolution neural network (FCNN), that returns heatmap of activation.\n",
    "\n",
    "### Detector model or sliding window (1 point)\n",
    "\n",
    "Now you should replace fully-connected layers with $1 \\times 1$ convolution layers.\n",
    "\n",
    "Every fully connected layer perform operation $f(Wx + b)$, where $f(\\cdot)$ is nonlinear activation function, $x$ is layer input, $W$ and $b$ is layer weights. This operation can be emulated with $1 \\times 1$ convolution with activation function $f(\\cdot)$, that perform exactly same operation $f(Wx + b)$.\n",
    "\n",
    "If there is `Flatten` layer with $n \\times k$ input size before fully connected layers, convolution should have same $n \\times k$ input size.\n",
    "Multiple fully connected layers can be replaced with convolution layers sequence.\n",
    "\n",
    "After replace all fully connected layers with convolution layers, we get fully convolution network. If input shape is equal to input size of previous network, output will have size $1 \\times 1$. But if we increase input shape, output shape automatically will be increased. For example, if convolution step of previous network strides 4 pixels, increase input size with 100 pixels along all axis makes increase output size with 25 values along all axis. We got activation map of classifier without necessary extract samples from image and multiple calculate low-level features.\n",
    "\n",
    "In total:\n",
    "1. $1 \\times 1$ convolution layer is equivalent of fully connected layer.\n",
    "2. $1 \\times 1$ convolution layers can be used to get activation map of classification network in \"sliding window\" manner.\n",
    "\n",
    "We propose replace last fully connected layer with two outputs and softmax activation function with one convolution and ReLU activation. This configuration useful to find local maximum of activation map.\n",
    "\n",
    "#### Example of replace cnn head:\n",
    "\n",
    "##### Head before convert\n",
    "\n",
    "![before replace image](before_convert.png)\n",
    "\n",
    "##### Head after convert\n",
    "\n",
    "![before replace image](after_convert.png)\n",
    "\n",
    "On this images displayed only head. `InputLayer` should be replaced with convolution part exit.\n",
    "Before convert network head takes fifty $8 \\times 8$ feature maps and returns two values: probability of negative and positive classes. This output can be considered as activation map with size $1 \\times 1$.\n",
    "\n",
    "If input have size $8 \\times 8$, output after convert would have $1 \\times 1$ size, but input size is $44 \\times 44$.\n",
    "After convert network head returns one $37 \\times 37$ activation map."
   ]
  },
  {
   "cell_type": "code",
   "execution_count": null,
   "metadata": {
    "collapsed": true
   },
   "outputs": [],
   "source": [
    "# FCNN\n",
    "\n",
    "IMAGE_SHAPE = (176, 176, 3)\n",
    "\n",
    "def generate_fcnn_model(image_shape):\n",
    "    \"\"\"After model compilation input size cannot be changed.\n",
    "    \n",
    "    So, we need create a function to have ability to change size later.\n",
    "    \"\"\"\n",
    "    x = inputs = Input(shape=image_shape)\n",
    "\n",
    "    # Write code here\n",
    "    # ...\n",
    "\n",
    "    # This creates a model\n",
    "    predictions = Conv2D(1, (1, 1), activation='relu')(x)\n",
    "    return Model(inputs=inputs, outputs=predictions)\n",
    "\n",
    "fcnn_model = generate_fcnn_model(IMAGE_SHAPE)"
   ]
  },
  {
   "cell_type": "markdown",
   "metadata": {},
   "source": [
    "#### (1 point)\n",
    "\n",
    "Then you should write function that copy weights from classification model to fully convolution model.\n",
    "Convolution weights may be copied without modification, fully-connected layer weights should be reshaped before copy.\n",
    "\n",
    "Pay attention to last layer."
   ]
  },
  {
   "cell_type": "code",
   "execution_count": null,
   "metadata": {
    "collapsed": true
   },
   "outputs": [],
   "source": [
    "def copy_weights(base_model, fcnn_model):\n",
    "    \"\"\"Set FCNN weights from base model.\n",
    "    \"\"\"\n",
    "    \n",
    "    new_fcnn_weights = []\n",
    "    prev_fcnn_weights = fcnn_model.get_weights()\n",
    "    prev_base_weights = base_model.get_weights()\n",
    "    \n",
    "    # Write code here\n",
    "    # ...\n",
    "        \n",
    "    fcnn_model.set_weights(new_fcnn_weights)\n",
    "\n",
    "copy_weights(base_model=model, fcnn_model=fcnn_model)"
   ]
  },
  {
   "cell_type": "markdown",
   "metadata": {},
   "source": [
    "### Model visualization"
   ]
  },
  {
   "cell_type": "code",
   "execution_count": null,
   "metadata": {
    "collapsed": true
   },
   "outputs": [],
   "source": [
    "from graph import visualize_heatmap"
   ]
  },
  {
   "cell_type": "code",
   "execution_count": null,
   "metadata": {
    "collapsed": true
   },
   "outputs": [],
   "source": [
    "predictions = fcnn_model.predict(np.array(val_images))\n",
    "visualize_heatmap(val_images, predictions[:, :, :, 0])"
   ]
  },
  {
   "cell_type": "markdown",
   "metadata": {},
   "source": [
    "### Detector (1 point)\n",
    "\n",
    "First detector part is getting bboxes and decision function.\n",
    "Greater decision function indicates better detector confidence. "
   ]
  },
  {
   "cell_type": "markdown",
   "metadata": {},
   "source": [
    "Now you need to be a little creative and implement some logic: how heatmaps will be transformed to bounding boxes. In you fcnn_model output you have heatmap of some size. You need to understand how heatmap coordinates (predictions) correlate with detecting image on the source. For example, if your model uses two poolings you need to multiply coordinates by 4.\n",
    "After that you need to get the biggest signals for most certain locations of face. Hint: peak_local_max function can be useful.\n",
    "Note also that evaluation process will pick the best face you detected near real one and all others will be false positives. So to improve your score you better choose just one (maybe best) face in a region of local max activations. You can also use any clusterization mechanism or non-maximum suppression technique."
   ]
  },
  {
   "cell_type": "code",
   "execution_count": null,
   "metadata": {
    "collapsed": true
   },
   "outputs": [],
   "source": [
    "# Detection\n",
    "from skimage.feature import peak_local_max\n",
    "\n",
    "def get_bboxes_and_decision_function(fcnn_model, images, image_shapes):\n",
    "    cropped_images = np.array([transform.resize(image, IMAGE_SHAPE, mode=\"reflect\") for image in images])\n",
    "    pred_bboxes, decision_function = [], []\n",
    "   \n",
    "    # Predict\n",
    "    predictions = fcnn_model.predict(cropped_images)\n",
    "\n",
    "    # Write code here\n",
    "    # ...\n",
    "        \n",
    "    return pred_bboxes, decision_function"
   ]
  },
  {
   "cell_type": "markdown",
   "metadata": {},
   "source": [
    "#### Detector visualization"
   ]
  },
  {
   "cell_type": "code",
   "execution_count": null,
   "metadata": {
    "collapsed": true
   },
   "outputs": [],
   "source": [
    "from graph import visualize_bboxes"
   ]
  },
  {
   "cell_type": "code",
   "execution_count": null,
   "metadata": {
    "collapsed": true
   },
   "outputs": [],
   "source": [
    "pred_bboxes, decision_function = get_bboxes_and_decision_function(fcnn_model=fcnn_model, images=val_images, image_shapes=val_shapes)\n",
    "\n",
    "visualize_bboxes(images=val_images,\n",
    "                 pred_bboxes=pred_bboxes,\n",
    "                 true_bboxes=val_bboxes,\n",
    "                 decision_function=decision_function\n",
    "                )"
   ]
  },
  {
   "cell_type": "markdown",
   "metadata": {},
   "source": [
    "## Detector score (1 point)\n",
    "\n",
    "Write [precision and recall](https://en.wikipedia.org/wiki/Precision_and_recall) graph.\n",
    "\n",
    "You can use function `best_match` to extract matching between prediction and ground truth, false positive and false negative samples. Pseudo-code for calculation precision and recall graph:\n",
    "    \n",
    "    # Initialization for first step threshold = -inf\n",
    "    tp, fp := 0, 0 # We haven't any positive sample\n",
    "    fn := |true_bboxes| # All true bboxes haven't been caught\n",
    "    tn := |false_positive| # But also all false positives samples haven't been caught if threshold = -inf\n",
    "    \n",
    "    Sort pred_bboxes with order defined by decision_function\n",
    "    y_true := List of answers for \"Is the bbox have matching in y_true?\" for every bbox in pred_bboxes\n",
    "    \n",
    "    for y_on_this_step in y_true:\n",
    "        # Now we increase threshold, so some predicted bboxes makes positive.\n",
    "        # If y_t is True then the bbox is true positive else bbox is false positive\n",
    "        # So we should\n",
    "        Update tp, tn, fp, fn with attention to y_on_this_step\n",
    "        \n",
    "        Add precision and recall point calculated by formula through tp, tn, fp, fn on this step"
   ]
  },
  {
   "cell_type": "code",
   "execution_count": null,
   "metadata": {
    "collapsed": true
   },
   "outputs": [],
   "source": [
    "from scores import best_match\n",
    "from graph import plot_precision_recall\n",
    "\n",
    "def precision_recall_curve(pred_bboxes, true_bboxes, decision_function):\n",
    "    precision, recall = [], []\n",
    "    \n",
    "    # Write code here\n",
    "    # ...\n",
    "    \n",
    "    return precision, recall"
   ]
  },
  {
   "cell_type": "code",
   "execution_count": null,
   "metadata": {
    "collapsed": true
   },
   "outputs": [],
   "source": [
    "precision, recall = precision_recall_curve(pred_bboxes=pred_bboxes, true_bboxes=val_bboxes, decision_function=decision_function)\n",
    "plot_precision_recall(precision=precision, recall=recall)"
   ]
  },
  {
   "cell_type": "markdown",
   "metadata": {},
   "source": [
    "### Threshold (1 point)\n",
    "\n",
    "Next step in detector creating is select threshold for decision_function.\n",
    "Every possible threshold presents point on recall-precision graph.\n",
    "\n",
    "Select threshold for `recall=0.85`."
   ]
  },
  {
   "cell_type": "code",
   "execution_count": null,
   "metadata": {
    "collapsed": true
   },
   "outputs": [],
   "source": [
    "THRESHOLD = 5.9\n",
    "\n",
    "def detect(fcnn_model, images, image_shapes, threshold=THRESHOLD, return_decision=True):\n",
    "    \"\"\"Get bboxes with decision_function not less then threshold.\"\"\"\n",
    "    pred_bboxes, decision_function = get_bboxes_and_decision_function(fcnn_model, images, image_shapes)   \n",
    "    result, result_decision = [], []\n",
    "    \n",
    "    # Write code here\n",
    "    # ...\n",
    "    \n",
    "    if return_decision:\n",
    "        return result, result_decision\n",
    "    else:\n",
    "        return result"
   ]
  },
  {
   "cell_type": "code",
   "execution_count": null,
   "metadata": {
    "collapsed": true
   },
   "outputs": [],
   "source": [
    "pred_bboxes, decision_function = detect(fcnn_model=fcnn_model, images=val_images, image_shapes=val_shapes, return_decision=True)\n",
    "\n",
    "visualize_bboxes(images=val_images,\n",
    "                 pred_bboxes=pred_bboxes,\n",
    "                 true_bboxes=val_bboxes,\n",
    "                 decision_function=decision_function\n",
    "                )\n",
    "\n",
    "precision, recall = precision_recall_curve(pred_bboxes=pred_bboxes, true_bboxes=val_bboxes, decision_function=decision_function)\n",
    "plot_precision_recall(precision=precision, recall=recall)"
   ]
  },
  {
   "cell_type": "markdown",
   "metadata": {},
   "source": [
    "## Test dataset (1 point)\n",
    "\n",
    "Last detector preparation step is testing.\n",
    "\n",
    "Attention: to avoid over-fitting, after testing algorithm you should run [./prepare_data.ipynb](prepare_data.ipynb), and start all fitting from beginning.\n",
    "\n",
    "Detection score (in graph header) should be 0.75 or greater."
   ]
  },
  {
   "cell_type": "code",
   "execution_count": null,
   "metadata": {
    "collapsed": true
   },
   "outputs": [],
   "source": [
    "test_images, test_bboxes, test_shapes = load_dataset(\"test\")\n",
    "pred_bboxes, decision_function = detect(fcnn_model=fcnn_model, images=test_images, image_shapes=test_shapes, return_decision=True)\n",
    "visualize_bboxes(images=test_images,\n",
    "                 pred_bboxes=pred_bboxes,\n",
    "                 true_bboxes=test_bboxes,\n",
    "                 decision_function=decision_function\n",
    "                )\n",
    "\n",
    "precision, recall = precision_recall_curve(pred_bboxes=pred_bboxes, true_bboxes=test_bboxes, decision_function=decision_function)\n",
    "plot_precision_recall(precision=precision, recall=recall)"
   ]
  },
  {
   "cell_type": "markdown",
   "metadata": {},
   "source": [
    "## Optional tasks\n",
    "\n",
    "### Real image dataset\n",
    "\n",
    "Test your algorithm on original (not scaled) data.\n",
    "Visualize bboxes and plot precision-recall curve."
   ]
  },
  {
   "cell_type": "code",
   "execution_count": null,
   "metadata": {
    "collapsed": true
   },
   "outputs": [],
   "source": [
    "# First run will download 523 MB data from github\n",
    "\n",
    "original_images, original_bboxes, original_shapes = load_dataset(\"original\")"
   ]
  },
  {
   "cell_type": "code",
   "execution_count": null,
   "metadata": {
    "collapsed": true
   },
   "outputs": [],
   "source": [
    "# Write code here\n",
    "# ..."
   ]
  },
  {
   "cell_type": "markdown",
   "metadata": {},
   "source": [
    "## Hard negative mining\n",
    "\n",
    "Upgrade the score with hard negative mining."
   ]
  },
  {
   "cell_type": "code",
   "execution_count": null,
   "metadata": {
    "collapsed": true
   },
   "outputs": [],
   "source": [
    "def hard_negative(train_images, image_shapes, train_bboxes, X_val, Y_val, base_model, fcnn_model):\n",
    "    pass"
   ]
  },
  {
   "cell_type": "code",
   "execution_count": null,
   "metadata": {
    "collapsed": true
   },
   "outputs": [],
   "source": [
    "hard_negative(train_images=train_images, image_shapes=train_shapes, train_bboxes=train_bboxes, X_val=X_val, Y_val=Y_val, base_model=model, fcnn_model=fcnn_model)"
   ]
  },
  {
   "cell_type": "code",
   "execution_count": null,
   "metadata": {
    "collapsed": true
   },
   "outputs": [],
   "source": [
    "# model.load_weights(\"data/checkpoints/...\")"
   ]
  },
  {
   "cell_type": "code",
   "execution_count": null,
   "metadata": {
    "collapsed": true
   },
   "outputs": [],
   "source": [
    "copy_weights(base_model=model, fcnn_model=fcnn_model)\n",
    "\n",
    "pred_bboxes, decision_function = get_bboxes_and_decision_function(fcnn_model=fcnn_model, images=val_images, image_shapes=val_shapes)\n",
    "\n",
    "visualize_bboxes(images=val_images,\n",
    "                 pred_bboxes=pred_bboxes,\n",
    "                 true_bboxes=val_bboxes,\n",
    "                 decision_function=decision_function\n",
    "                )\n",
    "\n",
    "precision, recall = precision_recall_curve(pred_bboxes=pred_bboxes, true_bboxes=val_bboxes, decision_function=decision_function)\n",
    "plot_precision_recall(precision=precision, recall=recall)"
   ]
  },
  {
   "cell_type": "markdown",
   "metadata": {
    "collapsed": true
   },
   "source": [
    "### Multi scale detector\n",
    "\n",
    "Write and test detector with [pyramid representation][pyramid].\n",
    "[pyramid]: https://en.wikipedia.org/wiki/Pyramid_(image_processing)"
   ]
  },
  {
   "cell_type": "code",
   "execution_count": null,
   "metadata": {
    "collapsed": true
   },
   "outputs": [],
   "source": [
    "def multiscale_detector(fcnn_model, images, image_shapes):\n",
    "    pass"
   ]
  },
  {
   "cell_type": "markdown",
   "metadata": {
    "collapsed": true
   },
   "source": [
    "### Next  step\n",
    "\n",
    "Next steps in deep learning detection are R-CNN, Faster R-CNN and SSD architectures.\n",
    "This architecture realization is quite complex.\n",
    "For this reason the task doesn't cover them, but you can find the articles in the internet."
   ]
  }
 ],
 "metadata": {
  "anaconda-cloud": {},
  "kernelspec": {
   "display_name": "Python 3",
   "language": "python",
   "name": "python3"
  },
  "language_info": {
   "codemirror_mode": {
    "name": "ipython",
    "version": 3
   },
   "file_extension": ".py",
   "mimetype": "text/x-python",
   "name": "python",
   "nbconvert_exporter": "python",
   "pygments_lexer": "ipython3",
   "version": "3.6.2"
  }
 },
 "nbformat": 4,
 "nbformat_minor": 1
}
