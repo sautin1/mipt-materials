{
 "cells": [
  {
   "cell_type": "code",
   "execution_count": 1,
   "metadata": {
    "collapsed": true
   },
   "outputs": [],
   "source": [
    "from gensim.models import KeyedVectors\n",
    "\n",
    "from spellchecking.fasttext import SpellCheckerFastTextSimilarity\n",
    "from utils.database import read_vocabulary\n",
    "from utils.tester import test_on_datasets"
   ]
  },
  {
   "cell_type": "code",
   "execution_count": null,
   "metadata": {
    "collapsed": false
   },
   "outputs": [],
   "source": [
    "%%time\n",
    "\n",
    "model = KeyedVectors.load_word2vec_format('models/wiki-news-300d-1M-subword.vec', limit=999999)"
   ]
  },
  {
   "cell_type": "code",
   "execution_count": null,
   "metadata": {
    "collapsed": false
   },
   "outputs": [],
   "source": [
    "vocabulary = read_vocabulary('data/big.txt')\n",
    "spellchecker = SpellCheckerFastTextSimilarity(model, vocabulary)\n",
    "\n",
    "test_on_datasets(spellchecker, ['data/spell-testset1.txt', 'data/spell-testset2.txt'])"
   ]
  }
 ],
 "metadata": {
  "kernelspec": {
   "display_name": "Python 2",
   "language": "python",
   "name": "python2"
  },
  "language_info": {
   "codemirror_mode": {
    "name": "ipython",
    "version": 2.0
   },
   "file_extension": ".py",
   "mimetype": "text/x-python",
   "name": "python",
   "nbconvert_exporter": "python",
   "pygments_lexer": "ipython2",
   "version": "2.7.6"
  }
 },
 "nbformat": 4,
 "nbformat_minor": 0
}