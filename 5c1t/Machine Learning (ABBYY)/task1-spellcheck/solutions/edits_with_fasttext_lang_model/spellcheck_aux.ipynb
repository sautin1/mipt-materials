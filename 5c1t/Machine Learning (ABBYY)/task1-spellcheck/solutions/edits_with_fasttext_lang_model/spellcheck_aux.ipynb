{
 "cells": [
  {
   "cell_type": "code",
   "execution_count": 1,
   "metadata": {},
   "outputs": [
    {
     "name": "stderr",
     "output_type": "stream",
     "text": [
      "C:\\Users\\ASautin\\AppData\\Local\\Continuum\\Anaconda2\\envs\\con3.6\\lib\\site-packages\\gensim\\utils.py:860: UserWarning: detected Windows; aliasing chunkize to chunkize_serial\n",
      "  warnings.warn(\"detected Windows; aliasing chunkize to chunkize_serial\")\n"
     ]
    }
   ],
   "source": [
    "from gensim.models import KeyedVectors\n",
    "\n",
    "from spellchecking.fasttext import SpellCheckerFastTextSimilarity\n",
    "from utils.database import read_vocabulary\n",
    "from utils.tester import test_on_datasets"
   ]
  },
  {
   "cell_type": "code",
   "execution_count": 2,
   "metadata": {},
   "outputs": [
    {
     "name": "stdout",
     "output_type": "stream",
     "text": [
      "Wall time: 5min 50s\n"
     ]
    }
   ],
   "source": [
    "%%time\n",
    "\n",
    "from os.path import join\n",
    "path = 'D:/My Docs/Studying/mipt-materials/5c1t/Machine Learning (ABBYY)/task1-spellcheck'\n",
    "\n",
    "model = KeyedVectors.load_word2vec_format(join(path, 'models/wiki-news-300d-1M-subword.vec'), limit=999999)"
   ]
  },
  {
   "cell_type": "code",
   "execution_count": 45,
   "metadata": {},
   "outputs": [
    {
     "name": "stdout",
     "output_type": "stream",
     "text": [
      "(300,)\n"
     ]
    }
   ],
   "source": [
    "a = model['spelling']\n",
    "print(a.shape)"
   ]
  },
  {
   "cell_type": "code",
   "execution_count": 49,
   "metadata": {},
   "outputs": [
    {
     "name": "stdout",
     "output_type": "stream",
     "text": [
      "(999999, 300)\n",
      "Vocab(count:999998, index:1)\n"
     ]
    }
   ],
   "source": [
    "print(model.syn0.shape)\n",
    "print(model.vocab['the'])"
   ]
  },
  {
   "cell_type": "code",
   "execution_count": 3,
   "metadata": {
    "scrolled": true
   },
   "outputs": [
    {
     "name": "stdout",
     "output_type": "stream",
     "text": [
      "contenpted\n",
      "count: 1\n",
      "----------\n",
      "\n",
      "contende\n",
      "count: 2\n",
      "----------\n",
      "\n",
      "contended\n",
      "{'contend': 0.7802855968475342, 'contends': 0.7776699066162109, 'asserted': 0.777523398399353, 'argued': 0.7645719051361084, 'conceded': 0.7510590553283691, 'claimed': 0.7309486865997314, 'insisted': 0.7277213931083679, 'countered': 0.7271977663040161, 'contending': 0.7261748313903809, 'stated': 0.7088972330093384, 'objected': 0.7071579694747925, 'believed': 0.6917275190353394, 'defended': 0.6871211528778076, 'uncontended': 0.6845721006393433, 'acknowledged': 0.6823275089263916, 'affirmed': 0.6801435351371765, 'concluded': 0.6753115653991699, 'contested': 0.6740124225616455, 'held': 0.6732339859008789, 'disagreed': 0.6729146242141724}\n",
      "{'defended', 'stated', 'contend', 'asserted', 'held', 'affirmed', 'conceded', 'believed', 'insisted', 'concluded', 'disagreed', 'objected', 'acknowledged', 'claimed', 'contested', 'countered', 'argued', 'contending'}\n",
      "held\n",
      "----------\n",
      "\n",
      "contentid\n",
      "{'contentID': 0.8107751607894897, 'eventid': 0.7681332230567932, 'contentId': 0.7528806328773499, 'content.cfm': 0.7362562417984009, 'objectid': 0.7350356578826904, 'content.asp': 0.7270729541778564, 'content.php': 0.7162954807281494, 'info.asp': 0.6985357999801636, 'content1': 0.6941879987716675, 'contentSub': 0.686000645160675, 'contentType': 0.6774583458900452, 'output.cfm': 0.6754164695739746, 'content.aspx': 0.6688185334205627, 'productid': 0.6686102747917175, 'itemId': 0.6662359833717346, 'docId': 0.6563175320625305, 'artid': 0.6485810875892639, 'details.asp': 0.64821457862854, 'view.jsp': 0.6457934975624084, 'storyID': 0.6449539661407471}\n",
      "set()\n",
      "None\n",
      "count: 3\n",
      "----------\n",
      "\n",
      "begining\n",
      "{'beging': 0.7996289730072021, 'beginings': 0.7774200439453125, 'beginning': 0.7702832221984863, 'beginnning': 0.7529866099357605, 'beginig': 0.7445289492607117, 'beginging': 0.7422815561294556, 'starting': 0.7330112457275391, 'begininng': 0.7314544916152954, 'begin': 0.7158917188644409, 'beggining': 0.6985272169113159, 'start': 0.6954159140586853, 'started': 0.6753491759300232, 'begins': 0.6717020273208618, 'begain': 0.6671680212020874, 'Begining': 0.6670281887054443, 'begin.': 0.6648271083831787, 'continueing': 0.655447244644165, 'began': 0.6471879482269287, 'beginnig': 0.6434301733970642, 'begin-': 0.6336808800697327}\n",
      "{'starting', 'beginning', 'started', 'start', 'begin', 'began', 'begins'}\n",
      "began\n",
      "----------\n",
      "\n",
      "problam\n",
      "{'problamatic': 0.8528180122375488, 'blam': 0.7603437304496765, 'oblamer': 0.7302782535552979, 'wikiblame': 0.687369704246521, 'blamer': 0.6814736127853394, 'blame.': 0.6787237524986267, 'blamers': 0.6764215230941772, 'probles': 0.6558972597122192, 'problme': 0.654932975769043, 'concernes': 0.6453812718391418, 'disaprove': 0.6432678699493408, \"0'blamer\": 0.642471432685852, 'blameable': 0.6337110996246338, 'understan': 0.6332669258117676, 'Oblama': 0.6320352554321289, 'problmes': 0.6315292119979858, 'helpfile': 0.6312978267669678, 'proble': 0.6308872699737549, 'infoplease': 0.6297480463981628, 'supportin': 0.6287239789962769}\n",
      "set()\n",
      "None\n",
      "count: 4\n",
      "----------\n",
      "\n",
      "proble\n",
      "{'problmes': 0.8231843709945679, 'problme': 0.8204860091209412, 'probles': 0.8026400804519653, 'problm': 0.7897021770477295, 'problem': 0.7853228449821472, 'probley': 0.769846498966217, 'problen': 0.7614877223968506, 'probl': 0.7532622814178467, 'troble': 0.7442120313644409, 'probleme': 0.743786096572876, 'aproblem': 0.7397945523262024, '-problem': 0.7385655641555786, 'problesm': 0.7352559566497803, 'probleem': 0.734097957611084, 'problemmatic': 0.7333394289016724, 'problom': 0.7229521870613098, 'mising': 0.7045712471008301, 'problem--and': 0.7038460969924927, 'problem--but': 0.7028391361236572, 'probelm': 0.7028375864028931}\n",
      "{'problem'}\n",
      "problem\n",
      "----------\n",
      "\n",
      "promblem\n",
      "{'propblem': 0.792271614074707, 'porblem': 0.7287428379058838, 'probelem': 0.7186094522476196, 'proect': 0.7163193225860596, 'mixure': 0.7035478353500366, 'seriouse': 0.6998864412307739, 'furure': 0.6983749866485596, 'notale': 0.696000337600708, 'promary': 0.6935491561889648, 'issure': 0.690963625907898, 'prblem': 0.6895331144332886, 'wory': 0.6888944506645203, 'promtion': 0.6887676119804382, 'reaason': 0.687482476234436, 'dount': 0.685716986656189, 'concequence': 0.6853419542312622, 'promting': 0.685273289680481, 'posisble': 0.6837230324745178, 'recurrance': 0.6827236413955688, 'reguard': 0.6824508309364319}\n",
      "set()\n",
      "None\n",
      "count: 5\n",
      "----------\n",
      "\n",
      "proplen\n",
      "count: 6\n",
      "----------\n",
      "\n",
      "dirven\n",
      "count: 7\n",
      "----------\n",
      "\n",
      "exstacy\n",
      "count: 8\n",
      "----------\n",
      "\n",
      "ecstacy\n",
      "{'ecstasy': 0.839694082736969, 'Ecstacy': 0.7176376581192017, 'ecstasies': 0.6568220853805542, 'euphoria': 0.621086835861206, 'marajuana': 0.6150363683700562, 'MDMA': 0.6049977540969849, 'Ecstasy': 0.6022036671638489, 'mdma': 0.601455569267273, 'amphetamine': 0.5974566340446472, 'ketamine': 0.5960520505905151, 'ecstatic': 0.5955791473388672, 'alchol': 0.5900768041610718, 'euphoric': 0.5812385082244873, 'valium': 0.5806941390037537, 'heroin': 0.5772510766983032, 'alcahol': 0.5720396041870117, 'hashish': 0.5691509246826172, 'hallucinogenics': 0.5690246820449829, 'hallucinogen': 0.5689084529876709, 'cocain': 0.5686510801315308}\n",
      "{'ecstasies', 'cocain', 'ecstasy', 'ecstatic', 'heroin'}\n",
      "ecstatic\n",
      "----------\n",
      "\n"
     ]
    },
    {
     "ename": "KeyboardInterrupt",
     "evalue": "",
     "output_type": "error",
     "traceback": [
      "\u001b[1;31m---------------------------------------------------------------------------\u001b[0m",
      "\u001b[1;31mKeyboardInterrupt\u001b[0m                         Traceback (most recent call last)",
      "\u001b[1;32m~\\AppData\\Local\\Continuum\\Anaconda2\\envs\\con3.6\\lib\\site-packages\\ipykernel\\kernelbase.py\u001b[0m in \u001b[0;36m_input_request\u001b[1;34m(self, prompt, ident, parent, password)\u001b[0m\n\u001b[0;32m    729\u001b[0m             \u001b[1;32mtry\u001b[0m\u001b[1;33m:\u001b[0m\u001b[1;33m\u001b[0m\u001b[0m\n\u001b[1;32m--> 730\u001b[1;33m                 \u001b[0mident\u001b[0m\u001b[1;33m,\u001b[0m \u001b[0mreply\u001b[0m \u001b[1;33m=\u001b[0m \u001b[0mself\u001b[0m\u001b[1;33m.\u001b[0m\u001b[0msession\u001b[0m\u001b[1;33m.\u001b[0m\u001b[0mrecv\u001b[0m\u001b[1;33m(\u001b[0m\u001b[0mself\u001b[0m\u001b[1;33m.\u001b[0m\u001b[0mstdin_socket\u001b[0m\u001b[1;33m,\u001b[0m \u001b[1;36m0\u001b[0m\u001b[1;33m)\u001b[0m\u001b[1;33m\u001b[0m\u001b[0m\n\u001b[0m\u001b[0;32m    731\u001b[0m             \u001b[1;32mexcept\u001b[0m \u001b[0mException\u001b[0m\u001b[1;33m:\u001b[0m\u001b[1;33m\u001b[0m\u001b[0m\n",
      "\u001b[1;32m~\\AppData\\Local\\Continuum\\Anaconda2\\envs\\con3.6\\lib\\site-packages\\jupyter_client\\session.py\u001b[0m in \u001b[0;36mrecv\u001b[1;34m(self, socket, mode, content, copy)\u001b[0m\n\u001b[0;32m    795\u001b[0m         \u001b[1;32mtry\u001b[0m\u001b[1;33m:\u001b[0m\u001b[1;33m\u001b[0m\u001b[0m\n\u001b[1;32m--> 796\u001b[1;33m             \u001b[0mmsg_list\u001b[0m \u001b[1;33m=\u001b[0m \u001b[0msocket\u001b[0m\u001b[1;33m.\u001b[0m\u001b[0mrecv_multipart\u001b[0m\u001b[1;33m(\u001b[0m\u001b[0mmode\u001b[0m\u001b[1;33m,\u001b[0m \u001b[0mcopy\u001b[0m\u001b[1;33m=\u001b[0m\u001b[0mcopy\u001b[0m\u001b[1;33m)\u001b[0m\u001b[1;33m\u001b[0m\u001b[0m\n\u001b[0m\u001b[0;32m    797\u001b[0m         \u001b[1;32mexcept\u001b[0m \u001b[0mzmq\u001b[0m\u001b[1;33m.\u001b[0m\u001b[0mZMQError\u001b[0m \u001b[1;32mas\u001b[0m \u001b[0me\u001b[0m\u001b[1;33m:\u001b[0m\u001b[1;33m\u001b[0m\u001b[0m\n",
      "\u001b[1;32m~\\AppData\\Local\\Continuum\\Anaconda2\\envs\\con3.6\\lib\\site-packages\\zmq\\sugar\\socket.py\u001b[0m in \u001b[0;36mrecv_multipart\u001b[1;34m(self, flags, copy, track)\u001b[0m\n\u001b[0;32m    394\u001b[0m         \"\"\"\n\u001b[1;32m--> 395\u001b[1;33m         \u001b[0mparts\u001b[0m \u001b[1;33m=\u001b[0m \u001b[1;33m[\u001b[0m\u001b[0mself\u001b[0m\u001b[1;33m.\u001b[0m\u001b[0mrecv\u001b[0m\u001b[1;33m(\u001b[0m\u001b[0mflags\u001b[0m\u001b[1;33m,\u001b[0m \u001b[0mcopy\u001b[0m\u001b[1;33m=\u001b[0m\u001b[0mcopy\u001b[0m\u001b[1;33m,\u001b[0m \u001b[0mtrack\u001b[0m\u001b[1;33m=\u001b[0m\u001b[0mtrack\u001b[0m\u001b[1;33m)\u001b[0m\u001b[1;33m]\u001b[0m\u001b[1;33m\u001b[0m\u001b[0m\n\u001b[0m\u001b[0;32m    396\u001b[0m         \u001b[1;31m# have first part already, only loop while more to receive\u001b[0m\u001b[1;33m\u001b[0m\u001b[1;33m\u001b[0m\u001b[0m\n",
      "\u001b[1;32mzmq/backend/cython/socket.pyx\u001b[0m in \u001b[0;36mzmq.backend.cython.socket.Socket.recv (zmq\\backend\\cython\\socket.c:7683)\u001b[1;34m()\u001b[0m\n",
      "\u001b[1;32mzmq/backend/cython/socket.pyx\u001b[0m in \u001b[0;36mzmq.backend.cython.socket.Socket.recv (zmq\\backend\\cython\\socket.c:7460)\u001b[1;34m()\u001b[0m\n",
      "\u001b[1;32mzmq/backend/cython/socket.pyx\u001b[0m in \u001b[0;36mzmq.backend.cython.socket._recv_copy (zmq\\backend\\cython\\socket.c:2344)\u001b[1;34m()\u001b[0m\n",
      "\u001b[1;32m~\\AppData\\Local\\Continuum\\Anaconda2\\envs\\con3.6\\lib\\site-packages\\zmq\\backend\\cython\\checkrc.pxd\u001b[0m in \u001b[0;36mzmq.backend.cython.checkrc._check_rc (zmq\\backend\\cython\\socket.c:9621)\u001b[1;34m()\u001b[0m\n",
      "\u001b[1;31mKeyboardInterrupt\u001b[0m: ",
      "\nDuring handling of the above exception, another exception occurred:\n",
      "\u001b[1;31mKeyboardInterrupt\u001b[0m                         Traceback (most recent call last)",
      "\u001b[1;32m<ipython-input-3-e301a40f137a>\u001b[0m in \u001b[0;36m<module>\u001b[1;34m()\u001b[0m\n\u001b[0;32m      2\u001b[0m \u001b[0mspellchecker\u001b[0m \u001b[1;33m=\u001b[0m \u001b[0mSpellCheckerFastTextSimilarity\u001b[0m\u001b[1;33m(\u001b[0m\u001b[0mmodel\u001b[0m\u001b[1;33m,\u001b[0m \u001b[0mvocabulary\u001b[0m\u001b[1;33m,\u001b[0m \u001b[0msimilar_count\u001b[0m\u001b[1;33m=\u001b[0m\u001b[1;36m20\u001b[0m\u001b[1;33m)\u001b[0m\u001b[1;33m\u001b[0m\u001b[0m\n\u001b[0;32m      3\u001b[0m \u001b[1;33m\u001b[0m\u001b[0m\n\u001b[1;32m----> 4\u001b[1;33m \u001b[0mtest_on_datasets\u001b[0m\u001b[1;33m(\u001b[0m\u001b[0mspellchecker\u001b[0m\u001b[1;33m,\u001b[0m \u001b[1;33m[\u001b[0m\u001b[0mjoin\u001b[0m\u001b[1;33m(\u001b[0m\u001b[0mpath\u001b[0m\u001b[1;33m,\u001b[0m \u001b[1;34m'data/spell-testset1.txt'\u001b[0m\u001b[1;33m)\u001b[0m\u001b[1;33m,\u001b[0m \u001b[0mjoin\u001b[0m\u001b[1;33m(\u001b[0m\u001b[0mpath\u001b[0m\u001b[1;33m,\u001b[0m \u001b[1;34m'data/spell-testset2.txt'\u001b[0m\u001b[1;33m)\u001b[0m\u001b[1;33m]\u001b[0m\u001b[1;33m)\u001b[0m\u001b[1;33m\u001b[0m\u001b[0m\n\u001b[0m",
      "\u001b[1;32mD:\\My Docs\\Studying\\mipt-materials\\5c1t\\Machine Learning (ABBYY)\\task1-spellcheck\\utils\\tester.py\u001b[0m in \u001b[0;36mtest_on_datasets\u001b[1;34m(spellchecker, datasets)\u001b[0m\n\u001b[0;32m      6\u001b[0m     \u001b[1;32mfor\u001b[0m \u001b[0mpath\u001b[0m \u001b[1;32min\u001b[0m \u001b[0mdatasets\u001b[0m\u001b[1;33m:\u001b[0m\u001b[1;33m\u001b[0m\u001b[0m\n\u001b[0;32m      7\u001b[0m         \u001b[0mdatabase\u001b[0m \u001b[1;33m=\u001b[0m \u001b[0mBirkbeckCorpusReader\u001b[0m\u001b[1;33m(\u001b[0m\u001b[0mpath\u001b[0m\u001b[1;33m)\u001b[0m\u001b[1;33m\u001b[0m\u001b[0m\n\u001b[1;32m----> 8\u001b[1;33m         \u001b[0mresults\u001b[0m \u001b[1;33m=\u001b[0m \u001b[0mSpellcheckTester\u001b[0m\u001b[1;33m(\u001b[0m\u001b[1;33m)\u001b[0m\u001b[1;33m.\u001b[0m\u001b[0mtest\u001b[0m\u001b[1;33m(\u001b[0m\u001b[0mspellchecker\u001b[0m\u001b[1;33m,\u001b[0m \u001b[0mdatabase\u001b[0m\u001b[1;33m)\u001b[0m\u001b[1;33m\u001b[0m\u001b[0m\n\u001b[0m\u001b[0;32m      9\u001b[0m         \u001b[0mprint\u001b[0m\u001b[1;33m(\u001b[0m\u001b[1;34mf'base: {path}'\u001b[0m\u001b[1;33m)\u001b[0m\u001b[1;33m\u001b[0m\u001b[0m\n\u001b[0;32m     10\u001b[0m         \u001b[0mprint\u001b[0m\u001b[1;33m(\u001b[0m\u001b[1;34mf'words count: {len(database)}'\u001b[0m\u001b[1;33m)\u001b[0m\u001b[1;33m\u001b[0m\u001b[0m\n",
      "\u001b[1;32mD:\\My Docs\\Studying\\mipt-materials\\5c1t\\Machine Learning (ABBYY)\\task1-spellcheck\\utils\\tester.py\u001b[0m in \u001b[0;36mtest\u001b[1;34m(self, spellchecker, samples)\u001b[0m\n\u001b[0;32m     18\u001b[0m         \u001b[0mtimer\u001b[0m \u001b[1;33m=\u001b[0m \u001b[0mTimer\u001b[0m\u001b[1;33m(\u001b[0m\u001b[1;33m)\u001b[0m\u001b[1;33m\u001b[0m\u001b[0m\n\u001b[0;32m     19\u001b[0m         \u001b[0mtimer\u001b[0m\u001b[1;33m.\u001b[0m\u001b[0mstart\u001b[0m\u001b[1;33m(\u001b[0m\u001b[1;33m)\u001b[0m\u001b[1;33m\u001b[0m\u001b[0m\n\u001b[1;32m---> 20\u001b[1;33m         \u001b[0maccuracy\u001b[0m \u001b[1;33m=\u001b[0m \u001b[0msum\u001b[0m\u001b[1;33m(\u001b[0m\u001b[1;36m1\u001b[0m \u001b[1;32mif\u001b[0m \u001b[0mspellchecker\u001b[0m\u001b[1;33m.\u001b[0m\u001b[0mcorrect\u001b[0m\u001b[1;33m(\u001b[0m\u001b[0mwrong\u001b[0m\u001b[1;33m)\u001b[0m \u001b[1;33m==\u001b[0m \u001b[0mcorrect\u001b[0m \u001b[1;32melse\u001b[0m \u001b[1;36m0\u001b[0m \u001b[1;32mfor\u001b[0m \u001b[0mwrong\u001b[0m\u001b[1;33m,\u001b[0m \u001b[0mcorrect\u001b[0m \u001b[1;32min\u001b[0m \u001b[0msamples\u001b[0m\u001b[1;33m)\u001b[0m \u001b[1;33m/\u001b[0m \u001b[0mlen\u001b[0m\u001b[1;33m(\u001b[0m\u001b[0msamples\u001b[0m\u001b[1;33m)\u001b[0m\u001b[1;33m\u001b[0m\u001b[0m\n\u001b[0m\u001b[0;32m     21\u001b[0m         \u001b[0mtime\u001b[0m \u001b[1;33m=\u001b[0m \u001b[0mtimer\u001b[0m\u001b[1;33m.\u001b[0m\u001b[0mstop\u001b[0m\u001b[1;33m(\u001b[0m\u001b[1;33m)\u001b[0m\u001b[1;33m\u001b[0m\u001b[0m\n\u001b[0;32m     22\u001b[0m         \u001b[1;32mreturn\u001b[0m \u001b[1;33m{\u001b[0m\u001b[1;34m'accuracy'\u001b[0m\u001b[1;33m:\u001b[0m \u001b[0maccuracy\u001b[0m\u001b[1;33m,\u001b[0m \u001b[1;34m'time'\u001b[0m\u001b[1;33m:\u001b[0m \u001b[0mtime\u001b[0m\u001b[1;33m}\u001b[0m\u001b[1;33m\u001b[0m\u001b[0m\n",
      "\u001b[1;32mD:\\My Docs\\Studying\\mipt-materials\\5c1t\\Machine Learning (ABBYY)\\task1-spellcheck\\utils\\tester.py\u001b[0m in \u001b[0;36m<genexpr>\u001b[1;34m(.0)\u001b[0m\n\u001b[0;32m     18\u001b[0m         \u001b[0mtimer\u001b[0m \u001b[1;33m=\u001b[0m \u001b[0mTimer\u001b[0m\u001b[1;33m(\u001b[0m\u001b[1;33m)\u001b[0m\u001b[1;33m\u001b[0m\u001b[0m\n\u001b[0;32m     19\u001b[0m         \u001b[0mtimer\u001b[0m\u001b[1;33m.\u001b[0m\u001b[0mstart\u001b[0m\u001b[1;33m(\u001b[0m\u001b[1;33m)\u001b[0m\u001b[1;33m\u001b[0m\u001b[0m\n\u001b[1;32m---> 20\u001b[1;33m         \u001b[0maccuracy\u001b[0m \u001b[1;33m=\u001b[0m \u001b[0msum\u001b[0m\u001b[1;33m(\u001b[0m\u001b[1;36m1\u001b[0m \u001b[1;32mif\u001b[0m \u001b[0mspellchecker\u001b[0m\u001b[1;33m.\u001b[0m\u001b[0mcorrect\u001b[0m\u001b[1;33m(\u001b[0m\u001b[0mwrong\u001b[0m\u001b[1;33m)\u001b[0m \u001b[1;33m==\u001b[0m \u001b[0mcorrect\u001b[0m \u001b[1;32melse\u001b[0m \u001b[1;36m0\u001b[0m \u001b[1;32mfor\u001b[0m \u001b[0mwrong\u001b[0m\u001b[1;33m,\u001b[0m \u001b[0mcorrect\u001b[0m \u001b[1;32min\u001b[0m \u001b[0msamples\u001b[0m\u001b[1;33m)\u001b[0m \u001b[1;33m/\u001b[0m \u001b[0mlen\u001b[0m\u001b[1;33m(\u001b[0m\u001b[0msamples\u001b[0m\u001b[1;33m)\u001b[0m\u001b[1;33m\u001b[0m\u001b[0m\n\u001b[0m\u001b[0;32m     21\u001b[0m         \u001b[0mtime\u001b[0m \u001b[1;33m=\u001b[0m \u001b[0mtimer\u001b[0m\u001b[1;33m.\u001b[0m\u001b[0mstop\u001b[0m\u001b[1;33m(\u001b[0m\u001b[1;33m)\u001b[0m\u001b[1;33m\u001b[0m\u001b[0m\n\u001b[0;32m     22\u001b[0m         \u001b[1;32mreturn\u001b[0m \u001b[1;33m{\u001b[0m\u001b[1;34m'accuracy'\u001b[0m\u001b[1;33m:\u001b[0m \u001b[0maccuracy\u001b[0m\u001b[1;33m,\u001b[0m \u001b[1;34m'time'\u001b[0m\u001b[1;33m:\u001b[0m \u001b[0mtime\u001b[0m\u001b[1;33m}\u001b[0m\u001b[1;33m\u001b[0m\u001b[0m\n",
      "\u001b[1;32mD:\\My Docs\\Studying\\mipt-materials\\5c1t\\Machine Learning (ABBYY)\\task1-spellcheck\\spellchecking\\fasttext.py\u001b[0m in \u001b[0;36mcorrect\u001b[1;34m(self, word)\u001b[0m\n\u001b[0;32m     21\u001b[0m             \u001b[0mprint\u001b[0m\u001b[1;33m(\u001b[0m\u001b[1;34mf'count: {self.count}'\u001b[0m\u001b[1;33m)\u001b[0m\u001b[1;33m\u001b[0m\u001b[0m\n\u001b[0;32m     22\u001b[0m         \u001b[0mprint\u001b[0m\u001b[1;33m(\u001b[0m\u001b[1;34m'-'\u001b[0m \u001b[1;33m*\u001b[0m \u001b[1;36m10\u001b[0m\u001b[1;33m)\u001b[0m\u001b[1;33m\u001b[0m\u001b[0m\n\u001b[1;32m---> 23\u001b[1;33m         \u001b[0m_\u001b[0m \u001b[1;33m=\u001b[0m \u001b[0minput\u001b[0m\u001b[1;33m(\u001b[0m\u001b[1;33m)\u001b[0m\u001b[1;33m\u001b[0m\u001b[0m\n\u001b[0m\u001b[0;32m     24\u001b[0m         \u001b[1;32mreturn\u001b[0m \u001b[0mresult\u001b[0m \u001b[1;32mor\u001b[0m \u001b[0mword\u001b[0m\u001b[1;33m\u001b[0m\u001b[0m\n",
      "\u001b[1;32m~\\AppData\\Local\\Continuum\\Anaconda2\\envs\\con3.6\\lib\\site-packages\\ipykernel\\kernelbase.py\u001b[0m in \u001b[0;36mraw_input\u001b[1;34m(self, prompt)\u001b[0m\n\u001b[0;32m    703\u001b[0m             \u001b[0mself\u001b[0m\u001b[1;33m.\u001b[0m\u001b[0m_parent_ident\u001b[0m\u001b[1;33m,\u001b[0m\u001b[1;33m\u001b[0m\u001b[0m\n\u001b[0;32m    704\u001b[0m             \u001b[0mself\u001b[0m\u001b[1;33m.\u001b[0m\u001b[0m_parent_header\u001b[0m\u001b[1;33m,\u001b[0m\u001b[1;33m\u001b[0m\u001b[0m\n\u001b[1;32m--> 705\u001b[1;33m             \u001b[0mpassword\u001b[0m\u001b[1;33m=\u001b[0m\u001b[1;32mFalse\u001b[0m\u001b[1;33m,\u001b[0m\u001b[1;33m\u001b[0m\u001b[0m\n\u001b[0m\u001b[0;32m    706\u001b[0m         )\n\u001b[0;32m    707\u001b[0m \u001b[1;33m\u001b[0m\u001b[0m\n",
      "\u001b[1;32m~\\AppData\\Local\\Continuum\\Anaconda2\\envs\\con3.6\\lib\\site-packages\\ipykernel\\kernelbase.py\u001b[0m in \u001b[0;36m_input_request\u001b[1;34m(self, prompt, ident, parent, password)\u001b[0m\n\u001b[0;32m    733\u001b[0m             \u001b[1;32mexcept\u001b[0m \u001b[0mKeyboardInterrupt\u001b[0m\u001b[1;33m:\u001b[0m\u001b[1;33m\u001b[0m\u001b[0m\n\u001b[0;32m    734\u001b[0m                 \u001b[1;31m# re-raise KeyboardInterrupt, to truncate traceback\u001b[0m\u001b[1;33m\u001b[0m\u001b[1;33m\u001b[0m\u001b[0m\n\u001b[1;32m--> 735\u001b[1;33m                 \u001b[1;32mraise\u001b[0m \u001b[0mKeyboardInterrupt\u001b[0m\u001b[1;33m\u001b[0m\u001b[0m\n\u001b[0m\u001b[0;32m    736\u001b[0m             \u001b[1;32melse\u001b[0m\u001b[1;33m:\u001b[0m\u001b[1;33m\u001b[0m\u001b[0m\n\u001b[0;32m    737\u001b[0m                 \u001b[1;32mbreak\u001b[0m\u001b[1;33m\u001b[0m\u001b[0m\n",
      "\u001b[1;31mKeyboardInterrupt\u001b[0m: "
     ]
    }
   ],
   "source": [
    "# vocabulary = read_vocabulary(join(path, 'data/big.txt'))\n",
    "# spellchecker = SpellCheckerFastTextSimilarity(model, vocabulary, similar_count=20)\n",
    "\n",
    "# test_on_datasets(spellchecker, [join(path, 'data/spell-testset1.txt'), join(path, 'data/spell-testset2.txt')])"
   ]
  },
  {
   "cell_type": "code",
   "execution_count": 20,
   "metadata": {
    "collapsed": true
   },
   "outputs": [],
   "source": [
    "from string import ascii_lowercase as LETTERS_LOWERCASE\n",
    "\n",
    "\n",
    "class SpellCheckerSimpleEdits:\n",
    "    def __init__(self, vocabulary):\n",
    "        self.vocabulary = vocabulary\n",
    "\n",
    "    def filter_words_by_vocabulary(self, words):\n",
    "        return set(word for word in words if word in self.vocabulary)\n",
    "\n",
    "    def generate_spelling_candidates(self, word):\n",
    "#         if word in self.vocabulary:\n",
    "#             return {word}\n",
    "        edits = self.generate_edits(word)\n",
    "        result = self.filter_words_by_vocabulary(edits)\n",
    "        if not result:\n",
    "            edits = (edit2 for edit in edits for edit2 in self.generate_edits(edit))\n",
    "            result = self.filter_words_by_vocabulary(edits)\n",
    "        return result\n",
    "\n",
    "    def generate_edits(self, word):\n",
    "        splits = [(word[:i], word[i:]) for i in range(len(word) + 1)]\n",
    "        deletes = {prefix + suffix[1:] for prefix, suffix in splits if suffix}\n",
    "        transposes = {prefix + suffix[1] + suffix[0] + suffix[2:]\n",
    "                      for prefix, suffix in splits if len(suffix) > 1}\n",
    "        replaces = {prefix + letter + suffix[1:] for prefix, suffix in splits for letter in LETTERS_LOWERCASE}\n",
    "        inserts = {prefix + letter + suffix for prefix, suffix in splits for letter in LETTERS_LOWERCASE}\n",
    "        return deletes | transposes | replaces | inserts\n",
    "\n",
    "    def correct(self, word):\n",
    "        candidates = self.generate_spelling_candidates(word)\n",
    "        print(candidates)\n",
    "        return max(candidates, key=lambda candidate: -self.vocabulary.get(candidate, 0), default=word)"
   ]
  },
  {
   "cell_type": "code",
   "execution_count": 21,
   "metadata": {},
   "outputs": [
    {
     "name": "stdout",
     "output_type": "stream",
     "text": [
      "999999\n",
      "[',', 'the', '.', 'and', 'of', 'to', 'in', 'a', '\"', ':', ')', 'that', '(', 'is', 'for', 'on', '*', 'with', 'as', 'it', 'The', 'or', 'was', \"'\", \"'s\", 'by', 'from', 'at', 'I', 'this', 'you', '/', 'are', '=', 'not', '-', 'have', '?', 'be', 'which', ';', 'all', 'his', 'has', 'one', 'their', 'about', 'but', 'an', '|', 'said', 'more', 'page', 'he', 'your', 'will', 'its', 'so', 'were', 'had', 'also', 'only', 'if', 'time', 'some', 'people', 'like', 'who', 'them', 'other', 'they', 'when', 'Wikipedia', 'article', 'what', '#', 'just', '!', 'any', 'after', 'there', 'would', 'can', 'In', 'her', 'talk', 'use', 'then', 'into', 'up', '...', 'we', 'over', 'my', 'out', 'here', 'now', 'because', 'do', 'work']\n"
     ]
    }
   ],
   "source": [
    "words = model.index2word\n",
    "print(len(words))\n",
    "print(words[:100])"
   ]
  },
  {
   "cell_type": "code",
   "execution_count": 22,
   "metadata": {
    "collapsed": true
   },
   "outputs": [],
   "source": [
    "w_rank = {}\n",
    "for i, word in enumerate(words):\n",
    "    w_rank[word] = i\n",
    "spellchecker = SpellCheckerSimpleEdits(w_rank)"
   ]
  },
  {
   "cell_type": "code",
   "execution_count": 23,
   "metadata": {},
   "outputs": [
    {
     "name": "stdout",
     "output_type": "stream",
     "text": [
      "{'quikly'}\n"
     ]
    },
    {
     "data": {
      "text/plain": [
       "'quikly'"
      ]
     },
     "execution_count": 23,
     "metadata": {},
     "output_type": "execute_result"
    }
   ],
   "source": [
    "spellchecker.correct('quikly')"
   ]
  },
  {
   "cell_type": "code",
   "execution_count": 19,
   "metadata": {},
   "outputs": [
    {
     "data": {
      "text/plain": [
       "745400"
      ]
     },
     "execution_count": 19,
     "metadata": {},
     "output_type": "execute_result"
    }
   ],
   "source": []
  }
 ],
 "metadata": {
  "kernelspec": {
   "display_name": "Python 3",
   "language": "python",
   "name": "python3"
  },
  "language_info": {
   "codemirror_mode": {
    "name": "ipython",
    "version": 3
   },
   "file_extension": ".py",
   "mimetype": "text/x-python",
   "name": "python",
   "nbconvert_exporter": "python",
   "pygments_lexer": "ipython3",
   "version": "3.6.2"
  }
 },
 "nbformat": 4,
 "nbformat_minor": 1
}
