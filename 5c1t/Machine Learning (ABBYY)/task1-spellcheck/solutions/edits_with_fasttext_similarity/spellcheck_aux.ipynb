{
 "cells": [
  {
   "cell_type": "code",
   "execution_count": 1,
   "metadata": {},
   "outputs": [
    {
     "name": "stderr",
     "output_type": "stream",
     "text": [
      "C:\\Users\\ASautin\\AppData\\Local\\Continuum\\Anaconda2\\envs\\con3.6\\lib\\site-packages\\gensim\\utils.py:860: UserWarning: detected Windows; aliasing chunkize to chunkize_serial\n",
      "  warnings.warn(\"detected Windows; aliasing chunkize to chunkize_serial\")\n"
     ]
    }
   ],
   "source": [
    "from gensim.models import KeyedVectors\n",
    "\n",
    "from spellchecking.fasttext import SpellCheckerFastTextSimilarity\n",
    "from utils.database import read_vocabulary\n",
    "from utils.tester import test_on_datasets"
   ]
  },
  {
   "cell_type": "code",
   "execution_count": 2,
   "metadata": {
    "collapsed": true
   },
   "outputs": [],
   "source": [
    "from os.path import join\n",
    "\n",
    "from utils.database import read_vocabulary\n",
    "from utils.tester import test_on_datasets\n",
    "from utils.paths import PATH_PROJECT\n",
    "\n",
    "PATH_MODEL = join(PATH_PROJECT, 'models/wiki-news-300d-1M-subword.vec')\n",
    "PATH_VOCABULARY = join(PATH_PROJECT, 'data/big.txt')\n",
    "PATHS_DATASETS = list(map(lambda suffix: join(PATH_PROJECT, suffix),\n",
    "                          ['data/spell-testset1.txt', 'data/spell-testset2.txt']))\n",
    "\n",
    "vocabulary = read_vocabulary(PATH_VOCABULARY)"
   ]
  },
  {
   "cell_type": "code",
   "execution_count": 3,
   "metadata": {},
   "outputs": [
    {
     "name": "stdout",
     "output_type": "stream",
     "text": [
      "Wall time: 4min 26s\n"
     ]
    }
   ],
   "source": [
    "%%time\n",
    "model = KeyedVectors.load_word2vec_format(PATH_MODEL, limit=999999)"
   ]
  },
  {
   "cell_type": "code",
   "execution_count": 16,
   "metadata": {
    "collapsed": true
   },
   "outputs": [],
   "source": [
    "\"\"\"Based on the article by Peter Norvig:\n",
    "http://norvig.com/spell-correct.html\n",
    "\"\"\"\n",
    "\n",
    "from string import ascii_lowercase as LETTERS_LOWERCASE\n",
    "\n",
    "\n",
    "class SpellCheckerEditsWithFastTextSimilarity:\n",
    "    def __init__(self, vocabulary, model):\n",
    "        self._vocabulary = {word: vocabulary[word] / len(vocabulary) for word in vocabulary}\n",
    "        self._model = model\n",
    "\n",
    "    def filter_words_by_vocabulary(self, words):\n",
    "        return set(word for word in words if word in self._vocabulary)\n",
    "\n",
    "    def generate_spelling_candidates(self, word):\n",
    "        edits = self.generate_edits(word)\n",
    "        result = self.filter_words_by_vocabulary(edits)\n",
    "        if not result:\n",
    "            edits = (edit2 for edit in edits for edit2 in self.generate_edits(edit))\n",
    "            result = self.filter_words_by_vocabulary(edits)\n",
    "        return result\n",
    "\n",
    "    def generate_edits(self, word):\n",
    "        splits = [(word[:i], word[i:]) for i in range(len(word) + 1)]\n",
    "        deletes = {prefix + suffix[1:] for prefix, suffix in splits if suffix}\n",
    "        transposes = {prefix + suffix[1] + suffix[0] + suffix[2:]\n",
    "                      for prefix, suffix in splits if len(suffix) > 1}\n",
    "        replaces = {prefix + letter + suffix[1:] for prefix, suffix in splits for letter in LETTERS_LOWERCASE}\n",
    "        inserts = {prefix + letter + suffix for prefix, suffix in splits for letter in LETTERS_LOWERCASE}\n",
    "        return deletes | transposes | replaces | inserts\n",
    "\n",
    "    def get_word_similarity(self, word_base, word_similar):\n",
    "        result = 0\n",
    "        if word_similar in self._model.vocab:\n",
    "            result = self._model.similarity(word_base, word_similar)\n",
    "        return result\n",
    "\n",
    "    def correct(self, word):\n",
    "        candidates = self.generate_spelling_candidates(word)\n",
    "        result = None\n",
    "        if word in self._model.vocab:\n",
    "            result = max(candidates, key=lambda candidate: self._vocabulary[candidate] * self.get_word_similarity(word, candidate), default=None)\n",
    "\n",
    "        if result is None:\n",
    "            result = max(candidates, key=lambda candidate: self._vocabulary[candidate], default=word)\n",
    "        return result"
   ]
  },
  {
   "cell_type": "code",
   "execution_count": 17,
   "metadata": {
    "collapsed": true
   },
   "outputs": [],
   "source": [
    "spellchecker = SpellCheckerEditsWithFastTextSimilarity(vocabulary, model)"
   ]
  },
  {
   "cell_type": "code",
   "execution_count": 18,
   "metadata": {},
   "outputs": [
    {
     "data": {
      "text/plain": [
       "'unite'"
      ]
     },
     "execution_count": 18,
     "metadata": {},
     "output_type": "execute_result"
    }
   ],
   "source": [
    "spellchecker.correct('uniqe')"
   ]
  },
  {
   "cell_type": "code",
   "execution_count": 19,
   "metadata": {},
   "outputs": [
    {
     "name": "stdout",
     "output_type": "stream",
     "text": [
      "base: D:\\My Docs\\Studying\\mipt-materials\\5c1t\\Machine Learning (ABBYY)\\task1-spellcheck\\data/spell-testset1.txt\n",
      "words count: 270\n",
      "accuracy: 0.762962962962963\n",
      "time: 7.6815879344940186\n",
      "-----\n",
      "base: D:\\My Docs\\Studying\\mipt-materials\\5c1t\\Machine Learning (ABBYY)\\task1-spellcheck\\data/spell-testset2.txt\n",
      "words count: 400\n",
      "accuracy: 0.69\n",
      "time: 13.614521265029907\n",
      "-----\n"
     ]
    }
   ],
   "source": [
    "from utils.tester import test_on_datasets\n",
    "\n",
    "test_on_datasets(spellchecker, PATHS_DATASETS)"
   ]
  }
 ],
 "metadata": {
  "kernelspec": {
   "display_name": "Python 3",
   "language": "python",
   "name": "python3"
  },
  "language_info": {
   "codemirror_mode": {
    "name": "ipython",
    "version": 3
   },
   "file_extension": ".py",
   "mimetype": "text/x-python",
   "name": "python",
   "nbconvert_exporter": "python",
   "pygments_lexer": "ipython3",
   "version": "3.6.2"
  }
 },
 "nbformat": 4,
 "nbformat_minor": 1
}
